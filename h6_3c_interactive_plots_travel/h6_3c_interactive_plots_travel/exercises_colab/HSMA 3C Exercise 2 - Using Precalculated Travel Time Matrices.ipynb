{
 "cells": [
  {
   "cell_type": "markdown",
   "metadata": {},
   "source": [
    "# HSMA 3C: Exercise 2 - Plotting a precalculated matrix of travel times"
   ]
  },
  {
   "cell_type": "markdown",
   "metadata": {},
   "source": [
    "Run this first to download the required files into colab and move into the correct directory."
   ]
  },
  {
   "cell_type": "code",
   "execution_count": null,
   "metadata": {},
   "outputs": [],
   "source": [
    "!git clone https://github.com/hsma-programme/h6_3c_interactive_plots_travel.git\n",
    "%cd /content/h6_3c_interactive_plots_travel/h6_3c_interactive_plots_travel/exercises_colab\n",
    "!pip install contextily"
   ]
  },
  {
   "cell_type": "markdown",
   "metadata": {},
   "source": [
    "Import any packages you need (you may realise you need more as you progress through the exercise)."
   ]
  },
  {
   "cell_type": "code",
   "execution_count": null,
   "metadata": {},
   "outputs": [],
   "source": [
    "## YOUR CODE HERE"
   ]
  },
  {
   "cell_type": "markdown",
   "metadata": {},
   "source": [
    "## Core"
   ]
  },
  {
   "cell_type": "markdown",
   "metadata": {},
   "source": [
    "Import the travel matrix file named tia_travel_matrix.csv and check that the file has been read correctly. \n",
    "\n",
    "Define the index as sector"
   ]
  },
  {
   "cell_type": "code",
   "execution_count": null,
   "metadata": {},
   "outputs": [],
   "source": [
    "filepath = '../datasets/exercises_2_and_3/tia_travel_matrix.csv'\n",
    "\n",
    "travel_matrix = ...(..., index_col='sector') ## YOUR CODE HERE\n",
    "travel_matrix.head()"
   ]
  },
  {
   "cell_type": "markdown",
   "metadata": {},
   "source": [
    "Work out the shortest travel time from each LSOA and save this as a new column."
   ]
  },
  {
   "cell_type": "code",
   "execution_count": null,
   "metadata": {},
   "outputs": [],
   "source": [
    "travel_matrix['shortest'] = ## YOUR CODE HERE"
   ]
  },
  {
   "cell_type": "markdown",
   "metadata": {},
   "source": [
    "Import the LSOA boundary data (LSOA_2011_Boundaries_Super_Generalised_Clipped_BSC_EW_V4.geojson) from the folder exercises_2_and_3."
   ]
  },
  {
   "cell_type": "code",
   "execution_count": null,
   "metadata": {},
   "outputs": [],
   "source": [
    "## YOUR CODE HERE"
   ]
  },
  {
   "cell_type": "markdown",
   "metadata": {},
   "source": [
    "Join the LSOA boundary data to the travel matrix. \n",
    "\n",
    "HINT: Think about the kind of join you want to do. We want the result to be a geodataframe, but we also don't want to keep all of the LSOAs from the geodataframe as many of them will be blank. Remember that common join options include 'left', 'right' and 'full'. "
   ]
  },
  {
   "cell_type": "code",
   "execution_count": null,
   "metadata": {},
   "outputs": [],
   "source": [
    "# YOUR CODE HERE"
   ]
  },
  {
   "cell_type": "markdown",
   "metadata": {},
   "source": [
    "Create a static map (i.e. use the .plot method on your geodataframe) showing the travel time from each LSOA to the TIA clinic it takes the least time to travel to.\n",
    "\n",
    "Add\n",
    "- a basemap\n",
    "- a legend\n",
    "- a title "
   ]
  },
  {
   "cell_type": "code",
   "execution_count": null,
   "metadata": {},
   "outputs": [],
   "source": [
    "# YOUR CODE HERE"
   ]
  },
  {
   "cell_type": "markdown",
   "metadata": {},
   "source": [
    "## Extension"
   ]
  },
  {
   "cell_type": "markdown",
   "metadata": {},
   "source": [
    "Add in the clinic locations from **tia_clinic_locations.csv**. You will need to import this and convert it into a geodataframe.\n",
    "\n",
    "Note that the clinic locations are given as latitude and longitude. Look at the crs of your travel geodataframe - will you need to convert the crs of the clinic locations?\n",
    "(hint - you need epsg 27700, but what is the command to get to this?) "
   ]
  },
  {
   "cell_type": "code",
   "execution_count": null,
   "metadata": {},
   "outputs": [],
   "source": [
    "## YOUR CODE HERE"
   ]
  },
  {
   "cell_type": "markdown",
   "metadata": {},
   "source": [
    "Plot the clinic locations on the same map."
   ]
  },
  {
   "cell_type": "code",
   "execution_count": null,
   "metadata": {},
   "outputs": [],
   "source": [
    "## YOUR CODE HERE"
   ]
  },
  {
   "cell_type": "markdown",
   "metadata": {},
   "source": [
    "Add labels with the full clinic names to the map. "
   ]
  },
  {
   "cell_type": "code",
   "execution_count": null,
   "metadata": {},
   "outputs": [],
   "source": [
    "## YOUR CODE HERE"
   ]
  },
  {
   "cell_type": "markdown",
   "metadata": {},
   "source": [
    "Try making an interactive map of the same dataset. \n",
    "\n",
    "Try add a tooltip that gives \n",
    "- the travel time to the nearest clinic\n",
    "- the name of the nearest clinic"
   ]
  },
  {
   "cell_type": "code",
   "execution_count": null,
   "metadata": {},
   "outputs": [],
   "source": [
    "## YOUR CODE HERE"
   ]
  },
  {
   "cell_type": "markdown",
   "metadata": {},
   "source": [
    "## Challenge: Bonus Exercises"
   ]
  },
  {
   "cell_type": "markdown",
   "metadata": {},
   "source": [
    "You can do these in any order - or maybe you want to split them up within the group and share your code with each other afterwards!"
   ]
  },
  {
   "cell_type": "markdown",
   "metadata": {},
   "source": [
    "### 1. Enhance your static map"
   ]
  },
  {
   "cell_type": "markdown",
   "metadata": {},
   "source": [
    "Consider enhancing your static map further by\n",
    "- adding a title\n",
    "- adding a legend\n",
    "- removing the axis numbers and ticks\n",
    "- changing the colour map used for the choropleth \n",
    "- adding a basemap\n",
    "- making your choropleth slightly see-through (changing the **opacity** value)\n",
    "- making the edges of your LSOAs more or less obvious\n",
    "- adjusting the figure size\n",
    "- adjusting the extent of your map (e.g. maybe you want to show a bit extra around the edges of the region of interest)\n",
    "- adding an inset map of a particularly dense area"
   ]
  },
  {
   "cell_type": "code",
   "execution_count": null,
   "metadata": {},
   "outputs": [],
   "source": [
    "# YOUR CODE HERE"
   ]
  },
  {
   "cell_type": "markdown",
   "metadata": {},
   "source": [
    "### 2. Create a map with LSOAs coloured by their nearest clinic"
   ]
  },
  {
   "cell_type": "markdown",
   "metadata": {},
   "source": [
    "Instead of showing the travel time to the nearest clinic, consider how you could work out *which* clinic is the closest clinic in each instance. \n",
    "\n",
    "Create a map where each LSOA has a colour assigned based on which hospital it is quickest to travel to.\n",
    "\n",
    "HINT: look up the idxmin function."
   ]
  },
  {
   "cell_type": "code",
   "execution_count": null,
   "metadata": {},
   "outputs": [],
   "source": [
    "# YOUR CODE HERE"
   ]
  },
  {
   "cell_type": "markdown",
   "metadata": {},
   "source": [
    "### 3. Display the demand side-by-side with the travel times"
   ]
  },
  {
   "cell_type": "markdown",
   "metadata": {},
   "source": [
    "Load in the file **tia_attendances.csv**, which shows the demand for the TIA clinics that came from each LSOA (in terms of number of people using a clinic), and join it to the LSOA boundary geojson so you can plot it. \n",
    "\n",
    "Look back at the lecture materials from this morning about subplots. Use `plt.subplots()` to make two plots side-by-side. In one subplot, put the travel time map you made above. In the other, plot the attendances data. \n",
    "\n",
    "Make sure to give each subplot a title. \n",
    "\n",
    "If you want to take this even further, make three subplots and add your map from bonus exercise 1 into your output. "
   ]
  },
  {
   "cell_type": "code",
   "execution_count": null,
   "metadata": {},
   "outputs": [],
   "source": [
    "# YOUR CODE HERE"
   ]
  },
  {
   "cell_type": "markdown",
   "metadata": {},
   "source": [
    "### 4. Enhance the tooltip of your interactive map"
   ]
  },
  {
   "cell_type": "markdown",
   "metadata": {},
   "source": [
    "Try adding a tooltip that gives \n",
    "- the travel time to all five clinics\n",
    "- the name of the nearest clinic"
   ]
  },
  {
   "cell_type": "code",
   "execution_count": null,
   "metadata": {},
   "outputs": [],
   "source": [
    "# YOUR CODE HERE"
   ]
  },
  {
   "cell_type": "markdown",
   "metadata": {},
   "source": [
    "### 5. Add an extra layer to your interactive map"
   ]
  },
  {
   "cell_type": "markdown",
   "metadata": {},
   "source": [
    "Try adding the layer showing the nearest hospital to your interactive Folium map, then make it possible to toggle between the two."
   ]
  },
  {
   "cell_type": "code",
   "execution_count": null,
   "metadata": {},
   "outputs": [],
   "source": [
    "# YOUR CODE HERE"
   ]
  }
 ],
 "metadata": {
  "language_info": {
   "name": "python"
  }
 },
 "nbformat": 4,
 "nbformat_minor": 2
}
