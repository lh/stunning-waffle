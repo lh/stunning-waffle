{
 "cells": [
  {
   "cell_type": "markdown",
   "metadata": {},
   "source": [
    "# HSMA 3C: Exercise 3 - Getting travel times from an API"
   ]
  },
  {
   "cell_type": "markdown",
   "metadata": {},
   "source": [
    "Run this first to download the required files into colab and move into the correct directory."
   ]
  },
  {
   "cell_type": "code",
   "execution_count": null,
   "metadata": {},
   "outputs": [],
   "source": [
    "!git clone https://github.com/hsma-programme/h6_3c_interactive_plots_travel.git\n",
    "%cd /content/h6_3c_interactive_plots_travel/h6_3c_interactive_plots_travel/exercises_colab\n",
    "!pip install contextily\n",
    "!pip install routingpy"
   ]
  },
  {
   "cell_type": "markdown",
   "metadata": {},
   "source": [
    "## Extension"
   ]
  },
  {
   "cell_type": "markdown",
   "metadata": {},
   "source": [
    "Import the required packages."
   ]
  },
  {
   "cell_type": "code",
   "execution_count": null,
   "metadata": {},
   "outputs": [],
   "source": [
    "import geopandas\n",
    "import pandas as pd\n",
    "import matplotlib.pyplot as plt\n",
    "import routingpy as rp\n",
    "import contextily as cx"
   ]
  },
  {
   "cell_type": "markdown",
   "metadata": {},
   "source": [
    "### Getting and plotting travel time matrices"
   ]
  },
  {
   "cell_type": "markdown",
   "metadata": {},
   "source": [
    "The code below will \n",
    "- create a dataframe of the population-weighted centroids of York and Hull\n",
    "- create a dataframe of the LSOA boundaries of York and Hull\n",
    "- create a map showing the LSOA boundaries of York and Hull with the population-weighted centroids of each LSOA\n",
    "\n",
    "First, read through this code and try to understand what it is doing."
   ]
  },
  {
   "cell_type": "code",
   "execution_count": null,
   "metadata": {},
   "outputs": [],
   "source": [
    "lsoa_centroids_2021 = pd.merge(\n",
    "    geopandas.read_file(\"../datasets/exercises_2_and_3/LSOA_Dec_2021_PWC_for_England_Wales_2022.geojson\"),\n",
    "    geopandas.read_file(\"../datasets/exercises_2_and_3/Lower_layer_Super_Output_Areas_2021_EW_BGC_V3.geojson\")[[\"LSOA21CD\", \"LSOA21NM\"]],\n",
    "    left_on=\"LSOA21CD\",\n",
    "    right_on=\"LSOA21CD\"\n",
    ").sort_values('LSOA21NM')\n",
    "\n",
    "lsoa_centroids_2021_york = lsoa_centroids_2021[lsoa_centroids_2021[\"LSOA21NM\"].str.contains(\"York|Hull\")]\n",
    "\n",
    "lsoa_boundaries_2021 = geopandas.read_file(\"../datasets/exercises_2_and_3/Lower_layer_Super_Output_Areas_2021_EW_BGC_V3.geojson\")\n",
    "lsoa_boundaries_2021_york = lsoa_boundaries_2021[lsoa_boundaries_2021[\"LSOA21NM\"].str.contains(\"York|Hull\")]\n",
    "\n",
    "ax = lsoa_boundaries_2021_york.plot(alpha=0.4, edgecolor='black', figsize=(10,8))\n",
    "lsoa_centroids_2021_york.plot(color=\"yellow\", ax=ax, markersize=1)\n",
    "\n",
    "cx.add_basemap(ax, crs=lsoa_boundaries_2021_york.crs.to_string(), zoom=10)"
   ]
  },
  {
   "cell_type": "markdown",
   "metadata": {},
   "source": [
    "### Getting the data into the right format for routingpy"
   ]
  },
  {
   "cell_type": "markdown",
   "metadata": {},
   "source": [
    "Load in the potential clinic locations from **york_clinics_4.csv**."
   ]
  },
  {
   "cell_type": "code",
   "execution_count": null,
   "metadata": {},
   "outputs": [],
   "source": [
    "york_clinic_locations = ## YOUR CODE HERE"
   ]
  },
  {
   "cell_type": "markdown",
   "metadata": {},
   "source": [
    "Convert the centroids in `lsoa_centroids_2021_york` from EPSG:27700 (northings/eastings) to EPSG:4326 (lat/long) as this is the right format for the routingpy service.\n",
    "\n",
    "Hint: the **to_crs** method will do what you need here!"
   ]
  },
  {
   "cell_type": "code",
   "execution_count": null,
   "metadata": {},
   "outputs": [],
   "source": [
    "lsoa_centroids_2021_3857 = ## YOUR CODE HERE"
   ]
  },
  {
   "cell_type": "markdown",
   "metadata": {},
   "source": [
    "Use **zip** on the geometry column to pull out pairs of *source* coordinates (source = our LSOA centroids - where potential patients will come from)\n",
    "\n",
    "HINT: Remember that routingpy expects the **longitude** before the **latitude**. "
   ]
  },
  {
   "cell_type": "code",
   "execution_count": null,
   "metadata": {},
   "outputs": [],
   "source": [
    "source_coord_pairs = ## YOUR CODE HERE"
   ]
  },
  {
   "cell_type": "markdown",
   "metadata": {},
   "source": [
    "The output of this will give you a list of tuples. \n",
    "\n",
    "Now turn these tuples into lists using a list comprehension. "
   ]
  },
  {
   "cell_type": "code",
   "execution_count": null,
   "metadata": {},
   "outputs": [],
   "source": [
    "source_coord_pairs_list = ## YOUR CODE HERE"
   ]
  },
  {
   "cell_type": "markdown",
   "metadata": {},
   "source": [
    "Repeat the steps above, but this time for the data in **york_clinic_locations**.\n",
    "\n",
    "Remember - york clinic locations is a standard pandas dataframe at this point - not a geodataframe.\n",
    "\n",
    "You either need to convert it to a geodataframe first, or write your code very slightly differently."
   ]
  },
  {
   "cell_type": "code",
   "execution_count": null,
   "metadata": {},
   "outputs": [],
   "source": [
    "destination_coord_pairs = ## YOUR CODE HERE\n",
    "destination_coord_pairs_list = ## YOUR CODE HERE"
   ]
  },
  {
   "cell_type": "markdown",
   "metadata": {},
   "source": [
    "Join the two lists into one. "
   ]
  },
  {
   "cell_type": "code",
   "execution_count": null,
   "metadata": {},
   "outputs": [],
   "source": [
    "all_coordinates = []\n",
    "\n",
    "## YOUR CODE HERE"
   ]
  },
  {
   "cell_type": "markdown",
   "metadata": {},
   "source": [
    "Use a list comprehension to create a list that shows the locations of the coordinates relating to our **sources**."
   ]
  },
  {
   "cell_type": "code",
   "execution_count": null,
   "metadata": {},
   "outputs": [],
   "source": [
    "source_indices = ##YOUR CODE HERE"
   ]
  },
  {
   "cell_type": "markdown",
   "metadata": {},
   "source": [
    "Use a list comprehension to create a list that shows the locations of the coordinates relating to our **destinations**."
   ]
  },
  {
   "cell_type": "code",
   "execution_count": null,
   "metadata": {},
   "outputs": [],
   "source": [
    "destination_indices = ##YOUR CODE HERE"
   ]
  },
  {
   "cell_type": "markdown",
   "metadata": {},
   "source": [
    "### Using routingpy"
   ]
  },
  {
   "cell_type": "markdown",
   "metadata": {},
   "source": [
    "Set up routingpy.\n",
    "\n",
    "You will need to set up an account on the openroute service here: https://openrouteservice.org/"
   ]
  },
  {
   "cell_type": "code",
   "execution_count": null,
   "metadata": {},
   "outputs": [],
   "source": [
    "ors_api_key = # YOUR CODE HERE\n",
    "\n",
    "ors_api = # YOUR CODE HERE"
   ]
  },
  {
   "cell_type": "markdown",
   "metadata": {},
   "source": [
    "Request the data back from routingpy."
   ]
  },
  {
   "cell_type": "code",
   "execution_count": null,
   "metadata": {},
   "outputs": [],
   "source": [
    "travel_matrix_york_4_clinics = ors_api.matrix(\n",
    "    locations = ...,\n",
    "\n",
    "    profile = ...,\n",
    "\n",
    "    sources = ...,\n",
    "\n",
    "    destinations = ...\n",
    ")"
   ]
  },
  {
   "cell_type": "markdown",
   "metadata": {},
   "source": [
    "Take a look at the **durations** attribute of our matrix."
   ]
  },
  {
   "cell_type": "code",
   "execution_count": null,
   "metadata": {},
   "outputs": [],
   "source": [
    "## YOUR CODE HERE"
   ]
  },
  {
   "cell_type": "markdown",
   "metadata": {},
   "source": [
    "Convert this to a dataframe."
   ]
  },
  {
   "cell_type": "code",
   "execution_count": null,
   "metadata": {},
   "outputs": [],
   "source": [
    "york_4_clinics_travel_df = pd.DataFrame(\n",
    "    ...,\n",
    "    columns = ...,\n",
    "    index = ...\n",
    ")"
   ]
  },
  {
   "cell_type": "markdown",
   "metadata": {},
   "source": [
    "Work out the shortest travel time for each location. \n",
    "\n",
    "Remember: the results will be in seconds, not minutes.  "
   ]
  },
  {
   "cell_type": "code",
   "execution_count": null,
   "metadata": {},
   "outputs": [],
   "source": [
    "york_4_clinics_travel_df['shortest_minutes'] = ## YOUR CODE HERE"
   ]
  },
  {
   "cell_type": "markdown",
   "metadata": {},
   "source": [
    "Create either a static or interactive plot (whichever you would prefer to have some more practice with!) \n",
    "- showing the LSOAs, coloured by travel time\n",
    "- showing the clinic sites\n",
    "\n",
    "If making a static plot, label each site with its name (Clinic 1, Clinic 2, Clinic 3, Clinic 4).\n",
    "\n",
    "If making an interactive plot, set the clinic names as tooltips for the markers.\n",
    "\n",
    "Hint: you don't have a geodataframe at this point! Join it back up with `lsoa_boundaries_2021_york`. \n",
    "\n",
    "You may want to run the `.reset_index()` method on `york_4_clinics_travel_df` to make it easier to join. "
   ]
  },
  {
   "cell_type": "code",
   "execution_count": null,
   "metadata": {},
   "outputs": [],
   "source": [
    "## YOUR CODE HERE"
   ]
  },
  {
   "cell_type": "markdown",
   "metadata": {},
   "source": [
    "## Challenge: Bonus Exercises"
   ]
  },
  {
   "cell_type": "markdown",
   "metadata": {},
   "source": [
    "### 1. Getting and plotting isochrone data"
   ]
  },
  {
   "cell_type": "markdown",
   "metadata": {},
   "source": [
    "Take a look at the slides on making isochrones at the following link.\n",
    "\n",
    "[LINK](https://docs.google.com/presentation/d/1WnSsaT_0cNFp4W4Q0YVlXCTzyLcPVIvt3VMtwTrU9O4/edit?usp=sharing)"
   ]
  },
  {
   "cell_type": "markdown",
   "metadata": {},
   "source": [
    "Load the additional requried libraries for this step."
   ]
  },
  {
   "cell_type": "code",
   "execution_count": null,
   "metadata": {},
   "outputs": [],
   "source": [
    "from shapely.geometry import Polygon"
   ]
  },
  {
   "cell_type": "markdown",
   "metadata": {},
   "source": [
    "Create an isochrone map for the first clinic in the clinic list for 5, 10 and 15 minutes on foot."
   ]
  },
  {
   "cell_type": "code",
   "execution_count": null,
   "metadata": {},
   "outputs": [],
   "source": [
    "## YOUR CODE HERE"
   ]
  },
  {
   "cell_type": "markdown",
   "metadata": {},
   "source": [
    "Write a for loop to generate isochrone maps for all four clinics."
   ]
  },
  {
   "cell_type": "code",
   "execution_count": null,
   "metadata": {},
   "outputs": [],
   "source": [
    "## YOUR CODE HERE"
   ]
  },
  {
   "cell_type": "markdown",
   "metadata": {},
   "source": [
    "Plot the four isochrone maps in separate subplots using matplotlib."
   ]
  },
  {
   "cell_type": "code",
   "execution_count": null,
   "metadata": {},
   "outputs": [],
   "source": [
    "## YOUR CODE HERE"
   ]
  },
  {
   "cell_type": "markdown",
   "metadata": {},
   "source": [
    "Plot the four isochrone maps on the same static (matplotlib) plot."
   ]
  },
  {
   "cell_type": "code",
   "execution_count": null,
   "metadata": {},
   "outputs": [],
   "source": [
    "## YOUR CODE HERE"
   ]
  },
  {
   "cell_type": "markdown",
   "metadata": {},
   "source": [
    "### 2. Making multiple requests to the ORS API"
   ]
  },
  {
   "cell_type": "markdown",
   "metadata": {},
   "source": [
    "In the datasets folder is another file called **york_clinics_9.csv**.\n",
    "\n",
    "However, requesting the data for 9 clinics means we will exceed the number of requests you can make to the routingpy API at once. A matrix request can be up to 50 x 50 (2500 pairs) or any other combination that produces <= 2500 results (e.g. 250 sources and 10 destinations, 2500 sources and 1 destination, 1250 sources and 2 destinations)\n",
    "\n",
    "Think about how you could split up your requests in such a way that you can get all of the required travel times. \n",
    "\n",
    "Once you have done this, create a new plot showing the travel times."
   ]
  },
  {
   "cell_type": "code",
   "execution_count": null,
   "metadata": {},
   "outputs": [],
   "source": [
    "## YOUR CODE HERE"
   ]
  },
  {
   "cell_type": "markdown",
   "metadata": {},
   "source": [
    "Try comparing the average travel time across the region with 4 and 9 clinics. "
   ]
  },
  {
   "cell_type": "code",
   "execution_count": null,
   "metadata": {},
   "outputs": [],
   "source": [
    "## YOUR CODE HERE"
   ]
  },
  {
   "cell_type": "markdown",
   "metadata": {},
   "source": [
    "### 3. Making interactive isochrone maps"
   ]
  },
  {
   "cell_type": "markdown",
   "metadata": {},
   "source": [
    "Investigate whether it is possible to display the isochrone data using Folium. "
   ]
  },
  {
   "cell_type": "code",
   "execution_count": null,
   "metadata": {},
   "outputs": [],
   "source": [
    "## YOUR CODE HERE"
   ]
  }
 ],
 "metadata": {
  "kernelspec": {
   "display_name": "Python 3",
   "language": "python",
   "name": "python3"
  },
  "language_info": {
   "codemirror_mode": {
    "name": "ipython",
    "version": 3
   },
   "file_extension": ".py",
   "mimetype": "text/x-python",
   "name": "python",
   "nbconvert_exporter": "python",
   "pygments_lexer": "ipython3",
   "version": "3.10.12"
  }
 },
 "nbformat": 4,
 "nbformat_minor": 2
}
