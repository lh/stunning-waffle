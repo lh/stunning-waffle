{
 "cells": [
  {
   "cell_type": "markdown",
   "metadata": {},
   "source": [
    "# HSMA 1E - Python Programming Part 1\n",
    "## Exercise 4"
   ]
  },
  {
   "cell_type": "markdown",
   "metadata": {},
   "source": [
    "This workbook is intended to accompany Session 1E of the HSMA Training Programme - Python Programming Part 1.  You should be completing this when prompted by the trainer as Exercise 4 of the session.  You should read each task, and then try to write code to achieve what you are being asked in the code cell below each set of instructions.  Remember - check your code is working by running the code cell (CTRL + Enter whilst in the cell, or click the play button to the left of the cell)."
   ]
  },
  {
   "cell_type": "markdown",
   "metadata": {},
   "source": [
    "**Task 1** Write code that does the following :\n",
    "- Creates a new empty list of numbers\n",
    "- Asks the user to input 10 numbers.  For each number, the code checks to see if it is already in the list of numbers.  If it is, then the user is asked to input a different number, and will keep being asked until a valid number is entered (ie it won't count as one of the 10 numbers until a valid one has been entered).  If it isn't in the list, the number is added to the list of numbers. (*Think carefully about how to do this step.  There are different approaches, but break it down.  Think about how you would do it for a single number, then for 10 numbers.*)\n",
    "- Once the list of 10 numbers has been assembled, it is printed to the screen\n",
    "- The code then grabs the first half of the list, and prints that to the screen\n",
    "- The code then uses the second half of the list to create a new list comprised of the numbers in this second half, but halved.  This new list is then printed.\n",
    "- The code then creates a new list comprised of numbers from the entire original list, but only those that are less than 100.  This list is then printed, along with a message informing the user how many numbers are less than 100.\n",
    "- Finally, the code creates a new dictionary named list_meta_data which contains the following keys : \"Total numbers\", \"Total low numbers\", \"First number added\" and \"Last number added\", and the corresponding values stored against each of these keys.  The dictionary is then printed."
   ]
  },
  {
   "cell_type": "code",
   "execution_count": 11,
   "metadata": {},
   "outputs": [
    {
     "name": "stdout",
     "output_type": "stream",
     "text": [
      "your numbers are [3.1415926, 2.7, 1005.0, 100.0, 21.0, 23421.0, 432.0, 435.0, 643.0, 4324.0]\n",
      "your first 5 numbers are [3.1415926, 2.7, 1005.0, 100.0, 21.0]\n",
      "your changed numbers are [11710.5, 216.0, 217.5, 321.5, 2162.0]\n",
      "There are 3 numbers less than 100,  which are [3.1415926, 2.7, 21.0]\n",
      "list meta data is {'Total numbers': 10, 'First number added': 3.1415926, 'Last number added': 4324.0}\n"
     ]
    }
   ],
   "source": [
    "numbers = []\n",
    "\n",
    "while len(numbers) < 10:\n",
    "    number = float(\n",
    "      input(\"please enter a unique number:  \"))\n",
    "    if number not in numbers:\n",
    "        numbers.append(number)\n",
    "print(f\"your numbers are {numbers}\")      \n",
    "first_half = numbers[:5]\n",
    "print(f\"your first 5 numbers are {first_half}\")   \n",
    "second_half = [number/2 for number in numbers[5:]]\n",
    "print(f\"your changed numbers are {second_half}\")   \n",
    "less_ton = [number for number in numbers \n",
    "                     if number < 100]\n",
    "print(\n",
    "    f\"There are {len(less_ton)} numbers less than 100, \",  \n",
    "    f\"which are {less_ton}\"\n",
    "    )  \n",
    "list_meta_data = {\n",
    "    \"Total numbers\":      len(numbers), \n",
    "    \"First number added\": numbers[0], \n",
    "    \"Last number added\":  numbers[-1]\n",
    "}\n",
    "\n",
    "print(f\"list meta data is {list_meta_data}\") \n",
    "  "
   ]
  }
 ],
 "metadata": {
  "kernelspec": {
   "display_name": "base",
   "language": "python",
   "name": "python3"
  },
  "language_info": {
   "codemirror_mode": {
    "name": "ipython",
    "version": 3
   },
   "file_extension": ".py",
   "mimetype": "text/x-python",
   "name": "python",
   "nbconvert_exporter": "python",
   "pygments_lexer": "ipython3",
   "version": "3.11.7"
  }
 },
 "nbformat": 4,
 "nbformat_minor": 2
}
