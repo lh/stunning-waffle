{
 "cells": [
  {
   "cell_type": "markdown",
   "metadata": {},
   "source": [
    "# HSMA 1E - Python Programming Part 1\n",
    "## Exercise 3"
   ]
  },
  {
   "cell_type": "markdown",
   "metadata": {},
   "source": [
    "This workbook is intended to accompany Session 1E of the HSMA Training Programme - Python Programming Part 1.  You should be completing this when prompted by the trainer as Exercise 3 of the session.  You should read each task, and then try to write code to achieve what you are being asked in the code cell below each set of instructions.  Remember - check your code is working by running the code cell (CTRL + Enter whilst in the cell, or click the play button to the left of the cell)."
   ]
  },
  {
   "cell_type": "markdown",
   "metadata": {},
   "source": [
    "**Task 1** Write code that asks the user to input a number, and the machine then prints out the times table (from 1 x up to and including 12 x the number) for whatever number is entered, using the message format \"*x* * *chosen_number* is *result*\" (e.g \"1 x 2 is 2\", \"2 x 2 is 4\" etc)"
   ]
  },
  {
   "cell_type": "code",
   "execution_count": 3,
   "metadata": {},
   "outputs": [
    {
     "name": "stdout",
     "output_type": "stream",
     "text": [
      "The 2.0 times table is \n",
      "1 times 2.00 is 2.00\n",
      "2 times 2.00 is 4.00\n",
      "3 times 2.00 is 6.00\n",
      "4 times 2.00 is 8.00\n",
      "5 times 2.00 is 10.00\n",
      "6 times 2.00 is 12.00\n",
      "7 times 2.00 is 14.00\n",
      "8 times 2.00 is 16.00\n",
      "9 times 2.00 is 18.00\n",
      "10 times 2.00 is 20.00\n",
      "11 times 2.00 is 22.00\n",
      "12 times 2.00 is 24.00\n"
     ]
    }
   ],
   "source": [
    "number = float(input(\"Enter a number, any number: \"))\n",
    "\n",
    "print(f\"The {number} times table is \")\n",
    "for x in range(1, 13):\n",
    "    print(f\"{x} times {number:.2f} is {(x * number):.2f}\")"
   ]
  },
  {
   "cell_type": "markdown",
   "metadata": {},
   "source": [
    "**Task 2** Write code that asks the user for a number to start from, and which then prints a countdown from that number (printing the number each time) until it reaches 0 - at which point, rather than printing 0, it prints \"Thunderbirds are go!\""
   ]
  },
  {
   "cell_type": "code",
   "execution_count": null,
   "metadata": {},
   "outputs": [],
   "source": [
    "start = int(input(\"What number to start the countdown? \"))\n",
    "\n",
    "for x in range(start, 0, -1):\n",
    "    print(f\"{x}\")\n",
    "    \n",
    "print(\"Thuderbirds are go!\")"
   ]
  },
  {
   "cell_type": "markdown",
   "metadata": {},
   "source": [
    "**Task 3** The code cell below contains an import of the random library - you'll learn more about this later, but basically an import allows us to import code that other people have written - in this case, code that allows us to randomly select numbers.  It also contains a line of code that shows you how to use the random library to randomly select an integer between 1 and 10 (inclusive) and store the result in a variable.  Add to this code cell, by storing a variable named number_of_fives that is initially set to 0 and will act as a counter.  Then, get the computer to keep randomly selecting a number between 1 and 10, printing the number it picks, and checking whether the number is a 5.  If it is a 5, it prints an additional message saying it has found a 5, and increases the counter you set up above by 1.  The computer should keep doing this until it finds five 5s, at which point it will declare that \"Johnny Five is Alive!\" and the code will end."
   ]
  },
  {
   "cell_type": "code",
   "execution_count": 2,
   "metadata": {},
   "outputs": [
    {
     "name": "stdout",
     "output_type": "stream",
     "text": [
      "5\n",
      "Yay, its a five!\n",
      "10\n",
      "3\n",
      "9\n",
      "6\n",
      "4\n",
      "4\n",
      "3\n",
      "8\n",
      "4\n",
      "6\n",
      "10\n",
      "10\n",
      "2\n",
      "9\n",
      "8\n",
      "10\n",
      "1\n",
      "6\n",
      "7\n",
      "8\n",
      "1\n",
      "1\n",
      "8\n",
      "5\n",
      "Yay, its a five!\n",
      "7\n",
      "7\n",
      "10\n",
      "5\n",
      "Yay, its a five!\n",
      "5\n",
      "Yay, its a five!\n",
      "7\n",
      "3\n",
      "8\n",
      "7\n",
      "8\n",
      "6\n",
      "2\n",
      "4\n",
      "6\n",
      "8\n",
      "1\n",
      "2\n",
      "9\n",
      "1\n",
      "1\n",
      "8\n",
      "3\n",
      "7\n",
      "5\n",
      "Yay, its a five!\n",
      "10\n",
      "10\n",
      "2\n",
      "4\n",
      "4\n",
      "7\n",
      "9\n",
      "4\n",
      "10\n",
      "10\n",
      "7\n",
      "8\n",
      "5\n",
      "Yay, its a five!\n",
      "Johny Five is alive!\n"
     ]
    }
   ],
   "source": [
    "import random # import the random library\n",
    "number_of_fives = 0\n",
    "\n",
    "# example code showing you how to randomly sample an integer between 1 and 10\n",
    "# (inclusive)\n",
    "while number_of_fives < 5:\n",
    "    random_number = random.randint(1,10)\n",
    "    print(f\"{random_number}\")\n",
    "    if random_number == 5:\n",
    "        number_of_fives += 1\n",
    "        print(\"Yay, its a five!\")\n",
    "        \n",
    "print(\"Johny Five is alive!\")\n"
   ]
  }
 ],
 "metadata": {
  "kernelspec": {
   "display_name": "base",
   "language": "python",
   "name": "python3"
  },
  "language_info": {
   "codemirror_mode": {
    "name": "ipython",
    "version": 3
   },
   "file_extension": ".py",
   "mimetype": "text/x-python",
   "name": "python",
   "nbconvert_exporter": "python",
   "pygments_lexer": "ipython3",
   "version": "3.11.7"
  }
 },
 "nbformat": 4,
 "nbformat_minor": 2
}
