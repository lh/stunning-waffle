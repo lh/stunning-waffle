{
 "cells": [
  {
   "cell_type": "markdown",
   "metadata": {},
   "source": [
    "# HSMA 1E - Python Programming Part 1\n",
    "## Exercise 2"
   ]
  },
  {
   "cell_type": "markdown",
   "metadata": {},
   "source": [
    "**Task 1**\n",
    "Write code that asks the user to input their monthly take home, housing costs, food costs and utility costs.  Then, calculate the remaining amount of their take home after housing, food and utility costs have been deducted, as well as the percentage of their monthly take home that is eaten up by housing costs.  Finally, print a message to the user telling them what their monthly remaining amount is after housing, food and utility costs, and what the percentage of their monthly take home that is housing costs, **rounded to 2 decimal places**.  You should include comments in your code to explain what everything does.\n",
    "\n",
    "Tip : to avoid going over the 80 character width line for print statements, you can separate components of a string using commas, to provide multiple inputs (within the brackets) to the print statement - this will create an *implicit line continuation*.  The output will come out on the same line, but a space will be added between each component.  Run the below cell to see how it works.  NOTE - if you are using fStrings, it works in the same way, but you must include the f ahead of any string that uses f-string functionality."
   ]
  },
  {
   "cell_type": "markdown",
   "metadata": {},
   "source": [
    "This workbook is intended to accompany Session 1E of the HSMA Training Programme - Python Programming Part 1.  You should be completing this when prompted by the trainer as Exercise 2 of the session.  You should read each task, and then try to write code to achieve what you are being asked in the code cell below each set of instructions.  Remember - check your code is working by running the code cell (CTRL + Enter whilst in the cell, or click the play button to the left of the cell)."
   ]
  },
  {
   "cell_type": "code",
   "execution_count": 1,
   "metadata": {},
   "outputs": [
    {
     "name": "stdout",
     "output_type": "stream",
     "text": [
      "My name is Dan, and I'd like to tell you this really long story to ensure that the example I'm giving here goes over the 80 character limit that I keep talking about.\n"
     ]
    }
   ],
   "source": [
    "print (\"My name is Dan, and I'd like to tell you this really long story to\",\n",
    "       \"ensure that the example I'm giving here goes over the 80 character\",\n",
    "       \"limit that I keep talking about.\")"
   ]
  },
  {
   "cell_type": "code",
   "execution_count": 2,
   "metadata": {},
   "outputs": [
    {
     "name": "stdout",
     "output_type": "stream",
     "text": [
      "Your monthly amount remaining after costs is £3500\n",
      "Housing costs are 50.00% of your gross income\n"
     ]
    }
   ],
   "source": [
    "monthly_take_home = int(input(\"Please tell me your monthly take home in pounds: £\" ) )\n",
    "housing_costs = int(input(\"Please tell me your monthly housing costs in pounds: £\")) \n",
    "food_costs = int(input(\"Please tell me your monthly food costs in pounds: £\")) \n",
    "utility_costs = int(input(\"Please tell me your monthly utility costs in pounds: £\")) \n",
    "\n",
    "remaining_amount = monthly_take_home - (housing_costs + food_costs + utility_costs)\n",
    "\n",
    "percentage_housing = 100 * housing_costs/monthly_take_home\n",
    "\n",
    "print(f\"Your monthly amount remaining after costs is £{remaining_amount}\")\n",
    "print(f\"Housing costs are {percentage_housing:.2f}% of your gross income\")"
   ]
  },
  {
   "cell_type": "markdown",
   "metadata": {},
   "source": [
    "**Task 2** Write code that asks the user to input a day number from 1 up to and including 365, and which, assuming that day 1 is a Monday, prints out the day of the week corresponding to the day the user inputs.  For example, if the user were to input 16, the code should print out \"Tuesday\".  Tip - look back over the slides and talk in your groups to try to work out a way of doing this efficiently.  If you're writing 365 lines of code, you've gone in the wrong direction... :)"
   ]
  },
  {
   "cell_type": "code",
   "execution_count": 12,
   "metadata": {},
   "outputs": [
    {
     "ename": "ValueError",
     "evalue": "invalid literal for int() with base 10: 'cat'",
     "output_type": "error",
     "traceback": [
      "\u001b[0;31m---------------------------------------------------------------------------\u001b[0m",
      "\u001b[0;31mValueError\u001b[0m                                Traceback (most recent call last)",
      "Cell \u001b[0;32mIn[12], line 4\u001b[0m\n\u001b[1;32m      1\u001b[0m days_of_the_week \u001b[38;5;241m=\u001b[39m (\u001b[38;5;124m\"\u001b[39m\u001b[38;5;124mSunday\u001b[39m\u001b[38;5;124m\"\u001b[39m,\u001b[38;5;124m\"\u001b[39m\u001b[38;5;124mMonday\u001b[39m\u001b[38;5;124m\"\u001b[39m, \u001b[38;5;124m\"\u001b[39m\u001b[38;5;124mTuesday\u001b[39m\u001b[38;5;124m\"\u001b[39m, \u001b[38;5;124m\"\u001b[39m\u001b[38;5;124mWednesday\u001b[39m\u001b[38;5;124m\"\u001b[39m, \n\u001b[1;32m      2\u001b[0m                     \u001b[38;5;124m\"\u001b[39m\u001b[38;5;124mThursday\u001b[39m\u001b[38;5;124m\"\u001b[39m, \u001b[38;5;124m\"\u001b[39m\u001b[38;5;124mFriday\u001b[39m\u001b[38;5;124m\"\u001b[39m, \u001b[38;5;124m\"\u001b[39m\u001b[38;5;124mSaturday\u001b[39m\u001b[38;5;124m\"\u001b[39m, )\n\u001b[0;32m----> 4\u001b[0m day \u001b[38;5;241m=\u001b[39m \u001b[38;5;28mint\u001b[39m(\u001b[38;5;28minput\u001b[39m(\u001b[38;5;124m\"\u001b[39m\u001b[38;5;124mPlease enter an integer between 1 and 365 inclusive\u001b[39m\u001b[38;5;124m\"\u001b[39m))\n\u001b[1;32m      6\u001b[0m \u001b[38;5;28mprint\u001b[39m(\u001b[38;5;124mf\u001b[39m\u001b[38;5;124m\"\u001b[39m\u001b[38;5;124mThat is a \u001b[39m\u001b[38;5;132;01m{\u001b[39;00mdays_of_the_week[day\u001b[38;5;241m%\u001b[39m\u001b[38;5;241m7\u001b[39m]\u001b[38;5;132;01m}\u001b[39;00m\u001b[38;5;124m\"\u001b[39m)\n",
      "\u001b[0;31mValueError\u001b[0m: invalid literal for int() with base 10: 'cat'"
     ]
    }
   ],
   "source": [
    "days_of_the_week = (\"Sunday\",\"Monday\", \"Tuesday\", \"Wednesday\", \n",
    "                    \"Thursday\", \"Friday\", \"Saturday\", ) # start on Sunday = 0\n",
    "\n",
    "day = int(input(\"Please enter an integer between 1 and 365 inclusive\")) \n",
    "# needs checking!\n",
    "print(f\"That is a {days_of_the_week[day%7]}\") #note modulus!"
   ]
  }
 ],
 "metadata": {
  "kernelspec": {
   "display_name": "base",
   "language": "python",
   "name": "python3"
  },
  "language_info": {
   "codemirror_mode": {
    "name": "ipython",
    "version": 3
   },
   "file_extension": ".py",
   "mimetype": "text/x-python",
   "name": "python",
   "nbconvert_exporter": "python",
   "pygments_lexer": "ipython3",
   "version": "3.11.7"
  }
 },
 "nbformat": 4,
 "nbformat_minor": 2
}
