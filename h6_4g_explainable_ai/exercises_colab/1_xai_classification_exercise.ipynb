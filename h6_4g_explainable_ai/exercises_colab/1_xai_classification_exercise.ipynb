{
 "cells": [
  {
   "cell_type": "markdown",
   "id": "6da53309",
   "metadata": {},
   "source": [
    "# HSMA 6 - Session 4G - Exercise 1 - Explainable AI Techniques\n"
   ]
  },
  {
   "cell_type": "markdown",
   "id": "36ab0805",
   "metadata": {},
   "source": [
    "If running in Google Colab, run the following cell first:"
   ]
  },
  {
   "cell_type": "code",
   "execution_count": null,
   "id": "38c6babf",
   "metadata": {},
   "outputs": [],
   "source": [
    "!pip install shap\n",
    "!git clone https://github.com/hsma-programme/h6_4g_explainable_ai.git\n",
    "%cd /content/h6_4g_explainable_ai/exercises_colab"
   ]
  },
  {
   "cell_type": "markdown",
   "id": "8376e3db",
   "metadata": {},
   "source": [
    "\n",
    "In this notebook, we'll be exploring how to use a couple of different explainable AI techniques.\n",
    "\n",
    "We'll be using a different dataset to take a look into this today. The penguins dataset is a great dataset for practising classification problems. This data has been pulled using the excellent `palmerpenguins` package. \n",
    "\n",
    "[LINK](https://allisonhorst.github.io/palmerpenguins/)\n",
    "\n",
    "What we need to know is that \n",
    "\n",
    "- The dataset is made up of 344 rows/ instances\n",
    "- Each row has columns pertaining to sex, species, island on which they are found, bill length, bill depth, flipper length, and body mass.\n",
    "- There are three species (classes) to consider: Adelie, Chinstrap and Gentoo.\n",
    "    - These are the **targets**.\n",
    "\n",
    "In this exercise you will need go through the code and fill in any missing spaces. \n",
    "\n",
    "By the end of this exercise you should know \n",
    "- how to calculate feature importance using the MDI method for tree-based models\n",
    "- how to calculate feature importance for any model using the permutation feature importance method\n",
    "- how to create partial dependence plots (PDPs) and individual conditionla expectation (ICE) plots for any model \n",
    "- how to use the SHAP library to understand a model \n",
    "\n",
    "The SHAP code does vary subtly for different kinds of model; we will just be working with an XGboost model in this case to match what we've done in the lecture."
   ]
  },
  {
   "cell_type": "markdown",
   "id": "1d8cb06d",
   "metadata": {},
   "source": [
    "#### Library Imports"
   ]
  },
  {
   "cell_type": "code",
   "execution_count": null,
   "id": "b17c9157",
   "metadata": {},
   "outputs": [],
   "source": [
    "from sklearn import datasets\n",
    "import pandas as pd\n",
    "import numpy as np\n",
    "import matplotlib.pyplot as plt\n",
    "\n",
    "from sklearn.model_selection import train_test_split\n",
    "from xgboost import XGBClassifier\n",
    "from sklearn import metrics\n",
    "from sklearn.inspection import permutation_importance, PartialDependenceDisplay\n",
    "\n",
    "import shap\n",
    "\n",
    "# Java Script for SHAP Plots\n",
    "shap.initjs()"
   ]
  },
  {
   "cell_type": "markdown",
   "id": "7d06c309",
   "metadata": {},
   "source": [
    "#### Load & Clean Data"
   ]
  },
  {
   "cell_type": "markdown",
   "id": "bf197ea8",
   "metadata": {},
   "source": [
    "Run this cell to load the dataframe."
   ]
  },
  {
   "cell_type": "code",
   "execution_count": null,
   "id": "f9eaa2ff",
   "metadata": {},
   "outputs": [],
   "source": [
    "penguins = pd.read_csv(\"../datasets/penguins.csv\")"
   ]
  },
  {
   "cell_type": "markdown",
   "id": "4f70c92d",
   "metadata": {},
   "source": [
    "Examine the dataset with your choice(s) of function(s). "
   ]
  },
  {
   "cell_type": "code",
   "execution_count": null,
   "id": "ace367f3",
   "metadata": {},
   "outputs": [],
   "source": [
    "penguins.head()"
   ]
  },
  {
   "cell_type": "markdown",
   "id": "6631b656",
   "metadata": {},
   "source": [
    "Run the code below to convert the classes 0, 1 and 2 into the relevant species names and add this as a new column.  \n",
    "\n",
    "Try to understand how this is working - it's a useful little pattern to know for your own datasets!\n",
    "\n",
    "First, we are going to create a *dictionary*. Can you remember what we call the parts before and the parts after the colon in the dictionary?"
   ]
  },
  {
   "cell_type": "code",
   "execution_count": null,
   "id": "4e83eae2",
   "metadata": {},
   "outputs": [],
   "source": [
    "# Define the different classes/ species\n",
    "class_dict = {0 : 'Adelie',\n",
    "             1 : 'Chinstrap',\n",
    "             2 : 'Gentoo'}\n",
    "\n",
    "class_dict"
   ]
  },
  {
   "cell_type": "markdown",
   "id": "1b9696ae",
   "metadata": {},
   "source": [
    "Now we are going to use our dictionary for creating the column. \n",
    "\n",
    "How do you think this is working? You may want to look up the `get` method of the standard python dictionary, and the `apply` method of pandas, just to understand a little more about this very useful way of making new conditional columns."
   ]
  },
  {
   "cell_type": "code",
   "execution_count": null,
   "id": "5425890c",
   "metadata": {},
   "outputs": [],
   "source": [
    "# Add species into the dataframe\n",
    "penguins['species'] = penguins['target'].apply(lambda x: class_dict.get(x))\n",
    "\n",
    "# view a random sample of 10 rows\n",
    "penguins.sample(10)"
   ]
  },
  {
   "cell_type": "markdown",
   "id": "ed859bfe",
   "metadata": {},
   "source": [
    "Let's take a look at some stats about the data to get an idea of the scale and distribution of the different features. Run the cell below to do this. "
   ]
  },
  {
   "cell_type": "code",
   "execution_count": null,
   "id": "e35a4cd5",
   "metadata": {},
   "outputs": [],
   "source": [
    "# Take a look at some stats about the data\n",
    "penguins.describe()"
   ]
  },
  {
   "cell_type": "markdown",
   "id": "83ee4e50",
   "metadata": {},
   "source": [
    "#### Plot the Data"
   ]
  },
  {
   "cell_type": "markdown",
   "id": "149f9907",
   "metadata": {},
   "source": [
    "Before we go any further, let's plot the iris dataset to see how the petal width and length relate to the species.\n",
    "\n",
    "Fill in the gaps below to create the plot"
   ]
  },
  {
   "cell_type": "code",
   "execution_count": null,
   "id": "e5299b1a",
   "metadata": {},
   "outputs": [],
   "source": [
    "adelie = penguins[penguins.species=='Adelie']\n",
    "chinstrap = # YOUR CODE HERE\n",
    "gentoo = # YOUR CODE HERE\n",
    "\n",
    "fig, ax = plt.subplots()\n",
    "fig.set_size_inches(13, 7) # adjusting the length and width of plot\n",
    "\n",
    "# lables and scatter points\n",
    "ax.scatter(\n",
    "    adelie['bill_length_mm'],\n",
    "    adelie['bill_depth_mm'],\n",
    "    label=\"Adelie\",\n",
    "    facecolor=\"blue\"\n",
    "    )\n",
    "ax.scatter(\n",
    "    # YOUR CODE HERE,\n",
    "    # YOUR CODE HERE,\n",
    "    label=\"Chinstrap\",\n",
    "    facecolor=\"green\"\n",
    "    )\n",
    "ax.scatter(\n",
    "    # YOUR CODE HERE,\n",
    "    # YOUR CODE HERE,\n",
    "    # YOUR CODE HERE,\n",
    "    facecolor=\"red\"\n",
    "    )\n",
    "\n",
    "\n",
    "ax.set_xlabel(\"Bill Length (mm)\")\n",
    "ax.set_ylabel(\"Bill Depth (mm)\")\n",
    "ax.grid()\n",
    "ax.set_title(\"Gentoo Penguin Measurements\")\n",
    "ax.legend()"
   ]
  },
  {
   "cell_type": "markdown",
   "id": "95bd935b",
   "metadata": {},
   "source": [
    "Now it's your turn; create a copy of the plot above, but this time we are interested in flipper length and body mass."
   ]
  },
  {
   "cell_type": "code",
   "execution_count": null,
   "id": "7d010684",
   "metadata": {},
   "outputs": [],
   "source": [
    "# YOUR CODE HERE"
   ]
  },
  {
   "cell_type": "markdown",
   "id": "a5358c29",
   "metadata": {},
   "source": [
    "#### Performing Classification"
   ]
  },
  {
   "cell_type": "markdown",
   "id": "682dfc97",
   "metadata": {},
   "source": [
    "Time to get on to the machine learning aspect.\n",
    "\n",
    "It's always important to spend some time understanding your dataset first, though! What we've done above is just the tip of the iceberg, but it's a good start.\n",
    "\n",
    "Now we're going to process our dataset for machine learning as we did in the logistic regression, decision tree and boosted tree sessions - this time we're going to be using XGBoost."
   ]
  },
  {
   "cell_type": "code",
   "execution_count": null,
   "id": "58ea2e8f",
   "metadata": {},
   "outputs": [],
   "source": [
    "# Define features (X) and target (y)\n",
    "# Droping the target and species since we only need the measurements\n",
    "X = penguins.drop(['target','species'], axis=1)\n",
    "y = penguins['target']\n",
    "\n",
    "# get class and features names\n",
    "class_names = penguins.species.unique()\n",
    "feature_names = X.columns\n",
    "\n",
    "# Splitting into train and test\n",
    "X_train, X_test, y_train, y_test = ## YOUR CODE HERE\n",
    "\n",
    "# Instantiate an XGBoost model and fit it\n",
    "model = ## YOUR CODE HERE\n",
    "\n",
    "model.fit(X_train, y_train)"
   ]
  },
  {
   "cell_type": "markdown",
   "id": "2c12ba41",
   "metadata": {},
   "source": [
    "### Feature Importance"
   ]
  },
  {
   "cell_type": "markdown",
   "id": "71de020e",
   "metadata": {},
   "source": [
    "##### Look at feature importance using the feature_importances_ attribute"
   ]
  },
  {
   "cell_type": "markdown",
   "id": "a49e7e0c",
   "metadata": {},
   "source": [
    "For our XGboost model, this attribute is the mean decrease in impurity for each feature."
   ]
  },
  {
   "cell_type": "code",
   "execution_count": null,
   "id": "f1b51938",
   "metadata": {},
   "outputs": [],
   "source": [
    "importances = ## YOUR CODE HERE\n",
    "importances"
   ]
  },
  {
   "cell_type": "markdown",
   "id": "77fc5259",
   "metadata": {},
   "source": [
    "#### Mean decrease in impurity"
   ]
  },
  {
   "cell_type": "markdown",
   "id": "03dfb967",
   "metadata": {},
   "source": [
    "Generate a plot of the MDI feature importances."
   ]
  },
  {
   "cell_type": "code",
   "execution_count": null,
   "id": "f5dbf0ef",
   "metadata": {},
   "outputs": [],
   "source": [
    "# Create a list of the feature names\n",
    "feature_names = ## YOUR CODE HERE\n",
    "\n",
    "# Turn this into a series\n",
    "model_importances_mdi_series = pd.Series(\n",
    "    ## YOUR CODE HERE,\n",
    "    index=feature_names\n",
    "    )\n",
    "\n",
    "# Run the code below to plot the output\n",
    "fig, ax = plt.subplots(figsize=(15,10))\n",
    "\n",
    "model_importances_mdi_series.plot.bar(ax=ax)\n",
    "\n",
    "ax.set_title(\"Feature importances using MDI\")\n",
    "ax.set_ylabel(\"Mean decrease in impurity\")\n",
    "fig.tight_layout()"
   ]
  },
  {
   "cell_type": "markdown",
   "id": "7fb94094",
   "metadata": {},
   "source": [
    "### Permutation Feature Importance"
   ]
  },
  {
   "cell_type": "markdown",
   "id": "cf5b8992",
   "metadata": {},
   "source": [
    "Calculate permutation feature importance for this dataset and plot it.\n",
    "\n",
    "Include error bars."
   ]
  },
  {
   "cell_type": "code",
   "execution_count": null,
   "id": "0b0c4e4e",
   "metadata": {},
   "outputs": [],
   "source": [
    "# Permutation feature importance\n",
    "result = permutation_importance(\n",
    "    estimator=## YOUR CODE HERE,\n",
    "    X=## YOUR CODE HERE,\n",
    "    y=## YOUR CODE HERE,\n",
    "    n_repeats=## YOUR CODE HERE,\n",
    "    random_state=## YOUR CODE HERE\n",
    "    )\n",
    "\n",
    "model_importances_pfi_series = pd.Series(\n",
    "    ## YOUR CODE HERE,\n",
    "    index=feature_names)\n",
    "\n",
    "fig, ax = plt.subplots(figsize=(15,10))\n",
    "model_importances_pfi_series.plot.bar(\n",
    "    yerr=## YOUR CODE HERE,\n",
    "    ax=## YOUR CODE HERE)\n",
    "\n",
    "ax.set_title(\"Feature importances using permutation on full model\")\n",
    "ax.set_ylabel(\"Mean accuracy decrease\")\n",
    "fig.tight_layout()\n",
    "plt.show()"
   ]
  },
  {
   "cell_type": "markdown",
   "id": "1991f93e",
   "metadata": {},
   "source": [
    "#### Predictions\n",
    "\n",
    "Use the model to make predictions for the training and test set"
   ]
  },
  {
   "cell_type": "code",
   "execution_count": null,
   "id": "a96ae0fa",
   "metadata": {},
   "outputs": [],
   "source": [
    "# Training predictions\n",
    "y_pred_train = ## YOUR CODE HERE\n",
    "y_pred_test = ## YOUR CODE HERE"
   ]
  },
  {
   "cell_type": "markdown",
   "id": "fe9512a5",
   "metadata": {},
   "source": [
    "#### Assessing Performance"
   ]
  },
  {
   "cell_type": "markdown",
   "id": "ea58f6ed",
   "metadata": {},
   "source": [
    "Run this code to generate metrics for the training and test performance of this model."
   ]
  },
  {
   "cell_type": "code",
   "execution_count": null,
   "id": "fcbf2971",
   "metadata": {},
   "outputs": [],
   "source": [
    "accuracy_train = np.mean(## YOUR CODE HERE)\n",
    "accuracy_test = np.mean(## YOUR CODE HERE)\n",
    "\n",
    "print (f'Accuracy of predicting training data = {accuracy_train:.2%}')\n",
    "print (f'Accuracy of predicting test data = {accuracy_test:.2%}')"
   ]
  },
  {
   "cell_type": "markdown",
   "id": "62d85e84",
   "metadata": {},
   "source": [
    "## PDP Plots"
   ]
  },
  {
   "cell_type": "markdown",
   "id": "cde65e8e",
   "metadata": {},
   "source": [
    "Now let's create a partial dependence plot for flipper length."
   ]
  },
  {
   "cell_type": "code",
   "execution_count": null,
   "id": "d2f45a42",
   "metadata": {},
   "outputs": [],
   "source": [
    "fig, ax = plt.subplots(figsize=(10, 6))\n",
    "\n",
    "display = PartialDependenceDisplay.from_estimator(\n",
    "    estimator=## YOUR CODE HERE,  # Your fitted model\n",
    "    x=## YOUR CODE HERE,  # Your feature matrix\n",
    "    features=## YOUR CODE HERE,  # List of features to plot\n",
    "    target=0,\n",
    "    kind=## YOUR CODE HERE,  # Type of PDP\n",
    "    ax=## YOUR CODE HERE,\n",
    "    random_state=## YOUR CODE HERE\n",
    ")\n",
    "\n",
    "plt.show()"
   ]
  },
  {
   "cell_type": "markdown",
   "id": "6665f87d",
   "metadata": {},
   "source": [
    "Now create two plots side-by-side for bill length and bill depth.\n",
    "\n",
    "HINT: You *don't* need to create multiple separate plots using matplotlib for this - you can do it from within the graphing function we're using from scikit-learn."
   ]
  },
  {
   "cell_type": "code",
   "execution_count": null,
   "id": "f92fd55c",
   "metadata": {},
   "outputs": [],
   "source": [
    "fig, ax = plt.subplots(figsize=(10, 6))\n",
    "\n",
    "display = PartialDependenceDisplay.from_estimator(\n",
    "    estimator=## YOUR CODE HERE,  # Your fitted model\n",
    "    X=## YOUR CODE HERE,  # Your feature matrix\n",
    "    features=## YOUR CODE HERE,  # List of features to plot\n",
    "    target=0,\n",
    "    kind=## YOUR CODE HERE,  # Type of PDP\n",
    "    ax=## YOUR CODE HERE,\n",
    "    random_state=## YOUR CODE HERE\n",
    ")\n",
    "plt.show()"
   ]
  },
  {
   "cell_type": "markdown",
   "id": "8e60560b",
   "metadata": {},
   "source": [
    "## ICE Plots"
   ]
  },
  {
   "cell_type": "markdown",
   "id": "fc1baadd",
   "metadata": {},
   "source": [
    "Now create three ICE plots of the same feature - one for each class.\n",
    "Make sure to give each plot a name."
   ]
  },
  {
   "cell_type": "code",
   "execution_count": null,
   "id": "00be17ce",
   "metadata": {},
   "outputs": [],
   "source": [
    "fig, ax = plt.subplots(figsize=(10, 6))\n",
    "display = PartialDependenceDisplay.from_estimator(\n",
    "    estimator=## YOUR CODE HERE,  # Your fitted model\n",
    "    X=## YOUR CODE HERE,  # Your feature matrix\n",
    "    features=## YOUR CODE HERE,  # List of features to plot\n",
    "    target=0,\n",
    "    kind=## YOUR CODE HERE,  # Type of PDP\n",
    "    ax=## YOUR CODE HERE,\n",
    "    random_state=## YOUR CODE HERE\n",
    ")\n",
    "title_string = \"Adelie Penguins - Bill Length ICE Plot\"\n",
    "## YOUR CODE HERE\n",
    "plt.show()"
   ]
  },
  {
   "cell_type": "code",
   "execution_count": null,
   "id": "a59575f6",
   "metadata": {},
   "outputs": [],
   "source": [
    "fig, ax = plt.subplots(figsize=(10, 6))\n",
    "display = PartialDependenceDisplay.from_estimator(\n",
    "    estimator=## YOUR CODE HERE,  # Your fitted model\n",
    "    X=## YOUR CODE HERE,  # Your feature matrix\n",
    "    features=## YOUR CODE HERE,  # List of features to plot\n",
    "    target=1,\n",
    "    kind=## YOUR CODE HERE,  # Type of PDP\n",
    "    ax=## YOUR CODE HERE,\n",
    "    random_state=## YOUR CODE HERE\n",
    ")\n",
    "title_string = \"Chinstrap Penguins - Bill Length ICE Plot\"\n",
    "## YOUR CODE HERE\n",
    "plt.show()"
   ]
  },
  {
   "cell_type": "code",
   "execution_count": null,
   "id": "c0756834",
   "metadata": {},
   "outputs": [],
   "source": [
    "fig, ax = plt.subplots(figsize=(10, 6))\n",
    "display = PartialDependenceDisplay.from_estimator(\n",
    "    estimator=## YOUR CODE HERE,  # Your fitted model\n",
    "    X=## YOUR CODE HERE,  # Your feature matrix\n",
    "    features=## YOUR CODE HERE,  # List of features to plot\n",
    "    target=2,\n",
    "    kind=## YOUR CODE HERE,  # Type of PDP\n",
    "    ax=## YOUR CODE HERE,\n",
    "    random_state=## YOUR CODE HERE\n",
    ")\n",
    "title_string = \"Gentoo Penguins - Bill Length ICE Plot\"\n",
    "## YOUR CODE HERE\n",
    "plt.show()"
   ]
  },
  {
   "cell_type": "markdown",
   "id": "6102b164",
   "metadata": {},
   "source": [
    "Now, just for one of the classes, create an ICE plot for bill_length_mm that also shows the average of all the ICE plots - a joint PDP/ICE plot, effectively!\n",
    "\n",
    "Again, make sure you provide a title."
   ]
  },
  {
   "cell_type": "code",
   "execution_count": null,
   "id": "5aae7570",
   "metadata": {},
   "outputs": [],
   "source": [
    "fig, ax = plt.subplots(figsize=(10, 6))\n",
    "display = PartialDependenceDisplay.from_estimator(\n",
    "    estimator=## YOUR CODE HERE,  # Your fitted model\n",
    "    X=## YOUR CODE HERE,  # Your feature matrix\n",
    "    features=## YOUR CODE HERE,  # List of features to plot\n",
    "    target=## YOUR CODE HERE,\n",
    "    kind=## YOUR CODE HERE,  # Type of PDP\n",
    "    ax=## YOUR CODE HERE,\n",
    "    random_state=## YOUR CODE HERE\n",
    ")\n",
    "\n",
    "# set the title based on the class you've chosen - can you remember what 0, 1 and 2 relate to?\n",
    "plt.title(\n",
    "    ## YOUR CODE HERE\n",
    ")\n",
    "plt.show()"
   ]
  },
  {
   "cell_type": "markdown",
   "id": "67e5910e",
   "metadata": {},
   "source": [
    "## SHAP"
   ]
  },
  {
   "cell_type": "markdown",
   "id": "4886fbd9",
   "metadata": {},
   "source": [
    "We have a multiclass problem with our penguins dataset.\n",
    "\n",
    "This results in some slightly different outputs from our SHAP code to what we covered in the main exercise, which can be confusing to deal with, so for now we're just going to focus on a binary classification problem - is a penguin an Adelie, or not?\n",
    "\n",
    "Run the code below to turn this into a binary classification problem and retrain the model."
   ]
  },
  {
   "cell_type": "code",
   "execution_count": null,
   "id": "66d96cd7",
   "metadata": {},
   "outputs": [],
   "source": [
    "penguins_binary = penguins.copy()\n",
    "\n",
    "# If Adelie penguin, return 1, else return 0\n",
    "penguins_binary['target'] = np.where(penguins_binary['target'] == 0, 1, 0)\n",
    "penguins_binary['species'] = np.where(penguins_binary['species'] == \"Adelie\", \"Adelie\", \"Not Adelie\")\n",
    "\n",
    "penguins_binary.sample(20)"
   ]
  },
  {
   "cell_type": "code",
   "execution_count": null,
   "id": "d6884c12",
   "metadata": {},
   "outputs": [],
   "source": [
    "# Droping the target and species since we only need the measurements\n",
    "X = penguins_binary.drop(['target','species'], axis=1)\n",
    "\n",
    "# Define features (X) and target (y)\n",
    "X = X\n",
    "y = penguins_binary['target']\n",
    "\n",
    "# get class and features names\n",
    "class_names = penguins_binary.species.unique()\n",
    "feature_names = X.columns\n",
    "\n",
    "# Splitting into train and test\n",
    "X_train, X_test, y_train, y_test = train_test_split(X, y, test_size=0.2,\n",
    "                                                    random_state=42)\n",
    "\n",
    "# Instantiate an XGBoost model and fit it\n",
    "model = XGBClassifier(random_state=42)\n",
    "\n",
    "model.fit(X_train, y_train)"
   ]
  },
  {
   "cell_type": "markdown",
   "id": "805cf7eb",
   "metadata": {},
   "source": [
    "### Obtaining Shap Values"
   ]
  },
  {
   "cell_type": "markdown",
   "id": "9c7713fa",
   "metadata": {},
   "source": [
    "Generate a SHAP explainer for our model, using X_train as the background data."
   ]
  },
  {
   "cell_type": "code",
   "execution_count": null,
   "id": "8b02e7a9",
   "metadata": {},
   "outputs": [],
   "source": [
    "explainer = # YOUR CODE HERE"
   ]
  },
  {
   "cell_type": "markdown",
   "id": "c5024757",
   "metadata": {},
   "source": [
    "Now create the shap_values object, using X_test as the foreground data."
   ]
  },
  {
   "cell_type": "code",
   "execution_count": null,
   "id": "5adc0350",
   "metadata": {},
   "outputs": [],
   "source": [
    "shap_values = # YOUR CODE HERE\n",
    "shap_values"
   ]
  },
  {
   "cell_type": "markdown",
   "id": "b7c82951",
   "metadata": {},
   "source": [
    "It looks like it's returned our outputs just as an array instead of a SHAP explanation object. Run the code below to turn our object into a proper shap.Explanation() object, as this is what all the plotting functions will be expecting."
   ]
  },
  {
   "cell_type": "code",
   "execution_count": null,
   "id": "270de03f",
   "metadata": {},
   "outputs": [],
   "source": [
    "# Create an Explanation object\n",
    "shap_values = shap.Explanation(\n",
    "    values=shap_values,\n",
    "    base_values=explainer.expected_value,\n",
    "    data=X_test.values,\n",
    "    feature_names=X.columns\n",
    "    )"
   ]
  },
  {
   "cell_type": "markdown",
   "id": "73ea5fdc",
   "metadata": {},
   "source": [
    "Now let's see what this looks like instead."
   ]
  },
  {
   "cell_type": "code",
   "execution_count": null,
   "id": "1c06bf4b",
   "metadata": {},
   "outputs": [],
   "source": [
    "shap_values"
   ]
  },
  {
   "cell_type": "markdown",
   "id": "5f660c4a",
   "metadata": {},
   "source": [
    "You're looking for the object `shap_values` to look like the above, with `.values`, `.base_values` and `.data` present. \n",
    "\n",
    "You can always use the code in the previous cell to convert any outputs that aren't quite right."
   ]
  },
  {
   "cell_type": "markdown",
   "id": "dd80412b",
   "metadata": {},
   "source": [
    "Finally, let's grab just the numeric component (our actual shap values).\n",
    "\n",
    "Note that in this case `shap_values.values` isn't strictly necessary - we could have just pulled in the values that were returned from our explainer - but generally, the explainer returns the shap explanation object without this extra step being required, so `shap_values.values` is a more robust approach to use."
   ]
  },
  {
   "cell_type": "code",
   "execution_count": null,
   "id": "4e445efc",
   "metadata": {},
   "outputs": [],
   "source": [
    "shap_values_numeric = shap_values.values\n",
    "shap_values_numeric"
   ]
  },
  {
   "cell_type": "markdown",
   "id": "89415450",
   "metadata": {},
   "source": [
    "### Exploring the SHAP outputs"
   ]
  },
  {
   "cell_type": "markdown",
   "id": "6e9c3967",
   "metadata": {},
   "source": [
    "First, let's just get a list of our most important features according to SHAP. \n",
    "\n",
    "We're going to compare this to the MDI importances we calculated earlier."
   ]
  },
  {
   "cell_type": "code",
   "execution_count": null,
   "id": "2e43abb0",
   "metadata": {},
   "outputs": [],
   "source": [
    "# get feature importance for comparison using MDI method\n",
    "features = list(X_train)\n",
    "feature_importances = model.feature_importances_\n",
    "importances = pd.DataFrame(index=features)\n",
    "importances['importance_mdi'] = feature_importances\n",
    "importances['rank'] = importances['importance_mdi'].rank(ascending=False).values\n",
    "importances.sort_values('rank').head()\n",
    "\n",
    "importances"
   ]
  },
  {
   "cell_type": "code",
   "execution_count": null,
   "id": "b9dc16bf",
   "metadata": {},
   "outputs": [],
   "source": [
    "# Get shapley importances\n",
    "# Calculate mean Shapley value for each feature in trainign set\n",
    "importances['mean_shapley_values'] = np.mean(\n",
    "    ##YOUR CODE HERE,\n",
    "    axis=##YOUR CODE HERE\n",
    "    )\n",
    "\n",
    "# Calculate mean absolute Shapley value for each feature in trainign set\n",
    "# This will give us the average importance of each feature\n",
    "importances['mean_abs_shapley_values'] = np.mean(\n",
    "    ##YOUR CODE HERE,\n",
    "    axis=##YOUR CODE HERE\n",
    "    )\n",
    "\n",
    "importance_top = \\\n",
    "    importances.sort_values(\n",
    "        by='importance_mdi',\n",
    "        ascending=False\n",
    "        ).index\n",
    "\n",
    "shapley_top = \\\n",
    "    importances.sort_values(\n",
    "        by=##YOUR CODE HERE,\n",
    "        ascending=##YOUR CODE HERE\n",
    "        ).index\n",
    "\n",
    "# Add to DataFrame\n",
    "top_features = pd.DataFrame()\n",
    "top_features['importances_mdi'] = importance_top.values\n",
    "top_features['Shapley'] = ##YOUR CODE HERE\n",
    "\n",
    "# Display\n",
    "top_features"
   ]
  },
  {
   "cell_type": "markdown",
   "id": "2317a62e",
   "metadata": {},
   "source": [
    "#### SHAP plots"
   ]
  },
  {
   "cell_type": "markdown",
   "id": "826b8017",
   "metadata": {},
   "source": [
    "Generate a bar plot of the SHAP values."
   ]
  },
  {
   "cell_type": "code",
   "execution_count": null,
   "id": "dcf05a66",
   "metadata": {},
   "outputs": [],
   "source": [
    "##YOUR CODE HERE"
   ]
  },
  {
   "cell_type": "markdown",
   "id": "51802bde",
   "metadata": {},
   "source": [
    "Generate a beeswarm plot."
   ]
  },
  {
   "cell_type": "code",
   "execution_count": null,
   "id": "bec23bf1",
   "metadata": {},
   "outputs": [],
   "source": [
    "##YOUR CODE HERE"
   ]
  },
  {
   "cell_type": "markdown",
   "id": "c6917d8d",
   "metadata": {},
   "source": [
    "Generate a waterfall plot for 5 different examples from the dataset."
   ]
  },
  {
   "cell_type": "code",
   "execution_count": null,
   "id": "cf044d59",
   "metadata": {},
   "outputs": [],
   "source": [
    "##YOUR CODE HERE"
   ]
  },
  {
   "cell_type": "code",
   "execution_count": null,
   "id": "6bd2546d",
   "metadata": {},
   "outputs": [],
   "source": [
    "##YOUR CODE HERE"
   ]
  },
  {
   "cell_type": "code",
   "execution_count": null,
   "id": "f180f24e",
   "metadata": {},
   "outputs": [],
   "source": [
    "##YOUR CODE HERE"
   ]
  },
  {
   "cell_type": "code",
   "execution_count": null,
   "id": "fd424f0a",
   "metadata": {},
   "outputs": [],
   "source": [
    "##YOUR CODE HERE"
   ]
  },
  {
   "cell_type": "code",
   "execution_count": null,
   "id": "5a4cb21a",
   "metadata": {},
   "outputs": [],
   "source": [
    "##YOUR CODE HERE"
   ]
  },
  {
   "cell_type": "markdown",
   "id": "62d28cfe",
   "metadata": {},
   "source": [
    "#### Dependence Plots for each Class (Species)"
   ]
  },
  {
   "cell_type": "markdown",
   "id": "c1bba6bf",
   "metadata": {},
   "source": [
    "First, generate a scatter plot for the bill length."
   ]
  },
  {
   "cell_type": "code",
   "execution_count": null,
   "id": "34397d02",
   "metadata": {},
   "outputs": [],
   "source": [
    "##YOUR CODE HERE"
   ]
  },
  {
   "cell_type": "markdown",
   "id": "4053bf8f",
   "metadata": {},
   "source": [
    "Now colour this by bill depth."
   ]
  },
  {
   "cell_type": "code",
   "execution_count": null,
   "id": "f0f0263e",
   "metadata": {},
   "outputs": [],
   "source": [
    "##YOUR CODE HERE"
   ]
  },
  {
   "cell_type": "markdown",
   "id": "d9228284",
   "metadata": {},
   "source": [
    "Now colour it by the most strongly interacting feature."
   ]
  },
  {
   "cell_type": "code",
   "execution_count": null,
   "id": "97098d09",
   "metadata": {},
   "outputs": [],
   "source": [
    "##YOUR CODE HERE"
   ]
  },
  {
   "cell_type": "markdown",
   "id": "c3ba8d1e",
   "metadata": {},
   "source": [
    "# Extension"
   ]
  },
  {
   "cell_type": "markdown",
   "id": "4cd5e88f",
   "metadata": {},
   "source": [
    "Now let's iterate through and create scatter plots per column."
   ]
  },
  {
   "cell_type": "code",
   "execution_count": null,
   "id": "52af93d5",
   "metadata": {
    "scrolled": false
   },
   "outputs": [],
   "source": [
    "# dependence plots\n",
    "fig, ax = plt.subplots(\n",
    "    nrows=##YOUR CODE HERE,\n",
    "    ncols=##YOUR CODE HERE,\n",
    "    figsize=(20,10)\n",
    "    )\n",
    "ax = ax.ravel()\n",
    "\n",
    "for idx, col_name in enumerate(feature_names):\n",
    "    shap.plots.scatter(\n",
    "        ##YOUR CODE HERE,\n",
    "        show=##YOUR CODE HERE,\n",
    "        ax=##YOUR CODE HERE\n",
    "        )"
   ]
  },
  {
   "cell_type": "markdown",
   "id": "0165a8c6",
   "metadata": {},
   "source": [
    "#### Force Plots\n",
    "\n",
    "Create a force plot for the whole dataset."
   ]
  },
  {
   "cell_type": "code",
   "execution_count": null,
   "id": "b2f56799",
   "metadata": {},
   "outputs": [],
   "source": [
    "##YOUR CODE HERE"
   ]
  },
  {
   "cell_type": "markdown",
   "id": "e73875e5",
   "metadata": {},
   "source": [
    "Create a force plot for five randomly chosen pieces of data."
   ]
  },
  {
   "cell_type": "code",
   "execution_count": null,
   "id": "e9511d74",
   "metadata": {},
   "outputs": [],
   "source": [
    "##YOUR CODE HERE"
   ]
  },
  {
   "cell_type": "code",
   "execution_count": null,
   "id": "10955703",
   "metadata": {},
   "outputs": [],
   "source": [
    "##YOUR CODE HERE"
   ]
  },
  {
   "cell_type": "code",
   "execution_count": null,
   "id": "a81cceb1",
   "metadata": {},
   "outputs": [],
   "source": [
    "##YOUR CODE HERE"
   ]
  },
  {
   "cell_type": "code",
   "execution_count": null,
   "id": "9b869066",
   "metadata": {},
   "outputs": [],
   "source": [
    "##YOUR CODE HERE"
   ]
  },
  {
   "cell_type": "code",
   "execution_count": null,
   "id": "d2f47125",
   "metadata": {},
   "outputs": [],
   "source": [
    "##YOUR CODE HERE"
   ]
  }
 ],
 "metadata": {
  "kernelspec": {
   "display_name": "Python 3 (ipykernel)",
   "language": "python",
   "name": "python3"
  },
  "language_info": {
   "codemirror_mode": {
    "name": "ipython",
    "version": 3
   },
   "file_extension": ".py",
   "mimetype": "text/x-python",
   "name": "python",
   "nbconvert_exporter": "python",
   "pygments_lexer": "ipython3",
   "version": "3.11.4"
  }
 },
 "nbformat": 4,
 "nbformat_minor": 5
}
