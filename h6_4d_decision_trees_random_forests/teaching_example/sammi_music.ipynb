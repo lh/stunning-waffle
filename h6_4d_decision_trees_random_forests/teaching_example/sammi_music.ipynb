{
 "cells": [
  {
   "cell_type": "markdown",
   "metadata": {},
   "source": [
    "# Comparing gini index, information gain and entropy"
   ]
  },
  {
   "cell_type": "code",
   "execution_count": null,
   "metadata": {},
   "outputs": [],
   "source": [
    "import numpy as np\n",
    "import pandas as pd\n",
    "# Import machine learning methods\n",
    "from sklearn.tree import DecisionTreeClassifier, plot_tree\n",
    "from sklearn.model_selection import train_test_split\n",
    "\n",
    "import matplotlib.pyplot as plt\n",
    "%matplotlib inline\n",
    "\n",
    "#from sklearn.preprocessing import OneHotEncoder\n",
    "data = pd.read_csv('sammi_music.csv')\n",
    "data\n"
   ]
  },
  {
   "cell_type": "code",
   "execution_count": null,
   "metadata": {},
   "outputs": [],
   "source": [
    "one_hot = pd.get_dummies(data['Genre'])\n",
    "# Drop the column as it is now encoded\n",
    "data_processed = data.drop('Genre',axis = 1)\n",
    "# Join the encoded df\n",
    "data_processed = data_processed.join(one_hot)\n",
    "\n",
    "data_processed = data_processed.drop('Song',axis = 1)\n"
   ]
  },
  {
   "cell_type": "code",
   "execution_count": null,
   "metadata": {},
   "outputs": [],
   "source": [
    "one_hot"
   ]
  },
  {
   "cell_type": "code",
   "execution_count": null,
   "metadata": {},
   "outputs": [],
   "source": [
    "X = data_processed.drop('Does Sammi Like it?',axis=1)\n",
    "y = data_processed['Does Sammi Like it?']"
   ]
  },
  {
   "cell_type": "code",
   "execution_count": null,
   "metadata": {},
   "outputs": [],
   "source": [
    "X"
   ]
  },
  {
   "cell_type": "markdown",
   "metadata": {},
   "source": [
    "## Gini"
   ]
  },
  {
   "cell_type": "markdown",
   "metadata": {},
   "source": [
    "Gini is the default."
   ]
  },
  {
   "cell_type": "code",
   "execution_count": null,
   "metadata": {},
   "outputs": [],
   "source": [
    "model = DecisionTreeClassifier() # Create a Decision Tree Model\n",
    "model = model.fit(X,y) # Fit the model using our training data\n",
    "# Predict training and test set labels\n",
    "y_pred_train = model.predict(X)\n",
    "y_pred_test = model.predict(X)\n",
    "accuracy_train = np.mean(y_pred_train == y)\n",
    "accuracy_test = np.mean(y_pred_test == y)\n",
    "\n",
    "print (f'Accuracy of predicting training data = {accuracy_train:3f}')\n",
    "print (f'Accuracy of predicting test data = {accuracy_test:3f}')\n",
    "fig = plot_tree(model)"
   ]
  },
  {
   "cell_type": "markdown",
   "metadata": {},
   "source": [
    "# Entropy"
   ]
  },
  {
   "cell_type": "code",
   "execution_count": null,
   "metadata": {},
   "outputs": [],
   "source": [
    "model = DecisionTreeClassifier(criterion=\"entropy\") # Create a Decision Tree Model\n",
    "model = model.fit(X,y) # Fit the model using our training data\n",
    "# Predict training and test set labels\n",
    "y_pred_train = model.predict(X)\n",
    "y_pred_test = model.predict(X)\n",
    "accuracy_train = np.mean(y_pred_train == y)\n",
    "accuracy_test = np.mean(y_pred_test == y)\n",
    "\n",
    "print (f'Accuracy of predicting training data = {accuracy_train:3f}')\n",
    "print (f'Accuracy of predicting test data = {accuracy_test:3f}')\n",
    "fig = plot_tree(model)"
   ]
  },
  {
   "cell_type": "markdown",
   "metadata": {},
   "source": []
  }
 ],
 "metadata": {
  "kernelspec": {
   "display_name": ".venv",
   "language": "python",
   "name": "python3"
  },
  "language_info": {
   "codemirror_mode": {
    "name": "ipython",
    "version": 3
   },
   "file_extension": ".py",
   "mimetype": "text/x-python",
   "name": "python",
   "nbconvert_exporter": "python",
   "pygments_lexer": "ipython3",
   "version": "3.12.2"
  }
 },
 "nbformat": 4,
 "nbformat_minor": 2
}
