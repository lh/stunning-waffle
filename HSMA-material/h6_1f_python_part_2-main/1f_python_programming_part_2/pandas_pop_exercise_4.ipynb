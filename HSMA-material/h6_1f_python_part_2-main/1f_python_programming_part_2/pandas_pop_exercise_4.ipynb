{
 "cells": [
  {
   "cell_type": "markdown",
   "metadata": {},
   "source": [
    "# Pandas Exercise - Pandas Pop\n",
    "\n",
    "You should complete this exercise when prompted by the trainer as part of Session 1F : Python Programming Part 2 of the HSMA Programme.  Note - you only need to import and store the data in a DataFrame once (in the first task).  As long as that cell is run correctly, you don't need to do this again for each subsequent code cell."
   ]
  },
  {
   "cell_type": "markdown",
   "metadata": {},
   "source": [
    "**Task 1** Import Pandas with the appropriate alias, and read in the titanic_dataset.csv file into a Pandas DataFrame, setting the column PassengerId to be the index for the DataFrame.  Then display the first 10 rows of the DataFrame. (NOTE - ensure that the .csv is located in the same directory as this notebook - it is by default)"
   ]
  },
  {
   "cell_type": "code",
   "execution_count": 6,
   "metadata": {},
   "outputs": [
    {
     "name": "stdout",
     "output_type": "stream",
     "text": [
      "             Survived  Pclass  \\\n",
      "PassengerId                     \n",
      "1                   0       3   \n",
      "2                   1       1   \n",
      "3                   1       3   \n",
      "4                   1       1   \n",
      "5                   0       3   \n",
      "6                   0       3   \n",
      "7                   0       1   \n",
      "8                   0       3   \n",
      "9                   1       3   \n",
      "10                  1       2   \n",
      "\n",
      "                                                          Name     Sex   Age  \\\n",
      "PassengerId                                                                    \n",
      "1                                      Braund, Mr. Owen Harris    male  22.0   \n",
      "2            Cumings, Mrs. John Bradley (Florence Briggs Th...  female  38.0   \n",
      "3                                       Heikkinen, Miss. Laina  female  26.0   \n",
      "4                 Futrelle, Mrs. Jacques Heath (Lily May Peel)  female  35.0   \n",
      "5                                     Allen, Mr. William Henry    male  35.0   \n",
      "6                                             Moran, Mr. James    male   NaN   \n",
      "7                                      McCarthy, Mr. Timothy J    male  54.0   \n",
      "8                               Palsson, Master. Gosta Leonard    male   2.0   \n",
      "9            Johnson, Mrs. Oscar W (Elisabeth Vilhelmina Berg)  female  27.0   \n",
      "10                         Nasser, Mrs. Nicholas (Adele Achem)  female  14.0   \n",
      "\n",
      "             SibSp  Parch            Ticket     Fare Cabin Embarked  \n",
      "PassengerId                                                          \n",
      "1                1      0         A/5 21171   7.2500   NaN        S  \n",
      "2                1      0          PC 17599  71.2833   C85        C  \n",
      "3                0      0  STON/O2. 3101282   7.9250   NaN        S  \n",
      "4                1      0            113803  53.1000  C123        S  \n",
      "5                0      0            373450   8.0500   NaN        S  \n",
      "6                0      0            330877   8.4583   NaN        Q  \n",
      "7                0      0             17463  51.8625   E46        S  \n",
      "8                3      1            349909  21.0750   NaN        S  \n",
      "9                0      2            347742  11.1333   NaN        S  \n",
      "10               1      0            237736  30.0708   NaN        C  \n"
     ]
    },
    {
     "data": {
      "text/plain": [
       "<bound method NDFrame.describe of              Survived  Pclass  \\\n",
       "PassengerId                     \n",
       "1                   0       3   \n",
       "2                   1       1   \n",
       "3                   1       3   \n",
       "4                   1       1   \n",
       "5                   0       3   \n",
       "...               ...     ...   \n",
       "887                 0       2   \n",
       "888                 1       1   \n",
       "889                 0       3   \n",
       "890                 1       1   \n",
       "891                 0       3   \n",
       "\n",
       "                                                          Name     Sex   Age  \\\n",
       "PassengerId                                                                    \n",
       "1                                      Braund, Mr. Owen Harris    male  22.0   \n",
       "2            Cumings, Mrs. John Bradley (Florence Briggs Th...  female  38.0   \n",
       "3                                       Heikkinen, Miss. Laina  female  26.0   \n",
       "4                 Futrelle, Mrs. Jacques Heath (Lily May Peel)  female  35.0   \n",
       "5                                     Allen, Mr. William Henry    male  35.0   \n",
       "...                                                        ...     ...   ...   \n",
       "887                                      Montvila, Rev. Juozas    male  27.0   \n",
       "888                               Graham, Miss. Margaret Edith  female  19.0   \n",
       "889                   Johnston, Miss. Catherine Helen \"Carrie\"  female   NaN   \n",
       "890                                      Behr, Mr. Karl Howell    male  26.0   \n",
       "891                                        Dooley, Mr. Patrick    male  32.0   \n",
       "\n",
       "             SibSp  Parch            Ticket     Fare Cabin Embarked  \n",
       "PassengerId                                                          \n",
       "1                1      0         A/5 21171   7.2500   NaN        S  \n",
       "2                1      0          PC 17599  71.2833   C85        C  \n",
       "3                0      0  STON/O2. 3101282   7.9250   NaN        S  \n",
       "4                1      0            113803  53.1000  C123        S  \n",
       "5                0      0            373450   8.0500   NaN        S  \n",
       "...            ...    ...               ...      ...   ...      ...  \n",
       "887              0      0            211536  13.0000   NaN        S  \n",
       "888              0      0            112053  30.0000   B42        S  \n",
       "889              1      2        W./C. 6607  23.4500   NaN        S  \n",
       "890              0      0            111369  30.0000  C148        C  \n",
       "891              0      0            370376   7.7500   NaN        Q  \n",
       "\n",
       "[891 rows x 11 columns]>"
      ]
     },
     "execution_count": 6,
     "metadata": {},
     "output_type": "execute_result"
    }
   ],
   "source": [
    "import pandas as pd\n",
    "\n",
    "\n",
    "df = pd.read_csv(\"titanic_dataset.csv\", index_col=\"PassengerId\")\n",
    "print(df.head(10))\n",
    "\n"
   ]
  },
  {
   "cell_type": "markdown",
   "metadata": {},
   "source": [
    "**Task 2** Create a new DataFrame that contains only the PassengerID, Name and Sex fields from the main data.  Display the first 10 entries of this new DataFrame."
   ]
  },
  {
   "cell_type": "code",
   "execution_count": 7,
   "metadata": {},
   "outputs": [
    {
     "name": "stdout",
     "output_type": "stream",
     "text": [
      "                                                          Name     Sex\n",
      "PassengerId                                                           \n",
      "1                                      Braund, Mr. Owen Harris    male\n",
      "2            Cumings, Mrs. John Bradley (Florence Briggs Th...  female\n",
      "3                                       Heikkinen, Miss. Laina  female\n",
      "4                 Futrelle, Mrs. Jacques Heath (Lily May Peel)  female\n",
      "5                                     Allen, Mr. William Henry    male\n",
      "6                                             Moran, Mr. James    male\n",
      "7                                      McCarthy, Mr. Timothy J    male\n",
      "8                               Palsson, Master. Gosta Leonard    male\n",
      "9            Johnson, Mrs. Oscar W (Elisabeth Vilhelmina Berg)  female\n",
      "10                         Nasser, Mrs. Nicholas (Adele Achem)  female\n"
     ]
    }
   ],
   "source": [
    "\n",
    "id_name_gender = df[[\"Name\", \"Sex\"]]\n",
    "print(id_name_gender.head(10))"
   ]
  },
  {
   "cell_type": "markdown",
   "metadata": {},
   "source": [
    "**Task 3** Create three new DataFrames that contain all the information from the original data but only for first class, second class and third class passengers respectively.  Display the first 10 entries of second class passengers."
   ]
  },
  {
   "cell_type": "code",
   "execution_count": 11,
   "metadata": {},
   "outputs": [
    {
     "name": "stdout",
     "output_type": "stream",
     "text": [
      "             Survived  Pclass  \\\n",
      "PassengerId                     \n",
      "10                  1       2   \n",
      "16                  1       2   \n",
      "18                  1       2   \n",
      "21                  0       2   \n",
      "22                  1       2   \n",
      "34                  0       2   \n",
      "42                  0       2   \n",
      "44                  1       2   \n",
      "54                  1       2   \n",
      "57                  1       2   \n",
      "\n",
      "                                                          Name     Sex   Age  \\\n",
      "PassengerId                                                                    \n",
      "10                         Nasser, Mrs. Nicholas (Adele Achem)  female  14.0   \n",
      "16                            Hewlett, Mrs. (Mary D Kingcome)   female  55.0   \n",
      "18                                Williams, Mr. Charles Eugene    male   NaN   \n",
      "21                                        Fynney, Mr. Joseph J    male  35.0   \n",
      "22                                       Beesley, Mr. Lawrence    male  34.0   \n",
      "34                                       Wheadon, Mr. Edward H    male  66.0   \n",
      "42           Turpin, Mrs. William John Robert (Dorothy Ann ...  female  27.0   \n",
      "44                    Laroche, Miss. Simonne Marie Anne Andree  female   3.0   \n",
      "54           Faunthorpe, Mrs. Lizzie (Elizabeth Anne Wilkin...  female  29.0   \n",
      "57                                           Rugg, Miss. Emily  female  21.0   \n",
      "\n",
      "             SibSp  Parch         Ticket     Fare Cabin Embarked  \n",
      "PassengerId                                                       \n",
      "10               1      0         237736  30.0708   NaN        C  \n",
      "16               0      0         248706  16.0000   NaN        S  \n",
      "18               0      0         244373  13.0000   NaN        S  \n",
      "21               0      0         239865  26.0000   NaN        S  \n",
      "22               0      0         248698  13.0000   D56        S  \n",
      "34               0      0     C.A. 24579  10.5000   NaN        S  \n",
      "42               1      0          11668  21.0000   NaN        S  \n",
      "44               1      2  SC/Paris 2123  41.5792   NaN        C  \n",
      "54               1      0           2926  26.0000   NaN        S  \n",
      "57               0      0     C.A. 31026  10.5000   NaN        S  \n"
     ]
    }
   ],
   "source": [
    "first_class =   df.loc[(df[\"Pclass\"] == 1)]\n",
    "second_class =  df.loc[(df[\"Pclass\"] == 2)]\n",
    "third_class =   df[(df[\"Pclass\"] == 3)]\n",
    "\n",
    "print(second_class.head(10))\n"
   ]
  },
  {
   "cell_type": "markdown",
   "metadata": {},
   "source": [
    "**Task 4** Create a new DataFrame from the original data that contains all the information about female children passengers (those 16 and under).  Sort this DataFrame by age and then by passenger class, and display ALL the records."
   ]
  },
  {
   "cell_type": "code",
   "execution_count": 9,
   "metadata": {},
   "outputs": [
    {
     "name": "stdout",
     "output_type": "stream",
     "text": [
      "             Survived  Pclass                                      Name  \\\n",
      "PassengerId                                                               \n",
      "470                 1       3             Baclini, Miss. Helene Barbara   \n",
      "645                 1       3                    Baclini, Miss. Eugenie   \n",
      "173                 1       3              Johnson, Miss. Eleanor Ileen   \n",
      "382                 1       3               Nakid, Miss. Maria (\"Mary\")   \n",
      "298                 0       1              Allison, Miss. Helen Loraine   \n",
      "531                 1       2                  Quick, Miss. Phyllis May   \n",
      "120                 0       3         Andersson, Miss. Ellis Anna Maria   \n",
      "206                 0       3                Strom, Miss. Telma Matilda   \n",
      "480                 1       3                  Hirvonen, Miss. Hildur E   \n",
      "643                 0       3             Skoog, Miss. Margit Elizabeth   \n",
      "44                  1       2  Laroche, Miss. Simonne Marie Anne Andree   \n",
      "375                 0       3                Palsson, Miss. Stina Viola   \n",
      "619                 1       2               Becker, Miss. Marion Louise   \n",
      "751                 1       2                         Wells, Miss. Joan   \n",
      "11                  1       3           Sandstrom, Miss. Marguerite Rut   \n",
      "185                 1       3       Kink-Heilmann, Miss. Luise Gretchen   \n",
      "692                 1       3                        Karun, Miss. Manca   \n",
      "59                  1       2              West, Miss. Constance Mirium   \n",
      "234                 1       3            Asplund, Miss. Lillian Gertrud   \n",
      "449                 1       3            Baclini, Miss. Marie Catherine   \n",
      "778                 1       3             Emanuel, Miss. Virginia Ethel   \n",
      "721                 1       2         Harper, Miss. Annie Jessie \"Nina\"   \n",
      "814                 0       3        Andersson, Miss. Ebba Iris Alfrida   \n",
      "536                 1       2                    Hart, Miss. Eva Miriam   \n",
      "238                 1       2          Collyer, Miss. Marjorie \"Lottie\"   \n",
      "25                  0       3             Palsson, Miss. Torborg Danira   \n",
      "148                 0       3          Ford, Miss. Robina Maggie \"Ruby\"   \n",
      "542                 0       3      Andersson, Miss. Ingeborg Constanzia   \n",
      "635                 0       3                        Skoog, Miss. Mabel   \n",
      "853                 0       3                   Boulos, Miss. Nourelain   \n",
      "420                 0       3                 Van Impe, Miss. Catharina   \n",
      "543                 0       3         Andersson, Miss. Sigrid Elisabeth   \n",
      "447                 1       2         Mellinger, Miss. Madeleine Violet   \n",
      "781                 1       3                      Ayoub, Miss. Banoura   \n",
      "436                 1       1                 Carter, Miss. Lucile Polk   \n",
      "10                  1       2       Nasser, Mrs. Nicholas (Adele Achem)   \n",
      "15                  0       3      Vestrom, Miss. Hulda Amanda Adolfina   \n",
      "40                  1       3               Nicola-Yarred, Miss. Jamila   \n",
      "112                 0       3                      Zabour, Miss. Hileni   \n",
      "690                 1       1         Madill, Miss. Georgette Alexandra   \n",
      "23                  1       3               McGowan, Miss. Anna \"Annie\"   \n",
      "831                 1       3   Yasbeck, Mrs. Antoni (Selini Alexander)   \n",
      "876                 1       3          Najib, Miss. Adele Kiamie \"Jane\"   \n",
      "330                 1       1              Hippach, Miss. Jean Gertrude   \n",
      "505                 1       1                     Maioni, Miss. Roberta   \n",
      "854                 1       1                 Lines, Miss. Mary Conover   \n",
      "72                  0       3                Goodwin, Miss. Lillian Amy   \n",
      "157                 1       3          Gilnagh, Miss. Katherine \"Katie\"   \n",
      "209                 1       3                 Carr, Miss. Helen \"Ellen\"   \n",
      "\n",
      "                Sex    Age  SibSp  Parch         Ticket      Fare    Cabin  \\\n",
      "PassengerId                                                                  \n",
      "470          female   0.75      2      1           2666   19.2583      NaN   \n",
      "645          female   0.75      2      1           2666   19.2583      NaN   \n",
      "173          female   1.00      1      1         347742   11.1333      NaN   \n",
      "382          female   1.00      0      2           2653   15.7417      NaN   \n",
      "298          female   2.00      1      2         113781  151.5500  C22 C26   \n",
      "531          female   2.00      1      1          26360   26.0000      NaN   \n",
      "120          female   2.00      4      2         347082   31.2750      NaN   \n",
      "206          female   2.00      0      1         347054   10.4625       G6   \n",
      "480          female   2.00      0      1        3101298   12.2875      NaN   \n",
      "643          female   2.00      3      2         347088   27.9000      NaN   \n",
      "44           female   3.00      1      2  SC/Paris 2123   41.5792      NaN   \n",
      "375          female   3.00      3      1         349909   21.0750      NaN   \n",
      "619          female   4.00      2      1         230136   39.0000       F4   \n",
      "751          female   4.00      1      1          29103   23.0000      NaN   \n",
      "11           female   4.00      1      1        PP 9549   16.7000       G6   \n",
      "185          female   4.00      0      2         315153   22.0250      NaN   \n",
      "692          female   4.00      0      1         349256   13.4167      NaN   \n",
      "59           female   5.00      1      2     C.A. 34651   27.7500      NaN   \n",
      "234          female   5.00      4      2         347077   31.3875      NaN   \n",
      "449          female   5.00      2      1           2666   19.2583      NaN   \n",
      "778          female   5.00      0      0         364516   12.4750      NaN   \n",
      "721          female   6.00      0      1         248727   33.0000      NaN   \n",
      "814          female   6.00      4      2         347082   31.2750      NaN   \n",
      "536          female   7.00      0      2   F.C.C. 13529   26.2500      NaN   \n",
      "238          female   8.00      0      2     C.A. 31921   26.2500      NaN   \n",
      "25           female   8.00      3      1         349909   21.0750      NaN   \n",
      "148          female   9.00      2      2     W./C. 6608   34.3750      NaN   \n",
      "542          female   9.00      4      2         347082   31.2750      NaN   \n",
      "635          female   9.00      3      2         347088   27.9000      NaN   \n",
      "853          female   9.00      1      1           2678   15.2458      NaN   \n",
      "420          female  10.00      0      2         345773   24.1500      NaN   \n",
      "543          female  11.00      4      2         347082   31.2750      NaN   \n",
      "447          female  13.00      0      1         250644   19.5000      NaN   \n",
      "781          female  13.00      0      0           2687    7.2292      NaN   \n",
      "436          female  14.00      1      2         113760  120.0000  B96 B98   \n",
      "10           female  14.00      1      0         237736   30.0708      NaN   \n",
      "15           female  14.00      0      0         350406    7.8542      NaN   \n",
      "40           female  14.00      1      0           2651   11.2417      NaN   \n",
      "112          female  14.50      1      0           2665   14.4542      NaN   \n",
      "690          female  15.00      0      1          24160  211.3375       B5   \n",
      "23           female  15.00      0      0         330923    8.0292      NaN   \n",
      "831          female  15.00      1      0           2659   14.4542      NaN   \n",
      "876          female  15.00      0      0           2667    7.2250      NaN   \n",
      "330          female  16.00      0      1         111361   57.9792      B18   \n",
      "505          female  16.00      0      0         110152   86.5000      B79   \n",
      "854          female  16.00      0      1       PC 17592   39.4000      D28   \n",
      "72           female  16.00      5      2        CA 2144   46.9000      NaN   \n",
      "157          female  16.00      0      0          35851    7.7333      NaN   \n",
      "209          female  16.00      0      0         367231    7.7500      NaN   \n",
      "\n",
      "            Embarked  \n",
      "PassengerId           \n",
      "470                C  \n",
      "645                C  \n",
      "173                S  \n",
      "382                C  \n",
      "298                S  \n",
      "531                S  \n",
      "120                S  \n",
      "206                S  \n",
      "480                S  \n",
      "643                S  \n",
      "44                 C  \n",
      "375                S  \n",
      "619                S  \n",
      "751                S  \n",
      "11                 S  \n",
      "185                S  \n",
      "692                C  \n",
      "59                 S  \n",
      "234                S  \n",
      "449                C  \n",
      "778                S  \n",
      "721                S  \n",
      "814                S  \n",
      "536                S  \n",
      "238                S  \n",
      "25                 S  \n",
      "148                S  \n",
      "542                S  \n",
      "635                S  \n",
      "853                C  \n",
      "420                S  \n",
      "543                S  \n",
      "447                S  \n",
      "781                C  \n",
      "436                S  \n",
      "10                 C  \n",
      "15                 S  \n",
      "40                 C  \n",
      "112                C  \n",
      "690                S  \n",
      "23                 Q  \n",
      "831                C  \n",
      "876                C  \n",
      "330                C  \n",
      "505                S  \n",
      "854                S  \n",
      "72                 S  \n",
      "157                Q  \n",
      "209                Q  \n"
     ]
    }
   ],
   "source": [
    "girls = df[\n",
    "    (df[\"Age\"]<17) & \n",
    "    (df[\"Sex\"]== \"female\"\n",
    "     )].sort_values(by=[\"Age\", \"Pclass\"])\n",
    "\n",
    "print(girls)"
   ]
  },
  {
   "cell_type": "markdown",
   "metadata": {},
   "source": [
    "**Task 5** Remove the name, ticket number and cabin number columns from the original dataset (so they are no longer in the original data) and display the first 10 records."
   ]
  },
  {
   "cell_type": "code",
   "execution_count": 12,
   "metadata": {},
   "outputs": [
    {
     "name": "stdout",
     "output_type": "stream",
     "text": [
      "             Survived  Pclass     Sex   Age  SibSp  Parch     Fare Embarked\n",
      "PassengerId                                                                \n",
      "1                   0       3    male  22.0      1      0   7.2500        S\n",
      "2                   1       1  female  38.0      1      0  71.2833        C\n",
      "3                   1       3  female  26.0      0      0   7.9250        S\n",
      "4                   1       1  female  35.0      1      0  53.1000        S\n",
      "5                   0       3    male  35.0      0      0   8.0500        S\n",
      "6                   0       3    male   NaN      0      0   8.4583        Q\n",
      "7                   0       1    male  54.0      0      0  51.8625        S\n",
      "8                   0       3    male   2.0      3      1  21.0750        S\n",
      "9                   1       3  female  27.0      0      2  11.1333        S\n",
      "10                  1       2  female  14.0      1      0  30.0708        C\n"
     ]
    }
   ],
   "source": [
    "df = df.drop(columns = ['Name', 'Ticket', 'Cabin'])\n",
    "print(df.head(10))"
   ]
  },
  {
   "cell_type": "markdown",
   "metadata": {},
   "source": [
    "**Task 6** Count how many males and females are in the data."
   ]
  },
  {
   "cell_type": "code",
   "execution_count": 14,
   "metadata": {},
   "outputs": [
    {
     "name": "stdout",
     "output_type": "stream",
     "text": [
      "577\n",
      "314\n",
      "Sex\n",
      "male      577\n",
      "female    314\n",
      "Name: count, dtype: int64\n"
     ]
    },
    {
     "data": {
      "text/plain": [
       "Sex\n",
       "male      577\n",
       "female    314\n",
       "Name: count, dtype: int64"
      ]
     },
     "execution_count": 14,
     "metadata": {},
     "output_type": "execute_result"
    }
   ],
   "source": [
    "males = (df[\"Sex\"] == \"male\").sum()\n",
    "females = (df[\"Sex\"] == \"female\").sum()\n",
    "print(males)\n",
    "print(females)\n",
    "\n",
    "counts = df[\"Sex\"].value_counts()\n",
    "print(counts)\n",
    "\n",
    "df.value_counts(\"Sex\")"
   ]
  },
  {
   "cell_type": "markdown",
   "metadata": {},
   "source": [
    "**Task 7** Use a pivot table to compare the mean age, number of siblings and spouses and fare paid across the three passenger classes."
   ]
  },
  {
   "cell_type": "code",
   "execution_count": 18,
   "metadata": {},
   "outputs": [
    {
     "data": {
      "text/plain": [
       "<Axes: xlabel='Pclass'>"
      ]
     },
     "execution_count": 18,
     "metadata": {},
     "output_type": "execute_result"
    },
    {
     "data": {
      "image/png": "[encoded data removed]",
      "text/plain": [
       "<Figure size 500x500 with 1 Axes>"
      ]
     },
     "metadata": {},
     "output_type": "display_data"
    }
   ],
   "source": [
    "pivot = pd.pivot_table(df, \n",
    "                       values= [\"Age\", \"SibSp\",\"Fare\"], \n",
    "                       index = \"Pclass\", \n",
    "                       aggfunc = [\"mean\"]\n",
    "                       )\n",
    "\n",
    "pivot\n",
    "\n",
    "pivot.plot.bar(figsize=(5,5))"
   ]
  },
  {
   "cell_type": "markdown",
   "metadata": {},
   "source": [
    "**Task 8** Use a pivot table to compare the median fare paid across each of the three embarkation points."
   ]
  },
  {
   "cell_type": "code",
   "execution_count": 30,
   "metadata": {},
   "outputs": [
    {
     "data": {
      "text/html": [
       "<div>\n",
       "<style scoped>\n",
       "    .dataframe tbody tr th:only-of-type {\n",
       "        vertical-align: middle;\n",
       "    }\n",
       "\n",
       "    .dataframe tbody tr th {\n",
       "        vertical-align: top;\n",
       "    }\n",
       "\n",
       "    .dataframe thead th {\n",
       "        text-align: right;\n",
       "    }\n",
       "</style>\n",
       "<table border=\"1\" class=\"dataframe\">\n",
       "  <thead>\n",
       "    <tr style=\"text-align: right;\">\n",
       "      <th></th>\n",
       "      <th>Fare</th>\n",
       "    </tr>\n",
       "    <tr>\n",
       "      <th>Embarked</th>\n",
       "      <th></th>\n",
       "    </tr>\n",
       "  </thead>\n",
       "  <tbody>\n",
       "    <tr>\n",
       "      <th>C</th>\n",
       "      <td>29.70</td>\n",
       "    </tr>\n",
       "    <tr>\n",
       "      <th>Q</th>\n",
       "      <td>7.75</td>\n",
       "    </tr>\n",
       "    <tr>\n",
       "      <th>S</th>\n",
       "      <td>13.00</td>\n",
       "    </tr>\n",
       "  </tbody>\n",
       "</table>\n",
       "</div>"
      ],
      "text/plain": [
       "           Fare\n",
       "Embarked       \n",
       "C         29.70\n",
       "Q          7.75\n",
       "S         13.00"
      ]
     },
     "execution_count": 30,
     "metadata": {},
     "output_type": "execute_result"
    },
    {
     "data": {
      "image/png": "[encoded data removed]",
      "text/plain": [
       "<Figure size 500x500 with 1 Axes>"
      ]
     },
     "metadata": {},
     "output_type": "display_data"
    }
   ],
   "source": [
    "pivot = pd.pivot_table(df, \n",
    "                       values= [\"Fare\"], \n",
    "                       index = \"Embarked\", \n",
    "                       aggfunc = \"median\"\n",
    "                       )\n",
    "\n",
    "\n",
    "pivot.plot.area(y=\"Fare\", figsize=(5,5), stacked = False)\n",
    "pivot"
   ]
  },
  {
   "cell_type": "code",
   "execution_count": null,
   "metadata": {},
   "outputs": [],
   "source": []
  }
 ],
 "metadata": {
  "kernelspec": {
   "display_name": "base",
   "language": "python",
   "name": "python3"
  },
  "language_info": {
   "codemirror_mode": {
    "name": "ipython",
    "version": 3
   },
   "file_extension": ".py",
   "mimetype": "text/x-python",
   "name": "python",
   "nbconvert_exporter": "python",
   "pygments_lexer": "ipython3",
   "version": "3.11.7"
  }
 },
 "nbformat": 4,
 "nbformat_minor": 2
}
