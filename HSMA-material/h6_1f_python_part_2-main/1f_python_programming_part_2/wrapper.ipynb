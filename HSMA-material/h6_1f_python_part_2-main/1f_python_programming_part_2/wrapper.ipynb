{
 "cells": [
  {
   "cell_type": "code",
   "execution_count": 10,
   "metadata": {},
   "outputs": [],
   "source": [
    "import csv\n",
    "import pandas as pd\n",
    "\n",
    "name = \"Luke\"\n",
    "cake = 5\n",
    "pref = True\n",
    "try: \n",
    "    prefs = pd.read_csv(\"cakes_we_like.csv\")\n",
    "except:\n",
    "    print(\"You are the first user!\")\n",
    "    pref = False\n",
    "finally: \n",
    "    if not pref:\n",
    "        try:\n",
    "            your_pref = prefs[name]\n",
    "            print(f\"your preference is recipe {your_pref[1]}\")\n",
    "        except:    \n",
    "\n",
    "# if new user do the find out what they like bit\n",
    "\n",
    "# now write what they like back to our database\n",
    "\n",
    "            with open(\"cakes_we_like.csv\", \"a\", newline='') as f:\n",
    "                writer = csv.writer(f, delimiter=\",\")\n",
    "                writer.writerow([name, cake])\n",
    "        finally:\n",
    "            exit()\n",
    "\n",
    "\n"
   ]
  }
 ],
 "metadata": {
  "kernelspec": {
   "display_name": "base",
   "language": "python",
   "name": "python3"
  },
  "language_info": {
   "codemirror_mode": {
    "name": "ipython",
    "version": 3
   },
   "file_extension": ".py",
   "mimetype": "text/x-python",
   "name": "python",
   "nbconvert_exporter": "python",
   "pygments_lexer": "ipython3",
   "version": "3.11.7"
  }
 },
 "nbformat": 4,
 "nbformat_minor": 2
}
