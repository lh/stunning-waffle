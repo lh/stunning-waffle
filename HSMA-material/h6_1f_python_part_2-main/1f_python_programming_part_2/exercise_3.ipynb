{
 "cells": [
  {
   "cell_type": "markdown",
   "metadata": {},
   "source": [
    "# Introduction to NumPy Exercise\n",
    "\n",
    "You should complete this exercise when prompted by the trainer as part of session 1F : Python Programming Part 2 of the HSMA Programme."
   ]
  },
  {
   "cell_type": "markdown",
   "metadata": {},
   "source": [
    "**Task 1** Create two NumPy arrays - one with all the odd numbers from 1 to 999,999 and one with all the even numbers from 2 to 1,000,000.  Calculate and print the dot product of these two arrays."
   ]
  },
  {
   "cell_type": "code",
   "execution_count": 4,
   "metadata": {},
   "outputs": [
    {
     "name": "stdout",
     "output_type": "stream",
     "text": [
      " The dot product is 166666916666500000\n"
     ]
    }
   ],
   "source": [
    "import numpy as np\n",
    "evens = np.arange(2, 1000001, 2)\n",
    "odds = np.arange(1,  1000000, 2)\n",
    "\n",
    "dot_product =  np.dot(odds, evens)\n",
    "\n",
    "print(f\" The dot product is {dot_product}\")\n",
    "\n"
   ]
  },
  {
   "cell_type": "markdown",
   "metadata": {},
   "source": [
    "**Task 2** A training provider has 10 centres, each with 1000 students that have taken an assessment.  Randomly generate scores for each student in each centre, which should be represented in a NumPy array.  Each score should be between 0 and 1, representing a percentage achieved on the assessment.  Then calculate the mean score achieved by students at each centre.  Once calculated, the means should be converted into percentages (ie from values between 0 and 1 to values between 0 and 100) which you should store as a NumPy array, and then rounded to 2 decimal places, which you should overwrite in THE SAME array of percentages.  Finally, print the rounded percentage scores for each centre.\n",
    "\n",
    "HINT - there are NumPy functions that allow you to create an array consisting of random floating point numbers between 0 and 1, and to create an array of rounded numbers from a given array.  But I haven't told you what they are.  I'd suggest as a group you go hunting on the internet... You could also check the NumPy documentation here : https://numpy.org/doc/stable/index.html (though be warned, it's extensive!)"
   ]
  },
  {
   "cell_type": "code",
   "execution_count": 10,
   "metadata": {},
   "outputs": [
    {
     "name": "stdout",
     "output_type": "stream",
     "text": [
      "The centre score means are: [74.27 74.8  74.47 75.13 74.78 75.   74.25 76.28 75.07 75.  ]\n"
     ]
    }
   ],
   "source": [
    "scores = np.random.power(3, (10, 1000))\n",
    "centre_scores = np.mean(scores, axis = 1)\n",
    "# print(centre_scores)\n",
    "percent_centre_scores = centre_scores * 100\n",
    "# print(percent_centre_scores)\n",
    "percent_centre_scores = np.round(percent_centre_scores, 2)\n",
    "print(f\"The centre score means are: {percent_centre_scores}\")"
   ]
  }
 ],
 "metadata": {
  "kernelspec": {
   "display_name": "base",
   "language": "python",
   "name": "python3"
  },
  "language_info": {
   "codemirror_mode": {
    "name": "ipython",
    "version": 3
   },
   "file_extension": ".py",
   "mimetype": "text/x-python",
   "name": "python",
   "nbconvert_exporter": "python",
   "pygments_lexer": "ipython3",
   "version": "3.11.7"
  }
 },
 "nbformat": 4,
 "nbformat_minor": 2
}
