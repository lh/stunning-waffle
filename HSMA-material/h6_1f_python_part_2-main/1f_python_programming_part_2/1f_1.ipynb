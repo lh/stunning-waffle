{
 "cells": [
  {
   "cell_type": "markdown",
   "metadata": {},
   "source": [
    "# HSMA 1F - Python Programming Part 2\n",
    "## Exercise 1"
   ]
  },
  {
   "cell_type": "markdown",
   "metadata": {},
   "source": [
    "This workbook is intended to accompany Session 1F of the HSMA Training Programme - Python Programming Part 2.  You should be completing this when prompted by the trainer as Exercise 1 of the session.  You should read each task, and then try to write code to achieve what you are being asked in the code cell below each set of instructions.  Remember - check your code is working by running the code cell (CTRL + Enter whilst in the cell, or click the play button to the left of the cell)."
   ]
  },
  {
   "cell_type": "markdown",
   "metadata": {},
   "source": [
    "**Task 1** Write a function named colour_comp_checker, which takes two inputs - a name, and a favourite colour.  The function checks the compatibility between a user and the computer based on their favourite colour.  Specifically, the function :\n",
    "- Prints a message greeting the user and confirming their favourite colour.\n",
    "- Sets up a list of colours (as colour names as strings)\n",
    "- Randomly picks a colour from the list as the computer's favourite colour\n",
    "- Prints a message confirming the computer's favourite colour\n",
    "- Checks whether the user's colour and computer's colour match.  If they do, an appropriate message is printed, and a True Boolean value is returned.  Otherwise, a False Boolean value is returned.\n",
    "\n",
    "Once you have written the function, ask the user to input the necessary information to pass to the function and call the function.  Check the returned output from the function, and if it's True, print a message saying that (name of the user) and the computer lived happily ever after."
   ]
  },
  {
   "cell_type": "code",
   "execution_count": null,
   "metadata": {},
   "outputs": [],
   "source": [
    "import random\n",
    "def colour_comp_checker(name, fav_colour):\n",
    "    colours = [\n",
    "        \"black\", \n",
    "        \"brown\",\n",
    "        \"red\", \n",
    "        \"orange\", \n",
    "        \"yellow\", \n",
    "        \"green\", \n",
    "        \"blue\", \n",
    "        \"violet\", \n",
    "        \"grey\",\n",
    "        \"white\"\n",
    "    ]\n",
    "    print(f\"Hello, {name}!\")\n",
    "    user_colour = str(\n",
    "        input(\n",
    "            f\"Is your favourite colour {fav_colour}? Type yes, or the colour: \"\n",
    "            )\n",
    "            ).lower()\n",
    "    if user_colour == \"yes\":\n",
    "        user_colour = fav_colour\n",
    "\n",
    "    computer_colour = random.choice(colours)    \n",
    "    print(\n",
    "        f\"My favourite colour is {computer_colour},\", \n",
    "        f\"your favourite is {user_colour}\"\n",
    "        )\n",
    "    if computer_colour ==  user_colour:\n",
    "        print(\"Amazing, we both love the same colour!\")\n",
    "        return(True)\n",
    "    else:\n",
    "        print(\"Oh dear, we don't match\")\n",
    "        return(False)\n",
    "\n",
    "name = str(input(\n",
    "    \"What is your name?: \"))\n",
    "colour = str(input(\"What is your favourite colour? \"))\n",
    "\n",
    "happy_ever_after = colour_comp_checker(name, colour)\n",
    "\n",
    "if happy_ever_after:\n",
    "    print(f\"Congratulations {name}, you and the computer\", \n",
    "          f\"lived happily ever after\"\n",
    "          )\n"
   ]
  },
  {
   "cell_type": "markdown",
   "metadata": {},
   "source": [
    "**Task 2** Write a function that takes as its input a list of numbers, and which will return two lists - one containing all the even numbers in the input list, and one containing all the odd numbers.  Then, randomly generate a list of 1000 random integers between 1 and 100, and use this function to separate odds from evens.  Print out the two lists once the function has been called."
   ]
  },
  {
   "cell_type": "code",
   "execution_count": null,
   "metadata": {},
   "outputs": [],
   "source": [
    "import random\n",
    "import textwrap\n",
    "\n",
    "random_list = [random.randint(1,100) for _integer in range(1000)]\n",
    "\n",
    "def sorting_hat(number_list):\n",
    "    evens = [num for num in number_list if num % 2 == 0]\n",
    "    odds = [num for num in number_list if num % 2 != 0]\n",
    "    return([evens, odds])\n",
    "\n",
    "sorted_list = sorting_hat(random_list)\n",
    "\n",
    "\n",
    "print(\"The even numbers are:\")\n",
    "print(\"\\n\".join(textwrap.wrap(\", \".join(map(str, sorted_list[0])), 79)))\n",
    "print(\"The odd numbers are:\")\n",
    "print(\"\\n\".join(textwrap.wrap(\", \".join(map(str, sorted_list[1])), 79)))\n",
    "\n"
   ]
  },
  {
   "cell_type": "markdown",
   "metadata": {},
   "source": [
    "## Make a function that generates a random duration and compares it to how long it takes Dan to reference a computer game. "
   ]
  },
  {
   "cell_type": "code",
   "execution_count": 8,
   "metadata": {},
   "outputs": [
    {
     "name": "stdout",
     "output_type": "stream",
     "text": [
      "I'm guessing about 33.66493739053551 seconds\n",
      "Tell you what, enter BINGO when you spot a reference\n",
      "It took 1715680176.0453763 seconds.\n",
      "You chose 5; I chose 33.66493739053551\n",
      "The actual time was 1715680176.0453763 so 33.66493739053551 was nearest\n"
     ]
    }
   ],
   "source": [
    "import random\n",
    "import numpy as np\n",
    "import time\n",
    "\n",
    "def rando(mean, st_dev, user):\n",
    "    random_number = np.random.normal(mean, st_dev)\n",
    "    while random_number <= 0 or random_number == user:\n",
    "        random_number = np.random.normal(mean, st_dev)\n",
    "    return random_number    \n",
    "\n",
    "def closest(computer, user, actual):\n",
    "    computer_error = abs(computer - actual)\n",
    "    user_error = abs(user - actual)\n",
    "\n",
    "    if computer_error < user_error:\n",
    "        return computer\n",
    "    else: \n",
    "        return user\n",
    "\n",
    "\n",
    "user_try = int(float(input(\"How many seconds\"\n",
    "                \" will it take Dan to reference a computer game: \" )))\n",
    "\n",
    "computer_try = rando(25, 10, user_try) \n",
    "start_time = time.time()\n",
    "print(f\"I'm guessing about {computer_try} seconds\")\n",
    "\n",
    "\n",
    "print(\"Tell you what, enter BINGO when you spot a reference\")\n",
    "\n",
    "bingo = \"\"\n",
    "while bingo.lower() != \"bingo\":\n",
    "    bingo = input()\n",
    "\n",
    "# Stop the timer\n",
    "end_time = time.time()\n",
    "\n",
    "closer = closest(computer_try, user_try, end_time)\n",
    "\n",
    "print(f\"It took {end_time} seconds.\")\n",
    "print(f\"You chose {user_try}; I chose {computer_try}\")\n",
    "print(f\"The actual time was {end_time} so {closer} was nearest\")\n",
    "\n",
    "\n",
    "\n",
    "\n"
   ]
  }
 ],
 "metadata": {
  "kernelspec": {
   "display_name": "base",
   "language": "python",
   "name": "python3"
  },
  "language_info": {
   "codemirror_mode": {
    "name": "ipython",
    "version": 3
   },
   "file_extension": ".py",
   "mimetype": "text/x-python",
   "name": "python",
   "nbconvert_exporter": "python",
   "pygments_lexer": "ipython3",
   "version": "3.11.7"
  }
 },
 "nbformat": 4,
 "nbformat_minor": 2
}
