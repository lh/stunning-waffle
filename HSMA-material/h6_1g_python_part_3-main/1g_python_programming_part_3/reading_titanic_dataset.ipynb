{
 "cells": [
  {
   "cell_type": "code",
   "execution_count": 6,
   "metadata": {},
   "outputs": [
    {
     "data": {
      "image/png": "[encoded data removed]",
      "text/plain": [
       "<Figure size 640x480 with 1 Axes>"
      ]
     },
     "metadata": {},
     "output_type": "display_data"
    },
    {
     "name": "stdout",
     "output_type": "stream",
     "text": [
      "shape: (9, 13)\n",
      "┌────────────┬─────────────┬──────────┬──────────┬───┬───────────┬───────────┬───────┬──────────┐\n",
      "│ statistic  ┆ PassengerId ┆ Survived ┆ Pclass   ┆ … ┆ Ticket    ┆ Fare      ┆ Cabin ┆ Embarked │\n",
      "│ ---        ┆ ---         ┆ ---      ┆ ---      ┆   ┆ ---       ┆ ---       ┆ ---   ┆ ---      │\n",
      "│ str        ┆ f64         ┆ f64      ┆ f64      ┆   ┆ str       ┆ f64       ┆ str   ┆ str      │\n",
      "╞════════════╪═════════════╪══════════╪══════════╪═══╪═══════════╪═══════════╪═══════╪══════════╡\n",
      "│ count      ┆ 891.0       ┆ 891.0    ┆ 891.0    ┆ … ┆ 891       ┆ 891.0     ┆ 204   ┆ 889      │\n",
      "│ null_count ┆ 0.0         ┆ 0.0      ┆ 0.0      ┆ … ┆ 0         ┆ 0.0       ┆ 687   ┆ 2        │\n",
      "│ mean       ┆ 446.0       ┆ 0.383838 ┆ 2.308642 ┆ … ┆ null      ┆ 32.204208 ┆ null  ┆ null     │\n",
      "│ std        ┆ 257.353842  ┆ 0.486592 ┆ 0.836071 ┆ … ┆ null      ┆ 49.693429 ┆ null  ┆ null     │\n",
      "│ min        ┆ 1.0         ┆ 0.0      ┆ 1.0      ┆ … ┆ 110152    ┆ 0.0       ┆ A10   ┆ C        │\n",
      "│ 25%        ┆ 224.0       ┆ 0.0      ┆ 2.0      ┆ … ┆ null      ┆ 7.925     ┆ null  ┆ null     │\n",
      "│ 50%        ┆ 446.0       ┆ 0.0      ┆ 3.0      ┆ … ┆ null      ┆ 14.4542   ┆ null  ┆ null     │\n",
      "│ 75%        ┆ 669.0       ┆ 1.0      ┆ 3.0      ┆ … ┆ null      ┆ 31.0      ┆ null  ┆ null     │\n",
      "│ max        ┆ 891.0       ┆ 1.0      ┆ 3.0      ┆ … ┆ WE/P 5735 ┆ 512.3292  ┆ T     ┆ S        │\n",
      "└────────────┴─────────────┴──────────┴──────────┴───┴───────────┴───────────┴───────┴──────────┘\n",
      "shape: (3, 5)\n",
      "┌────────────┬──────────────┬─────────────┬──────────────┬─────────────┐\n",
      "│ variety    ┆ sepal.length ┆ sepal.width ┆ petal.length ┆ petal.width │\n",
      "│ ---        ┆ ---          ┆ ---         ┆ ---          ┆ ---         │\n",
      "│ str        ┆ f64          ┆ f64         ┆ f64          ┆ f64         │\n",
      "╞════════════╪══════════════╪═════════════╪══════════════╪═════════════╡\n",
      "│ Versicolor ┆ 281.9        ┆ 131.8       ┆ 202.9        ┆ 63.3        │\n",
      "│ Setosa     ┆ 116.9        ┆ 81.7        ┆ 33.2         ┆ 6.1         │\n",
      "│ Virginica  ┆ 324.5        ┆ 146.2       ┆ 273.1        ┆ 99.6        │\n",
      "└────────────┴──────────────┴─────────────┴──────────────┴─────────────┘\n",
      "naive plan: (run LazyFrame.explain(optimized=True) to see the optimized plan)\n",
      "\n",
      "AGGREGATE\n",
      "\t[col(\"sepal.length\").sum(), col(\"sepal.width\").sum(), col(\"petal.length\").sum(), col(\"petal.width\").sum()] BY [col(\"variety\")] FROM\n",
      "  FILTER [(col(\"sepal.length\")) > (5.0)] FROM\n",
      "\n",
      "      Csv SCAN iris.csv\n",
      "      PROJECT */5 COLUMNS\n",
      "shape: (9, 6)\n",
      "┌────────────┬──────────────┬─────────────┬──────────────┬─────────────┬───────────┐\n",
      "│ statistic  ┆ sepal.length ┆ sepal.width ┆ petal.length ┆ petal.width ┆ variety   │\n",
      "│ ---        ┆ ---          ┆ ---         ┆ ---          ┆ ---         ┆ ---       │\n",
      "│ str        ┆ f64          ┆ f64         ┆ f64          ┆ f64         ┆ str       │\n",
      "╞════════════╪══════════════╪═════════════╪══════════════╪═════════════╪═══════════╡\n",
      "│ count      ┆ 150.0        ┆ 150.0       ┆ 150.0        ┆ 150.0       ┆ 150       │\n",
      "│ null_count ┆ 0.0          ┆ 0.0         ┆ 0.0          ┆ 0.0         ┆ 0         │\n",
      "│ mean       ┆ 5.843333     ┆ 3.057333    ┆ 3.758        ┆ 1.199333    ┆ null      │\n",
      "│ std        ┆ 0.828066     ┆ 0.435866    ┆ 1.765298     ┆ 0.762238    ┆ null      │\n",
      "│ min        ┆ 4.3          ┆ 2.0         ┆ 1.0          ┆ 0.1         ┆ Setosa    │\n",
      "│ 25%        ┆ 5.1          ┆ 2.8         ┆ 1.6          ┆ 0.3         ┆ null      │\n",
      "│ 50%        ┆ 5.8          ┆ 3.0         ┆ 4.4          ┆ 1.3         ┆ null      │\n",
      "│ 75%        ┆ 6.4          ┆ 3.3         ┆ 5.1          ┆ 1.8         ┆ null      │\n",
      "│ max        ┆ 7.9          ┆ 4.4         ┆ 6.9          ┆ 2.5         ┆ Virginica │\n",
      "└────────────┴──────────────┴─────────────┴──────────────┴─────────────┴───────────┘\n"
     ]
    }
   ],
   "source": [
    "'''\n",
    "Generate a scatterplot of age vs fare paid for passengers in the Titanic data.  Ensure you label each axis appropriately.  You have been supplied with the Titanic data .csv again for this session.  It’s recommended you read the data into a Pandas DataFrame.\n",
    "Generate a histogram of ages for passengers in the Titanic data with 50 bins.  You’ll need to look at the MatPlotLib information on how to generate a Histogram.  You should look in the “Examples” section for (plain) histograms.  The example given will plot a histogram of random samples from a Normal Distribution, and will also have two plots in one figure.  You don’t need either of these things, so just pick out what you need from the example.  Label each axis appropriately.\n",
    "You have been supplied with a file named meds_used_per_day.csv, which contains the results from a simulation model.  Specifically, it lists the total number of medications used across a palliative nursing team per day for 28 days for 3 runs (repeats) of the simulation.  Plot a line graph with three plots (one for each run of the simulation), plotting day number (1-28) on the x-axis against total medications used on the y-axis.  Label each axis appropriately.  Each line should be a different colour and a different style to the other lines (don’t forget to consult the cheatsheets here : https://matplotlib.org/cheatsheets/).  You should also include a legend that should be located in the top right corner of the plot.\n",
    "\n",
    "If you manage to finish all this, and nobody needs any help, generate some further plots of your choosing from the Titanic data.\n",
    "'''\n",
    "\n",
    "\n",
    "\n",
    "import os\n",
    "import pandas as pd\n",
    "import matplotlib.pyplot as plt\n",
    "import numpy as np\n",
    "import polars as pl\n",
    "\n",
    "\n",
    "\n",
    "q = (\n",
    "    pl.scan_csv(\"iris.csv\")\n",
    "    .filter(pl.col(\"sepal.length\") > 5)\n",
    "    .group_by(\"variety\")\n",
    "    .agg(pl.all().sum())\n",
    ")\n",
    "\n",
    "iris_df = q.collect()\n",
    "\n",
    "r=  pl.scan_csv(\"iris.csv\")\n",
    "\n",
    "\n",
    "plt.style.use('ggplot')\n",
    "\n",
    "os.chdir(\"/home/luke/Documents/HSMA/h6_1g_python_part_3-main/1g_python_programming_part_3/\")\n",
    "\n",
    "p_df = pl.scan_csv(\"titanic_dataset.csv\").collect()\n",
    "\n",
    "\n",
    "base_df = pd.read_csv(\"titanic_dataset.csv\")\n",
    "\n",
    "df = base_df[[\"Age\", \"Fare\"]]\n",
    "\n",
    "# plot\n",
    "fig, ax = plt.subplots()\n",
    "\n",
    "ax.scatter(base_df[\"Age\"], base_df[\"Fare\"])\n",
    "\n",
    "\n",
    "plt.show()\n",
    "print(p_df.describe())\n",
    "\n",
    "print(iris_df)\n",
    "print(q)\n",
    "\n",
    "print(r.collect().describe())"
   ]
  },
  {
   "cell_type": "markdown",
   "metadata": {},
   "source": []
  },
  {
   "cell_type": "markdown",
   "metadata": {},
   "source": []
  },
  {
   "cell_type": "markdown",
   "metadata": {},
   "source": [
    "# Histogram"
   ]
  },
  {
   "cell_type": "code",
   "execution_count": null,
   "metadata": {},
   "outputs": [],
   "source": [
    "\n",
    "ages = base_df[\"Age\"]\n",
    "\n",
    "# plot:\n",
    "fig, ax = plt.subplots()\n",
    "\n",
    "ax.hist(ages, bins=50)\n",
    "\n",
    "plt.show()\n"
   ]
  },
  {
   "cell_type": "code",
   "execution_count": null,
   "metadata": {},
   "outputs": [],
   "source": [
    "\n",
    "\n",
    "df = base_df.query('Sex==\"male\"')\n",
    "\n",
    "colors = df['Survived'].map({0: 'r', 1: 'b'}) # ok for scatter\n",
    "\n",
    "df_survived = df[df['Survived'] == 1]\n",
    "df_didnt_survive = df[df['Survived'] == 0]\n",
    "\n",
    "# Create a histogram for survivors\n",
    "ax = df_survived['Age'].plot(kind='hist',\n",
    "                             bins=20,\n",
    "                             alpha=0.3,\n",
    "                             label='Survived',\n",
    "                             color='b', \n",
    "                             title=\"Males\"\n",
    "                             )\n",
    "\n",
    "# Add a histogram for non-survivors to the same axes\n",
    "df_didnt_survive['Age'].plot(kind='hist',\n",
    "                             bins=20,\n",
    "                             alpha=0.3,\n",
    "                             label='Did not survive',\n",
    "                             ax=ax,\n",
    "                             color='r'                         \n",
    "                             )\n",
    "\n",
    "plt.legend()\n",
    "plt.show()\n",
    "\n",
    "\n",
    "df = base_df.query('Sex==\"female\"')\n",
    "df_survived = df[df['Survived'] == 1]\n",
    "df_didnt_survive = df[df['Survived'] == 0]\n",
    "\n",
    "# Create a histogram for survivors\n",
    "ax = df_survived['Age'].plot(kind='hist',\n",
    "                             bins=20,\n",
    "                             alpha=0.3,\n",
    "                             label='Survived',\n",
    "                             color='b', \n",
    "                             title=\"Females\"\n",
    "                             )\n",
    "\n",
    "# Add a histogram for non-survivors to the same axes\n",
    "df_didnt_survive['Age'].plot(kind='hist',\n",
    "                             bins=20,\n",
    "                             alpha=0.3,\n",
    "                             label='Did not survive',\n",
    "                             ax=ax,\n",
    "                             color='r'                         \n",
    "                             )\n",
    "\n",
    "plt.legend()\n",
    "plt.show()"
   ]
  },
  {
   "cell_type": "markdown",
   "metadata": {},
   "source": [
    "# Medications\n",
    "\n",
    "Plot a line graph with three plots (one for each run of the simulation), plotting day number (1-28) on the x-axis against total medications used on the y-axis.  Label each axis appropriately.  Each line should be a different colour and a different style to the other lines (don’t forget to consult the cheatsheets here : https://matplotlib.org/cheatsheets/).  You should also include a legend that should be located in the top right corner of the plot.\n"
   ]
  },
  {
   "cell_type": "code",
   "execution_count": null,
   "metadata": {},
   "outputs": [],
   "source": [
    "os.chdir(\"/home/luke/Documents/HSMA/h6_1g_python_part_3-main/1g_python_programming_part_3/\")\n",
    "\n",
    "df = pd.read_csv(\"meds_used_per_day.csv\")\n",
    "\n",
    "'''\n",
    "print(df)\n",
    "print(df.head())\n",
    "print(df.tail())\n",
    "print(df.describe())\n",
    "print(df.info())\n",
    "print(df.columns)\n",
    "print(df[\"Run 1\"])\n",
    "'''\n",
    "\n",
    "y1 = df[\"Run 1\"]\n",
    "y2 = df[\"Run 2\"]\n",
    "y3 = df[\"Run 3\"]\n",
    "\n",
    "figure, axs = plt.subplots()\n",
    "axs.set_xlabel(\"Days\")\n",
    "axs.set_ylabel(\"Number of medications\")\n",
    "\n",
    "\n",
    "axs.plot(y1, color=\"g\", linestyle=\":\", label = \"Run 1\")\n",
    "axs.plot(y2, color=\"b\", linestyle=\"-.\", label = \"Run 2\")\n",
    "axs.plot(y3, color=\"r\", linestyle=\"--\", label = \"Run 3\")\n",
    "\n",
    "axs.legend(loc=\"upper right\")\n"
   ]
  },
  {
   "cell_type": "markdown",
   "metadata": {},
   "source": [
    "Violin Plot"
   ]
  },
  {
   "cell_type": "code",
   "execution_count": null,
   "metadata": {},
   "outputs": [],
   "source": [
    "\n",
    "df_survived_male = base_df.query('\"Survived\" == 1 & Sex == \"male\"')\n",
    "df_survived_female = base_df.query('Survived == 1 & Sex == \"female\"')\n",
    "df_died_female = base_df.query('Survived == 0 & Sex == \"female\"')\n",
    "df_died_male = base_df.query('Survived == 0 & Sex == \"male\"')\n",
    "\n",
    "\n",
    "colors = df['Survived'].map({0: 'r', 1: 'b'}) # ok for scatter\n",
    "\n",
    "df_survived = df[df['Survived'] == 1]\n",
    "df_didnt_survive = df[df['Survived'] == 0]\n",
    "\n",
    "\n",
    "fig, ax = plt.subplots()\n",
    "\n",
    "vp = ax.violinplot(df_died_male, \n",
    "                   showmeans=False, showmedians=False, showextrema=False)\n",
    "# styling:\n",
    "for body in vp['bodies']:\n",
    "    body.set_alpha(0.9)\n",
    "ax.set(xlim=(0, 8), xticks=np.arange(1, 8),\n",
    "       ylim=(0, 8), yticks=np.arange(1, 8))\n",
    "\n",
    "plt.show()\n"
   ]
  },
  {
   "cell_type": "markdown",
   "metadata": {},
   "source": [
    "# Plotnine"
   ]
  },
  {
   "cell_type": "code",
   "execution_count": null,
   "metadata": {},
   "outputs": [],
   "source": [
    "from plotnine import ggplot, geom_point, aes, stat_smooth, facet_wrap\n",
    "from plotnine.data import mtcars\n",
    "\n",
    "(\n",
    "    ggplot(mtcars, aes(\"wt\", \"mpg\", color=\"factor(gear)\"))\n",
    "    + geom_point()\n",
    "    + stat_smooth(method=\"lm\")\n",
    "    + facet_wrap(\"gear\")\n",
    ")"
   ]
  },
  {
   "cell_type": "code",
   "execution_count": null,
   "metadata": {},
   "outputs": [],
   "source": [
    "from plotnine import ggplot, geom_point, aes, scale_color_brewer, facet_wrap, geom_histogram\n",
    "from plotnine.data import mtcars\n",
    "\n",
    "print(base_df)\n",
    "\n",
    "(\n",
    "    ggplot(base_df, aes(\"Age\", fill=\"factor(Sex)\"))\n",
    "    + geom_histogram()\n",
    "#    + stat_smooth(method=\"lm\")\n",
    "    + facet_wrap([\"Survived\"])\n",
    "    + scale_color_brewer()\n",
    ")"
   ]
  },
  {
   "cell_type": "markdown",
   "metadata": {},
   "source": [
    "# Trying polars - problems with import pyarrow"
   ]
  },
  {
   "cell_type": "code",
   "execution_count": 11,
   "metadata": {},
   "outputs": [
    {
     "name": "stdout",
     "output_type": "stream",
     "text": [
      "shape: (1_584, 4)\n",
      "┌────────────┬──────┬───────────────────┬───────────┐\n",
      "│ first_name ┆ len  ┆ gender            ┆ last_name │\n",
      "│ ---        ┆ ---  ┆ ---               ┆ ---       │\n",
      "│ cat        ┆ u32  ┆ list[cat]         ┆ str       │\n",
      "╞════════════╪══════╪═══════════════════╪═══════════╡\n",
      "│ John       ┆ 1256 ┆ [\"M\", \"M\", … \"M\"] ┆ Walker    │\n",
      "│ William    ┆ 1022 ┆ [\"M\", \"M\", … \"M\"] ┆ Few       │\n",
      "│ James      ┆ 714  ┆ [\"M\", \"M\", … \"M\"] ┆ Armstrong │\n",
      "│ Thomas     ┆ 453  ┆ [\"M\", \"M\", … \"M\"] ┆ Tucker    │\n",
      "│ Charles    ┆ 439  ┆ [\"M\", \"M\", … \"M\"] ┆ Carroll   │\n",
      "│ …          ┆ …    ┆ …                 ┆ …         │\n",
      "│ Lane       ┆ 1    ┆ [\"M\"]             ┆ Evans     │\n",
      "│ Isidore    ┆ 1    ┆ [\"M\"]             ┆ Dollinger │\n",
      "│ Joaquin    ┆ 1    ┆ [\"M\"]             ┆ Elizalde  │\n",
      "│ Marc       ┆ 1    ┆ [\"M\"]             ┆ Marks     │\n",
      "│ Ely        ┆ 1    ┆ [\"M\"]             ┆ Moore     │\n",
      "└────────────┴──────┴───────────────────┴───────────┘\n",
      "shape: (58, 3)\n",
      "┌───────┬──────┬─────┐\n",
      "│ state ┆ anti ┆ pro │\n",
      "│ ---   ┆ ---  ┆ --- │\n",
      "│ cat   ┆ u32  ┆ u32 │\n",
      "╞═══════╪══════╪═════╡\n",
      "│ NJ    ┆ 0    ┆ 3   │\n",
      "│ CT    ┆ 0    ┆ 3   │\n",
      "│ NC    ┆ 1    ┆ 2   │\n",
      "│ PA    ┆ 1    ┆ 1   │\n",
      "│ MA    ┆ 0    ┆ 1   │\n",
      "│ …     ┆ …    ┆ …   │\n",
      "│ OL    ┆ 0    ┆ 0   │\n",
      "│ NM    ┆ 0    ┆ 0   │\n",
      "│ MD    ┆ 0    ┆ 0   │\n",
      "│ PI    ┆ 0    ┆ 0   │\n",
      "│ IL    ┆ 0    ┆ 0   │\n",
      "└───────┴──────┴─────┘\n",
      "shape: (5, 3)\n",
      "┌───────┬─────────────────────┬───────┐\n",
      "│ state ┆ party               ┆ count │\n",
      "│ ---   ┆ ---                 ┆ ---   │\n",
      "│ cat   ┆ cat                 ┆ u32   │\n",
      "╞═══════╪═════════════════════╪═══════╡\n",
      "│ VA    ┆ Anti-Administration ┆ 3     │\n",
      "│ NJ    ┆ Pro-Administration  ┆ 3     │\n",
      "│ CT    ┆ Pro-Administration  ┆ 3     │\n",
      "│ NC    ┆ Pro-Administration  ┆ 2     │\n",
      "│ SC    ┆ Pro-Administration  ┆ 1     │\n",
      "└───────┴─────────────────────┴───────┘\n"
     ]
    }
   ],
   "source": [
    "import matplotlib.pyplot as plt\n",
    "import numpy as np\n",
    "import polars as pl\n",
    "\n",
    "\n",
    "url = \"https://theunitedstates.io/congress-legislators/legislators-historical.csv\"\n",
    "\n",
    "dtypes = {\n",
    "    \"first_name\": pl.Categorical,\n",
    "    \"gender\": pl.Categorical,\n",
    "    \"type\": pl.Categorical,\n",
    "    \"state\": pl.Categorical,\n",
    "    \"party\": pl.Categorical,\n",
    "}\n",
    "\n",
    "dataset = pl.read_csv(url, dtypes=dtypes).with_columns(\n",
    "    pl.col(\"birthday\").str.to_date(strict=False)\n",
    ")\n",
    "\n",
    "\n",
    "q = (\n",
    "    dataset.lazy()\n",
    "    .group_by(\"first_name\")\n",
    "    .agg(\n",
    "        pl.len(),\n",
    "        pl.col(\"gender\"),\n",
    "        pl.first(\"last_name\"),\n",
    "    )\n",
    "    .sort(\"len\", descending=True)\n",
    "#    .limit(5)\n",
    ")\n",
    "\n",
    "df = q.collect()\n",
    "print(df)\n",
    "\n",
    "q = (\n",
    "    dataset.lazy()\n",
    "    .group_by(\"state\")\n",
    "    .agg(\n",
    "        (pl.col(\"party\") == \"Anti-Administration\").sum().alias(\"anti\"),\n",
    "        (pl.col(\"party\") == \"Pro-Administration\").sum().alias(\"pro\"),\n",
    "    )\n",
    "    .sort(\"pro\", descending=True)\n",
    "#    .limit(5)\n",
    ")\n",
    "\n",
    "df = q.collect()\n",
    "print(df)\n",
    "\n",
    "q = (\n",
    "    dataset.lazy()\n",
    "    .group_by(\"state\", \"party\")\n",
    "    .agg(pl.count(\"party\").alias(\"count\"))\n",
    "    .filter(\n",
    "        (pl.col(\"party\") == \"Anti-Administration\")\n",
    "        | (pl.col(\"party\") == \"Pro-Administration\")\n",
    "    )\n",
    "    .sort(\"count\", descending=True)\n",
    "    .limit(5)\n",
    ")\n",
    "\n",
    "df = q.collect()\n",
    "print(df)"
   ]
  },
  {
   "cell_type": "code",
   "execution_count": 5,
   "metadata": {},
   "outputs": [],
   "source": [
    "\n",
    "\n",
    "dataset.describe()\n",
    "dataset.head()\n",
    "ds = dataset.to_pandas()\n",
    "\n"
   ]
  },
  {
   "cell_type": "code",
   "execution_count": 12,
   "metadata": {},
   "outputs": [
    {
     "name": "stdout",
     "output_type": "stream",
     "text": [
      "shape: (5, 5)\n",
      "┌───────┬────────────────┬────────────────┬────────┬──────────┐\n",
      "│ state ┆ avg M birthday ┆ avg F birthday ┆ # male ┆ # female │\n",
      "│ ---   ┆ ---            ┆ ---            ┆ ---    ┆ ---      │\n",
      "│ cat   ┆ f64            ┆ f64            ┆ u32    ┆ u32      │\n",
      "╞═══════╪════════════════╪════════════════╪════════╪══════════╡\n",
      "│ DE    ┆ 184.593407     ┆ null           ┆ 97     ┆ 0        │\n",
      "│ VA    ┆ 194.542781     ┆ 68.2           ┆ 430    ┆ 5        │\n",
      "│ UT    ┆ 127.730769     ┆ 82.0           ┆ 52     ┆ 4        │\n",
      "│ KS    ┆ 151.397059     ┆ 88.714286      ┆ 136    ┆ 7        │\n",
      "│ OH    ┆ 174.672414     ┆ 82.444444      ┆ 673    ┆ 9        │\n",
      "└───────┴────────────────┴────────────────┴────────┴──────────┘\n"
     ]
    }
   ],
   "source": [
    "from datetime import date\n",
    "\n",
    "\n",
    "def compute_age():\n",
    "    return date.today().year - pl.col(\"birthday\").dt.year()\n",
    "\n",
    "\n",
    "def avg_birthday(gender: str) -> pl.Expr:\n",
    "    return (\n",
    "        compute_age()\n",
    "        .filter(pl.col(\"gender\") == gender)\n",
    "        .mean()\n",
    "        .alias(f\"avg {gender} birthday\")\n",
    "    )\n",
    "\n",
    "\n",
    "q = (\n",
    "    dataset.lazy()\n",
    "    .group_by(\"state\")\n",
    "    .agg(\n",
    "        avg_birthday(\"M\"),\n",
    "        avg_birthday(\"F\"),\n",
    "        (pl.col(\"gender\") == \"M\").sum().alias(\"# male\"),\n",
    "        (pl.col(\"gender\") == \"F\").sum().alias(\"# female\"),\n",
    "    )\n",
    "    .limit(5)\n",
    ")\n",
    "\n",
    "df = q.collect()\n",
    "print(df)\n",
    "\n",
    "\n",
    "def get_person() -> pl.Expr:\n",
    "    return pl.col(\"first_name\") + pl.lit(\" \") + pl.col(\"last_name\")\n",
    "\n",
    "\n",
    "q = (\n",
    "    dataset.lazy()\n",
    "    .sort(\"birthday\", descending=True)\n",
    "    .group_by(\"state\")\n",
    "    .agg(\n",
    "        get_person().first().alias(\"youngest\"),\n",
    "        get_person().last().alias(\"oldest\"),\n",
    "    )\n",
    "    .limit(5)\n",
    ")\n",
    "\n",
    "df = q.collect()\n",
    "print(df)"
   ]
  },
  {
   "cell_type": "markdown",
   "metadata": {},
   "source": [
    "# Polars window functions"
   ]
  },
  {
   "cell_type": "code",
   "execution_count": 13,
   "metadata": {},
   "outputs": [
    {
     "name": "stdout",
     "output_type": "stream",
     "text": [
      "shape: (5, 13)\n",
      "┌─────┬───────────────────────┬────────┬────────┬───┬─────────┬───────┬────────────┬───────────┐\n",
      "│ #   ┆ Name                  ┆ Type 1 ┆ Type 2 ┆ … ┆ Sp. Def ┆ Speed ┆ Generation ┆ Legendary │\n",
      "│ --- ┆ ---                   ┆ ---    ┆ ---    ┆   ┆ ---     ┆ ---   ┆ ---        ┆ ---       │\n",
      "│ i64 ┆ str                   ┆ str    ┆ str    ┆   ┆ i64     ┆ i64   ┆ i64        ┆ bool      │\n",
      "╞═════╪═══════════════════════╪════════╪════════╪═══╪═════════╪═══════╪════════════╪═══════════╡\n",
      "│ 1   ┆ Bulbasaur             ┆ Grass  ┆ Poison ┆ … ┆ 65      ┆ 45    ┆ 1          ┆ false     │\n",
      "│ 2   ┆ Ivysaur               ┆ Grass  ┆ Poison ┆ … ┆ 80      ┆ 60    ┆ 1          ┆ false     │\n",
      "│ 3   ┆ Venusaur              ┆ Grass  ┆ Poison ┆ … ┆ 100     ┆ 80    ┆ 1          ┆ false     │\n",
      "│ 3   ┆ VenusaurMega Venusaur ┆ Grass  ┆ Poison ┆ … ┆ 120     ┆ 80    ┆ 1          ┆ false     │\n",
      "│ 4   ┆ Charmander            ┆ Fire   ┆ null   ┆ … ┆ 50      ┆ 65    ┆ 1          ┆ false     │\n",
      "└─────┴───────────────────────┴────────┴────────┴───┴─────────┴───────┴────────────┴───────────┘\n"
     ]
    }
   ],
   "source": [
    "import polars as pl\n",
    "\n",
    "# then let's load some csv data with information about pokemon\n",
    "df = pl.read_csv(\n",
    "    \"https://gist.githubusercontent.com/ritchie46/cac6b337ea52281aa23c049250a4ff03/raw/89a957ff3919d90e6ef2d34235e6bf22304f3366/pokemon.csv\"\n",
    ")\n",
    "print(df.head())"
   ]
  },
  {
   "cell_type": "markdown",
   "metadata": {},
   "source": [
    "## .over syntax     "
   ]
  },
  {
   "cell_type": "code",
   "execution_count": 18,
   "metadata": {},
   "outputs": [
    {
     "name": "stdout",
     "output_type": "stream",
     "text": [
      "shape: (163, 7)\n",
      "┌────────────┬──────────┬────────┬────────────┬───────────────────┬───────────────────┬────────────┐\n",
      "│ Name       ┆ Type 1   ┆ Type 2 ┆ Generation ┆ avg_attack_by_typ ┆ avg_defense_by_ty ┆ avg_attack │\n",
      "│ ---        ┆ ---      ┆ ---    ┆ ---        ┆ e                 ┆ pe_combinatio…    ┆ ---        │\n",
      "│ str        ┆ str      ┆ str    ┆ i64        ┆ ---               ┆ ---               ┆ f64        │\n",
      "│            ┆          ┆        ┆            ┆ f64               ┆ f64               ┆            │\n",
      "╞════════════╪══════════╪════════╪════════════╪═══════════════════╪═══════════════════╪════════════╡\n",
      "│ Machop     ┆ Fighting ┆ null   ┆ 1          ┆ 102.857143        ┆ 61.0              ┆ 75.349693  │\n",
      "│ Machamp    ┆ Fighting ┆ null   ┆ 1          ┆ 102.857143        ┆ 61.0              ┆ 75.349693  │\n",
      "│ Machoke    ┆ Fighting ┆ null   ┆ 1          ┆ 102.857143        ┆ 61.0              ┆ 75.349693  │\n",
      "│ Primeape   ┆ Fighting ┆ null   ┆ 1          ┆ 102.857143        ┆ 61.0              ┆ 75.349693  │\n",
      "│ Mankey     ┆ Fighting ┆ null   ┆ 1          ┆ 102.857143        ┆ 61.0              ┆ 75.349693  │\n",
      "│ …          ┆ …        ┆ …      ┆ …          ┆ …                 ┆ …                 ┆ …          │\n",
      "│ Mewtwo     ┆ Psychic  ┆ null   ┆ 1          ┆ 53.875            ┆ 51.428571         ┆ 75.349693  │\n",
      "│ Haunter    ┆ Ghost    ┆ Poison ┆ 1          ┆ 53.75             ┆ 53.75             ┆ 75.349693  │\n",
      "│ GengarMega ┆ Ghost    ┆ Poison ┆ 1          ┆ 53.75             ┆ 53.75             ┆ 75.349693  │\n",
      "│ Gengar     ┆          ┆        ┆            ┆                   ┆                   ┆            │\n",
      "│ Gastly     ┆ Ghost    ┆ Poison ┆ 1          ┆ 53.75             ┆ 53.75             ┆ 75.349693  │\n",
      "│ Gengar     ┆ Ghost    ┆ Poison ┆ 1          ┆ 53.75             ┆ 53.75             ┆ 75.349693  │\n",
      "└────────────┴──────────┴────────┴────────────┴───────────────────┴───────────────────┴────────────┘\n"
     ]
    }
   ],
   "source": [
    "out = df.select(\n",
    "    \"Name\",\n",
    "    \"Type 1\",\n",
    "    \"Type 2\",\n",
    "    \"Generation\",\n",
    "    pl.col(\"Attack\").mean().over(\"Type 1\").alias(\"avg_attack_by_type\"),\n",
    "    pl.col(\"Defense\")\n",
    "    .mean()\n",
    "    .over([\"Type 1\", \"Type 2\"])\n",
    "    .alias(\"avg_defense_by_type_combination\"),\n",
    "    pl.col(\"Attack\").mean().alias(\"avg_attack\"),\n",
    ").sort([\"avg_attack_by_type\", \"Generation\"], descending=True)\n",
    "print(out)"
   ]
  },
  {
   "cell_type": "markdown",
   "metadata": {},
   "source": [
    "## polars: folds\n",
    "\n",
    "powerful iterators over a df or part of a df. "
   ]
  },
  {
   "cell_type": "markdown",
   "metadata": {},
   "source": []
  },
  {
   "cell_type": "code",
   "execution_count": 35,
   "metadata": {},
   "outputs": [
    {
     "data": {
      "text/html": [
       "<div><style>\n",
       ".dataframe > thead > tr,\n",
       ".dataframe > tbody > tr {\n",
       "  text-align: right;\n",
       "  white-space: pre-wrap;\n",
       "}\n",
       "</style>\n",
       "<small>shape: (3,)</small><table border=\"1\" class=\"dataframe\"><thead><tr><th>a</th></tr><tr><td>f64</td></tr></thead><tbody><tr><td>2.0</td></tr><tr><td>2.0</td></tr><tr><td>3.0</td></tr></tbody></table></div>"
      ],
      "text/plain": [
       "shape: (3,)\n",
       "Series: 'a' [f64]\n",
       "[\n",
       "\t2.0\n",
       "\t2.0\n",
       "\t3.0\n",
       "]"
      ]
     },
     "execution_count": 35,
     "metadata": {},
     "output_type": "execute_result"
    }
   ],
   "source": [
    "\n",
    "df = pl.DataFrame({\"a\": [2, 1, 3], \"b\": [1, 2, 3], \"c\": [1.0, 2.0, 3.0]})\n",
    "\n",
    "df.fold(lambda x, y: x.zip_with(y < x, y))\n",
    " \n",
    "\n",
    " \n"
   ]
  },
  {
   "cell_type": "markdown",
   "metadata": {},
   "source": [
    "## .zip_with\n",
    "this is tricky!\n",
    "\n",
    "The lambda takes x, y which will iterate over the columns,\n",
    " ```zip_with``` is a method that will take two values and replace with one:\n",
    " the one chosen is self (ie x) if the conditional is True and the alternative\n",
    " if the condition if False. \n",
    " "
   ]
  },
  {
   "cell_type": "code",
   "execution_count": 37,
   "metadata": {},
   "outputs": [
    {
     "name": "stdout",
     "output_type": "stream",
     "text": [
      "shape: (3, 1)\n",
      "┌─────┐\n",
      "│ sum │\n",
      "│ --- │\n",
      "│ i64 │\n",
      "╞═════╡\n",
      "│ 11  │\n",
      "│ 22  │\n",
      "│ 33  │\n",
      "└─────┘\n"
     ]
    }
   ],
   "source": [
    "df = pl.DataFrame( { \"a\": [1, 2, 3], \"b\": [10, 20, 30], } )\n",
    "\n",
    "out = df.select( pl.fold(acc=pl.lit(0), \n",
    "                         function=lambda acc, x: acc + x, \n",
    "                         exprs=pl.all())\n",
    "                         .alias( \"sum\" ), ) \n",
    "print(out)"
   ]
  },
  {
   "cell_type": "markdown",
   "metadata": {},
   "source": []
  },
  {
   "cell_type": "markdown",
   "metadata": {},
   "source": [
    "### Explanation\n",
    "\n",
    "This code creates a DataFrame using the Polars library in Python and then applies a fold operation to it to compute the sum of all elements in the DataFrame.\n",
    "\n",
    "Here's a step-by-step explanation:\n",
    "\n",
    "1. `pl.DataFrame({\"a\": [1, 2, 3], \"b\": [10, 20, 30]})` creates a DataFrame with two columns: 'a' and 'b'. The values in each column are given by the lists `[1, 2, 3]` and `[10, 20, 30]`, respectively.\n",
    "\n",
    "2. `df.select(pl.fold(acc=pl.lit(0), function=lambda acc, x: acc + x, exprs=pl.all()).alias(\"sum\"))` applies a fold operation to the DataFrame. The fold operation takes an accumulator (initial value), a binary function (a function that takes two arguments), and a list of expressions (columns in this case), and applies the function to the accumulator and each element of the columns in a cumulative way.\n",
    "\n",
    "3. The accumulator is `pl.lit(0)`, which is a literal value of 0. This is the initial value for the fold operation.\n",
    "\n",
    "4. The binary function is `lambda acc, x: acc + x`. This function takes the accumulator `acc` and a Series `x` and returns a new accumulator. The new accumulator is the sum of the old accumulator and the Series `x`.\n",
    "\n",
    "5. The expressions are `pl.all()`, which is a list of all columns in the DataFrame. The fold operation will be applied to each column in turn.\n",
    "\n",
    "6. The `alias(\"sum\")` method renames the result of the fold operation to 'sum'.\n",
    "\n",
    "7. The `select` method selects the result of the fold operation as a new DataFrame.\n",
    "\n",
    "8. `print(out)` prints the resulting DataFrame.\n",
    "\n",
    "So, the overall effect of this code is to create a DataFrame that contains the sum of all elements in the original DataFrame. The sum is computed column by column, and the results are added up. The final result is a DataFrame with a single row and a single column named 'sum'."
   ]
  },
  {
   "cell_type": "markdown",
   "metadata": {},
   "source": [
    "## concat_string\n",
    "More efficient than folds for string concatenation.\n"
   ]
  },
  {
   "cell_type": "code",
   "execution_count": 39,
   "metadata": {},
   "outputs": [
    {
     "name": "stdout",
     "output_type": "stream",
     "text": [
      "shape: (3, 1)\n",
      "┌─────┐\n",
      "│ a   │\n",
      "│ --- │\n",
      "│ str │\n",
      "╞═════╡\n",
      "│ a_1 │\n",
      "│ b_2 │\n",
      "│ c_3 │\n",
      "└─────┘\n"
     ]
    }
   ],
   "source": [
    "df = pl.DataFrame(\n",
    "    {\n",
    "        \"a\": [\"a\", \"b\", \"c\"],\n",
    "        \"b\": [1, 2, 3],\n",
    "    }\n",
    ")\n",
    "\n",
    "out = df.select(pl.concat_str([\"a\", pl.lit(\"_\"),\"b\"]))\n",
    "print(out)"
   ]
  },
  {
   "cell_type": "markdown",
   "metadata": {},
   "source": [
    "## polars: lists\n"
   ]
  },
  {
   "cell_type": "code",
   "execution_count": 40,
   "metadata": {},
   "outputs": [
    {
     "name": "stdout",
     "output_type": "stream",
     "text": [
      "shape: (5, 2)\n",
      "┌───────────┬─────────────────────────────────┐\n",
      "│ station   ┆ temperatures                    │\n",
      "│ ---       ┆ ---                             │\n",
      "│ str       ┆ str                             │\n",
      "╞═══════════╪═════════════════════════════════╡\n",
      "│ Station 1 ┆ 20 5 5 E1 7 13 19 9 6 20        │\n",
      "│ Station 2 ┆ 18 8 16 11 23 E2 8 E2 E2 E2 90… │\n",
      "│ Station 3 ┆ 19 24 E9 16 6 12 10 22          │\n",
      "│ Station 4 ┆ E2 E0 15 7 8 10 E1 24 17 13 6   │\n",
      "│ Station 5 ┆ 14 8 E0 16 22 24 E1             │\n",
      "└───────────┴─────────────────────────────────┘\n"
     ]
    }
   ],
   "source": [
    "weather = pl.DataFrame(\n",
    "    {\n",
    "        \"station\": [\"Station \" + str(x) for x in range(1, 6)],\n",
    "        \"temperatures\": [\n",
    "            \"20 5 5 E1 7 13 19 9 6 20\",\n",
    "            \"18 8 16 11 23 E2 8 E2 E2 E2 90 70 40\",\n",
    "            \"19 24 E9 16 6 12 10 22\",\n",
    "            \"E2 E0 15 7 8 10 E1 24 17 13 6\",\n",
    "            \"14 8 E0 16 22 24 E1\",\n",
    "        ],\n",
    "    }\n",
    ")\n",
    "print(weather)"
   ]
  },
  {
   "cell_type": "code",
   "execution_count": 41,
   "metadata": {},
   "outputs": [
    {
     "name": "stdout",
     "output_type": "stream",
     "text": [
      "shape: (5, 2)\n",
      "┌───────────┬──────────────────────┐\n",
      "│ station   ┆ temperatures         │\n",
      "│ ---       ┆ ---                  │\n",
      "│ str       ┆ list[str]            │\n",
      "╞═══════════╪══════════════════════╡\n",
      "│ Station 1 ┆ [\"20\", \"5\", … \"20\"]  │\n",
      "│ Station 2 ┆ [\"18\", \"8\", … \"40\"]  │\n",
      "│ Station 3 ┆ [\"19\", \"24\", … \"22\"] │\n",
      "│ Station 4 ┆ [\"E2\", \"E0\", … \"6\"]  │\n",
      "│ Station 5 ┆ [\"14\", \"8\", … \"E1\"]  │\n",
      "└───────────┴──────────────────────┘\n"
     ]
    }
   ],
   "source": [
    "out = weather.with_columns(pl.col(\"temperatures\").str.split(\" \"))\n",
    "print(out)\n"
   ]
  },
  {
   "cell_type": "markdown",
   "metadata": {},
   "source": [
    "One way we could go post this would be to convert each temperature measurement into its own row:"
   ]
  },
  {
   "cell_type": "code",
   "execution_count": 43,
   "metadata": {},
   "outputs": [
    {
     "name": "stdout",
     "output_type": "stream",
     "text": [
      "shape: (49, 2)\n",
      "┌───────────┬──────────────┐\n",
      "│ station   ┆ temperatures │\n",
      "│ ---       ┆ ---          │\n",
      "│ str       ┆ str          │\n",
      "╞═══════════╪══════════════╡\n",
      "│ Station 1 ┆ 20           │\n",
      "│ Station 1 ┆ 5            │\n",
      "│ Station 1 ┆ 5            │\n",
      "│ Station 1 ┆ E1           │\n",
      "│ Station 1 ┆ 7            │\n",
      "│ …         ┆ …            │\n",
      "│ Station 5 ┆ E0           │\n",
      "│ Station 5 ┆ 16           │\n",
      "│ Station 5 ┆ 22           │\n",
      "│ Station 5 ┆ 24           │\n",
      "│ Station 5 ┆ E1           │\n",
      "└───────────┴──────────────┘\n"
     ]
    }
   ],
   "source": [
    "out = weather.with_columns(pl.col(\"temperatures\").str.split(\" \")).explode(\n",
    "    \"temperatures\"\n",
    ")\n",
    "print(out)\n"
   ]
  },
  {
   "cell_type": "markdown",
   "metadata": {},
   "source": [
    "However, in Polars, we often do not need to do this to operate on the List elements.\n",
    "Operating on List columns\n",
    "\n",
    "Polars provides several standard operations on List columns. If we want the first three measurements, we can do a head(3). The last three can be obtained via a tail(3), or alternately, via slice (negative indexing is supported). We can also identify the number of observations via lengths. Let's see them in action:\n",
    "\n"
   ]
  },
  {
   "cell_type": "code",
   "execution_count": 44,
   "metadata": {},
   "outputs": [
    {
     "name": "stdout",
     "output_type": "stream",
     "text": [
      "shape: (5, 5)\n",
      "┌───────────┬──────────────────────┬────────────────────┬────────────────────┬─────┐\n",
      "│ station   ┆ temperatures         ┆ top3               ┆ bottom_3           ┆ obs │\n",
      "│ ---       ┆ ---                  ┆ ---                ┆ ---                ┆ --- │\n",
      "│ str       ┆ list[str]            ┆ list[str]          ┆ list[str]          ┆ u32 │\n",
      "╞═══════════╪══════════════════════╪════════════════════╪════════════════════╪═════╡\n",
      "│ Station 1 ┆ [\"20\", \"5\", … \"20\"]  ┆ [\"20\", \"5\", \"5\"]   ┆ [\"9\", \"6\", \"20\"]   ┆ 10  │\n",
      "│ Station 2 ┆ [\"18\", \"8\", … \"40\"]  ┆ [\"18\", \"8\", \"16\"]  ┆ [\"90\", \"70\", \"40\"] ┆ 13  │\n",
      "│ Station 3 ┆ [\"19\", \"24\", … \"22\"] ┆ [\"19\", \"24\", \"E9\"] ┆ [\"12\", \"10\", \"22\"] ┆ 8   │\n",
      "│ Station 4 ┆ [\"E2\", \"E0\", … \"6\"]  ┆ [\"E2\", \"E0\", \"15\"] ┆ [\"17\", \"13\", \"6\"]  ┆ 11  │\n",
      "│ Station 5 ┆ [\"14\", \"8\", … \"E1\"]  ┆ [\"14\", \"8\", \"E0\"]  ┆ [\"22\", \"24\", \"E1\"] ┆ 7   │\n",
      "└───────────┴──────────────────────┴────────────────────┴────────────────────┴─────┘\n"
     ]
    }
   ],
   "source": [
    "out = weather.with_columns(pl.col(\"temperatures\").str.split(\" \")).with_columns(\n",
    "    pl.col(\"temperatures\").list.head(3).alias(\"top3\"),\n",
    "    pl.col(\"temperatures\").list.slice(-3, 3).alias(\"bottom_3\"),\n",
    "    pl.col(\"temperatures\").list.len().alias(\"obs\"),\n",
    ")\n",
    "print(out)"
   ]
  }
 ],
 "metadata": {
  "kernelspec": {
   "display_name": "base",
   "language": "python",
   "name": "python3"
  },
  "language_info": {
   "codemirror_mode": {
    "name": "ipython",
    "version": 3
   },
   "file_extension": ".py",
   "mimetype": "text/x-python",
   "name": "python",
   "nbconvert_exporter": "python",
   "pygments_lexer": "ipython3",
   "version": "3.12.3"
  }
 },
 "nbformat": 4,
 "nbformat_minor": 2
}
