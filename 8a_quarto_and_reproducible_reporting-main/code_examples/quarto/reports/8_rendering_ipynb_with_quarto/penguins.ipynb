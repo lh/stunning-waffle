{
 "cells": [
  {
   "cell_type": "markdown",
   "metadata": {},
   "source": [
    "---\n",
    "title: Quarto Penguins Demo\n",
    "execute:\n",
    "  echo: false\n",
    "format:\n",
    "  html:\n",
    "    self-contained: true\n",
    "---"
   ]
  },
  {
   "cell_type": "code",
   "execution_count": 1,
   "metadata": {},
   "outputs": [],
   "source": [
    "import pandas as pd\n",
    "from palmerpenguins import load_penguins\n",
    "import plotly.express as px\n",
    "from itables import show"
   ]
  },
  {
   "cell_type": "code",
   "execution_count": 2,
   "metadata": {},
   "outputs": [],
   "source": [
    "penguins_df = load_penguins()"
   ]
  },
  {
   "cell_type": "markdown",
   "metadata": {},
   "source": [
    "# Morphology of Penguins of the Antarctic\n",
    "\n",
    "![](lter_penguins.png)\n",
    "\n",
    "Introducing a groundbreaking new dataset that promises to revolutionize our understanding of Antarctic penguin species: the Palmer Archipelago Penguin Morphology Dataset. For the first time, researchers have compiled comprehensive measurements of Adelie, Chinstrap, and Gentoo penguins, offering unprecedented insights into these charismatic birds of the Southern Ocean.\n",
    "\n",
    "This novel collection, gathered over three years of meticulous fieldwork from 2007 to 2009, presents a treasure trove of information on penguin physical characteristics. Led by the esteemed Dr. Kristen Gorman and supported by the Palmer Station Long Term Ecological Research Program, this dataset unveils precise measurements of bill dimensions, flipper lengths, and body masses across multiple islands in the Palmer Archipelago.\n",
    "\n",
    "The full details of the penguin dataset can be found [here](https://allisonhorst.github.io/palmerpenguins/)."
   ]
  },
  {
   "cell_type": "code",
   "execution_count": 3,
   "metadata": {},
   "outputs": [
    {
     "data": {
      "text/html": [
       "<table id=\"itables_deba80f1_6268_4941_9c6e_08090a3a2b87\" class=\"display nowrap\" data-quarto-disable-processing=\"true\" style=\"table-layout:auto;width:auto;margin:auto;caption-side:bottom\">\n",
       "<thead>\n",
       "    <tr style=\"text-align: right;\">\n",
       "      \n",
       "      <th>species</th>\n",
       "      <th>island</th>\n",
       "      <th>bill_length_mm</th>\n",
       "      <th>bill_depth_mm</th>\n",
       "      <th>flipper_length_mm</th>\n",
       "      <th>body_mass_g</th>\n",
       "      <th>sex</th>\n",
       "      <th>year</th>\n",
       "    </tr>\n",
       "  </thead><tbody><tr>\n",
       "<td style=\"vertical-align:middle; text-align:left\">\n",
       "<div style=\"float:left; margin-right: 10px;\">\n",
       "<a href=https://mwouts.github.io/itables/><svg class=\"main-svg\" xmlns=\"http://www.w3.org/2000/svg\" xmlns:xlink=\"http://www.w3.org/1999/xlink\"\n",
       "width=\"64\" viewBox=\"0 0 500 400\" style=\"font-family: 'Droid Sans', sans-serif;\">\n",
       "    <g style=\"fill:#d9d7fc\">\n",
       "        <path d=\"M100,400H500V357H100Z\" />\n",
       "        <path d=\"M100,300H400V257H100Z\" />\n",
       "        <path d=\"M0,200H400V157H0Z\" />\n",
       "        <path d=\"M100,100H500V57H100Z\" />\n",
       "        <path d=\"M100,350H500V307H100Z\" />\n",
       "        <path d=\"M100,250H400V207H100Z\" />\n",
       "        <path d=\"M0,150H400V107H0Z\" />\n",
       "        <path d=\"M100,50H500V7H100Z\" />\n",
       "    </g>\n",
       "    <g style=\"fill:#1a1366;stroke:#1a1366;\">\n",
       "   <rect x=\"100\" y=\"7\" width=\"400\" height=\"43\">\n",
       "    <animate\n",
       "      attributeName=\"width\"\n",
       "      values=\"0;400;0\"\n",
       "      dur=\"5s\"\n",
       "      repeatCount=\"indefinite\" />\n",
       "      <animate\n",
       "      attributeName=\"x\"\n",
       "      values=\"100;100;500\"\n",
       "      dur=\"5s\"\n",
       "      repeatCount=\"indefinite\" />\n",
       "  </rect>\n",
       "        <rect x=\"0\" y=\"107\" width=\"400\" height=\"43\">\n",
       "    <animate\n",
       "      attributeName=\"width\"\n",
       "      values=\"0;400;0\"\n",
       "      dur=\"3.5s\"\n",
       "      repeatCount=\"indefinite\" />\n",
       "    <animate\n",
       "      attributeName=\"x\"\n",
       "      values=\"0;0;400\"\n",
       "      dur=\"3.5s\"\n",
       "      repeatCount=\"indefinite\" />\n",
       "  </rect>\n",
       "        <rect x=\"100\" y=\"207\" width=\"300\" height=\"43\">\n",
       "    <animate\n",
       "      attributeName=\"width\"\n",
       "      values=\"0;300;0\"\n",
       "      dur=\"3s\"\n",
       "      repeatCount=\"indefinite\" />\n",
       "    <animate\n",
       "      attributeName=\"x\"\n",
       "      values=\"100;100;400\"\n",
       "      dur=\"3s\"\n",
       "      repeatCount=\"indefinite\" />\n",
       "  </rect>\n",
       "        <rect x=\"100\" y=\"307\" width=\"400\" height=\"43\">\n",
       "    <animate\n",
       "      attributeName=\"width\"\n",
       "      values=\"0;400;0\"\n",
       "      dur=\"4s\"\n",
       "      repeatCount=\"indefinite\" />\n",
       "      <animate\n",
       "      attributeName=\"x\"\n",
       "      values=\"100;100;500\"\n",
       "      dur=\"4s\"\n",
       "      repeatCount=\"indefinite\" />\n",
       "  </rect>\n",
       "        <g style=\"fill:transparent;stroke-width:8; stroke-linejoin:round\" rx=\"5\">\n",
       "            <g transform=\"translate(45 50) rotate(-45)\">\n",
       "                <circle r=\"33\" cx=\"0\" cy=\"0\" />\n",
       "                <rect x=\"-8\" y=\"32\" width=\"16\" height=\"30\" />\n",
       "            </g>\n",
       "\n",
       "            <g transform=\"translate(450 152)\">\n",
       "                <polyline points=\"-15,-20 -35,-20 -35,40 25,40 25,20\" />\n",
       "                <rect x=\"-15\" y=\"-40\" width=\"60\" height=\"60\" />\n",
       "            </g>\n",
       "\n",
       "            <g transform=\"translate(50 352)\">\n",
       "                <polygon points=\"-35,-5 0,-40 35,-5\" />\n",
       "                <polygon points=\"-35,10 0,45 35,10\" />\n",
       "            </g>\n",
       "\n",
       "            <g transform=\"translate(75 250)\">\n",
       "                <polyline points=\"-30,30 -60,0 -30,-30\" />\n",
       "                <polyline points=\"0,30 -30,0 0,-30\" />\n",
       "            </g>\n",
       "\n",
       "            <g transform=\"translate(425 250) rotate(180)\">\n",
       "                <polyline points=\"-30,30 -60,0 -30,-30\" />\n",
       "                <polyline points=\"0,30 -30,0 0,-30\" />\n",
       "            </g>\n",
       "        </g>\n",
       "    </g>\n",
       "</svg>\n",
       "</a>\n",
       "</div>\n",
       "<div>\n",
       "Loading ITables v2.2.1 from the internet...\n",
       "(need <a href=https://mwouts.github.io/itables/troubleshooting.html>help</a>?)</td>\n",
       "</div>\n",
       "</tr></tbody>\n",
       "\n",
       "</table>\n",
       "<link href=\"https://www.unpkg.com/dt_for_itables@2.0.13/dt_bundle.css\" rel=\"stylesheet\">\n",
       "<script type=\"module\">\n",
       "    import {DataTable, jQuery as $} from 'https://www.unpkg.com/dt_for_itables@2.0.13/dt_bundle.js';\n",
       "\n",
       "    document.querySelectorAll(\"#itables_deba80f1_6268_4941_9c6e_08090a3a2b87:not(.dataTable)\").forEach(table => {\n",
       "        // Define the table data\n",
       "        const data = [[\"Adelie\", \"Torgersen\", 39.1, 18.7, 181.0, 3750.0, \"male\", 2007], [\"Adelie\", \"Torgersen\", 39.5, 17.4, 186.0, 3800.0, \"female\", 2007], [\"Adelie\", \"Torgersen\", 40.3, 18.0, 195.0, 3250.0, \"female\", 2007], [\"Adelie\", \"Torgersen\", NaN, NaN, NaN, NaN, \"NaN\", 2007], [\"Adelie\", \"Torgersen\", 36.7, 19.3, 193.0, 3450.0, \"female\", 2007], [\"Adelie\", \"Torgersen\", 39.3, 20.6, 190.0, 3650.0, \"male\", 2007], [\"Adelie\", \"Torgersen\", 38.9, 17.8, 181.0, 3625.0, \"female\", 2007], [\"Adelie\", \"Torgersen\", 39.2, 19.6, 195.0, 4675.0, \"male\", 2007], [\"Adelie\", \"Torgersen\", 34.1, 18.1, 193.0, 3475.0, \"NaN\", 2007], [\"Adelie\", \"Torgersen\", 42.0, 20.2, 190.0, 4250.0, \"NaN\", 2007], [\"Adelie\", \"Torgersen\", 37.8, 17.1, 186.0, 3300.0, \"NaN\", 2007], [\"Adelie\", \"Torgersen\", 37.8, 17.3, 180.0, 3700.0, \"NaN\", 2007], [\"Adelie\", \"Torgersen\", 41.1, 17.6, 182.0, 3200.0, \"female\", 2007], [\"Adelie\", \"Torgersen\", 38.6, 21.2, 191.0, 3800.0, \"male\", 2007], [\"Adelie\", \"Torgersen\", 34.6, 21.1, 198.0, 4400.0, \"male\", 2007], [\"Adelie\", \"Torgersen\", 36.6, 17.8, 185.0, 3700.0, \"female\", 2007], [\"Adelie\", \"Torgersen\", 38.7, 19.0, 195.0, 3450.0, \"female\", 2007], [\"Adelie\", \"Torgersen\", 42.5, 20.7, 197.0, 4500.0, \"male\", 2007], [\"Adelie\", \"Torgersen\", 34.4, 18.4, 184.0, 3325.0, \"female\", 2007], [\"Adelie\", \"Torgersen\", 46.0, 21.5, 194.0, 4200.0, \"male\", 2007], [\"Adelie\", \"Biscoe\", 37.8, 18.3, 174.0, 3400.0, \"female\", 2007], [\"Adelie\", \"Biscoe\", 37.7, 18.7, 180.0, 3600.0, \"male\", 2007], [\"Adelie\", \"Biscoe\", 35.9, 19.2, 189.0, 3800.0, \"female\", 2007], [\"Adelie\", \"Biscoe\", 38.2, 18.1, 185.0, 3950.0, \"male\", 2007], [\"Adelie\", \"Biscoe\", 38.8, 17.2, 180.0, 3800.0, \"male\", 2007], [\"Adelie\", \"Biscoe\", 35.3, 18.9, 187.0, 3800.0, \"female\", 2007], [\"Adelie\", \"Biscoe\", 40.6, 18.6, 183.0, 3550.0, \"male\", 2007], [\"Adelie\", \"Biscoe\", 40.5, 17.9, 187.0, 3200.0, \"female\", 2007], [\"Adelie\", \"Biscoe\", 37.9, 18.6, 172.0, 3150.0, \"female\", 2007], [\"Adelie\", \"Biscoe\", 40.5, 18.9, 180.0, 3950.0, \"male\", 2007], [\"Adelie\", \"Dream\", 39.5, 16.7, 178.0, 3250.0, \"female\", 2007], [\"Adelie\", \"Dream\", 37.2, 18.1, 178.0, 3900.0, \"male\", 2007], [\"Adelie\", \"Dream\", 39.5, 17.8, 188.0, 3300.0, \"female\", 2007], [\"Adelie\", \"Dream\", 40.9, 18.9, 184.0, 3900.0, \"male\", 2007], [\"Adelie\", \"Dream\", 36.4, 17.0, 195.0, 3325.0, \"female\", 2007], [\"Adelie\", \"Dream\", 39.2, 21.1, 196.0, 4150.0, \"male\", 2007], [\"Adelie\", \"Dream\", 38.8, 20.0, 190.0, 3950.0, \"male\", 2007], [\"Adelie\", \"Dream\", 42.2, 18.5, 180.0, 3550.0, \"female\", 2007], [\"Adelie\", \"Dream\", 37.6, 19.3, 181.0, 3300.0, \"female\", 2007], [\"Adelie\", \"Dream\", 39.8, 19.1, 184.0, 4650.0, \"male\", 2007], [\"Adelie\", \"Dream\", 36.5, 18.0, 182.0, 3150.0, \"female\", 2007], [\"Adelie\", \"Dream\", 40.8, 18.4, 195.0, 3900.0, \"male\", 2007], [\"Adelie\", \"Dream\", 36.0, 18.5, 186.0, 3100.0, \"female\", 2007], [\"Adelie\", \"Dream\", 44.1, 19.7, 196.0, 4400.0, \"male\", 2007], [\"Adelie\", \"Dream\", 37.0, 16.9, 185.0, 3000.0, \"female\", 2007], [\"Adelie\", \"Dream\", 39.6, 18.8, 190.0, 4600.0, \"male\", 2007], [\"Adelie\", \"Dream\", 41.1, 19.0, 182.0, 3425.0, \"male\", 2007], [\"Adelie\", \"Dream\", 37.5, 18.9, 179.0, 2975.0, \"NaN\", 2007], [\"Adelie\", \"Dream\", 36.0, 17.9, 190.0, 3450.0, \"female\", 2007], [\"Adelie\", \"Dream\", 42.3, 21.2, 191.0, 4150.0, \"male\", 2007], [\"Adelie\", \"Biscoe\", 39.6, 17.7, 186.0, 3500.0, \"female\", 2008], [\"Adelie\", \"Biscoe\", 40.1, 18.9, 188.0, 4300.0, \"male\", 2008], [\"Adelie\", \"Biscoe\", 35.0, 17.9, 190.0, 3450.0, \"female\", 2008], [\"Adelie\", \"Biscoe\", 42.0, 19.5, 200.0, 4050.0, \"male\", 2008], [\"Adelie\", \"Biscoe\", 34.5, 18.1, 187.0, 2900.0, \"female\", 2008], [\"Adelie\", \"Biscoe\", 41.4, 18.6, 191.0, 3700.0, \"male\", 2008], [\"Adelie\", \"Biscoe\", 39.0, 17.5, 186.0, 3550.0, \"female\", 2008], [\"Adelie\", \"Biscoe\", 40.6, 18.8, 193.0, 3800.0, \"male\", 2008], [\"Adelie\", \"Biscoe\", 36.5, 16.6, 181.0, 2850.0, \"female\", 2008], [\"Adelie\", \"Biscoe\", 37.6, 19.1, 194.0, 3750.0, \"male\", 2008], [\"Adelie\", \"Biscoe\", 35.7, 16.9, 185.0, 3150.0, \"female\", 2008], [\"Adelie\", \"Biscoe\", 41.3, 21.1, 195.0, 4400.0, \"male\", 2008], [\"Adelie\", \"Biscoe\", 37.6, 17.0, 185.0, 3600.0, \"female\", 2008], [\"Adelie\", \"Biscoe\", 41.1, 18.2, 192.0, 4050.0, \"male\", 2008], [\"Adelie\", \"Biscoe\", 36.4, 17.1, 184.0, 2850.0, \"female\", 2008], [\"Adelie\", \"Biscoe\", 41.6, 18.0, 192.0, 3950.0, \"male\", 2008], [\"Adelie\", \"Biscoe\", 35.5, 16.2, 195.0, 3350.0, \"female\", 2008], [\"Adelie\", \"Biscoe\", 41.1, 19.1, 188.0, 4100.0, \"male\", 2008], [\"Adelie\", \"Torgersen\", 35.9, 16.6, 190.0, 3050.0, \"female\", 2008], [\"Adelie\", \"Torgersen\", 41.8, 19.4, 198.0, 4450.0, \"male\", 2008], [\"Adelie\", \"Torgersen\", 33.5, 19.0, 190.0, 3600.0, \"female\", 2008], [\"Adelie\", \"Torgersen\", 39.7, 18.4, 190.0, 3900.0, \"male\", 2008], [\"Adelie\", \"Torgersen\", 39.6, 17.2, 196.0, 3550.0, \"female\", 2008], [\"Adelie\", \"Torgersen\", 45.8, 18.9, 197.0, 4150.0, \"male\", 2008], [\"Adelie\", \"Torgersen\", 35.5, 17.5, 190.0, 3700.0, \"female\", 2008], [\"Adelie\", \"Torgersen\", 42.8, 18.5, 195.0, 4250.0, \"male\", 2008], [\"Adelie\", \"Torgersen\", 40.9, 16.8, 191.0, 3700.0, \"female\", 2008], [\"Adelie\", \"Torgersen\", 37.2, 19.4, 184.0, 3900.0, \"male\", 2008], [\"Adelie\", \"Torgersen\", 36.2, 16.1, 187.0, 3550.0, \"female\", 2008], [\"Adelie\", \"Torgersen\", 42.1, 19.1, 195.0, 4000.0, \"male\", 2008], [\"Adelie\", \"Torgersen\", 34.6, 17.2, 189.0, 3200.0, \"female\", 2008], [\"Adelie\", \"Torgersen\", 42.9, 17.6, 196.0, 4700.0, \"male\", 2008], [\"Adelie\", \"Torgersen\", 36.7, 18.8, 187.0, 3800.0, \"female\", 2008], [\"Adelie\", \"Torgersen\", 35.1, 19.4, 193.0, 4200.0, \"male\", 2008], [\"Adelie\", \"Dream\", 37.3, 17.8, 191.0, 3350.0, \"female\", 2008], [\"Adelie\", \"Dream\", 41.3, 20.3, 194.0, 3550.0, \"male\", 2008], [\"Adelie\", \"Dream\", 36.3, 19.5, 190.0, 3800.0, \"male\", 2008], [\"Adelie\", \"Dream\", 36.9, 18.6, 189.0, 3500.0, \"female\", 2008], [\"Adelie\", \"Dream\", 38.3, 19.2, 189.0, 3950.0, \"male\", 2008], [\"Adelie\", \"Dream\", 38.9, 18.8, 190.0, 3600.0, \"female\", 2008], [\"Adelie\", \"Dream\", 35.7, 18.0, 202.0, 3550.0, \"female\", 2008], [\"Adelie\", \"Dream\", 41.1, 18.1, 205.0, 4300.0, \"male\", 2008], [\"Adelie\", \"Dream\", 34.0, 17.1, 185.0, 3400.0, \"female\", 2008], [\"Adelie\", \"Dream\", 39.6, 18.1, 186.0, 4450.0, \"male\", 2008], [\"Adelie\", \"Dream\", 36.2, 17.3, 187.0, 3300.0, \"female\", 2008], [\"Adelie\", \"Dream\", 40.8, 18.9, 208.0, 4300.0, \"male\", 2008], [\"Adelie\", \"Dream\", 38.1, 18.6, 190.0, 3700.0, \"female\", 2008], [\"Adelie\", \"Dream\", 40.3, 18.5, 196.0, 4350.0, \"male\", 2008], [\"Adelie\", \"Dream\", 33.1, 16.1, 178.0, 2900.0, \"female\", 2008], [\"Adelie\", \"Dream\", 43.2, 18.5, 192.0, 4100.0, \"male\", 2008], [\"Adelie\", \"Biscoe\", 35.0, 17.9, 192.0, 3725.0, \"female\", 2009], [\"Adelie\", \"Biscoe\", 41.0, 20.0, 203.0, 4725.0, \"male\", 2009], [\"Adelie\", \"Biscoe\", 37.7, 16.0, 183.0, 3075.0, \"female\", 2009], [\"Adelie\", \"Biscoe\", 37.8, 20.0, 190.0, 4250.0, \"male\", 2009], [\"Adelie\", \"Biscoe\", 37.9, 18.6, 193.0, 2925.0, \"female\", 2009], [\"Adelie\", \"Biscoe\", 39.7, 18.9, 184.0, 3550.0, \"male\", 2009], [\"Adelie\", \"Biscoe\", 38.6, 17.2, 199.0, 3750.0, \"female\", 2009], [\"Adelie\", \"Biscoe\", 38.2, 20.0, 190.0, 3900.0, \"male\", 2009], [\"Adelie\", \"Biscoe\", 38.1, 17.0, 181.0, 3175.0, \"female\", 2009], [\"Adelie\", \"Biscoe\", 43.2, 19.0, 197.0, 4775.0, \"male\", 2009], [\"Adelie\", \"Biscoe\", 38.1, 16.5, 198.0, 3825.0, \"female\", 2009], [\"Adelie\", \"Biscoe\", 45.6, 20.3, 191.0, 4600.0, \"male\", 2009], [\"Adelie\", \"Biscoe\", 39.7, 17.7, 193.0, 3200.0, \"female\", 2009], [\"Adelie\", \"Biscoe\", 42.2, 19.5, 197.0, 4275.0, \"male\", 2009], [\"Adelie\", \"Biscoe\", 39.6, 20.7, 191.0, 3900.0, \"female\", 2009], [\"Adelie\", \"Biscoe\", 42.7, 18.3, 196.0, 4075.0, \"male\", 2009], [\"Adelie\", \"Torgersen\", 38.6, 17.0, 188.0, 2900.0, \"female\", 2009], [\"Adelie\", \"Torgersen\", 37.3, 20.5, 199.0, 3775.0, \"male\", 2009], [\"Adelie\", \"Torgersen\", 35.7, 17.0, 189.0, 3350.0, \"female\", 2009], [\"Adelie\", \"Torgersen\", 41.1, 18.6, 189.0, 3325.0, \"male\", 2009], [\"Adelie\", \"Torgersen\", 36.2, 17.2, 187.0, 3150.0, \"female\", 2009], [\"Adelie\", \"Torgersen\", 37.7, 19.8, 198.0, 3500.0, \"male\", 2009], [\"Adelie\", \"Torgersen\", 40.2, 17.0, 176.0, 3450.0, \"female\", 2009], [\"Adelie\", \"Torgersen\", 41.4, 18.5, 202.0, 3875.0, \"male\", 2009], [\"Adelie\", \"Torgersen\", 35.2, 15.9, 186.0, 3050.0, \"female\", 2009], [\"Adelie\", \"Torgersen\", 40.6, 19.0, 199.0, 4000.0, \"male\", 2009], [\"Adelie\", \"Torgersen\", 38.8, 17.6, 191.0, 3275.0, \"female\", 2009], [\"Adelie\", \"Torgersen\", 41.5, 18.3, 195.0, 4300.0, \"male\", 2009], [\"Adelie\", \"Torgersen\", 39.0, 17.1, 191.0, 3050.0, \"female\", 2009], [\"Adelie\", \"Torgersen\", 44.1, 18.0, 210.0, 4000.0, \"male\", 2009], [\"Adelie\", \"Torgersen\", 38.5, 17.9, 190.0, 3325.0, \"female\", 2009], [\"Adelie\", \"Torgersen\", 43.1, 19.2, 197.0, 3500.0, \"male\", 2009], [\"Adelie\", \"Dream\", 36.8, 18.5, 193.0, 3500.0, \"female\", 2009], [\"Adelie\", \"Dream\", 37.5, 18.5, 199.0, 4475.0, \"male\", 2009], [\"Adelie\", \"Dream\", 38.1, 17.6, 187.0, 3425.0, \"female\", 2009], [\"Adelie\", \"Dream\", 41.1, 17.5, 190.0, 3900.0, \"male\", 2009], [\"Adelie\", \"Dream\", 35.6, 17.5, 191.0, 3175.0, \"female\", 2009], [\"Adelie\", \"Dream\", 40.2, 20.1, 200.0, 3975.0, \"male\", 2009], [\"Adelie\", \"Dream\", 37.0, 16.5, 185.0, 3400.0, \"female\", 2009], [\"Adelie\", \"Dream\", 39.7, 17.9, 193.0, 4250.0, \"male\", 2009], [\"Adelie\", \"Dream\", 40.2, 17.1, 193.0, 3400.0, \"female\", 2009], [\"Adelie\", \"Dream\", 40.6, 17.2, 187.0, 3475.0, \"male\", 2009], [\"Adelie\", \"Dream\", 32.1, 15.5, 188.0, 3050.0, \"female\", 2009], [\"Adelie\", \"Dream\", 40.7, 17.0, 190.0, 3725.0, \"male\", 2009], [\"Adelie\", \"Dream\", 37.3, 16.8, 192.0, 3000.0, \"female\", 2009], [\"Adelie\", \"Dream\", 39.0, 18.7, 185.0, 3650.0, \"male\", 2009], [\"Adelie\", \"Dream\", 39.2, 18.6, 190.0, 4250.0, \"male\", 2009], [\"Adelie\", \"Dream\", 36.6, 18.4, 184.0, 3475.0, \"female\", 2009], [\"Adelie\", \"Dream\", 36.0, 17.8, 195.0, 3450.0, \"female\", 2009], [\"Adelie\", \"Dream\", 37.8, 18.1, 193.0, 3750.0, \"male\", 2009], [\"Adelie\", \"Dream\", 36.0, 17.1, 187.0, 3700.0, \"female\", 2009], [\"Adelie\", \"Dream\", 41.5, 18.5, 201.0, 4000.0, \"male\", 2009], [\"Gentoo\", \"Biscoe\", 46.1, 13.2, 211.0, 4500.0, \"female\", 2007], [\"Gentoo\", \"Biscoe\", 50.0, 16.3, 230.0, 5700.0, \"male\", 2007], [\"Gentoo\", \"Biscoe\", 48.7, 14.1, 210.0, 4450.0, \"female\", 2007], [\"Gentoo\", \"Biscoe\", 50.0, 15.2, 218.0, 5700.0, \"male\", 2007], [\"Gentoo\", \"Biscoe\", 47.6, 14.5, 215.0, 5400.0, \"male\", 2007], [\"Gentoo\", \"Biscoe\", 46.5, 13.5, 210.0, 4550.0, \"female\", 2007], [\"Gentoo\", \"Biscoe\", 45.4, 14.6, 211.0, 4800.0, \"female\", 2007], [\"Gentoo\", \"Biscoe\", 46.7, 15.3, 219.0, 5200.0, \"male\", 2007], [\"Gentoo\", \"Biscoe\", 43.3, 13.4, 209.0, 4400.0, \"female\", 2007], [\"Gentoo\", \"Biscoe\", 46.8, 15.4, 215.0, 5150.0, \"male\", 2007], [\"Gentoo\", \"Biscoe\", 40.9, 13.7, 214.0, 4650.0, \"female\", 2007], [\"Gentoo\", \"Biscoe\", 49.0, 16.1, 216.0, 5550.0, \"male\", 2007], [\"Gentoo\", \"Biscoe\", 45.5, 13.7, 214.0, 4650.0, \"female\", 2007], [\"Gentoo\", \"Biscoe\", 48.4, 14.6, 213.0, 5850.0, \"male\", 2007], [\"Gentoo\", \"Biscoe\", 45.8, 14.6, 210.0, 4200.0, \"female\", 2007], [\"Gentoo\", \"Biscoe\", 49.3, 15.7, 217.0, 5850.0, \"male\", 2007], [\"Gentoo\", \"Biscoe\", 42.0, 13.5, 210.0, 4150.0, \"female\", 2007], [\"Gentoo\", \"Biscoe\", 49.2, 15.2, 221.0, 6300.0, \"male\", 2007], [\"Gentoo\", \"Biscoe\", 46.2, 14.5, 209.0, 4800.0, \"female\", 2007], [\"Gentoo\", \"Biscoe\", 48.7, 15.1, 222.0, 5350.0, \"male\", 2007], [\"Gentoo\", \"Biscoe\", 50.2, 14.3, 218.0, 5700.0, \"male\", 2007], [\"Gentoo\", \"Biscoe\", 45.1, 14.5, 215.0, 5000.0, \"female\", 2007], [\"Gentoo\", \"Biscoe\", 46.5, 14.5, 213.0, 4400.0, \"female\", 2007], [\"Gentoo\", \"Biscoe\", 46.3, 15.8, 215.0, 5050.0, \"male\", 2007], [\"Gentoo\", \"Biscoe\", 42.9, 13.1, 215.0, 5000.0, \"female\", 2007], [\"Gentoo\", \"Biscoe\", 46.1, 15.1, 215.0, 5100.0, \"male\", 2007], [\"Gentoo\", \"Biscoe\", 44.5, 14.3, 216.0, 4100.0, \"NaN\", 2007], [\"Gentoo\", \"Biscoe\", 47.8, 15.0, 215.0, 5650.0, \"male\", 2007], [\"Gentoo\", \"Biscoe\", 48.2, 14.3, 210.0, 4600.0, \"female\", 2007], [\"Gentoo\", \"Biscoe\", 50.0, 15.3, 220.0, 5550.0, \"male\", 2007], [\"Gentoo\", \"Biscoe\", 47.3, 15.3, 222.0, 5250.0, \"male\", 2007], [\"Gentoo\", \"Biscoe\", 42.8, 14.2, 209.0, 4700.0, \"female\", 2007], [\"Gentoo\", \"Biscoe\", 45.1, 14.5, 207.0, 5050.0, \"female\", 2007], [\"Gentoo\", \"Biscoe\", 59.6, 17.0, 230.0, 6050.0, \"male\", 2007], [\"Gentoo\", \"Biscoe\", 49.1, 14.8, 220.0, 5150.0, \"female\", 2008], [\"Gentoo\", \"Biscoe\", 48.4, 16.3, 220.0, 5400.0, \"male\", 2008], [\"Gentoo\", \"Biscoe\", 42.6, 13.7, 213.0, 4950.0, \"female\", 2008], [\"Gentoo\", \"Biscoe\", 44.4, 17.3, 219.0, 5250.0, \"male\", 2008], [\"Gentoo\", \"Biscoe\", 44.0, 13.6, 208.0, 4350.0, \"female\", 2008], [\"Gentoo\", \"Biscoe\", 48.7, 15.7, 208.0, 5350.0, \"male\", 2008], [\"Gentoo\", \"Biscoe\", 42.7, 13.7, 208.0, 3950.0, \"female\", 2008], [\"Gentoo\", \"Biscoe\", 49.6, 16.0, 225.0, 5700.0, \"male\", 2008], [\"Gentoo\", \"Biscoe\", 45.3, 13.7, 210.0, 4300.0, \"female\", 2008], [\"Gentoo\", \"Biscoe\", 49.6, 15.0, 216.0, 4750.0, \"male\", 2008], [\"Gentoo\", \"Biscoe\", 50.5, 15.9, 222.0, 5550.0, \"male\", 2008], [\"Gentoo\", \"Biscoe\", 43.6, 13.9, 217.0, 4900.0, \"female\", 2008], [\"Gentoo\", \"Biscoe\", 45.5, 13.9, 210.0, 4200.0, \"female\", 2008], [\"Gentoo\", \"Biscoe\", 50.5, 15.9, 225.0, 5400.0, \"male\", 2008], [\"Gentoo\", \"Biscoe\", 44.9, 13.3, 213.0, 5100.0, \"female\", 2008], [\"Gentoo\", \"Biscoe\", 45.2, 15.8, 215.0, 5300.0, \"male\", 2008], [\"Gentoo\", \"Biscoe\", 46.6, 14.2, 210.0, 4850.0, \"female\", 2008], [\"Gentoo\", \"Biscoe\", 48.5, 14.1, 220.0, 5300.0, \"male\", 2008], [\"Gentoo\", \"Biscoe\", 45.1, 14.4, 210.0, 4400.0, \"female\", 2008], [\"Gentoo\", \"Biscoe\", 50.1, 15.0, 225.0, 5000.0, \"male\", 2008], [\"Gentoo\", \"Biscoe\", 46.5, 14.4, 217.0, 4900.0, \"female\", 2008], [\"Gentoo\", \"Biscoe\", 45.0, 15.4, 220.0, 5050.0, \"male\", 2008], [\"Gentoo\", \"Biscoe\", 43.8, 13.9, 208.0, 4300.0, \"female\", 2008], [\"Gentoo\", \"Biscoe\", 45.5, 15.0, 220.0, 5000.0, \"male\", 2008], [\"Gentoo\", \"Biscoe\", 43.2, 14.5, 208.0, 4450.0, \"female\", 2008], [\"Gentoo\", \"Biscoe\", 50.4, 15.3, 224.0, 5550.0, \"male\", 2008], [\"Gentoo\", \"Biscoe\", 45.3, 13.8, 208.0, 4200.0, \"female\", 2008], [\"Gentoo\", \"Biscoe\", 46.2, 14.9, 221.0, 5300.0, \"male\", 2008], [\"Gentoo\", \"Biscoe\", 45.7, 13.9, 214.0, 4400.0, \"female\", 2008], [\"Gentoo\", \"Biscoe\", 54.3, 15.7, 231.0, 5650.0, \"male\", 2008], [\"Gentoo\", \"Biscoe\", 45.8, 14.2, 219.0, 4700.0, \"female\", 2008], [\"Gentoo\", \"Biscoe\", 49.8, 16.8, 230.0, 5700.0, \"male\", 2008], [\"Gentoo\", \"Biscoe\", 46.2, 14.4, 214.0, 4650.0, \"NaN\", 2008], [\"Gentoo\", \"Biscoe\", 49.5, 16.2, 229.0, 5800.0, \"male\", 2008], [\"Gentoo\", \"Biscoe\", 43.5, 14.2, 220.0, 4700.0, \"female\", 2008], [\"Gentoo\", \"Biscoe\", 50.7, 15.0, 223.0, 5550.0, \"male\", 2008], [\"Gentoo\", \"Biscoe\", 47.7, 15.0, 216.0, 4750.0, \"female\", 2008], [\"Gentoo\", \"Biscoe\", 46.4, 15.6, 221.0, 5000.0, \"male\", 2008], [\"Gentoo\", \"Biscoe\", 48.2, 15.6, 221.0, 5100.0, \"male\", 2008], [\"Gentoo\", \"Biscoe\", 46.5, 14.8, 217.0, 5200.0, \"female\", 2008], [\"Gentoo\", \"Biscoe\", 46.4, 15.0, 216.0, 4700.0, \"female\", 2008], [\"Gentoo\", \"Biscoe\", 48.6, 16.0, 230.0, 5800.0, \"male\", 2008], [\"Gentoo\", \"Biscoe\", 47.5, 14.2, 209.0, 4600.0, \"female\", 2008], [\"Gentoo\", \"Biscoe\", 51.1, 16.3, 220.0, 6000.0, \"male\", 2008], [\"Gentoo\", \"Biscoe\", 45.2, 13.8, 215.0, 4750.0, \"female\", 2008], [\"Gentoo\", \"Biscoe\", 45.2, 16.4, 223.0, 5950.0, \"male\", 2008], [\"Gentoo\", \"Biscoe\", 49.1, 14.5, 212.0, 4625.0, \"female\", 2009], [\"Gentoo\", \"Biscoe\", 52.5, 15.6, 221.0, 5450.0, \"male\", 2009], [\"Gentoo\", \"Biscoe\", 47.4, 14.6, 212.0, 4725.0, \"female\", 2009], [\"Gentoo\", \"Biscoe\", 50.0, 15.9, 224.0, 5350.0, \"male\", 2009], [\"Gentoo\", \"Biscoe\", 44.9, 13.8, 212.0, 4750.0, \"female\", 2009], [\"Gentoo\", \"Biscoe\", 50.8, 17.3, 228.0, 5600.0, \"male\", 2009], [\"Gentoo\", \"Biscoe\", 43.4, 14.4, 218.0, 4600.0, \"female\", 2009], [\"Gentoo\", \"Biscoe\", 51.3, 14.2, 218.0, 5300.0, \"male\", 2009], [\"Gentoo\", \"Biscoe\", 47.5, 14.0, 212.0, 4875.0, \"female\", 2009], [\"Gentoo\", \"Biscoe\", 52.1, 17.0, 230.0, 5550.0, \"male\", 2009], [\"Gentoo\", \"Biscoe\", 47.5, 15.0, 218.0, 4950.0, \"female\", 2009], [\"Gentoo\", \"Biscoe\", 52.2, 17.1, 228.0, 5400.0, \"male\", 2009], [\"Gentoo\", \"Biscoe\", 45.5, 14.5, 212.0, 4750.0, \"female\", 2009], [\"Gentoo\", \"Biscoe\", 49.5, 16.1, 224.0, 5650.0, \"male\", 2009], [\"Gentoo\", \"Biscoe\", 44.5, 14.7, 214.0, 4850.0, \"female\", 2009], [\"Gentoo\", \"Biscoe\", 50.8, 15.7, 226.0, 5200.0, \"male\", 2009], [\"Gentoo\", \"Biscoe\", 49.4, 15.8, 216.0, 4925.0, \"male\", 2009], [\"Gentoo\", \"Biscoe\", 46.9, 14.6, 222.0, 4875.0, \"female\", 2009], [\"Gentoo\", \"Biscoe\", 48.4, 14.4, 203.0, 4625.0, \"female\", 2009], [\"Gentoo\", \"Biscoe\", 51.1, 16.5, 225.0, 5250.0, \"male\", 2009], [\"Gentoo\", \"Biscoe\", 48.5, 15.0, 219.0, 4850.0, \"female\", 2009], [\"Gentoo\", \"Biscoe\", 55.9, 17.0, 228.0, 5600.0, \"male\", 2009], [\"Gentoo\", \"Biscoe\", 47.2, 15.5, 215.0, 4975.0, \"female\", 2009], [\"Gentoo\", \"Biscoe\", 49.1, 15.0, 228.0, 5500.0, \"male\", 2009], [\"Gentoo\", \"Biscoe\", 47.3, 13.8, 216.0, 4725.0, \"NaN\", 2009], [\"Gentoo\", \"Biscoe\", 46.8, 16.1, 215.0, 5500.0, \"male\", 2009], [\"Gentoo\", \"Biscoe\", 41.7, 14.7, 210.0, 4700.0, \"female\", 2009], [\"Gentoo\", \"Biscoe\", 53.4, 15.8, 219.0, 5500.0, \"male\", 2009], [\"Gentoo\", \"Biscoe\", 43.3, 14.0, 208.0, 4575.0, \"female\", 2009], [\"Gentoo\", \"Biscoe\", 48.1, 15.1, 209.0, 5500.0, \"male\", 2009], [\"Gentoo\", \"Biscoe\", 50.5, 15.2, 216.0, 5000.0, \"female\", 2009], [\"Gentoo\", \"Biscoe\", 49.8, 15.9, 229.0, 5950.0, \"male\", 2009], [\"Gentoo\", \"Biscoe\", 43.5, 15.2, 213.0, 4650.0, \"female\", 2009], [\"Gentoo\", \"Biscoe\", 51.5, 16.3, 230.0, 5500.0, \"male\", 2009], [\"Gentoo\", \"Biscoe\", 46.2, 14.1, 217.0, 4375.0, \"female\", 2009], [\"Gentoo\", \"Biscoe\", 55.1, 16.0, 230.0, 5850.0, \"male\", 2009], [\"Gentoo\", \"Biscoe\", 44.5, 15.7, 217.0, 4875.0, \"NaN\", 2009], [\"Gentoo\", \"Biscoe\", 48.8, 16.2, 222.0, 6000.0, \"male\", 2009], [\"Gentoo\", \"Biscoe\", 47.2, 13.7, 214.0, 4925.0, \"female\", 2009], [\"Gentoo\", \"Biscoe\", NaN, NaN, NaN, NaN, \"NaN\", 2009], [\"Gentoo\", \"Biscoe\", 46.8, 14.3, 215.0, 4850.0, \"female\", 2009], [\"Gentoo\", \"Biscoe\", 50.4, 15.7, 222.0, 5750.0, \"male\", 2009], [\"Gentoo\", \"Biscoe\", 45.2, 14.8, 212.0, 5200.0, \"female\", 2009], [\"Gentoo\", \"Biscoe\", 49.9, 16.1, 213.0, 5400.0, \"male\", 2009], [\"Chinstrap\", \"Dream\", 46.5, 17.9, 192.0, 3500.0, \"female\", 2007], [\"Chinstrap\", \"Dream\", 50.0, 19.5, 196.0, 3900.0, \"male\", 2007], [\"Chinstrap\", \"Dream\", 51.3, 19.2, 193.0, 3650.0, \"male\", 2007], [\"Chinstrap\", \"Dream\", 45.4, 18.7, 188.0, 3525.0, \"female\", 2007], [\"Chinstrap\", \"Dream\", 52.7, 19.8, 197.0, 3725.0, \"male\", 2007], [\"Chinstrap\", \"Dream\", 45.2, 17.8, 198.0, 3950.0, \"female\", 2007], [\"Chinstrap\", \"Dream\", 46.1, 18.2, 178.0, 3250.0, \"female\", 2007], [\"Chinstrap\", \"Dream\", 51.3, 18.2, 197.0, 3750.0, \"male\", 2007], [\"Chinstrap\", \"Dream\", 46.0, 18.9, 195.0, 4150.0, \"female\", 2007], [\"Chinstrap\", \"Dream\", 51.3, 19.9, 198.0, 3700.0, \"male\", 2007], [\"Chinstrap\", \"Dream\", 46.6, 17.8, 193.0, 3800.0, \"female\", 2007], [\"Chinstrap\", \"Dream\", 51.7, 20.3, 194.0, 3775.0, \"male\", 2007], [\"Chinstrap\", \"Dream\", 47.0, 17.3, 185.0, 3700.0, \"female\", 2007], [\"Chinstrap\", \"Dream\", 52.0, 18.1, 201.0, 4050.0, \"male\", 2007], [\"Chinstrap\", \"Dream\", 45.9, 17.1, 190.0, 3575.0, \"female\", 2007], [\"Chinstrap\", \"Dream\", 50.5, 19.6, 201.0, 4050.0, \"male\", 2007], [\"Chinstrap\", \"Dream\", 50.3, 20.0, 197.0, 3300.0, \"male\", 2007], [\"Chinstrap\", \"Dream\", 58.0, 17.8, 181.0, 3700.0, \"female\", 2007], [\"Chinstrap\", \"Dream\", 46.4, 18.6, 190.0, 3450.0, \"female\", 2007], [\"Chinstrap\", \"Dream\", 49.2, 18.2, 195.0, 4400.0, \"male\", 2007], [\"Chinstrap\", \"Dream\", 42.4, 17.3, 181.0, 3600.0, \"female\", 2007], [\"Chinstrap\", \"Dream\", 48.5, 17.5, 191.0, 3400.0, \"male\", 2007], [\"Chinstrap\", \"Dream\", 43.2, 16.6, 187.0, 2900.0, \"female\", 2007], [\"Chinstrap\", \"Dream\", 50.6, 19.4, 193.0, 3800.0, \"male\", 2007], [\"Chinstrap\", \"Dream\", 46.7, 17.9, 195.0, 3300.0, \"female\", 2007], [\"Chinstrap\", \"Dream\", 52.0, 19.0, 197.0, 4150.0, \"male\", 2007], [\"Chinstrap\", \"Dream\", 50.5, 18.4, 200.0, 3400.0, \"female\", 2008], [\"Chinstrap\", \"Dream\", 49.5, 19.0, 200.0, 3800.0, \"male\", 2008], [\"Chinstrap\", \"Dream\", 46.4, 17.8, 191.0, 3700.0, \"female\", 2008], [\"Chinstrap\", \"Dream\", 52.8, 20.0, 205.0, 4550.0, \"male\", 2008], [\"Chinstrap\", \"Dream\", 40.9, 16.6, 187.0, 3200.0, \"female\", 2008], [\"Chinstrap\", \"Dream\", 54.2, 20.8, 201.0, 4300.0, \"male\", 2008], [\"Chinstrap\", \"Dream\", 42.5, 16.7, 187.0, 3350.0, \"female\", 2008], [\"Chinstrap\", \"Dream\", 51.0, 18.8, 203.0, 4100.0, \"male\", 2008], [\"Chinstrap\", \"Dream\", 49.7, 18.6, 195.0, 3600.0, \"male\", 2008], [\"Chinstrap\", \"Dream\", 47.5, 16.8, 199.0, 3900.0, \"female\", 2008], [\"Chinstrap\", \"Dream\", 47.6, 18.3, 195.0, 3850.0, \"female\", 2008], [\"Chinstrap\", \"Dream\", 52.0, 20.7, 210.0, 4800.0, \"male\", 2008], [\"Chinstrap\", \"Dream\", 46.9, 16.6, 192.0, 2700.0, \"female\", 2008], [\"Chinstrap\", \"Dream\", 53.5, 19.9, 205.0, 4500.0, \"male\", 2008], [\"Chinstrap\", \"Dream\", 49.0, 19.5, 210.0, 3950.0, \"male\", 2008], [\"Chinstrap\", \"Dream\", 46.2, 17.5, 187.0, 3650.0, \"female\", 2008], [\"Chinstrap\", \"Dream\", 50.9, 19.1, 196.0, 3550.0, \"male\", 2008], [\"Chinstrap\", \"Dream\", 45.5, 17.0, 196.0, 3500.0, \"female\", 2008], [\"Chinstrap\", \"Dream\", 50.9, 17.9, 196.0, 3675.0, \"female\", 2009], [\"Chinstrap\", \"Dream\", 50.8, 18.5, 201.0, 4450.0, \"male\", 2009], [\"Chinstrap\", \"Dream\", 50.1, 17.9, 190.0, 3400.0, \"female\", 2009], [\"Chinstrap\", \"Dream\", 49.0, 19.6, 212.0, 4300.0, \"male\", 2009], [\"Chinstrap\", \"Dream\", 51.5, 18.7, 187.0, 3250.0, \"male\", 2009], [\"Chinstrap\", \"Dream\", 49.8, 17.3, 198.0, 3675.0, \"female\", 2009], [\"Chinstrap\", \"Dream\", 48.1, 16.4, 199.0, 3325.0, \"female\", 2009], [\"Chinstrap\", \"Dream\", 51.4, 19.0, 201.0, 3950.0, \"male\", 2009], [\"Chinstrap\", \"Dream\", 45.7, 17.3, 193.0, 3600.0, \"female\", 2009], [\"Chinstrap\", \"Dream\", 50.7, 19.7, 203.0, 4050.0, \"male\", 2009], [\"Chinstrap\", \"Dream\", 42.5, 17.3, 187.0, 3350.0, \"female\", 2009], [\"Chinstrap\", \"Dream\", 52.2, 18.8, 197.0, 3450.0, \"male\", 2009], [\"Chinstrap\", \"Dream\", 45.2, 16.6, 191.0, 3250.0, \"female\", 2009], [\"Chinstrap\", \"Dream\", 49.3, 19.9, 203.0, 4050.0, \"male\", 2009], [\"Chinstrap\", \"Dream\", 50.2, 18.8, 202.0, 3800.0, \"male\", 2009], [\"Chinstrap\", \"Dream\", 45.6, 19.4, 194.0, 3525.0, \"female\", 2009], [\"Chinstrap\", \"Dream\", 51.9, 19.5, 206.0, 3950.0, \"male\", 2009], [\"Chinstrap\", \"Dream\", 46.8, 16.5, 189.0, 3650.0, \"female\", 2009], [\"Chinstrap\", \"Dream\", 45.7, 17.0, 195.0, 3650.0, \"female\", 2009], [\"Chinstrap\", \"Dream\", 55.8, 19.8, 207.0, 4000.0, \"male\", 2009], [\"Chinstrap\", \"Dream\", 43.5, 18.1, 202.0, 3400.0, \"female\", 2009], [\"Chinstrap\", \"Dream\", 49.6, 18.2, 193.0, 3775.0, \"male\", 2009], [\"Chinstrap\", \"Dream\", 50.8, 19.0, 210.0, 4100.0, \"male\", 2009], [\"Chinstrap\", \"Dream\", 50.2, 18.7, 198.0, 3775.0, \"female\", 2009]];\n",
       "\n",
       "        // Define the dt_args\n",
       "        let dt_args = {\"buttons\": [\"copyHtml5\", \"csvHtml5\", \"excelHtml5\"], \"layout\": {\"topStart\": \"buttons\", \"topEnd\": \"search\", \"bottomStart\": \"info\", \"bottomEnd\": \"paging\"}, \"order\": [], \"warn_on_selected_rows_not_rendered\": true};\n",
       "        dt_args[\"data\"] = data;\n",
       "\n",
       "        \n",
       "        new DataTable(table, dt_args);\n",
       "    });\n",
       "</script>\n"
      ],
      "text/plain": [
       "<IPython.core.display.HTML object>"
      ]
     },
     "metadata": {},
     "output_type": "display_data"
    }
   ],
   "source": [
    "show(\n",
    "    penguins_df,\n",
    "    buttons=[\"copyHtml5\", \"csvHtml5\", \"excelHtml5\"],\n",
    "    )\n"
   ]
  },
  {
   "cell_type": "code",
   "execution_count": 4,
   "metadata": {},
   "outputs": [
    {
     "data": {
      "text/html": [
       "<div>\n",
       "<style scoped>\n",
       "    .dataframe tbody tr th:only-of-type {\n",
       "        vertical-align: middle;\n",
       "    }\n",
       "\n",
       "    .dataframe tbody tr th {\n",
       "        vertical-align: top;\n",
       "    }\n",
       "\n",
       "    .dataframe thead th {\n",
       "        text-align: right;\n",
       "    }\n",
       "</style>\n",
       "<table border=\"1\" class=\"dataframe\">\n",
       "  <thead>\n",
       "    <tr style=\"text-align: right;\">\n",
       "      <th></th>\n",
       "      <th></th>\n",
       "      <th>count</th>\n",
       "    </tr>\n",
       "    <tr>\n",
       "      <th>island</th>\n",
       "      <th>species</th>\n",
       "      <th></th>\n",
       "    </tr>\n",
       "  </thead>\n",
       "  <tbody>\n",
       "    <tr>\n",
       "      <th>Biscoe</th>\n",
       "      <th>Gentoo</th>\n",
       "      <td>124</td>\n",
       "    </tr>\n",
       "    <tr>\n",
       "      <th rowspan=\"2\" valign=\"top\">Dream</th>\n",
       "      <th>Chinstrap</th>\n",
       "      <td>68</td>\n",
       "    </tr>\n",
       "    <tr>\n",
       "      <th>Adelie</th>\n",
       "      <td>56</td>\n",
       "    </tr>\n",
       "    <tr>\n",
       "      <th>Torgersen</th>\n",
       "      <th>Adelie</th>\n",
       "      <td>52</td>\n",
       "    </tr>\n",
       "    <tr>\n",
       "      <th>Biscoe</th>\n",
       "      <th>Adelie</th>\n",
       "      <td>44</td>\n",
       "    </tr>\n",
       "  </tbody>\n",
       "</table>\n",
       "</div>"
      ],
      "text/plain": [
       "                     count\n",
       "island    species         \n",
       "Biscoe    Gentoo       124\n",
       "Dream     Chinstrap     68\n",
       "          Adelie        56\n",
       "Torgersen Adelie        52\n",
       "Biscoe    Adelie        44"
      ]
     },
     "execution_count": 4,
     "metadata": {},
     "output_type": "execute_result"
    }
   ],
   "source": [
    "pd.DataFrame(penguins_df[['island', 'species']].value_counts())\n"
   ]
  },
  {
   "cell_type": "code",
   "execution_count": 5,
   "metadata": {},
   "outputs": [
    {
     "data": {
      "text/html": [
       "        <script type=\"text/javascript\">\n",
       "        window.PlotlyConfig = {MathJaxConfig: 'local'};\n",
       "        if (window.MathJax && window.MathJax.Hub && window.MathJax.Hub.Config) {window.MathJax.Hub.Config({SVG: {font: \"STIX-Web\"}});}\n",
       "        if (typeof require !== 'undefined') {\n",
       "        require.undef(\"plotly\");\n",
       "        requirejs.config({\n",
       "            paths: {\n",
       "                'plotly': ['https://cdn.plot.ly/plotly-2.34.0.min']\n",
       "            }\n",
       "        });\n",
       "        require(['plotly'], function(Plotly) {\n",
       "            window._Plotly = Plotly;\n",
       "        });\n",
       "        }\n",
       "        </script>\n",
       "        "
      ]
     },
     "metadata": {},
     "output_type": "display_data"
    },
    {
     "data": {
      "text/html": [
       "<div>                            <div id=\"2ee9817b-93a8-4415-88de-e29a5d34377a\" class=\"plotly-graph-div\" style=\"height:525px; width:100%;\"></div>            <script type=\"text/javascript\">                require([\"plotly\"], function(Plotly) {                    window.PLOTLYENV=window.PLOTLYENV || {};                                    if (document.getElementById(\"2ee9817b-93a8-4415-88de-e29a5d34377a\")) {                    Plotly.newPlot(                        \"2ee9817b-93a8-4415-88de-e29a5d34377a\",                        [{\"alignmentgroup\":\"True\",\"hovertemplate\":\"island=Biscoe\\u003cbr\\u003especies=%{x}\\u003cbr\\u003ecount=%{y}\\u003cextra\\u003e\\u003c\\u002fextra\\u003e\",\"legendgroup\":\"Biscoe\",\"marker\":{\"color\":\"#636efa\",\"pattern\":{\"shape\":\"\"}},\"name\":\"Biscoe\",\"offsetgroup\":\"Biscoe\",\"orientation\":\"v\",\"showlegend\":true,\"textposition\":\"auto\",\"x\":[\"Gentoo\",\"Adelie\"],\"xaxis\":\"x\",\"y\":[124,44],\"yaxis\":\"y\",\"type\":\"bar\"},{\"alignmentgroup\":\"True\",\"hovertemplate\":\"island=Dream\\u003cbr\\u003especies=%{x}\\u003cbr\\u003ecount=%{y}\\u003cextra\\u003e\\u003c\\u002fextra\\u003e\",\"legendgroup\":\"Dream\",\"marker\":{\"color\":\"#EF553B\",\"pattern\":{\"shape\":\"\"}},\"name\":\"Dream\",\"offsetgroup\":\"Dream\",\"orientation\":\"v\",\"showlegend\":true,\"textposition\":\"auto\",\"x\":[\"Chinstrap\",\"Adelie\"],\"xaxis\":\"x\",\"y\":[68,56],\"yaxis\":\"y\",\"type\":\"bar\"},{\"alignmentgroup\":\"True\",\"hovertemplate\":\"island=Torgersen\\u003cbr\\u003especies=%{x}\\u003cbr\\u003ecount=%{y}\\u003cextra\\u003e\\u003c\\u002fextra\\u003e\",\"legendgroup\":\"Torgersen\",\"marker\":{\"color\":\"#00cc96\",\"pattern\":{\"shape\":\"\"}},\"name\":\"Torgersen\",\"offsetgroup\":\"Torgersen\",\"orientation\":\"v\",\"showlegend\":true,\"textposition\":\"auto\",\"x\":[\"Adelie\"],\"xaxis\":\"x\",\"y\":[52],\"yaxis\":\"y\",\"type\":\"bar\"}],                        {\"template\":{\"data\":{\"histogram2dcontour\":[{\"type\":\"histogram2dcontour\",\"colorbar\":{\"outlinewidth\":0,\"ticks\":\"\"},\"colorscale\":[[0.0,\"#0d0887\"],[0.1111111111111111,\"#46039f\"],[0.2222222222222222,\"#7201a8\"],[0.3333333333333333,\"#9c179e\"],[0.4444444444444444,\"#bd3786\"],[0.5555555555555556,\"#d8576b\"],[0.6666666666666666,\"#ed7953\"],[0.7777777777777778,\"#fb9f3a\"],[0.8888888888888888,\"#fdca26\"],[1.0,\"#f0f921\"]]}],\"choropleth\":[{\"type\":\"choropleth\",\"colorbar\":{\"outlinewidth\":0,\"ticks\":\"\"}}],\"histogram2d\":[{\"type\":\"histogram2d\",\"colorbar\":{\"outlinewidth\":0,\"ticks\":\"\"},\"colorscale\":[[0.0,\"#0d0887\"],[0.1111111111111111,\"#46039f\"],[0.2222222222222222,\"#7201a8\"],[0.3333333333333333,\"#9c179e\"],[0.4444444444444444,\"#bd3786\"],[0.5555555555555556,\"#d8576b\"],[0.6666666666666666,\"#ed7953\"],[0.7777777777777778,\"#fb9f3a\"],[0.8888888888888888,\"#fdca26\"],[1.0,\"#f0f921\"]]}],\"heatmap\":[{\"type\":\"heatmap\",\"colorbar\":{\"outlinewidth\":0,\"ticks\":\"\"},\"colorscale\":[[0.0,\"#0d0887\"],[0.1111111111111111,\"#46039f\"],[0.2222222222222222,\"#7201a8\"],[0.3333333333333333,\"#9c179e\"],[0.4444444444444444,\"#bd3786\"],[0.5555555555555556,\"#d8576b\"],[0.6666666666666666,\"#ed7953\"],[0.7777777777777778,\"#fb9f3a\"],[0.8888888888888888,\"#fdca26\"],[1.0,\"#f0f921\"]]}],\"heatmapgl\":[{\"type\":\"heatmapgl\",\"colorbar\":{\"outlinewidth\":0,\"ticks\":\"\"},\"colorscale\":[[0.0,\"#0d0887\"],[0.1111111111111111,\"#46039f\"],[0.2222222222222222,\"#7201a8\"],[0.3333333333333333,\"#9c179e\"],[0.4444444444444444,\"#bd3786\"],[0.5555555555555556,\"#d8576b\"],[0.6666666666666666,\"#ed7953\"],[0.7777777777777778,\"#fb9f3a\"],[0.8888888888888888,\"#fdca26\"],[1.0,\"#f0f921\"]]}],\"contourcarpet\":[{\"type\":\"contourcarpet\",\"colorbar\":{\"outlinewidth\":0,\"ticks\":\"\"}}],\"contour\":[{\"type\":\"contour\",\"colorbar\":{\"outlinewidth\":0,\"ticks\":\"\"},\"colorscale\":[[0.0,\"#0d0887\"],[0.1111111111111111,\"#46039f\"],[0.2222222222222222,\"#7201a8\"],[0.3333333333333333,\"#9c179e\"],[0.4444444444444444,\"#bd3786\"],[0.5555555555555556,\"#d8576b\"],[0.6666666666666666,\"#ed7953\"],[0.7777777777777778,\"#fb9f3a\"],[0.8888888888888888,\"#fdca26\"],[1.0,\"#f0f921\"]]}],\"surface\":[{\"type\":\"surface\",\"colorbar\":{\"outlinewidth\":0,\"ticks\":\"\"},\"colorscale\":[[0.0,\"#0d0887\"],[0.1111111111111111,\"#46039f\"],[0.2222222222222222,\"#7201a8\"],[0.3333333333333333,\"#9c179e\"],[0.4444444444444444,\"#bd3786\"],[0.5555555555555556,\"#d8576b\"],[0.6666666666666666,\"#ed7953\"],[0.7777777777777778,\"#fb9f3a\"],[0.8888888888888888,\"#fdca26\"],[1.0,\"#f0f921\"]]}],\"mesh3d\":[{\"type\":\"mesh3d\",\"colorbar\":{\"outlinewidth\":0,\"ticks\":\"\"}}],\"scatter\":[{\"fillpattern\":{\"fillmode\":\"overlay\",\"size\":10,\"solidity\":0.2},\"type\":\"scatter\"}],\"parcoords\":[{\"type\":\"parcoords\",\"line\":{\"colorbar\":{\"outlinewidth\":0,\"ticks\":\"\"}}}],\"scatterpolargl\":[{\"type\":\"scatterpolargl\",\"marker\":{\"colorbar\":{\"outlinewidth\":0,\"ticks\":\"\"}}}],\"bar\":[{\"error_x\":{\"color\":\"#2a3f5f\"},\"error_y\":{\"color\":\"#2a3f5f\"},\"marker\":{\"line\":{\"color\":\"#E5ECF6\",\"width\":0.5},\"pattern\":{\"fillmode\":\"overlay\",\"size\":10,\"solidity\":0.2}},\"type\":\"bar\"}],\"scattergeo\":[{\"type\":\"scattergeo\",\"marker\":{\"colorbar\":{\"outlinewidth\":0,\"ticks\":\"\"}}}],\"scatterpolar\":[{\"type\":\"scatterpolar\",\"marker\":{\"colorbar\":{\"outlinewidth\":0,\"ticks\":\"\"}}}],\"histogram\":[{\"marker\":{\"pattern\":{\"fillmode\":\"overlay\",\"size\":10,\"solidity\":0.2}},\"type\":\"histogram\"}],\"scattergl\":[{\"type\":\"scattergl\",\"marker\":{\"colorbar\":{\"outlinewidth\":0,\"ticks\":\"\"}}}],\"scatter3d\":[{\"type\":\"scatter3d\",\"line\":{\"colorbar\":{\"outlinewidth\":0,\"ticks\":\"\"}},\"marker\":{\"colorbar\":{\"outlinewidth\":0,\"ticks\":\"\"}}}],\"scattermapbox\":[{\"type\":\"scattermapbox\",\"marker\":{\"colorbar\":{\"outlinewidth\":0,\"ticks\":\"\"}}}],\"scatterternary\":[{\"type\":\"scatterternary\",\"marker\":{\"colorbar\":{\"outlinewidth\":0,\"ticks\":\"\"}}}],\"scattercarpet\":[{\"type\":\"scattercarpet\",\"marker\":{\"colorbar\":{\"outlinewidth\":0,\"ticks\":\"\"}}}],\"carpet\":[{\"aaxis\":{\"endlinecolor\":\"#2a3f5f\",\"gridcolor\":\"white\",\"linecolor\":\"white\",\"minorgridcolor\":\"white\",\"startlinecolor\":\"#2a3f5f\"},\"baxis\":{\"endlinecolor\":\"#2a3f5f\",\"gridcolor\":\"white\",\"linecolor\":\"white\",\"minorgridcolor\":\"white\",\"startlinecolor\":\"#2a3f5f\"},\"type\":\"carpet\"}],\"table\":[{\"cells\":{\"fill\":{\"color\":\"#EBF0F8\"},\"line\":{\"color\":\"white\"}},\"header\":{\"fill\":{\"color\":\"#C8D4E3\"},\"line\":{\"color\":\"white\"}},\"type\":\"table\"}],\"barpolar\":[{\"marker\":{\"line\":{\"color\":\"#E5ECF6\",\"width\":0.5},\"pattern\":{\"fillmode\":\"overlay\",\"size\":10,\"solidity\":0.2}},\"type\":\"barpolar\"}],\"pie\":[{\"automargin\":true,\"type\":\"pie\"}]},\"layout\":{\"autotypenumbers\":\"strict\",\"colorway\":[\"#636efa\",\"#EF553B\",\"#00cc96\",\"#ab63fa\",\"#FFA15A\",\"#19d3f3\",\"#FF6692\",\"#B6E880\",\"#FF97FF\",\"#FECB52\"],\"font\":{\"color\":\"#2a3f5f\"},\"hovermode\":\"closest\",\"hoverlabel\":{\"align\":\"left\"},\"paper_bgcolor\":\"white\",\"plot_bgcolor\":\"#E5ECF6\",\"polar\":{\"bgcolor\":\"#E5ECF6\",\"angularaxis\":{\"gridcolor\":\"white\",\"linecolor\":\"white\",\"ticks\":\"\"},\"radialaxis\":{\"gridcolor\":\"white\",\"linecolor\":\"white\",\"ticks\":\"\"}},\"ternary\":{\"bgcolor\":\"#E5ECF6\",\"aaxis\":{\"gridcolor\":\"white\",\"linecolor\":\"white\",\"ticks\":\"\"},\"baxis\":{\"gridcolor\":\"white\",\"linecolor\":\"white\",\"ticks\":\"\"},\"caxis\":{\"gridcolor\":\"white\",\"linecolor\":\"white\",\"ticks\":\"\"}},\"coloraxis\":{\"colorbar\":{\"outlinewidth\":0,\"ticks\":\"\"}},\"colorscale\":{\"sequential\":[[0.0,\"#0d0887\"],[0.1111111111111111,\"#46039f\"],[0.2222222222222222,\"#7201a8\"],[0.3333333333333333,\"#9c179e\"],[0.4444444444444444,\"#bd3786\"],[0.5555555555555556,\"#d8576b\"],[0.6666666666666666,\"#ed7953\"],[0.7777777777777778,\"#fb9f3a\"],[0.8888888888888888,\"#fdca26\"],[1.0,\"#f0f921\"]],\"sequentialminus\":[[0.0,\"#0d0887\"],[0.1111111111111111,\"#46039f\"],[0.2222222222222222,\"#7201a8\"],[0.3333333333333333,\"#9c179e\"],[0.4444444444444444,\"#bd3786\"],[0.5555555555555556,\"#d8576b\"],[0.6666666666666666,\"#ed7953\"],[0.7777777777777778,\"#fb9f3a\"],[0.8888888888888888,\"#fdca26\"],[1.0,\"#f0f921\"]],\"diverging\":[[0,\"#8e0152\"],[0.1,\"#c51b7d\"],[0.2,\"#de77ae\"],[0.3,\"#f1b6da\"],[0.4,\"#fde0ef\"],[0.5,\"#f7f7f7\"],[0.6,\"#e6f5d0\"],[0.7,\"#b8e186\"],[0.8,\"#7fbc41\"],[0.9,\"#4d9221\"],[1,\"#276419\"]]},\"xaxis\":{\"gridcolor\":\"white\",\"linecolor\":\"white\",\"ticks\":\"\",\"title\":{\"standoff\":15},\"zerolinecolor\":\"white\",\"automargin\":true,\"zerolinewidth\":2},\"yaxis\":{\"gridcolor\":\"white\",\"linecolor\":\"white\",\"ticks\":\"\",\"title\":{\"standoff\":15},\"zerolinecolor\":\"white\",\"automargin\":true,\"zerolinewidth\":2},\"scene\":{\"xaxis\":{\"backgroundcolor\":\"#E5ECF6\",\"gridcolor\":\"white\",\"linecolor\":\"white\",\"showbackground\":true,\"ticks\":\"\",\"zerolinecolor\":\"white\",\"gridwidth\":2},\"yaxis\":{\"backgroundcolor\":\"#E5ECF6\",\"gridcolor\":\"white\",\"linecolor\":\"white\",\"showbackground\":true,\"ticks\":\"\",\"zerolinecolor\":\"white\",\"gridwidth\":2},\"zaxis\":{\"backgroundcolor\":\"#E5ECF6\",\"gridcolor\":\"white\",\"linecolor\":\"white\",\"showbackground\":true,\"ticks\":\"\",\"zerolinecolor\":\"white\",\"gridwidth\":2}},\"shapedefaults\":{\"line\":{\"color\":\"#2a3f5f\"}},\"annotationdefaults\":{\"arrowcolor\":\"#2a3f5f\",\"arrowhead\":0,\"arrowwidth\":1},\"geo\":{\"bgcolor\":\"white\",\"landcolor\":\"#E5ECF6\",\"subunitcolor\":\"white\",\"showland\":true,\"showlakes\":true,\"lakecolor\":\"white\"},\"title\":{\"x\":0.05},\"mapbox\":{\"style\":\"light\"},\"margin\":{\"b\":0,\"l\":0,\"r\":0,\"t\":30}}},\"xaxis\":{\"anchor\":\"y\",\"domain\":[0.0,1.0],\"title\":{\"text\":\"species\"}},\"yaxis\":{\"anchor\":\"x\",\"domain\":[0.0,1.0],\"title\":{\"text\":\"count\"}},\"legend\":{\"title\":{\"text\":\"island\"},\"tracegroupgap\":0},\"barmode\":\"relative\"},                        {\"responsive\": true}                    ).then(function(){\n",
       "                            \n",
       "var gd = document.getElementById('2ee9817b-93a8-4415-88de-e29a5d34377a');\n",
       "var x = new MutationObserver(function (mutations, observer) {{\n",
       "        var display = window.getComputedStyle(gd).display;\n",
       "        if (!display || display === 'none') {{\n",
       "            console.log([gd, 'removed!']);\n",
       "            Plotly.purge(gd);\n",
       "            observer.disconnect();\n",
       "        }}\n",
       "}});\n",
       "\n",
       "// Listen for the removal of the full notebook cells\n",
       "var notebookContainer = gd.closest('#notebook-container');\n",
       "if (notebookContainer) {{\n",
       "    x.observe(notebookContainer, {childList: true});\n",
       "}}\n",
       "\n",
       "// Listen for the clearing of the current output cell\n",
       "var outputEl = gd.closest('.output');\n",
       "if (outputEl) {{\n",
       "    x.observe(outputEl, {childList: true});\n",
       "}}\n",
       "\n",
       "                        })                };                });            </script>        </div>"
      ]
     },
     "metadata": {},
     "output_type": "display_data"
    }
   ],
   "source": [
    "px.bar(\n",
    "    penguins_df[['island', 'species']].value_counts().reset_index(),\n",
    "    x='species',\n",
    "    y='count',\n",
    "    color='island'\n",
    ")"
   ]
  },
  {
   "cell_type": "code",
   "execution_count": 6,
   "metadata": {},
   "outputs": [
    {
     "data": {
      "text/html": [
       "<div>                            <div id=\"234c8674-329f-4b2d-a10e-f25d82e89e87\" class=\"plotly-graph-div\" style=\"height:525px; width:100%;\"></div>            <script type=\"text/javascript\">                require([\"plotly\"], function(Plotly) {                    window.PLOTLYENV=window.PLOTLYENV || {};                                    if (document.getElementById(\"234c8674-329f-4b2d-a10e-f25d82e89e87\")) {                    Plotly.newPlot(                        \"234c8674-329f-4b2d-a10e-f25d82e89e87\",                        [{\"alignmentgroup\":\"True\",\"hovertemplate\":\"species=Gentoo\\u003cbr\\u003eisland=%{x}\\u003cbr\\u003ecount=%{y}\\u003cextra\\u003e\\u003c\\u002fextra\\u003e\",\"legendgroup\":\"Gentoo\",\"marker\":{\"color\":\"#636efa\",\"pattern\":{\"shape\":\"\"}},\"name\":\"Gentoo\",\"offsetgroup\":\"Gentoo\",\"orientation\":\"v\",\"showlegend\":true,\"textposition\":\"auto\",\"x\":[\"Biscoe\"],\"xaxis\":\"x\",\"y\":[124],\"yaxis\":\"y\",\"type\":\"bar\"},{\"alignmentgroup\":\"True\",\"hovertemplate\":\"species=Chinstrap\\u003cbr\\u003eisland=%{x}\\u003cbr\\u003ecount=%{y}\\u003cextra\\u003e\\u003c\\u002fextra\\u003e\",\"legendgroup\":\"Chinstrap\",\"marker\":{\"color\":\"#EF553B\",\"pattern\":{\"shape\":\"\"}},\"name\":\"Chinstrap\",\"offsetgroup\":\"Chinstrap\",\"orientation\":\"v\",\"showlegend\":true,\"textposition\":\"auto\",\"x\":[\"Dream\"],\"xaxis\":\"x\",\"y\":[68],\"yaxis\":\"y\",\"type\":\"bar\"},{\"alignmentgroup\":\"True\",\"hovertemplate\":\"species=Adelie\\u003cbr\\u003eisland=%{x}\\u003cbr\\u003ecount=%{y}\\u003cextra\\u003e\\u003c\\u002fextra\\u003e\",\"legendgroup\":\"Adelie\",\"marker\":{\"color\":\"#00cc96\",\"pattern\":{\"shape\":\"\"}},\"name\":\"Adelie\",\"offsetgroup\":\"Adelie\",\"orientation\":\"v\",\"showlegend\":true,\"textposition\":\"auto\",\"x\":[\"Dream\",\"Torgersen\",\"Biscoe\"],\"xaxis\":\"x\",\"y\":[56,52,44],\"yaxis\":\"y\",\"type\":\"bar\"}],                        {\"template\":{\"data\":{\"histogram2dcontour\":[{\"type\":\"histogram2dcontour\",\"colorbar\":{\"outlinewidth\":0,\"ticks\":\"\"},\"colorscale\":[[0.0,\"#0d0887\"],[0.1111111111111111,\"#46039f\"],[0.2222222222222222,\"#7201a8\"],[0.3333333333333333,\"#9c179e\"],[0.4444444444444444,\"#bd3786\"],[0.5555555555555556,\"#d8576b\"],[0.6666666666666666,\"#ed7953\"],[0.7777777777777778,\"#fb9f3a\"],[0.8888888888888888,\"#fdca26\"],[1.0,\"#f0f921\"]]}],\"choropleth\":[{\"type\":\"choropleth\",\"colorbar\":{\"outlinewidth\":0,\"ticks\":\"\"}}],\"histogram2d\":[{\"type\":\"histogram2d\",\"colorbar\":{\"outlinewidth\":0,\"ticks\":\"\"},\"colorscale\":[[0.0,\"#0d0887\"],[0.1111111111111111,\"#46039f\"],[0.2222222222222222,\"#7201a8\"],[0.3333333333333333,\"#9c179e\"],[0.4444444444444444,\"#bd3786\"],[0.5555555555555556,\"#d8576b\"],[0.6666666666666666,\"#ed7953\"],[0.7777777777777778,\"#fb9f3a\"],[0.8888888888888888,\"#fdca26\"],[1.0,\"#f0f921\"]]}],\"heatmap\":[{\"type\":\"heatmap\",\"colorbar\":{\"outlinewidth\":0,\"ticks\":\"\"},\"colorscale\":[[0.0,\"#0d0887\"],[0.1111111111111111,\"#46039f\"],[0.2222222222222222,\"#7201a8\"],[0.3333333333333333,\"#9c179e\"],[0.4444444444444444,\"#bd3786\"],[0.5555555555555556,\"#d8576b\"],[0.6666666666666666,\"#ed7953\"],[0.7777777777777778,\"#fb9f3a\"],[0.8888888888888888,\"#fdca26\"],[1.0,\"#f0f921\"]]}],\"heatmapgl\":[{\"type\":\"heatmapgl\",\"colorbar\":{\"outlinewidth\":0,\"ticks\":\"\"},\"colorscale\":[[0.0,\"#0d0887\"],[0.1111111111111111,\"#46039f\"],[0.2222222222222222,\"#7201a8\"],[0.3333333333333333,\"#9c179e\"],[0.4444444444444444,\"#bd3786\"],[0.5555555555555556,\"#d8576b\"],[0.6666666666666666,\"#ed7953\"],[0.7777777777777778,\"#fb9f3a\"],[0.8888888888888888,\"#fdca26\"],[1.0,\"#f0f921\"]]}],\"contourcarpet\":[{\"type\":\"contourcarpet\",\"colorbar\":{\"outlinewidth\":0,\"ticks\":\"\"}}],\"contour\":[{\"type\":\"contour\",\"colorbar\":{\"outlinewidth\":0,\"ticks\":\"\"},\"colorscale\":[[0.0,\"#0d0887\"],[0.1111111111111111,\"#46039f\"],[0.2222222222222222,\"#7201a8\"],[0.3333333333333333,\"#9c179e\"],[0.4444444444444444,\"#bd3786\"],[0.5555555555555556,\"#d8576b\"],[0.6666666666666666,\"#ed7953\"],[0.7777777777777778,\"#fb9f3a\"],[0.8888888888888888,\"#fdca26\"],[1.0,\"#f0f921\"]]}],\"surface\":[{\"type\":\"surface\",\"colorbar\":{\"outlinewidth\":0,\"ticks\":\"\"},\"colorscale\":[[0.0,\"#0d0887\"],[0.1111111111111111,\"#46039f\"],[0.2222222222222222,\"#7201a8\"],[0.3333333333333333,\"#9c179e\"],[0.4444444444444444,\"#bd3786\"],[0.5555555555555556,\"#d8576b\"],[0.6666666666666666,\"#ed7953\"],[0.7777777777777778,\"#fb9f3a\"],[0.8888888888888888,\"#fdca26\"],[1.0,\"#f0f921\"]]}],\"mesh3d\":[{\"type\":\"mesh3d\",\"colorbar\":{\"outlinewidth\":0,\"ticks\":\"\"}}],\"scatter\":[{\"fillpattern\":{\"fillmode\":\"overlay\",\"size\":10,\"solidity\":0.2},\"type\":\"scatter\"}],\"parcoords\":[{\"type\":\"parcoords\",\"line\":{\"colorbar\":{\"outlinewidth\":0,\"ticks\":\"\"}}}],\"scatterpolargl\":[{\"type\":\"scatterpolargl\",\"marker\":{\"colorbar\":{\"outlinewidth\":0,\"ticks\":\"\"}}}],\"bar\":[{\"error_x\":{\"color\":\"#2a3f5f\"},\"error_y\":{\"color\":\"#2a3f5f\"},\"marker\":{\"line\":{\"color\":\"#E5ECF6\",\"width\":0.5},\"pattern\":{\"fillmode\":\"overlay\",\"size\":10,\"solidity\":0.2}},\"type\":\"bar\"}],\"scattergeo\":[{\"type\":\"scattergeo\",\"marker\":{\"colorbar\":{\"outlinewidth\":0,\"ticks\":\"\"}}}],\"scatterpolar\":[{\"type\":\"scatterpolar\",\"marker\":{\"colorbar\":{\"outlinewidth\":0,\"ticks\":\"\"}}}],\"histogram\":[{\"marker\":{\"pattern\":{\"fillmode\":\"overlay\",\"size\":10,\"solidity\":0.2}},\"type\":\"histogram\"}],\"scattergl\":[{\"type\":\"scattergl\",\"marker\":{\"colorbar\":{\"outlinewidth\":0,\"ticks\":\"\"}}}],\"scatter3d\":[{\"type\":\"scatter3d\",\"line\":{\"colorbar\":{\"outlinewidth\":0,\"ticks\":\"\"}},\"marker\":{\"colorbar\":{\"outlinewidth\":0,\"ticks\":\"\"}}}],\"scattermapbox\":[{\"type\":\"scattermapbox\",\"marker\":{\"colorbar\":{\"outlinewidth\":0,\"ticks\":\"\"}}}],\"scatterternary\":[{\"type\":\"scatterternary\",\"marker\":{\"colorbar\":{\"outlinewidth\":0,\"ticks\":\"\"}}}],\"scattercarpet\":[{\"type\":\"scattercarpet\",\"marker\":{\"colorbar\":{\"outlinewidth\":0,\"ticks\":\"\"}}}],\"carpet\":[{\"aaxis\":{\"endlinecolor\":\"#2a3f5f\",\"gridcolor\":\"white\",\"linecolor\":\"white\",\"minorgridcolor\":\"white\",\"startlinecolor\":\"#2a3f5f\"},\"baxis\":{\"endlinecolor\":\"#2a3f5f\",\"gridcolor\":\"white\",\"linecolor\":\"white\",\"minorgridcolor\":\"white\",\"startlinecolor\":\"#2a3f5f\"},\"type\":\"carpet\"}],\"table\":[{\"cells\":{\"fill\":{\"color\":\"#EBF0F8\"},\"line\":{\"color\":\"white\"}},\"header\":{\"fill\":{\"color\":\"#C8D4E3\"},\"line\":{\"color\":\"white\"}},\"type\":\"table\"}],\"barpolar\":[{\"marker\":{\"line\":{\"color\":\"#E5ECF6\",\"width\":0.5},\"pattern\":{\"fillmode\":\"overlay\",\"size\":10,\"solidity\":0.2}},\"type\":\"barpolar\"}],\"pie\":[{\"automargin\":true,\"type\":\"pie\"}]},\"layout\":{\"autotypenumbers\":\"strict\",\"colorway\":[\"#636efa\",\"#EF553B\",\"#00cc96\",\"#ab63fa\",\"#FFA15A\",\"#19d3f3\",\"#FF6692\",\"#B6E880\",\"#FF97FF\",\"#FECB52\"],\"font\":{\"color\":\"#2a3f5f\"},\"hovermode\":\"closest\",\"hoverlabel\":{\"align\":\"left\"},\"paper_bgcolor\":\"white\",\"plot_bgcolor\":\"#E5ECF6\",\"polar\":{\"bgcolor\":\"#E5ECF6\",\"angularaxis\":{\"gridcolor\":\"white\",\"linecolor\":\"white\",\"ticks\":\"\"},\"radialaxis\":{\"gridcolor\":\"white\",\"linecolor\":\"white\",\"ticks\":\"\"}},\"ternary\":{\"bgcolor\":\"#E5ECF6\",\"aaxis\":{\"gridcolor\":\"white\",\"linecolor\":\"white\",\"ticks\":\"\"},\"baxis\":{\"gridcolor\":\"white\",\"linecolor\":\"white\",\"ticks\":\"\"},\"caxis\":{\"gridcolor\":\"white\",\"linecolor\":\"white\",\"ticks\":\"\"}},\"coloraxis\":{\"colorbar\":{\"outlinewidth\":0,\"ticks\":\"\"}},\"colorscale\":{\"sequential\":[[0.0,\"#0d0887\"],[0.1111111111111111,\"#46039f\"],[0.2222222222222222,\"#7201a8\"],[0.3333333333333333,\"#9c179e\"],[0.4444444444444444,\"#bd3786\"],[0.5555555555555556,\"#d8576b\"],[0.6666666666666666,\"#ed7953\"],[0.7777777777777778,\"#fb9f3a\"],[0.8888888888888888,\"#fdca26\"],[1.0,\"#f0f921\"]],\"sequentialminus\":[[0.0,\"#0d0887\"],[0.1111111111111111,\"#46039f\"],[0.2222222222222222,\"#7201a8\"],[0.3333333333333333,\"#9c179e\"],[0.4444444444444444,\"#bd3786\"],[0.5555555555555556,\"#d8576b\"],[0.6666666666666666,\"#ed7953\"],[0.7777777777777778,\"#fb9f3a\"],[0.8888888888888888,\"#fdca26\"],[1.0,\"#f0f921\"]],\"diverging\":[[0,\"#8e0152\"],[0.1,\"#c51b7d\"],[0.2,\"#de77ae\"],[0.3,\"#f1b6da\"],[0.4,\"#fde0ef\"],[0.5,\"#f7f7f7\"],[0.6,\"#e6f5d0\"],[0.7,\"#b8e186\"],[0.8,\"#7fbc41\"],[0.9,\"#4d9221\"],[1,\"#276419\"]]},\"xaxis\":{\"gridcolor\":\"white\",\"linecolor\":\"white\",\"ticks\":\"\",\"title\":{\"standoff\":15},\"zerolinecolor\":\"white\",\"automargin\":true,\"zerolinewidth\":2},\"yaxis\":{\"gridcolor\":\"white\",\"linecolor\":\"white\",\"ticks\":\"\",\"title\":{\"standoff\":15},\"zerolinecolor\":\"white\",\"automargin\":true,\"zerolinewidth\":2},\"scene\":{\"xaxis\":{\"backgroundcolor\":\"#E5ECF6\",\"gridcolor\":\"white\",\"linecolor\":\"white\",\"showbackground\":true,\"ticks\":\"\",\"zerolinecolor\":\"white\",\"gridwidth\":2},\"yaxis\":{\"backgroundcolor\":\"#E5ECF6\",\"gridcolor\":\"white\",\"linecolor\":\"white\",\"showbackground\":true,\"ticks\":\"\",\"zerolinecolor\":\"white\",\"gridwidth\":2},\"zaxis\":{\"backgroundcolor\":\"#E5ECF6\",\"gridcolor\":\"white\",\"linecolor\":\"white\",\"showbackground\":true,\"ticks\":\"\",\"zerolinecolor\":\"white\",\"gridwidth\":2}},\"shapedefaults\":{\"line\":{\"color\":\"#2a3f5f\"}},\"annotationdefaults\":{\"arrowcolor\":\"#2a3f5f\",\"arrowhead\":0,\"arrowwidth\":1},\"geo\":{\"bgcolor\":\"white\",\"landcolor\":\"#E5ECF6\",\"subunitcolor\":\"white\",\"showland\":true,\"showlakes\":true,\"lakecolor\":\"white\"},\"title\":{\"x\":0.05},\"mapbox\":{\"style\":\"light\"},\"margin\":{\"b\":0,\"l\":0,\"r\":0,\"t\":30}}},\"xaxis\":{\"anchor\":\"y\",\"domain\":[0.0,1.0],\"title\":{\"text\":\"island\"}},\"yaxis\":{\"anchor\":\"x\",\"domain\":[0.0,1.0],\"title\":{\"text\":\"count\"}},\"legend\":{\"title\":{\"text\":\"species\"},\"tracegroupgap\":0},\"barmode\":\"relative\"},                        {\"responsive\": true}                    ).then(function(){\n",
       "                            \n",
       "var gd = document.getElementById('234c8674-329f-4b2d-a10e-f25d82e89e87');\n",
       "var x = new MutationObserver(function (mutations, observer) {{\n",
       "        var display = window.getComputedStyle(gd).display;\n",
       "        if (!display || display === 'none') {{\n",
       "            console.log([gd, 'removed!']);\n",
       "            Plotly.purge(gd);\n",
       "            observer.disconnect();\n",
       "        }}\n",
       "}});\n",
       "\n",
       "// Listen for the removal of the full notebook cells\n",
       "var notebookContainer = gd.closest('#notebook-container');\n",
       "if (notebookContainer) {{\n",
       "    x.observe(notebookContainer, {childList: true});\n",
       "}}\n",
       "\n",
       "// Listen for the clearing of the current output cell\n",
       "var outputEl = gd.closest('.output');\n",
       "if (outputEl) {{\n",
       "    x.observe(outputEl, {childList: true});\n",
       "}}\n",
       "\n",
       "                        })                };                });            </script>        </div>"
      ]
     },
     "metadata": {},
     "output_type": "display_data"
    }
   ],
   "source": [
    "px.bar(\n",
    "    penguins_df[['island', 'species']].value_counts().reset_index(),\n",
    "    x='island',\n",
    "    y='count',\n",
    "    color='species'\n",
    ")"
   ]
  }
 ],
 "metadata": {
  "kernelspec": {
   "display_name": "hsma_reproducible_reporting",
   "language": "python",
   "name": "python3"
  },
  "language_info": {
   "codemirror_mode": {
    "name": "ipython",
    "version": 3
   },
   "file_extension": ".py",
   "mimetype": "text/x-python",
   "name": "python",
   "nbconvert_exporter": "python",
   "pygments_lexer": "ipython3",
   "version": "3.11.9"
  }
 },
 "nbformat": 4,
 "nbformat_minor": 2
}
