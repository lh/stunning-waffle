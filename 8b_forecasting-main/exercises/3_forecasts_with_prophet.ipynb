{
 "cells": [
  {
   "cell_type": "markdown",
   "metadata": {},
   "source": [
    "# Forecasting Daily Data using Facebook Prophet\n",
    "\n",
    "**In this practical you will learn:**\n",
    "\n",
    "* How to wrangle time series data into `Prophet` format\n",
    "* How to fit a `Prophet` model to a time series\n",
    "* How to obtain a point forecast and prediction intervals using `Prophet`\n",
    "* How to model special calender events.\n",
    "* How to use `Prophet`'s built in diagnostic and cross validation tools"
   ]
  },
  {
   "cell_type": "markdown",
   "metadata": {},
   "source": [
    "## Standard Imports"
   ]
  },
  {
   "cell_type": "code",
   "execution_count": null,
   "metadata": {},
   "outputs": [],
   "source": [
    "import numpy as np\n",
    "import pandas as pd\n",
    "import matplotlib.pyplot as plt"
   ]
  },
  {
   "cell_type": "markdown",
   "metadata": {},
   "source": [
    "## FB Prophet Imports\n",
    "\n",
    "If you are using the provided conda environment `hsma4_forecast9b` you will already have `prophet` installed. "
   ]
  },
  {
   "cell_type": "code",
   "execution_count": null,
   "metadata": {},
   "outputs": [],
   "source": [
    "from prophet import Prophet\n",
    "\n",
    "import prophet\n",
    "\n",
    "# should be version 1.0 or above\n",
    "prophet.__version__"
   ]
  },
  {
   "cell_type": "markdown",
   "metadata": {},
   "source": [
    "## forecast-tools imports"
   ]
  },
  {
   "cell_type": "code",
   "execution_count": null,
   "metadata": {},
   "outputs": [],
   "source": [
    "#uncomment if you need to install forecast-tools\n",
    "#!pip install forecast-tools"
   ]
  },
  {
   "cell_type": "code",
   "execution_count": null,
   "metadata": {},
   "outputs": [],
   "source": [
    "from forecast_tools.model_selection import auto_naive\n",
    "from forecast_tools.metrics import mean_absolute_error"
   ]
  },
  {
   "cell_type": "markdown",
   "metadata": {},
   "source": [
    "# Data - ED reattendances\n",
    "\n",
    "We will use an time series of patients that reattend an ED within 7 days.  The data are held at the **daily** level.\n",
    "\n",
    "The data is held in the file `ed_reattends_day.csv`\n",
    "\n",
    "# Exercise 1: Read in and adjust\n",
    "\n",
    "**Task:**\n",
    "\n",
    "* Load `ed_reattends_day.csv` (url provided below)\n",
    "* Plot the data\n",
    "* Name the `pd.DataFrame` you create `y_train`\n",
    "\n",
    "**Hints**\n",
    "\n",
    "* The data is stored in UK day first format.\n",
    "* Remember to set the freq of the DataTimeIndex\n",
    "\n",
    "**Questions**:\n",
    "* How would you describe the time series?"
   ]
  },
  {
   "cell_type": "code",
   "execution_count": null,
   "metadata": {},
   "outputs": [],
   "source": [
    "# your code here ...\n",
    "url = 'https://raw.githubusercontent.com/hsma5/9b_forecasting_with_prophet/' \\\n",
    "      + 'main/data/ed_reattends_day.csv'"
   ]
  },
  {
   "cell_type": "markdown",
   "metadata": {},
   "source": [
    "# Exercise 2: Wrangle the data into Prophet Format\n",
    "\n",
    "A `Prophet` model requires the data in a `pd.DataFrame` with two columns: 'ds' - the datetimestamp and `y` the observations used in training (the index is an arbitrary numeric value).  But your current (and standard form) dataframe has a datetimeindex \n",
    "\n",
    "**Task:**\n",
    "\n",
    "* Code a function that converts the training data into the correct format for Prophet.\n",
    "* The end product should be a dataframe with 2 columns (in the following order)\n",
    " * 'ds': the date\n",
    " * 'y': the number of reattends on that day.\n",
    "* Convert your data"
   ]
  },
  {
   "cell_type": "code",
   "execution_count": null,
   "metadata": {},
   "outputs": [],
   "source": [
    "# your code goes here..."
   ]
  },
  {
   "cell_type": "markdown",
   "metadata": {},
   "source": [
    "# Exercise 3: Fit and predict using a basic Prophet model\n",
    "\n",
    "Fitting a basic Prophet model is relatively straightforward.  We need to create a `Prophet` object\n",
    "\n",
    "```python\n",
    "model = Prophet()\n",
    "```\n",
    "Unlike our naive forecasting where we specified the prediction interval width at prediction time, with Prophet we need to specify the interval width as we create the model.  We do this using the parameter `interval_width`.  By default this produces a 80\\% prediction interval.  Note we specify a $1-\\alpha$ interval width (unlike in our naive models where we specified $\\alpha$)\n",
    "\n",
    "```python\n",
    "model = Prophet(interval_width=0.95)\n",
    "```\n",
    "\n",
    "and call `.fit()` passing in the training data.\n",
    "\n",
    "```python\n",
    "model.fit(y_train)\n",
    "```\n",
    "\n",
    "## Exercise 3.1 Fitting\n",
    "**Task:**\n",
    "\n",
    "* Fit a basic `Prophet` model to the training data\n",
    "* Set the model up to produce 95\\% prediction intervals\n",
    "\n",
    "> You might find that Prophet warns you that it has disabled **daily seasonality**.  This is slightly confusing terminology.  What it means is that it is not fitting intra-day, e.g. hourly, seasonality."
   ]
  },
  {
   "cell_type": "code",
   "execution_count": null,
   "metadata": {},
   "outputs": [],
   "source": [
    "# your code here ..."
   ]
  },
  {
   "cell_type": "markdown",
   "metadata": {},
   "source": [
    "# Exercise 3.2 Forecasting\n",
    "\n",
    "There are two steps to makeing a forecast with a fitted `Prophet` model.  You must first create a future dataframe.  This is a `pd.DataFrame` with a single column 'ds' that runs from the start of the training period until the end of the training period + a horizon.  Prophet makes this easy by including a `make_future_dataframe()` method.\n",
    "\n",
    "```python\n",
    "future = model.make_future_dataframe(periods=28)\n",
    "```\n",
    "\n",
    "Once we have the future dataframe we can pass that to the predict method.\n",
    "\n",
    "```python\n",
    "prophet_forecast = model.predict(future)\n",
    "```\n",
    "\n",
    "This returns a `pd.DataFrame` that contains both the in-sample fitted values and the out of sample forecasts. It contains all of the components of the fitted model. For example the last 5 rows of a forecast are:\n",
    "\n",
    "|      | ds                  |   trend |   yhat_lower |   yhat_upper |   trend_lower |   trend_upper |   additive_terms |   additive_terms_lower |   additive_terms_upper |    weekly |   weekly_lower |   weekly_upper |   yearly |   yearly_lower |   yearly_upper |   multiplicative_terms |   multiplicative_terms_lower |   multiplicative_terms_upper |    yhat |\n",
    "|-----:|:--------------------|--------:|-------------:|-------------:|--------------:|--------------:|-----------------:|-----------------------:|-----------------------:|----------:|---------------:|---------------:|---------:|---------------:|---------------:|-----------------------:|-----------------------------:|-----------------------------:|--------:|\n",
    "| 1629 | 2018-09-18 00:00:00 | 187.353 |      163.694 |      236.271 |       186.22  |       188.383 |        11.0807   |              11.0807   |              11.0807   |  -2.83494 |       -2.83494 |       -2.83494 |  13.9156 |        13.9156 |        13.9156 |                      0 |                            0 |                            0 | 198.433 |\n",
    "| 1630 | 2018-09-19 00:00:00 | 187.305 |      157.7   |      226.979 |       186.153 |       188.356 |         5.91039  |               5.91039  |               5.91039  |  -7.49286 |       -7.49286 |       -7.49286 |  13.4032 |        13.4032 |        13.4032 |                      0 |                            0 |                            0 | 193.215 |\n",
    "| 1631 | 2018-09-20 00:00:00 | 187.257 |      150.343 |      224.271 |       186.088 |       188.328 |         0.527382 |               0.527382 |               0.527382 | -12.3179  |      -12.3179  |      -12.3179  |  12.8452 |        12.8452 |        12.8452 |                      0 |                            0 |                            0 | 187.785 |\n",
    "| 1632 | 2018-09-21 00:00:00 | 187.209 |      156.873 |      226.588 |       186.023 |       188.3   |         3.90459  |               3.90459  |               3.90459  |  -8.34281 |       -8.34281 |       -8.34281 |  12.2474 |        12.2474 |        12.2474 |                      0 |                            0 |                            0 | 191.114 |\n",
    "| 1633 | 2018-09-22 00:00:00 | 187.162 |      169.299 |      241.272 |       185.954 |       188.272 |        15.9777   |              15.9777   |              15.9777   |   4.36149 |        4.36149 |        4.36149 |  11.6162 |        11.6162 |        11.6162 |                      0 |                            0 |                            0 | 203.139 |\n",
    "\n",
    "\n",
    "We can the plot the forecast using Prophet's built in functionality\n",
    "\n",
    "```python\n",
    "model.plot(prophet_forecast);\n",
    "```\n",
    "\n",
    "In the plot you will see\n",
    "\n",
    "* Black dots - these represent the actual observations (training data)\n",
    "* Blue line - this represents the point forecast\n",
    "* Light blue shaded region - this is the 95\\% prediction interval\n",
    "\n",
    "**Task:**\n",
    "* Use your Prophet model to make a 84 day prediction.\n",
    "* Plot the prediction"
   ]
  },
  {
   "cell_type": "code",
   "execution_count": null,
   "metadata": {},
   "outputs": [],
   "source": [
    "# your code here ..."
   ]
  },
  {
   "cell_type": "markdown",
   "metadata": {},
   "source": [
    "# Exercise 4: Plot the model components\n",
    "\n",
    "To decompose the Prophet model and see the trend and seasonal components you can call:\n",
    "\n",
    "```python\n",
    "model.plot_components(forecast)\n",
    "```\n",
    "\n",
    "**Task:**\n",
    "\n",
    "* Plot the Prophet model's trend and seasonal components.\n",
    "\n",
    "\n",
    "**Questions:**\n",
    "* What observations can you make about the weekly (i.e. days of the week) and yearly (i.e months of the year) seasonality?"
   ]
  },
  {
   "cell_type": "markdown",
   "metadata": {},
   "source": [
    "\n",
    "# Exercise 5: Adding standard holidays\n",
    "\n",
    "As this is ED reattendance data at the daily level, it is likely that we will be seeing some calender day/holiday effects.  Prophet has been designed to deal with 'holidays'.  Effectively a series of binary variables are added for each holiday.\n",
    "\n",
    "Prophet has a number of standard holidays built in by country.  To add them in for 'UK' you would use the following code:\n",
    "\n",
    "```python\n",
    "model = Prophet(interval_width=0.95)\n",
    "model.add_country_holidays(country_name='UK')\n",
    "model.fit(y_train)\n",
    "```\n",
    "\n",
    "Note that you call the `add_country_holidays` **before** you fit the model.  This is because it is command telling Prophet what you would like to fit.\n",
    "\n",
    "To see what models have been fitted you can call:\n",
    "\n",
    "```python\n",
    "model.train_holiday_names.to_list()\n",
    "```\n",
    "\n",
    "When you plot the components of the model a new panel will be added for holidays.  It can sometimes be a bit difficult to which holidays are having which effect so you can plot individual holidays as follows:\n",
    "\n",
    "```python\n",
    "from prophet.plot import plot_forecast_component\n",
    "\n",
    "plot_forecast_component(model, prophet_forecast, 'Christmas Day');\n",
    "```\n",
    "\n",
    "**Task:**\n",
    "\n",
    "* Modify your code to include a holidays for 'UK'\n",
    "* Make an 84 day forecast\n",
    "* Plot the model components. \n",
    "* Explore the holidays\n",
    "\n",
    "**Questions:**\n",
    "\n",
    "* What do you notice about Christmas day, Easter Monday and Good Friday?  Are there any other days that appear important?\n",
    "\n",
    "**Hints:**\n",
    "* Take a look at the new forecast dataframe.  This includes new columns with the effect of each `holidays`."
   ]
  },
  {
   "cell_type": "code",
   "execution_count": null,
   "metadata": {},
   "outputs": [],
   "source": [
    "#your code here ..."
   ]
  },
  {
   "cell_type": "markdown",
   "metadata": {},
   "source": [
    "# END"
   ]
  }
 ],
 "metadata": {
  "kernelspec": {
   "display_name": "Python 3 (ipykernel)",
   "language": "python",
   "name": "python3"
  },
  "language_info": {
   "codemirror_mode": {
    "name": "ipython",
    "version": 3
   },
   "file_extension": ".py",
   "mimetype": "text/x-python",
   "name": "python",
   "nbconvert_exporter": "python",
   "pygments_lexer": "ipython3",
   "version": "3.9.13"
  }
 },
 "nbformat": 4,
 "nbformat_minor": 4
}
