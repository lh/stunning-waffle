{
 "cells": [
  {
   "cell_type": "markdown",
   "metadata": {},
   "source": [
    "# HSMA Introduction to Prophet\n",
    "### Code along lecture 1: preprocessing data into Prophet format\n",
    "\n",
    "**In this code along lecture you will learn:**\n",
    "* How to convert time series data into a `pandas.DataFrame` in Prophet format.\n",
    "---"
   ]
  },
  {
   "cell_type": "markdown",
   "metadata": {},
   "source": [
    "### Library imports"
   ]
  },
  {
   "cell_type": "code",
   "execution_count": null,
   "metadata": {},
   "outputs": [],
   "source": [
    "import numpy as np\n",
    "import pandas as pd\n",
    "import matplotlib.pyplot as plt"
   ]
  },
  {
   "cell_type": "markdown",
   "metadata": {},
   "source": [
    "### **Step 1**: Loading a standard time series\n",
    "\n",
    "See full list of offset aliases [HERE](https://pandas.pydata.org/pandas-docs/stable/user_guide/timeseries.html#offset-aliases)"
   ]
  },
  {
   "cell_type": "code",
   "execution_count": null,
   "metadata": {},
   "outputs": [],
   "source": [
    "url = 'https://raw.githubusercontent.com/hsma-master/hsma/master/' + \\\n",
    "        '12b_simple_forecasting/data/resp_admits_day.csv'\n",
    "y_train = pd.read_csv(url,\n",
    "                      parse_dates=True,\n",
    "                      dayfirst=True, #UK format\n",
    "                      index_col='date')\n",
    "y_train.index.freq = 'D' # daily"
   ]
  },
  {
   "cell_type": "code",
   "execution_count": null,
   "metadata": {},
   "outputs": [],
   "source": [
    "# Preview data\n",
    "y_train.head()"
   ]
  },
  {
   "cell_type": "code",
   "execution_count": null,
   "metadata": {},
   "outputs": [],
   "source": [
    "# Plot data\n",
    "# Not much trend...\n",
    "# Appears to have seasonality\n",
    "y_train.plot(figsize=(12,4));"
   ]
  },
  {
   "cell_type": "markdown",
   "metadata": {},
   "source": [
    "### **Step 2**: Wrangle data into Prophet format"
   ]
  },
  {
   "cell_type": "markdown",
   "metadata": {},
   "source": [
    "A `Prophet` model requires the data in a `pd.DataFrame` with two columns: \n",
    "* `ds` - the datetimestamp; and \n",
    "* `y` the observations used in training (the index is an arbitrary numeric value).  But your current (and standard form) dataframe has a datetimeindex "
   ]
  },
  {
   "cell_type": "code",
   "execution_count": null,
   "metadata": {},
   "outputs": [],
   "source": [
    "#create a new dataframe that just contains the dates\n",
    "prophet_train = pd.DataFrame(y_train.index)\n",
    "prophet_train.head()"
   ]
  },
  {
   "cell_type": "code",
   "execution_count": null,
   "metadata": {},
   "outputs": [],
   "source": [
    "prophet_train.shape"
   ]
  },
  {
   "cell_type": "code",
   "execution_count": null,
   "metadata": {},
   "outputs": [],
   "source": [
    "#create the y data \n",
    "prophet_train['y'] = y_train.to_numpy()\n",
    "prophet_train.head()"
   ]
  },
  {
   "cell_type": "code",
   "execution_count": null,
   "metadata": {},
   "outputs": [],
   "source": [
    "# Remane the columns accordingly\n",
    "prophet_train.columns = ['ds', 'y']\n",
    "prophet_train.head()"
   ]
  },
  {
   "cell_type": "markdown",
   "metadata": {},
   "source": [
    "#### Its a good idea to organise this as a reusable function"
   ]
  },
  {
   "cell_type": "code",
   "execution_count": null,
   "metadata": {},
   "outputs": [],
   "source": [
    "def prophet_training_data(y_train):\n",
    "    '''\n",
    "    Converts a standard pandas datetimeindexed dataframe\n",
    "    for time series into one suitable for Prophet\n",
    "    Parameters:\n",
    "    ---------\n",
    "    y_train: pd.DataFrame\n",
    "        univariate time series data\n",
    "        \n",
    "    Returns:\n",
    "    --------\n",
    "        pd.DataFrame in Prophet format \n",
    "        columns = ['ds', 'y']\n",
    "    '''\n",
    "    prophet_train = pd.DataFrame(y_train.index)\n",
    "    prophet_train['y'] = y_train.to_numpy()\n",
    "    prophet_train.columns = ['ds', 'y']\n",
    "\n",
    "    return prophet_train"
   ]
  },
  {
   "cell_type": "code",
   "execution_count": null,
   "metadata": {},
   "outputs": [],
   "source": [
    "# Test the UDF above\n",
    "yp_train = prophet_training_data(y_train)\n",
    "yp_train.head()"
   ]
  },
  {
   "cell_type": "markdown",
   "metadata": {},
   "source": [
    ".... Its useful because we can **reuse** it!"
   ]
  },
  {
   "cell_type": "code",
   "execution_count": null,
   "metadata": {},
   "outputs": [],
   "source": [
    "#load unprocessed data for ed reattendances\n",
    "url = 'https://raw.githubusercontent.com/hsma-master/hsma/master/' + \\\n",
    "        '12b_simple_forecasting/data/ed_reattends_day.csv'\n",
    "y_train2 = pd.read_csv(url,\n",
    "                       parse_dates=True,\n",
    "                       dayfirst=True, #DD/MM format dates, international and European format.\n",
    "                       index_col='date')\n",
    "y_train2.index.freq = 'D'\n",
    "\n",
    "#preprocess and preview\n",
    "yp_train2 = prophet_training_data(y_train2)\n",
    "yp_train2.head()"
   ]
  }
 ],
 "metadata": {
  "kernelspec": {
   "display_name": "Python 3 (ipykernel)",
   "language": "python",
   "name": "python3"
  },
  "language_info": {
   "codemirror_mode": {
    "name": "ipython",
    "version": 3
   },
   "file_extension": ".py",
   "mimetype": "text/x-python",
   "name": "python",
   "nbconvert_exporter": "python",
   "pygments_lexer": "ipython3",
   "version": "3.8.8"
  }
 },
 "nbformat": 4,
 "nbformat_minor": 4
}
