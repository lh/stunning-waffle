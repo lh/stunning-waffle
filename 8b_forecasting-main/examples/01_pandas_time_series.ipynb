{
 "cells": [
  {
   "cell_type": "markdown",
   "metadata": {},
   "source": [
    "# Loading time series data into Pandas\n",
    "\n",
    "This notebook demonstrates how to load a time series into a `pandas.DataFrame`.   There are a couple of extra steps we need to take when dealing with time series.\n",
    "\n",
    "* set the index of the `pandas.DataFrame` to be a `DateTimeIndex`\n",
    "* Set the frequency of the `DateTimeIndex` i.e. Days, Month, etc\n",
    "* parse dates and watch out for US and UK date format issues (i.e. mm/dd/yyyy Vs. dd/mm/yyyy)\n",
    "\n",
    "#### References\n",
    "* [Pandas Timeseries](#https://pandas.pydata.org/docs/user_guide/timeseries.html)\n",
    "\n",
    "* [Pandas `read_csv`](#https://pandas.pydata.org/docs/reference/api/pandas.read_csv.html)"
   ]
  },
  {
   "cell_type": "markdown",
   "metadata": {},
   "source": [
    "# Imports\n",
    "\n",
    "Lets import Pandas as usual and check the version number."
   ]
  },
  {
   "cell_type": "code",
   "execution_count": 1,
   "metadata": {},
   "outputs": [],
   "source": [
    "import pandas as pd"
   ]
  },
  {
   "cell_type": "markdown",
   "metadata": {},
   "source": [
    "### Alcohol sales dataset\n",
    "\n",
    "Let's download and open an example time series.  This particular one is alcohol sales (it looks like the figure below) and covers a large time scale (1992 - 2019) using monthly level data.  Its an interesting time series as the variation in it increases over time! It contains seasonality and trend, in addition to variability that increases over time (aka \"multiplicative seasonality\").\n",
    "\n",
    "![image](images/alcohol_ts.png)\n"
   ]
  },
  {
   "cell_type": "markdown",
   "metadata": {},
   "source": [
    "### Reading a CSV\n",
    "\n",
    "To load a time series into `pandas` you need to use the `read_csv()` function. Some additional steps\n",
    "\n",
    "* set `parse_dates=True` - this parses the dates (process data as date and not just a string)\n",
    "* set `index_col` to the name of the date column. In this example the column has a name called `DATE`\n",
    "* Before you load the dataset check the date format.  If it is in UK day first format then set `dayfirst=True`\n",
    "* After you have loaded the data set the frequency of the date time index\n",
    "    * Daily frequency = `D`\n",
    "    * Monthly frequency = `MS` (month start)\n",
    "    * See full list of offset aliases [HERE](https://pandas.pydata.org/pandas-docs/stable/user_guide/timeseries.html#offset-aliases)\n"
   ]
  },
  {
   "cell_type": "code",
   "execution_count": 2,
   "metadata": {},
   "outputs": [],
   "source": [
    "#read in data\n",
    "url = 'https://raw.githubusercontent.com/hsma5/9a_introduction_to_forecasting/main/' \\\n",
    "        + 'data/Alcohol_Sales.csv'\n",
    "ts = pd.read_csv(url, \n",
    "                 parse_dates=True, \n",
    "                 index_col='DATE')"
   ]
  },
  {
   "cell_type": "code",
   "execution_count": 3,
   "metadata": {},
   "outputs": [
    {
     "data": {
      "text/html": [
       "<div>\n",
       "<style scoped>\n",
       "    .dataframe tbody tr th:only-of-type {\n",
       "        vertical-align: middle;\n",
       "    }\n",
       "\n",
       "    .dataframe tbody tr th {\n",
       "        vertical-align: top;\n",
       "    }\n",
       "\n",
       "    .dataframe thead th {\n",
       "        text-align: right;\n",
       "    }\n",
       "</style>\n",
       "<table border=\"1\" class=\"dataframe\">\n",
       "  <thead>\n",
       "    <tr style=\"text-align: right;\">\n",
       "      <th></th>\n",
       "      <th>sales</th>\n",
       "    </tr>\n",
       "    <tr>\n",
       "      <th>DATE</th>\n",
       "      <th></th>\n",
       "    </tr>\n",
       "  </thead>\n",
       "  <tbody>\n",
       "    <tr>\n",
       "      <th>1992-01-01</th>\n",
       "      <td>3459</td>\n",
       "    </tr>\n",
       "    <tr>\n",
       "      <th>1992-02-01</th>\n",
       "      <td>3458</td>\n",
       "    </tr>\n",
       "    <tr>\n",
       "      <th>1992-03-01</th>\n",
       "      <td>4002</td>\n",
       "    </tr>\n",
       "    <tr>\n",
       "      <th>1992-04-01</th>\n",
       "      <td>4564</td>\n",
       "    </tr>\n",
       "    <tr>\n",
       "      <th>1992-05-01</th>\n",
       "      <td>4221</td>\n",
       "    </tr>\n",
       "  </tbody>\n",
       "</table>\n",
       "</div>"
      ],
      "text/plain": [
       "            sales\n",
       "DATE             \n",
       "1992-01-01   3459\n",
       "1992-02-01   3458\n",
       "1992-03-01   4002\n",
       "1992-04-01   4564\n",
       "1992-05-01   4221"
      ]
     },
     "execution_count": 3,
     "metadata": {},
     "output_type": "execute_result"
    }
   ],
   "source": [
    "#lets take a look at the data\n",
    "ts.head()"
   ]
  },
  {
   "cell_type": "code",
   "execution_count": 4,
   "metadata": {},
   "outputs": [
    {
     "name": "stdout",
     "output_type": "stream",
     "text": [
      "<class 'pandas.core.frame.DataFrame'>\n",
      "DatetimeIndex: 336 entries, 1992-01-01 to 2019-12-01\n",
      "Data columns (total 1 columns):\n",
      " #   Column  Non-Null Count  Dtype\n",
      "---  ------  --------------  -----\n",
      " 0   sales   336 non-null    int64\n",
      "dtypes: int64(1)\n",
      "memory usage: 5.2 KB\n"
     ]
    }
   ],
   "source": [
    "#lets take a look at the info\n",
    "ts.info()"
   ]
  },
  {
   "cell_type": "code",
   "execution_count": 5,
   "metadata": {},
   "outputs": [
    {
     "data": {
      "text/plain": [
       "DatetimeIndex(['1992-01-01', '1992-02-01', '1992-03-01', '1992-04-01',\n",
       "               '1992-05-01', '1992-06-01', '1992-07-01', '1992-08-01',\n",
       "               '1992-09-01', '1992-10-01',\n",
       "               ...\n",
       "               '2019-03-01', '2019-04-01', '2019-05-01', '2019-06-01',\n",
       "               '2019-07-01', '2019-08-01', '2019-09-01', '2019-10-01',\n",
       "               '2019-11-01', '2019-12-01'],\n",
       "              dtype='datetime64[ns]', name='DATE', length=336, freq=None)"
      ]
     },
     "execution_count": 5,
     "metadata": {},
     "output_type": "execute_result"
    }
   ],
   "source": [
    "# lets take a look at the index\n",
    "# datetime64[ns] can go down to the nano second, should that level\n",
    "# of granulairty be required.\n",
    "# NOTE the freq = None\n",
    "ts.index"
   ]
  },
  {
   "cell_type": "code",
   "execution_count": 6,
   "metadata": {},
   "outputs": [],
   "source": [
    "# set the frequency of the datetime index (monthly data)\n",
    "ts.index.freq = 'MS'"
   ]
  },
  {
   "cell_type": "code",
   "execution_count": 7,
   "metadata": {},
   "outputs": [
    {
     "data": {
      "text/plain": [
       "DatetimeIndex(['1992-01-01', '1992-02-01', '1992-03-01', '1992-04-01',\n",
       "               '1992-05-01', '1992-06-01', '1992-07-01', '1992-08-01',\n",
       "               '1992-09-01', '1992-10-01',\n",
       "               ...\n",
       "               '2019-03-01', '2019-04-01', '2019-05-01', '2019-06-01',\n",
       "               '2019-07-01', '2019-08-01', '2019-09-01', '2019-10-01',\n",
       "               '2019-11-01', '2019-12-01'],\n",
       "              dtype='datetime64[ns]', name='DATE', length=336, freq='MS')"
      ]
     },
     "execution_count": 7,
     "metadata": {},
     "output_type": "execute_result"
    }
   ],
   "source": [
    "# lets now take another look at the index\n",
    "ts.index"
   ]
  },
  {
   "cell_type": "code",
   "execution_count": 8,
   "metadata": {
    "scrolled": true
   },
   "outputs": [
    {
     "name": "stdout",
     "output_type": "stream",
     "text": [
      "<class 'pandas.core.frame.DataFrame'>\n",
      "DatetimeIndex: 336 entries, 1992-01-01 to 2019-12-01\n",
      "Freq: MS\n",
      "Data columns (total 1 columns):\n",
      " #   Column  Non-Null Count  Dtype\n",
      "---  ------  --------------  -----\n",
      " 0   sales   336 non-null    int64\n",
      "dtypes: int64(1)\n",
      "memory usage: 5.2 KB\n"
     ]
    }
   ],
   "source": [
    "# lets now take another look at the info\n",
    "# Freq: MS\n",
    "ts.info()"
   ]
  },
  {
   "cell_type": "code",
   "execution_count": 11,
   "metadata": {},
   "outputs": [
    {
     "data": {
      "text/html": [
       "<div>\n",
       "<style scoped>\n",
       "    .dataframe tbody tr th:only-of-type {\n",
       "        vertical-align: middle;\n",
       "    }\n",
       "\n",
       "    .dataframe tbody tr th {\n",
       "        vertical-align: top;\n",
       "    }\n",
       "\n",
       "    .dataframe thead th {\n",
       "        text-align: right;\n",
       "    }\n",
       "</style>\n",
       "<table border=\"1\" class=\"dataframe\">\n",
       "  <thead>\n",
       "    <tr style=\"text-align: right;\">\n",
       "      <th></th>\n",
       "      <th>sales</th>\n",
       "    </tr>\n",
       "    <tr>\n",
       "      <th>DATE</th>\n",
       "      <th></th>\n",
       "    </tr>\n",
       "  </thead>\n",
       "  <tbody>\n",
       "    <tr>\n",
       "      <th>1992-01-01</th>\n",
       "      <td>3459</td>\n",
       "    </tr>\n",
       "    <tr>\n",
       "      <th>1992-02-01</th>\n",
       "      <td>3458</td>\n",
       "    </tr>\n",
       "    <tr>\n",
       "      <th>1992-03-01</th>\n",
       "      <td>4002</td>\n",
       "    </tr>\n",
       "    <tr>\n",
       "      <th>1992-04-01</th>\n",
       "      <td>4564</td>\n",
       "    </tr>\n",
       "    <tr>\n",
       "      <th>1992-05-01</th>\n",
       "      <td>4221</td>\n",
       "    </tr>\n",
       "  </tbody>\n",
       "</table>\n",
       "</div>"
      ],
      "text/plain": [
       "            sales\n",
       "DATE             \n",
       "1992-01-01   3459\n",
       "1992-02-01   3458\n",
       "1992-03-01   4002\n",
       "1992-04-01   4564\n",
       "1992-05-01   4221"
      ]
     },
     "execution_count": 11,
     "metadata": {},
     "output_type": "execute_result"
    }
   ],
   "source": [
    "# read in data - concise\n",
    "url = 'https://raw.githubusercontent.com/hsma5/9a_introduction_to_forecasting/main/' \\\n",
    "        + 'data/Alcohol_Sales.csv'\n",
    "ts = pd.read_csv(url, \n",
    "                 parse_dates=True, \n",
    "                 index_col='DATE')\n",
    "# set the frequency of the datetime index (monthly data)\n",
    "ts.index.freq = 'MS'\n",
    "\n",
    "ts.head()\n"
   ]
  }
 ],
 "metadata": {
  "kernelspec": {
   "display_name": "Python 3 (ipykernel)",
   "language": "python",
   "name": "python3"
  },
  "language_info": {
   "codemirror_mode": {
    "name": "ipython",
    "version": 3
   },
   "file_extension": ".py",
   "mimetype": "text/x-python",
   "name": "python",
   "nbconvert_exporter": "python",
   "pygments_lexer": "ipython3",
   "version": "3.11.9"
  }
 },
 "nbformat": 4,
 "nbformat_minor": 4
}
