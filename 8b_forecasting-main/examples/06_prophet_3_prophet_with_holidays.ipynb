{
 "cells": [
  {
   "cell_type": "markdown",
   "metadata": {},
   "source": [
    "# HSMA Introduction to Prophet\n",
    "### Code along lecture 3: Adding 'holidays' to a Prophet model.\n",
    "\n",
    "AKA Spiky events that we need to model. This is done by adding dummy variables 0 when not that holiday and 1 for holiday.\n",
    "\n",
    "**In this code along lecture you will learn:**\n",
    "* How to model special calender events.\n",
    "---"
   ]
  },
  {
   "cell_type": "markdown",
   "metadata": {},
   "source": [
    "### Library imports"
   ]
  },
  {
   "cell_type": "code",
   "execution_count": null,
   "metadata": {},
   "outputs": [],
   "source": [
    "import numpy as np\n",
    "import pandas as pd\n",
    "import matplotlib.pyplot as plt"
   ]
  },
  {
   "cell_type": "markdown",
   "metadata": {},
   "source": [
    "### Prophet Imports"
   ]
  },
  {
   "cell_type": "code",
   "execution_count": null,
   "metadata": {},
   "outputs": [],
   "source": [
    "import prophet\n",
    "\n",
    "from prophet import Prophet\n",
    "from prophet.plot import (plot_plotly,\n",
    "                          plot_components_plotly,\n",
    "                          plot_forecast_component)\n",
    "\n",
    "# should be version 1.0 or above\n",
    "prophet.__version__"
   ]
  },
  {
   "cell_type": "markdown",
   "metadata": {},
   "source": [
    "### Utility functions"
   ]
  },
  {
   "cell_type": "code",
   "execution_count": null,
   "metadata": {},
   "outputs": [],
   "source": [
    "def prophet_training_data(y_train):\n",
    "    '''\n",
    "    Converts a standard pandas datetimeindexed dataframe\n",
    "    for time series into one suitable for Prophet\n",
    "    Parameters:\n",
    "    ---------\n",
    "    y_train: pd.DataFrame\n",
    "        univariate time series data\n",
    "\n",
    "    Returns:\n",
    "    --------\n",
    "        pd.DataFrame in Prophet format\n",
    "        columns = ['ds', 'y']\n",
    "    '''\n",
    "    prophet_train = pd.DataFrame(y_train.index)\n",
    "    prophet_train['y'] = y_train.to_numpy()\n",
    "    prophet_train.columns = ['ds', 'y']\n",
    "\n",
    "    return prophet_train"
   ]
  },
  {
   "cell_type": "markdown",
   "metadata": {},
   "source": [
    "### **Step 1**: Load and preprocess data"
   ]
  },
  {
   "cell_type": "code",
   "execution_count": null,
   "metadata": {},
   "outputs": [],
   "source": [
    "url = 'https://raw.githubusercontent.com/hsma4/module_9_b/master/data/' \\\n",
    "      + 'resp_admits_day.csv'\n",
    "y_train = pd.read_csv(url,\n",
    "                      parse_dates=True,\n",
    "                      dayfirst=True,\n",
    "                      index_col='date')\n",
    "y_train.index.freq = 'D'\n",
    "\n",
    "prophet_train = prophet_training_data(y_train)\n",
    "prophet_train.head()\n"
   ]
  },
  {
   "cell_type": "markdown",
   "metadata": {},
   "source": [
    "### **Step 2**: Fit a Prophet model with built-in holidays\n",
    "\n",
    "As this is ED reattendance data at the daily level, it is likely that we will be seeing some calender day/holiday effects.  Prophet has been designed to deal with 'holidays'.  Effectively a series of binary variables are added for each holiday.\n",
    "\n",
    "Prophet has a number of standard holidays built in by country.  To add them in for 'UK' you would use the following code:\n",
    "\n",
    "```python\n",
    "model = Prophet(interval_width=0.95)\n",
    "model.add_country_holidays(country_name='UK')\n",
    "model.fit(y_train)\n",
    "```\n",
    "\n",
    "Note that you call the `add_country_holidays` **before** you fit the model.  This is because it is command telling Prophet what you would like to fit.\n",
    "\n",
    "To see what models have been fitted you can call:\n",
    "\n",
    "```python\n",
    "model.train_holiday_names.to_list()\n",
    "```\n",
    "\n",
    "When you plot the components of the model a new panel will be added for holidays.  It can sometimes be a bit difficult to which holidays are having which effect so you can plot individual holidays as follows:\n",
    "\n",
    "```python\n",
    "from fbprophet.plot import plot_forecast_component\n",
    "\n",
    "plot_forecast_component(model, prophet_forecast, 'Christmas Day');\n",
    "```"
   ]
  },
  {
   "cell_type": "code",
   "execution_count": null,
   "metadata": {},
   "outputs": [],
   "source": [
    "# fit a basic prophet model with 0.95 PIs\n",
    "model = Prophet(interval_width=0.95,\n",
    "                daily_seasonality=False)\n",
    "model.add_country_holidays(country_name='UK')\n",
    "model.fit(prophet_train)"
   ]
  },
  {
   "cell_type": "code",
   "execution_count": null,
   "metadata": {},
   "outputs": [],
   "source": [
    "# have a look at what holidays were included!\n",
    "model.train_holiday_names.to_list()"
   ]
  },
  {
   "cell_type": "markdown",
   "metadata": {},
   "source": [
    "### **Step 3**: Make a prediction and analyse components"
   ]
  },
  {
   "cell_type": "code",
   "execution_count": null,
   "metadata": {},
   "outputs": [],
   "source": [
    "# make prediction\n",
    "future = model.make_future_dataframe(periods=84)\n",
    "prophet_forecast = model.predict(future)"
   ]
  },
  {
   "cell_type": "code",
   "execution_count": null,
   "metadata": {},
   "outputs": [],
   "source": [
    "#plot the model components - difficult to see which holiday is which!\n",
    "model.plot_components(prophet_forecast);"
   ]
  },
  {
   "cell_type": "code",
   "execution_count": null,
   "metadata": {},
   "outputs": [],
   "source": [
    "# plot an individual component (as difficult to unpick above)\n",
    "plot_forecast_component(model, prophet_forecast, 'Good Friday');"
   ]
  },
  {
   "cell_type": "markdown",
   "metadata": {},
   "source": [
    "### Side bar: using plotly for interactive \n",
    "\n",
    "> This works in Juypter Notebooks.  there may be some issues in Jupyter-Lab.  i.e. it doesn't show up."
   ]
  },
  {
   "cell_type": "code",
   "execution_count": null,
   "metadata": {},
   "outputs": [],
   "source": [
    "plot_plotly(model, prophet_forecast)"
   ]
  },
  {
   "cell_type": "markdown",
   "metadata": {},
   "source": [
    "### **Step 5:** Plotting Prophet's components"
   ]
  },
  {
   "cell_type": "code",
   "execution_count": null,
   "metadata": {},
   "outputs": [],
   "source": [
    "ax = model.plot_components(prophet_forecast)"
   ]
  },
  {
   "cell_type": "markdown",
   "metadata": {},
   "source": [
    "### Plotly side bar..."
   ]
  },
  {
   "cell_type": "code",
   "execution_count": null,
   "metadata": {},
   "outputs": [],
   "source": [
    "plot_components_plotly(model, prophet_forecast)"
   ]
  },
  {
   "cell_type": "markdown",
   "metadata": {},
   "source": [
    "### Adding a manual date\n",
    "\n",
    "Let's add a random date!"
   ]
  },
  {
   "cell_type": "code",
   "execution_count": null,
   "metadata": {},
   "outputs": [],
   "source": [
    "# black friday dates 2014 - 2025\n",
    "black_friday = pd.DataFrame({'holiday': 'black_friday',\n",
    "                             'ds': pd.to_datetime(['2014/11/28', '2015/11/27',\n",
    "                                                   '2016/11/25', '2017/11/24',\n",
    "                                                   '2018/11/23', '2019/11/29',\n",
    "                                                   '2020/11/27', '2021/11/26',\n",
    "                                                   '2022/11/25', '2023/11/24',\n",
    "                                                   '2024/11/29', '2025/11/28'])\n",
    "                                                  })\n",
    "black_friday"
   ]
  },
  {
   "cell_type": "code",
   "execution_count": null,
   "metadata": {},
   "outputs": [],
   "source": [
    "# pass the manual holidays into a Prophet constructor\n",
    "model = Prophet(interval_width=0.95,\n",
    "                daily_seasonality=False,\n",
    "                holidays=black_friday) # from the DF created above\n",
    "model.add_country_holidays(country_name='UK')\n",
    "_ = model.fit(prophet_train)\n",
    "\n",
    "# make prediction\n",
    "future = model.make_future_dataframe(periods=84)\n",
    "prophet_forecast = model.predict(future)"
   ]
  },
  {
   "cell_type": "code",
   "execution_count": null,
   "metadata": {},
   "outputs": [],
   "source": [
    "# check if black friday is now included?\n",
    "model.train_holiday_names.to_list()"
   ]
  },
  {
   "cell_type": "code",
   "execution_count": null,
   "metadata": {},
   "outputs": [],
   "source": [
    "# conclusion?\n",
    "# check out the y-axis - Prophet will always try and fit the holidays you add...\n",
    "# But this may actually reduce accuracy\n",
    "# Only include holidays that are relevant\n",
    "plot_forecast_component(model, prophet_forecast, 'black_friday');"
   ]
  }
 ],
 "metadata": {
  "kernelspec": {
   "display_name": "Python 3 (ipykernel)",
   "language": "python",
   "name": "python3"
  },
  "language_info": {
   "codemirror_mode": {
    "name": "ipython",
    "version": 3
   },
   "file_extension": ".py",
   "mimetype": "text/x-python",
   "name": "python",
   "nbconvert_exporter": "python",
   "pygments_lexer": "ipython3",
   "version": "3.8.8"
  }
 },
 "nbformat": 4,
 "nbformat_minor": 4
}
