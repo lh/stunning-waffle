{
 "cells": [
  {
   "cell_type": "markdown",
   "id": "b07b8431",
   "metadata": {},
   "source": [
    "## HSMA 3D - Exercise 2 - Facility Location Problems\n",
    "\n",
    "Working in your PSGs, use what you have just observed (and learned) to tackle the following case study. \n",
    "\n",
    "### Case Study: Cardiac Screening Clinics in Cornwall\n",
    "\n",
    "This case study is set in Cornwall where there are five major locations for these clinics. The locations are:\n",
    "\n",
    "* Royal Cornwall Hospital Trust (RCHT)\n",
    "* Cambourne Redruth Community Hospital (CRCH)\n",
    "* St. Austell Community Hospital (SACH)\n",
    "* Bodmin Community Hospital (BODMIN)\n",
    "* West Cornwall Hospital (WCH)\n",
    "\n",
    "Local NHS commissioners are considering the future of the service. \n",
    "\n",
    "They feel that five clinic locations is leading to variation in the quality of patient treatment and would like to **consolidate to three locations.** \n",
    "\n",
    "*They have asked for our help in making and supporting their decision making.*\n",
    "\n",
    "The data provided comprises of:\n",
    "\n",
    "* *cardiac_clinic_travel_matrix.csv* - Travel time matrix from different locations\n",
    "* *cardiac_clinic_attendances.csv* - Number of cardiac clinic attendances per LSOA"
   ]
  },
  {
   "cell_type": "markdown",
   "id": "d2b454e0",
   "metadata": {},
   "source": [
    "---\n",
    "Run this first to download the required files into colab and move into the correct directory."
   ]
  },
  {
   "cell_type": "code",
   "execution_count": null,
   "id": "a2e1b835",
   "metadata": {},
   "outputs": [],
   "source": [
    "!pip install contextily\n",
    "!pip install routingpy\n",
    "!git clone https://github.com/hsma-programme/h6_3d_facility_location_problems.git\n",
    "%cd /content/h6_3d_facility_location_problems/h6_3d_facility_location_problems/exercises_colab"
   ]
  },
  {
   "cell_type": "markdown",
   "id": "b721495a",
   "metadata": {},
   "source": [
    "## Core"
   ]
  },
  {
   "cell_type": "markdown",
   "id": "fbd35012",
   "metadata": {},
   "source": [
    "Run the code below to import the libraries we'll need."
   ]
  },
  {
   "cell_type": "code",
   "execution_count": null,
   "id": "d4a37dda",
   "metadata": {},
   "outputs": [],
   "source": [
    "import geopandas\n",
    "import pandas as pd\n",
    "import matplotlib.pyplot as plt\n",
    "import folium\n",
    "import contextily as cx\n",
    "import numpy as np\n",
    "\n",
    "# Additionally, we'll also use....\n",
    "# combinations from the itertools library allows us to enumerate all\n",
    "# solutions (for small instances).\n",
    "from itertools import combinations"
   ]
  },
  {
   "cell_type": "markdown",
   "id": "545609f4",
   "metadata": {},
   "source": [
    "In addition, run the cell below to load in the FacilityLocationObjective class."
   ]
  },
  {
   "cell_type": "code",
   "execution_count": null,
   "id": "8d81297a",
   "metadata": {},
   "outputs": [],
   "source": [
    "# Tweaked WeightedAverageObjective from Metapy package\n",
    "# https://github.com/health-data-science-OR/healthcare-logistics/tree/master/optimisation/metapy\n",
    "# Credit: Tom Monks\n",
    "\n",
    "class FacilityLocationObjective:\n",
    "    '''\n",
    "    Encapsulates logic for calculation of\n",
    "    metrics in a simple facility location problem\n",
    "\n",
    "    Demand and travel matrices must have a common column\n",
    "\n",
    "    demand: pd.dataframe:  Two column dataframe. One column should be labels for the\n",
    "    demand locations (e.g. LSOA identifiers, postcodes). Second column should contain\n",
    "    demand figures of some kind (e.g. number of historical cases)\n",
    "    If demand assumed to be equal, all values in this column could be 1.\n",
    "\n",
    "    travel_matrix: pd.dataframe: dataframe with columns representing sites\n",
    "    and rows representing locations demand will come from.\n",
    "    One column should be labels for the demand locations (e.g. LSOA identifiers, postcodes).\n",
    "    All other values will be either distance or time in float form.\n",
    "    No additional columns of information must be included or they will be used as part of the\n",
    "    calculation of the lowest-cost solution, which may lead to incorrect results.\n",
    "    '''\n",
    "    def __init__(self, demand, travel_matrix, merge_col, demand_col):\n",
    "        '''\n",
    "        Store the demand and travel times\n",
    "\n",
    "        Args:\n",
    "            demand: pd.DataFrame:\n",
    "\n",
    "            travel_matrix: pd.DataFrame:\n",
    "        '''\n",
    "        self.demand = demand.set_index(merge_col)\n",
    "        self.travel_matrix = travel_matrix.set_index(merge_col)\n",
    "        self.demand_col = demand_col\n",
    "\n",
    "\n",
    "    def evaluate_solution(self, site_list):\n",
    "        '''\n",
    "        Calculates the\n",
    "\n",
    "        Args:\n",
    "            site_list: list: column indices of solution to evaluate\n",
    "                            (to apply to travel matrix)\n",
    "\n",
    "            merge_col: str: name of shared column in demand df and travel time\n",
    "                    df that contains labels for areas that can be merged on (e.g. \"lsoa\")\n",
    "\n",
    "            n_patients_or_referrals_col: str: name of column containing numeric data\n",
    "                                            (e.g. \"n_patients\", \"referrals\")\n",
    "\n",
    "        Returns:\n",
    "            Pandas dataframe to pass to evaluation functions\n",
    "\n",
    "        '''\n",
    "\n",
    "        active_facilities = self.travel_matrix.iloc[:, site_list].copy()\n",
    "\n",
    "        # Assume travel to closest facility\n",
    "        # Need to drop the column that contains\n",
    "        active_facilities['min_cost'] = active_facilities.min(axis=1)\n",
    "\n",
    "\n",
    "        # Merge demand and travel times into a single DataFrame\n",
    "        problem = self.demand.merge(active_facilities,\n",
    "                                    left_index=True, right_index=True,\n",
    "                                    how='inner')\n",
    "\n",
    "        return problem.reset_index()\n",
    "\n",
    "\n",
    "    def generate_solution_metrics(self, site_list):\n",
    "        '''\n",
    "        Calculates the weighted average travel time for selected sites\n",
    "\n",
    "        Args:\n",
    "            site_list: list or np.array: A list of site IDs as a list or array (e.g. [0, 3, 4])\n",
    "            merge_col: string: The column name to use for merging the data.\n",
    "            n_patients_or_referrals_col: string: The column name to use for the number of patients or referrals.\n",
    "\n",
    "        Returns:\n",
    "            A tuple containing the problem and the maximum travel time.\n",
    "        '''\n",
    "        problem = self.evaluate_solution(site_list)\n",
    "\n",
    "        # Return weighted average\n",
    "        weighted_average = np.average(problem['min_cost'], weights=problem[self.demand_col])\n",
    "        unweighted_average = np.average(problem['min_cost'])\n",
    "        max_travel = np.max(problem['min_cost'])\n",
    "\n",
    "        return {\n",
    "            'site_indices': site_list,\n",
    "            'site_names': \", \".join(self.travel_matrix.columns[site_list].tolist()),\n",
    "            'weighted_average': weighted_average,\n",
    "            'unweighted_average': unweighted_average,\n",
    "            'max': max_travel,\n",
    "            'problem_df': problem\n",
    "        }"
   ]
  },
  {
   "cell_type": "markdown",
   "id": "7e96615a",
   "metadata": {},
   "source": [
    "### Data Imports\n",
    "Now we need to import the travel matrix file named `cardiac_clinic_travel_matrix.csv` and check that the file has been read correctly."
   ]
  },
  {
   "cell_type": "code",
   "execution_count": null,
   "id": "463fd35f",
   "metadata": {},
   "outputs": [],
   "source": [
    "filepath_travel_matrix = '../datasets/exercise_2/cardiac_clinic_travel_matrix.csv'\n",
    "\n",
    "travel_matrix =  ## YOUR CODE HERE\n",
    "\n",
    "# Display the first five rows to check it's been read in correctly\n",
    "## YOUR CODE HERE"
   ]
  },
  {
   "cell_type": "markdown",
   "id": "34bb6df6",
   "metadata": {},
   "source": [
    "Next, import the number of `cardiac_clinic_attendances.csv` file (in the same location). Again, check it's been read correctly."
   ]
  },
  {
   "cell_type": "code",
   "execution_count": null,
   "id": "e5aa339a",
   "metadata": {},
   "outputs": [],
   "source": [
    "attends = ## YOUR CODE HERE\n",
    "\n",
    "# Display the first five rows to check it's been read in correctly\n",
    "## YOUR CODE HERE"
   ]
  },
  {
   "cell_type": "markdown",
   "id": "8e3a9655",
   "metadata": {},
   "source": [
    "Now we will create our location problem object."
   ]
  },
  {
   "cell_type": "code",
   "execution_count": null,
   "id": "a6809481",
   "metadata": {},
   "outputs": [],
   "source": [
    "facility_location_problem = FacilityLocationObjective(\n",
    "    demand= , ## YOUR CODE HERE\n",
    "    travel_matrix= , ## YOUR CODE HERE\n",
    "    merge_col= , ## YOUR CODE HERE\n",
    "    demand_col= ## YOUR CODE HERE\n",
    "    )"
   ]
  },
  {
   "cell_type": "markdown",
   "id": "932d71ef",
   "metadata": {},
   "source": [
    "### Constructing and evaluating a Random Solution\n",
    "\n",
    "From the above you'll have seen that you've been provided with a travel matrix containing 5 clinic locations. For this case study, the 'solution' will comprise of 3 proposed clinics.\n",
    "\n",
    "Now it's time to generate a random solution. First, run the code in the cell below to define the random_solution function."
   ]
  },
  {
   "cell_type": "code",
   "execution_count": null,
   "id": "8702e5b5",
   "metadata": {},
   "outputs": [],
   "source": [
    "def random_solution(n_candidates, p, random_seed=None):\n",
    "    '''\n",
    "    Helper function to generate a random solution\n",
    "\n",
    "    Params\n",
    "    ------\n",
    "    n_candidates : int\n",
    "        The number of candidate locations where you could place\n",
    "        clinics (facilities).\n",
    "\n",
    "    p : int\n",
    "        The number of clinics to place.\n",
    "\n",
    "    random_seed : int (Default=None)\n",
    "        Random seed for reproducibility.\n",
    "\n",
    "    Returns\n",
    "    -------\n",
    "\n",
    "    Vector (np.array) of length p\n",
    "    '''\n",
    "    # create a random number generator\n",
    "    rng = np.random.default_rng(seed=random_seed)\n",
    "\n",
    "    # sample without replacement\n",
    "    solution = []\n",
    "    while len(solution) < p:\n",
    "        candidate = rng.integers(0, n_candidates)\n",
    "        if candidate not in solution:\n",
    "            solution.append(candidate)\n",
    "\n",
    "    return np.array(solution)"
   ]
  },
  {
   "cell_type": "markdown",
   "id": "ec598346",
   "metadata": {},
   "source": [
    "Next, fill in the blanks in the use of the function below to generate a single solution for 3 proposed clinics (of the 5 possible locations).\n",
    "\n",
    "Look at the output of this object."
   ]
  },
  {
   "cell_type": "code",
   "execution_count": null,
   "id": "b90337da",
   "metadata": {},
   "outputs": [],
   "source": [
    "random_solution_1 = random_solution(\n",
    "    n_candidates= , ## YOUR CODE HERE\n",
    "    p= , ## YOUR CODE HERE\n",
    "    random_seed=42\n",
    ")"
   ]
  },
  {
   "cell_type": "markdown",
   "id": "14452207",
   "metadata": {},
   "source": [
    "Now let's evaluate this solution using the `.evaluate_solution()` method of our `facility_location_problem` object. You will need to provide the list of sites to this method.\n",
    "\n",
    "You don't need to save the result of this cell into a variable - we are just interested in seeing what it returns. "
   ]
  },
  {
   "cell_type": "code",
   "execution_count": null,
   "id": "23edaaff",
   "metadata": {},
   "outputs": [],
   "source": [
    "## YOUR CODE HERE"
   ]
  },
  {
   "cell_type": "markdown",
   "id": "fa946d63",
   "metadata": {},
   "source": [
    "This time, let's return the metrics from this solution using the `generate_solution_metrics()` method instead."
   ]
  },
  {
   "cell_type": "code",
   "execution_count": null,
   "id": "dfea033f",
   "metadata": {},
   "outputs": [],
   "source": [
    "metrics_random_solution_1 = ## YOUR CODE HERE\n",
    "\n",
    "metrics_random_solution_1"
   ]
  },
  {
   "cell_type": "markdown",
   "id": "c135dea9",
   "metadata": {},
   "source": [
    "Run the code below to convert it into a dataframe. is this easier to read?\n",
    "\n",
    "Hint - the code below makes a copy of the dictionary `metrics_random_solution_1`.\n",
    "\n",
    "It then updates `metrics_random_solution_1_copy` so that it doesn't contain the `problem_df`. \n",
    "\n",
    "If we tried to make a dataframe out of the whole thing, we'd run into an error!\n",
    "\n",
    "Try taking some time to understand what the `.join` method is doing. This is a handy bit of code for tidying up the output of your lists when you want to display them nicely."
   ]
  },
  {
   "cell_type": "code",
   "execution_count": null,
   "id": "8b543513",
   "metadata": {},
   "outputs": [],
   "source": [
    "metrics_random_solution_1_copy = metrics_random_solution_1.copy()\n",
    "\n",
    "del metrics_random_solution_1_copy[\"problem_df\"]\n",
    "metrics_random_solution_1_copy[\"site_indices\"].sort()\n",
    "metrics_random_solution_1_copy[\"site_indices\"] = \", \".join(str(x) for x in metrics_random_solution_1_copy[\"site_indices\"])\n",
    "\n",
    "pd.DataFrame(metrics_random_solution_1_copy, index=[0])"
   ]
  },
  {
   "cell_type": "markdown",
   "id": "35388a15",
   "metadata": {},
   "source": [
    "### Create all Possible Combinations\n",
    "\n",
    "The `all_combinations` function has been provided below.\n",
    "\n",
    "Can you remember what a list comprehension is? \n",
    "\n",
    "Where is it used in the function below and what is it doing?"
   ]
  },
  {
   "cell_type": "code",
   "execution_count": null,
   "id": "5882ae83",
   "metadata": {},
   "outputs": [],
   "source": [
    "def all_combinations(n_facilities, p):\n",
    "    '''\n",
    "    n_facilities : int\n",
    "        The number of candidate locations where you could place facilities (clinics).\n",
    "\n",
    "    p : int\n",
    "        The number of clinics to place.\n",
    "\n",
    "    Returns\n",
    "    -------\n",
    "\n",
    "    Returns all p sized combinations of an array containing\n",
    "    indicies 0 to n_facilties - 1\n",
    "    '''\n",
    "    facility = np.arange(n_facilities, dtype=np.uint8)\n",
    "    return [np.array(a) for a in combinations(facility, p)]"
   ]
  },
  {
   "cell_type": "markdown",
   "id": "64cceab7",
   "metadata": {},
   "source": [
    "Use the function above to print the total number of possible combinations (remember - we're looking for 3 locations from the existing 5 clinics).\n",
    "\n",
    "Note that it's really important that we don't just call our variable `combinations` here!\n",
    "If we do, we'll overwrite the `combinations` method we imported from `itertools` back in the first cell, and things will start behaving strangely (with some very obtuse error messages) down the line."
   ]
  },
  {
   "cell_type": "code",
   "execution_count": null,
   "id": "298833f6",
   "metadata": {},
   "outputs": [],
   "source": [
    "possible_combinations = ## YOUR CODE HERE\n",
    "print(possible_combinations)"
   ]
  },
  {
   "cell_type": "markdown",
   "id": "565095aa",
   "metadata": {},
   "source": [
    "Print the total number of combinations."
   ]
  },
  {
   "cell_type": "code",
   "execution_count": null,
   "id": "3c6d9629",
   "metadata": {},
   "outputs": [],
   "source": [
    "number_of_combinations = ## YOUR CODE HERE\n",
    "\n",
    "print(f\"The total number of combinations is {number_of_combinations}\")"
   ]
  },
  {
   "cell_type": "markdown",
   "id": "1a88bad5",
   "metadata": {},
   "source": [
    "Take a look at one of the combinations. \n",
    "\n",
    "What combination of clinics is proposed in the 5th element of the array of combinations?\n",
    "\n",
    "Hint: remember that when we are accessing the elements of an array/list, we start counting up from 0, not 1 (i.e. the first item in the list is number 0) "
   ]
  },
  {
   "cell_type": "code",
   "execution_count": null,
   "id": "f03d74a3",
   "metadata": {},
   "outputs": [],
   "source": [
    "## YOUR CODE HERE"
   ]
  },
  {
   "cell_type": "markdown",
   "id": "4928ed4a",
   "metadata": {},
   "source": [
    "### Brute-forcing the solution\n",
    "\n",
    "Assess all of the possible combinations.\n",
    "\n",
    "Make sure you add the output of each round of the loop to the list `results`. This has been set up as an empty list. \n"
   ]
  },
  {
   "cell_type": "code",
   "execution_count": null,
   "id": "087cb1c6",
   "metadata": {},
   "outputs": [],
   "source": [
    "results = []\n",
    "\n",
    "for possible_solution in possible_combinations:\n",
    "    ## YOUR CODE HERE"
   ]
  },
  {
   "cell_type": "markdown",
   "id": "97a10074",
   "metadata": {},
   "source": [
    "Convert `results` into a single dataframe, then display it."
   ]
  },
  {
   "cell_type": "code",
   "execution_count": null,
   "id": "fd53f67a",
   "metadata": {},
   "outputs": [],
   "source": [
    "results_df = ## YOUR CODE HERE"
   ]
  },
  {
   "cell_type": "markdown",
   "id": "03c729a0",
   "metadata": {},
   "source": [
    "Run the code below to print the optimal solution."
   ]
  },
  {
   "cell_type": "code",
   "execution_count": null,
   "id": "8552e480",
   "metadata": {},
   "outputs": [],
   "source": [
    "optimal_solution_wa = (\n",
    "    pd.DataFrame(results_df).sort_values('weighted_average').head(1)['site_names'].values\n",
    ")\n",
    "\n",
    "print(\n",
    "    'The optimal combination of sites',\n",
    "    f' is {\",\".join(optimal_solution_wa)}'\n",
    "    )"
   ]
  },
  {
   "cell_type": "markdown",
   "id": "f5cc227d",
   "metadata": {},
   "source": [
    "## Extension"
   ]
  },
  {
   "cell_type": "markdown",
   "id": "e3682bce",
   "metadata": {},
   "source": [
    "### Graphical Representation of the Results"
   ]
  },
  {
   "cell_type": "markdown",
   "id": "838fb3d1",
   "metadata": {},
   "source": [
    "Generate a bar chart of all possible solution costs.\n",
    "\n",
    "You can choose to use any library you like - the lecture used plotly express, but you could use plotnine, matplotlib, or seaborn if you prefer. \n",
    "\n",
    "Your chart should include the following elements:\n",
    "* All possible clinic combinations represented as bars\n",
    "* Title\n",
    "* x-axis label\n",
    "* y-axis label\n",
    "\n",
    "If you want an extra challenge, try looking into how you could make just the best solution be marked green.\n",
    "You may need to add an extra column to the result_df. "
   ]
  },
  {
   "cell_type": "code",
   "execution_count": null,
   "id": "ffc0c880",
   "metadata": {
    "scrolled": false
   },
   "outputs": [],
   "source": [
    "## YOUR CODE HERE"
   ]
  },
  {
   "cell_type": "markdown",
   "id": "00a2b8c5",
   "metadata": {},
   "source": [
    "### Visual Display of Travel Times on the Map"
   ]
  },
  {
   "cell_type": "markdown",
   "id": "d787ad8d",
   "metadata": {},
   "source": [
    "Use the files `LSOA_2011_Boundaries_Super_Generalised_Clipped_BSC_EW_V4.geojson` and `cardiac_clinic_sites.csv` to generate a travel time map for the best solution.\n",
    "\n",
    "First, import the `cardiac_clinic_sites_df.csv` and turn it into a geodataframe. "
   ]
  },
  {
   "cell_type": "code",
   "execution_count": null,
   "id": "957fb397",
   "metadata": {},
   "outputs": [],
   "source": [
    "# Import the dataset\n",
    "cardiac_clinic_sites_df = ## YOUR CODE HERE\n",
    "\n",
    "# Turn it into a geodataframe\n",
    "cardiac_clinic_sites_gdf = ## YOUR CODE HERE\n",
    "\n",
    "# Display the resulting dataframe\n",
    "## YOUR CODE HERE"
   ]
  },
  {
   "cell_type": "markdown",
   "id": "ee9558f0",
   "metadata": {},
   "source": [
    "Next, import the LSOA boundaries from `LSOA_2011_Boundaries_Super_Generalised_Clipped_BSC_EW_V4.geojson`."
   ]
  },
  {
   "cell_type": "code",
   "execution_count": null,
   "id": "7e02e35c",
   "metadata": {},
   "outputs": [],
   "source": [
    "# Import the dataset\n",
    "lsoa_boundaries = ## YOUR CODE HERE\n",
    "\n",
    "# Display the first five rows\n",
    "## YOUR CODE HERE"
   ]
  },
  {
   "cell_type": "markdown",
   "id": "934f8c6e",
   "metadata": {},
   "source": [
    "Now you need to get the best result out of our overall dataframe of results. \n",
    "\n",
    "The line below will do this - see if you can understand how it's working!"
   ]
  },
  {
   "cell_type": "code",
   "execution_count": null,
   "id": "9ee09233",
   "metadata": {},
   "outputs": [],
   "source": [
    "best_df = results_df.sort_values(\"weighted_average\").head(1)[\"problem_df\"].values[0]\n",
    "best_df"
   ]
  },
  {
   "cell_type": "markdown",
   "id": "c5646e9f",
   "metadata": {},
   "source": [
    "Now let's join `best_df` to our `lsoa_boundaries` geodataframe. \n",
    "\n",
    "Remember - the object on the left side of the merge (the first one you pass in) will determine the *type* of the resulting object, and we want it to be a geodataframe. \n",
    "\n",
    "There are some areas in our original demand dataframe that had no demand in our time period.\n",
    "\n",
    "One way you could deal with this is by doing a 'left' join (so all of the rows in the lsoa geodataframe are included).\n",
    "\n",
    "You could then filter down to just rows where the LSOA name (`LSOA11NMW`) is `Cornwall`."
   ]
  },
  {
   "cell_type": "code",
   "execution_count": null,
   "id": "f7745d21",
   "metadata": {},
   "outputs": [],
   "source": [
    "# Merge the datasets\n",
    "best_result_gdf = ## YOUR CODE HERE\n",
    "\n",
    "# Filter down to just Cornwall and overwrite the variable best_result_gdf\n",
    "best_result_gdf = ## YOUR CODE HERE\n",
    "\n",
    "# Display the first five rows\n",
    "## YOUR CODE HERE"
   ]
  },
  {
   "cell_type": "markdown",
   "id": "c4f65b37",
   "metadata": {},
   "source": [
    "Create a static (i.e. not interactive) map of the results. \n",
    "\n",
    "You will want to plot the travel times for each LSOA in the best solution as a choropleth. \n",
    "\n",
    "You will then want to plot the relevant clinic sites for this solution (i.e. the three clinics that are identified as the best option) as points on the map.\n",
    "\n",
    "Label these points with the names of the clinics (e.g. RCHT).\n",
    "\n",
    "Include a \n",
    "- basemap\n",
    "- legend\n",
    "- title\n",
    "\n",
    "**Hint:** To improve the map output, we can pass the line\n",
    "\n",
    "`missing_kwds= dict(color = \"lightgrey\")`\n",
    "\n",
    "when plotting so that results with no value show an outline and color rather than being missing entirely. "
   ]
  },
  {
   "cell_type": "code",
   "execution_count": null,
   "id": "0761629f",
   "metadata": {},
   "outputs": [],
   "source": [
    "# Plot a choropleth showing the travel time per LSOA for the best solution identified\n",
    "# Make sure you include a legend\n",
    "# Use the edgecolor argument with an appropriate colour to make the LSOA boundaries clear\n",
    "ax = best_result_gdf.plot(\n",
    "    column=## YOUR CODE HERE,\n",
    "    edgecolor=## YOUR CODE HERE,\n",
    "    figsize=(15,10),\n",
    "    missing_kwds= dict(color = \"lightgrey\"),\n",
    "    cmap=\"Reds\",\n",
    "    ## YOUR CODE HERE\n",
    "    )\n",
    "\n",
    "# Pull out the relevant clinic sites from the cardiac_clinic_sites df\n",
    "cardiac_clinic_sites_gdf_filtered = ## YOUR CODE HERE\n",
    "\n",
    "# Convert this to EPSG 27700 using the line below so it's using the same CRS as our main dataset\n",
    "cardiac_clinic_sites_gdf_filtered = cardiac_clinic_sites_gdf_filtered.to_crs(\"EPSG:27700\")\n",
    "\n",
    "# Plot these clinics as points\n",
    "# Remember to identify the axis you want to plot this on\n",
    "# Pass in additional arguments to change the marker size and colour so they are easy to see\n",
    "cardiac_clinic_sites_gdf_filtered.plot(\n",
    "        ax=## YOUR CODE HERE,\n",
    "        ## YOUR CODE HERE\n",
    "    )\n",
    "\n",
    "# Using a for loop, add labels for these clinics\n",
    "## YOUR CODE HERE\n",
    "\n",
    "# Add a basemap\n",
    "## YOUR CODE HERE\n",
    "\n",
    "# Turn off the axis tickmarks\n",
    "## YOUR CODE HERE\n",
    "\n",
    "# Add a title\n",
    "## YOUR CODE HERE"
   ]
  },
  {
   "cell_type": "markdown",
   "id": "dae8c200",
   "metadata": {},
   "source": [
    "Now try using the subplots feature of matplotlib to create a plot for every possible combination of clinics. \n",
    "\n",
    "Consider the order you might want the plots in.\n",
    "\n",
    "What additional information is it useful to include in the subplot titles?\n",
    "\n",
    "First, check the number of results we have so you can work out how many subplots to create."
   ]
  },
  {
   "cell_type": "code",
   "execution_count": null,
   "id": "ef9d46e9",
   "metadata": {},
   "outputs": [],
   "source": [
    "len(results_df)"
   ]
  },
  {
   "cell_type": "markdown",
   "id": "c74bee9b",
   "metadata": {},
   "source": [
    "Now make the subplots.\n",
    "\n",
    "You can reuse a lot of the code you wrote for the section above! \n",
    "\n",
    "**Hint:** You may want to omit the basemap - particularly while first building and testing your code - as pulling multiple basemaps takes a lot of extra time, and may even result in your access to the basemap server being temporarily blocked if you make too many requests in a short space of time."
   ]
  },
  {
   "cell_type": "code",
   "execution_count": null,
   "id": "d1115257",
   "metadata": {},
   "outputs": [],
   "source": [
    "# Create the subplots\n",
    "fig, axs = plt.subplots(\n",
    "    ## YOUR CODE HERE,\n",
    "    ## YOUR CODE HERE,\n",
    "    figsize=(20,10)\n",
    "    )\n",
    "\n",
    "# Loop through the subplots, plotting one solution on each\n",
    "for i, ax in enumerate(fig.axes):\n",
    "\n",
    "    # Get the relevant row for this solution out of results_df\n",
    "    # Hint - you may want the iloc method for this\n",
    "    # If you're stuck, investigate what the variable `i` returns throughout the loop\n",
    "    # Also think about how you could order the solutions from best to worst in your plots\n",
    "    solution = ## YOUR CODE HERE\n",
    "\n",
    "    # Get the 'problem_df' out of the solution object so you can access the dataframe containing\n",
    "    # the per-LSOA travel times\n",
    "    solution_df = solution[\"problem_df\"].values[0]\n",
    "\n",
    "    # Create the dataframe you need by joining `lsoa_boundaries` with `solution_df`\n",
    "    result_gdf = pd.merge(\n",
    "        lsoa_boundaries,\n",
    "        solution_df,\n",
    "        how=## YOUR CODE HERE,\n",
    "        left_on=## YOUR CODE HERE,\n",
    "        right_on=## YOUR CODE HERE\n",
    "        )\n",
    "\n",
    "    # Filter down to just LSOA's containing 'Cornwall' in the `LSOA11NMW` column\n",
    "    result_gdf =## YOUR CODE HERE\n",
    "\n",
    "    # Now add in your plotting code\n",
    "    # Remember - you'll need to pull back the correct combination of clinics to plot each time!\n",
    "    ## YOUR CODE HERE"
   ]
  },
  {
   "cell_type": "markdown",
   "id": "b8f140f4",
   "metadata": {},
   "source": [
    "## Challenge: Bonus Activities"
   ]
  },
  {
   "cell_type": "markdown",
   "id": "386f5b66",
   "metadata": {},
   "source": [
    "### 1. Calculate the best solution across the weighted average travel times, unweighted average travel times, and the max travel time. \n",
    "\n",
    "How might you rank the outputs?\n",
    "\n",
    "How might you present the results?"
   ]
  },
  {
   "cell_type": "code",
   "execution_count": null,
   "id": "377f2efa",
   "metadata": {},
   "outputs": [],
   "source": [
    "## YOUR CODE HERE"
   ]
  },
  {
   "cell_type": "markdown",
   "id": "7261bf00",
   "metadata": {},
   "source": [
    "### 2. What's the impact of hospitals across the border?"
   ]
  },
  {
   "cell_type": "markdown",
   "id": "79d51bdc",
   "metadata": {},
   "source": [
    "Let's imagine the Derriford hospital in Plymouth - just across the border - can also provide cardiac clinic services.\n",
    "\n",
    "Use your routingpy skills from the previous session to grab an additional column of travel data.\n",
    "\n",
    "Note: this travel data in this exercise is quite old! You may want to instead get new travel data for all of the clinic locations.\n",
    "\n",
    "Alternatively, for the purpose of this exercise, you could just look up the additional column and add this additional data to your existing travel time dataset. \n",
    "\n",
    "Redo the analysis above and compare the outputs. Does adding in Derriford significantly change which clinics we would recommend to keep?"
   ]
  },
  {
   "cell_type": "code",
   "execution_count": null,
   "id": "f0394596",
   "metadata": {},
   "outputs": [],
   "source": [
    "import routingpy as rp\n",
    "\n",
    "## YOUR CODE HERE"
   ]
  },
  {
   "cell_type": "markdown",
   "id": "2befea94",
   "metadata": {},
   "source": [
    "### 3. What if one option must always be included?"
   ]
  },
  {
   "cell_type": "markdown",
   "id": "7cce3348",
   "metadata": {},
   "source": [
    "To take this even further, switch to keeping 4 clinic open - but one of them will *always* be Derriford as we don't have any control over the decisions around that clinic (as it's not in our commisioning area). \n",
    "\n",
    "How could you create these combinations? \n",
    "\n",
    "Rerun your analysis."
   ]
  },
  {
   "cell_type": "code",
   "execution_count": null,
   "id": "bcee0354",
   "metadata": {},
   "outputs": [],
   "source": [
    "## YOUR CODE HERE"
   ]
  },
  {
   "cell_type": "markdown",
   "id": "d4bb63f1",
   "metadata": {},
   "source": [
    "### 4. How might you account for LSOAs without any demand?"
   ]
  },
  {
   "cell_type": "markdown",
   "id": "358b5bb6",
   "metadata": {},
   "source": [
    "You may have noticed that some LSOAs appear to have no demand in the time period shown. \n",
    "\n",
    "Think about how this might affect the results. \n",
    "\n",
    "How might you create an additional demand dataframe that ensures every LSOA in Cornwall is included? \n",
    "\n",
    "A simple option would involve making sure you've got every LSOA in Cornwall as a demand centre.\n",
    "\n",
    "Create two sets of plots containing this dataset\n",
    "- all possible subplots with three Cornish clinics + Derriford\n",
    "- all possible subplots with just the three Cornish clinics + Derriford not included.\n",
    "\n",
    "Note: for this exercise we are just expecting you to use a very simple method to ensure there's data for all LSOAs. But what additional information might you need to make a more detailed estimate about the demand?\n",
    "You may need to look for additional datasets - e.g. population counts, age/gender data, IMD, details about cardiac risk factors, diagnosis data (in a real scenario), stakeholder insight."
   ]
  },
  {
   "cell_type": "code",
   "execution_count": null,
   "id": "a245648c",
   "metadata": {},
   "outputs": [],
   "source": [
    "## YOUR CODE HERE"
   ]
  }
 ],
 "metadata": {
  "kernelspec": {
   "display_name": "Python 3 (ipykernel)",
   "language": "python",
   "name": "python3"
  },
  "language_info": {
   "codemirror_mode": {
    "name": "ipython",
    "version": 3
   },
   "file_extension": ".py",
   "mimetype": "text/x-python",
   "name": "python",
   "nbconvert_exporter": "python",
   "pygments_lexer": "ipython3",
   "version": "3.9.16"
  }
 },
 "nbformat": 4,
 "nbformat_minor": 5
}
