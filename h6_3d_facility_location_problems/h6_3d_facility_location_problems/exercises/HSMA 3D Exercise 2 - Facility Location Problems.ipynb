{
 "cells": [
  {
   "cell_type": "markdown",
   "id": "b07b8431",
   "metadata": {},
   "source": [
    "## HSMA 3D - Exercise 2 - Facility Location Problems\n",
    "\n",
    "Working in your PSGs, use what you have just observed (and learned) to tackle the following case study. \n",
    "\n",
    "### Case Study: Cardiac Screening Clinics in Cornwall\n",
    "\n",
    "This case study is set in Cornwall where there are five major locations for these clinics. The locations are:\n",
    "\n",
    "* Royal Cornwall Hospital Trust (RCHT)\n",
    "* Cambourne Redruth Community Hospital (CRCH)\n",
    "* St. Austell Community Hospital (SACH)\n",
    "* Bodmin Community Hospital (BODMIN)\n",
    "* West Cornwall Hospital (WCH)\n",
    "\n",
    "Local NHS commissioners are considering the future of the service. \n",
    "\n",
    "They feel that five clinic locations is leading to variation in the quality of patient treatment and would like to **consolidate to three locations.** \n",
    "\n",
    "*They have asked for our help in making and supporting their decision making.*\n",
    "\n",
    "The data provided comprises of:\n",
    "\n",
    "* *cardiac_clinic_travel_matrix.csv* - Travel time matrix from different locations\n",
    "* *cardiac_clinic_attendances.csv* - Number of cardiac clinic attendances per LSOA"
   ]
  },
  {
   "cell_type": "markdown",
   "id": "b721495a",
   "metadata": {},
   "source": [
    "## Core"
   ]
  },
  {
   "cell_type": "markdown",
   "id": "fbd35012",
   "metadata": {},
   "source": [
    "Run the code below to import the libraries we'll need."
   ]
  },
  {
   "cell_type": "code",
   "execution_count": 33,
   "id": "d4a37dda",
   "metadata": {},
   "outputs": [],
   "source": [
    "import geopandas as gpd\n",
    "from shapely.geometry import Point\n",
    "import pandas as pd\n",
    "import matplotlib.pyplot as plt\n",
    "import folium\n",
    "import contextily as cx\n",
    "import numpy as np\n",
    "\n",
    "# Additionally, we'll also use....\n",
    "# combinations from the itertools library allows us to enumerate all\n",
    "# solutions (for small instances).\n",
    "from itertools import combinations"
   ]
  },
  {
   "cell_type": "markdown",
   "id": "545609f4",
   "metadata": {},
   "source": [
    "In addition, run the cell below to load in the FacilityLocationObjective class."
   ]
  },
  {
   "cell_type": "code",
   "execution_count": 2,
   "id": "8d81297a",
   "metadata": {},
   "outputs": [],
   "source": [
    "# Tweaked WeightedAverageObjective from Metapy package\n",
    "# https://github.com/health-data-science-OR/healthcare-logistics/tree/master/optimisation/metapy\n",
    "# Credit: Tom Monks\n",
    "\n",
    "class FacilityLocationObjective:\n",
    "    '''\n",
    "    Encapsulates logic for calculation of\n",
    "    metrics in a simple facility location problem\n",
    "\n",
    "    Demand and travel matrices must have a common column\n",
    "\n",
    "    demand: pd.dataframe:  Two column dataframe. One column should be labels for the\n",
    "    demand locations (e.g. LSOA identifiers, postcodes). Second column should contain\n",
    "    demand figures of some kind (e.g. number of historical cases)\n",
    "    If demand assumed to be equal, all values in this column could be 1.\n",
    "\n",
    "    travel_matrix: pd.dataframe: dataframe with columns representing sites\n",
    "    and rows representing locations demand will come from.\n",
    "    One column should be labels for the demand locations (e.g. LSOA identifiers, postcodes).\n",
    "    All other values will be either distance or time in float form.\n",
    "    No additional columns of information must be included or they will be used as part of the\n",
    "    calculation of the lowest-cost solution, which may lead to incorrect results.\n",
    "    '''\n",
    "    def __init__(self, demand, travel_matrix, merge_col, demand_col):\n",
    "        '''\n",
    "        Store the demand and travel times\n",
    "\n",
    "        Args:\n",
    "            demand: pd.DataFrame:\n",
    "\n",
    "            travel_matrix: pd.DataFrame:\n",
    "        '''\n",
    "        self.demand = demand.set_index(merge_col)\n",
    "        self.travel_matrix = travel_matrix.set_index(merge_col)\n",
    "        self.demand_col = demand_col\n",
    "\n",
    "\n",
    "    def evaluate_solution(self, site_list):\n",
    "        '''\n",
    "        Calculates the\n",
    "\n",
    "        Args:\n",
    "            site_list: list: column indices of solution to evaluate\n",
    "                            (to apply to travel matrix)\n",
    "\n",
    "            merge_col: str: name of shared column in demand df and travel time\n",
    "                    df that contains labels for areas that can be merged on (e.g. \"lsoa\")\n",
    "\n",
    "            n_patients_or_referrals_col: str: name of column containing numeric data\n",
    "                                            (e.g. \"n_patients\", \"referrals\")\n",
    "\n",
    "        Returns:\n",
    "            Pandas dataframe to pass to evaluation functions\n",
    "\n",
    "        '''\n",
    "\n",
    "        active_facilities = self.travel_matrix.iloc[:, site_list].copy()\n",
    "\n",
    "        # Assume travel to closest facility\n",
    "        # Need to drop the column that contains\n",
    "        active_facilities['min_cost'] = active_facilities.min(axis=1)\n",
    "\n",
    "\n",
    "        # Merge demand and travel times into a single DataFrame\n",
    "        problem = self.demand.merge(active_facilities,\n",
    "                                    left_index=True, right_index=True,\n",
    "                                    how='inner')\n",
    "\n",
    "        return problem.reset_index()\n",
    "\n",
    "\n",
    "    def generate_solution_metrics(self, site_list):\n",
    "        '''\n",
    "        Calculates the weighted average travel time for selected sites\n",
    "\n",
    "        Args:\n",
    "            site_list: list or np.array: A list of site IDs as a list or array (e.g. [0, 3, 4])\n",
    "            merge_col: string: The column name to use for merging the data.\n",
    "            n_patients_or_referrals_col: string: The column name to use for the number of patients or referrals.\n",
    "\n",
    "        Returns:\n",
    "            A tuple containing the problem and the maximum travel time.\n",
    "        '''\n",
    "        problem = self.evaluate_solution(site_list)\n",
    "\n",
    "        # Return weighted average\n",
    "        weighted_average = np.average(problem['min_cost'], weights=problem[self.demand_col])\n",
    "        unweighted_average = np.average(problem['min_cost'])\n",
    "        max_travel = np.max(problem['min_cost'])\n",
    "\n",
    "        return {\n",
    "            'site_indices': site_list,\n",
    "            'site_names': \", \".join(self.travel_matrix.columns[site_list].tolist()),\n",
    "            'weighted_average': weighted_average,\n",
    "            'unweighted_average': unweighted_average,\n",
    "            'max': max_travel,\n",
    "            'problem_df': problem\n",
    "        }"
   ]
  },
  {
   "cell_type": "markdown",
   "id": "7e96615a",
   "metadata": {},
   "source": [
    "### Data Imports\n",
    "Now we need to import the travel matrix file named `cardiac_clinic_travel_matrix.csv` and check that the file has been read correctly."
   ]
  },
  {
   "cell_type": "code",
   "execution_count": 3,
   "id": "463fd35f",
   "metadata": {},
   "outputs": [
    {
     "name": "stdout",
     "output_type": "stream",
     "text": [
      "      sector  SACH  BODMIN  RCHT  CRCH  WCH\n",
      "0  E01018750    40      31    60    66   87\n",
      "1  E01018751    40      31    60    66   87\n",
      "2  E01018752    41      32    61    67   88\n",
      "3  E01018753    43      34    64    69   90\n",
      "4  E01018754    46      38    67    72   93\n"
     ]
    }
   ],
   "source": [
    "filepath_travel_matrix = '../datasets/exercise_2/cardiac_clinic_travel_matrix.csv'\n",
    "\n",
    "travel_matrix = pd.read_csv(filepath_travel_matrix)\n",
    "\n",
    "# Display the first five rows to check it's been read in correctly\n",
    "print(travel_matrix.head())"
   ]
  },
  {
   "cell_type": "markdown",
   "id": "34bb6df6",
   "metadata": {},
   "source": [
    "Next, import the number of `cardiac_clinic_attendances.csv` file (in the same location). Again, check it's been read correctly."
   ]
  },
  {
   "cell_type": "code",
   "execution_count": 4,
   "id": "e5aa339a",
   "metadata": {},
   "outputs": [
    {
     "name": "stdout",
     "output_type": "stream",
     "text": [
      "      sector  n_patients\n",
      "0  E01018757           3\n",
      "1  E01018758          10\n",
      "2  E01018761          19\n",
      "3  E01018763           2\n",
      "4  E01018768           6\n"
     ]
    }
   ],
   "source": [
    "filepath_attends = '../datasets/exercise_2/cardiac_clinic_attendances.csv'\n",
    "\n",
    "attends = pd.read_csv(filepath_attends)\n",
    "\n",
    "# Display the first five rows to check it's been read in correctly\n",
    "print(attends.head())\n",
    "## YOUR CODE HERE"
   ]
  },
  {
   "cell_type": "markdown",
   "id": "8e3a9655",
   "metadata": {},
   "source": [
    "Now we will create our location problem object."
   ]
  },
  {
   "cell_type": "code",
   "execution_count": 5,
   "id": "a6809481",
   "metadata": {},
   "outputs": [
    {
     "data": {
      "text/plain": [
       "<__main__.FacilityLocationObjective at 0x321abced0>"
      ]
     },
     "execution_count": 5,
     "metadata": {},
     "output_type": "execute_result"
    }
   ],
   "source": [
    "facility_location_problem = FacilityLocationObjective(\n",
    "    demand= attends, ## YOUR CODE HERE\n",
    "    travel_matrix= travel_matrix, ## YOUR CODE HERE\n",
    "    merge_col= 'sector', ## YOUR CODE HERE\n",
    "    demand_col= 'n_patients'## YOUR CODE HERE\n",
    "    )\n",
    "\n",
    "facility_location_problem"
   ]
  },
  {
   "cell_type": "markdown",
   "id": "932d71ef",
   "metadata": {},
   "source": [
    "### Constructing and evaluating a Random Solution\n",
    "\n",
    "From the above you'll have seen that you've been provided with a travel matrix containing 5 clinic locations. For this case study, the 'solution' will comprise of 3 proposed clinics.\n",
    "\n",
    "Now it's time to generate a random solution. First, run the code in the cell below to define the random_solution function."
   ]
  },
  {
   "cell_type": "code",
   "execution_count": 6,
   "id": "8702e5b5",
   "metadata": {},
   "outputs": [],
   "source": [
    "def random_solution(n_candidates, p, random_seed=None):\n",
    "    '''\n",
    "    Helper function to generate a random solution\n",
    "\n",
    "    Params\n",
    "    ------\n",
    "    n_candidates : int\n",
    "        The number of candidate locations where you could place\n",
    "        clinics (facilities).\n",
    "\n",
    "    p : int\n",
    "        The number of clinics to place.\n",
    "\n",
    "    random_seed : int (Default=None)\n",
    "        Random seed for reproducibility.\n",
    "\n",
    "    Returns\n",
    "    -------\n",
    "\n",
    "    Vector (np.array) of length p\n",
    "    '''\n",
    "    # create a random number generator\n",
    "    rng = np.random.default_rng(seed=random_seed)\n",
    "\n",
    "    # sample without replacement\n",
    "    solution = []\n",
    "    while len(solution) < p:\n",
    "        candidate = rng.integers(0, n_candidates)\n",
    "        if candidate not in solution:\n",
    "            solution.append(candidate)\n",
    "\n",
    "    return np.array(solution)"
   ]
  },
  {
   "cell_type": "markdown",
   "id": "ec598346",
   "metadata": {},
   "source": [
    "Next, fill in the blanks in the use of the function below to generate a single solution for 3 proposed clinics (of the 5 possible locations).\n",
    "\n",
    "Look at the output of this object."
   ]
  },
  {
   "cell_type": "code",
   "execution_count": 7,
   "id": "b90337da",
   "metadata": {},
   "outputs": [
    {
     "name": "stdout",
     "output_type": "stream",
     "text": [
      "[0 3 2]\n"
     ]
    }
   ],
   "source": [
    "random_solution_1 = random_solution(\n",
    "    n_candidates= 5, ## YOUR CODE HERE\n",
    "    p= 3, ## YOUR CODE HERE\n",
    "    random_seed=42\n",
    ")\n",
    "\n",
    "print(random_solution_1)"
   ]
  },
  {
   "cell_type": "markdown",
   "id": "14452207",
   "metadata": {},
   "source": [
    "Now let's evaluate this solution using the `.evaluate_solution()` method of our `facility_location_problem` object. You will need to provide the list of sites to this method.\n",
    "\n",
    "You don't need to save the result of this cell into a variable - we are just interested in seeing what it returns. "
   ]
  },
  {
   "cell_type": "code",
   "execution_count": 8,
   "id": "23edaaff",
   "metadata": {},
   "outputs": [
    {
     "data": {
      "text/html": [
       "<div>\n",
       "<style scoped>\n",
       "    .dataframe tbody tr th:only-of-type {\n",
       "        vertical-align: middle;\n",
       "    }\n",
       "\n",
       "    .dataframe tbody tr th {\n",
       "        vertical-align: top;\n",
       "    }\n",
       "\n",
       "    .dataframe thead th {\n",
       "        text-align: right;\n",
       "    }\n",
       "</style>\n",
       "<table border=\"1\" class=\"dataframe\">\n",
       "  <thead>\n",
       "    <tr style=\"text-align: right;\">\n",
       "      <th></th>\n",
       "      <th>sector</th>\n",
       "      <th>n_patients</th>\n",
       "      <th>SACH</th>\n",
       "      <th>CRCH</th>\n",
       "      <th>RCHT</th>\n",
       "      <th>min_cost</th>\n",
       "    </tr>\n",
       "  </thead>\n",
       "  <tbody>\n",
       "    <tr>\n",
       "      <th>0</th>\n",
       "      <td>E01018757</td>\n",
       "      <td>3</td>\n",
       "      <td>42</td>\n",
       "      <td>68</td>\n",
       "      <td>63</td>\n",
       "      <td>42</td>\n",
       "    </tr>\n",
       "    <tr>\n",
       "      <th>1</th>\n",
       "      <td>E01018758</td>\n",
       "      <td>10</td>\n",
       "      <td>25</td>\n",
       "      <td>51</td>\n",
       "      <td>45</td>\n",
       "      <td>25</td>\n",
       "    </tr>\n",
       "    <tr>\n",
       "      <th>2</th>\n",
       "      <td>E01018761</td>\n",
       "      <td>19</td>\n",
       "      <td>33</td>\n",
       "      <td>61</td>\n",
       "      <td>56</td>\n",
       "      <td>33</td>\n",
       "    </tr>\n",
       "    <tr>\n",
       "      <th>3</th>\n",
       "      <td>E01018763</td>\n",
       "      <td>2</td>\n",
       "      <td>40</td>\n",
       "      <td>66</td>\n",
       "      <td>60</td>\n",
       "      <td>40</td>\n",
       "    </tr>\n",
       "    <tr>\n",
       "      <th>4</th>\n",
       "      <td>E01018768</td>\n",
       "      <td>6</td>\n",
       "      <td>30</td>\n",
       "      <td>56</td>\n",
       "      <td>51</td>\n",
       "      <td>30</td>\n",
       "    </tr>\n",
       "    <tr>\n",
       "      <th>...</th>\n",
       "      <td>...</td>\n",
       "      <td>...</td>\n",
       "      <td>...</td>\n",
       "      <td>...</td>\n",
       "      <td>...</td>\n",
       "      <td>...</td>\n",
       "    </tr>\n",
       "    <tr>\n",
       "      <th>85</th>\n",
       "      <td>E01019057</td>\n",
       "      <td>51</td>\n",
       "      <td>8</td>\n",
       "      <td>41</td>\n",
       "      <td>30</td>\n",
       "      <td>8</td>\n",
       "    </tr>\n",
       "    <tr>\n",
       "      <th>86</th>\n",
       "      <td>E01019064</td>\n",
       "      <td>24</td>\n",
       "      <td>17</td>\n",
       "      <td>27</td>\n",
       "      <td>21</td>\n",
       "      <td>17</td>\n",
       "    </tr>\n",
       "    <tr>\n",
       "      <th>87</th>\n",
       "      <td>E01019071</td>\n",
       "      <td>20</td>\n",
       "      <td>9</td>\n",
       "      <td>27</td>\n",
       "      <td>22</td>\n",
       "      <td>9</td>\n",
       "    </tr>\n",
       "    <tr>\n",
       "      <th>88</th>\n",
       "      <td>E01033289</td>\n",
       "      <td>29</td>\n",
       "      <td>30</td>\n",
       "      <td>41</td>\n",
       "      <td>36</td>\n",
       "      <td>30</td>\n",
       "    </tr>\n",
       "    <tr>\n",
       "      <th>89</th>\n",
       "      <td>E01033291</td>\n",
       "      <td>7</td>\n",
       "      <td>35</td>\n",
       "      <td>53</td>\n",
       "      <td>48</td>\n",
       "      <td>35</td>\n",
       "    </tr>\n",
       "  </tbody>\n",
       "</table>\n",
       "<p>90 rows × 6 columns</p>\n",
       "</div>"
      ],
      "text/plain": [
       "       sector  n_patients  SACH  CRCH  RCHT  min_cost\n",
       "0   E01018757           3    42    68    63        42\n",
       "1   E01018758          10    25    51    45        25\n",
       "2   E01018761          19    33    61    56        33\n",
       "3   E01018763           2    40    66    60        40\n",
       "4   E01018768           6    30    56    51        30\n",
       "..        ...         ...   ...   ...   ...       ...\n",
       "85  E01019057          51     8    41    30         8\n",
       "86  E01019064          24    17    27    21        17\n",
       "87  E01019071          20     9    27    22         9\n",
       "88  E01033289          29    30    41    36        30\n",
       "89  E01033291           7    35    53    48        35\n",
       "\n",
       "[90 rows x 6 columns]"
      ]
     },
     "execution_count": 8,
     "metadata": {},
     "output_type": "execute_result"
    }
   ],
   "source": [
    "facility_location_problem.evaluate_solution(random_solution_1)\n"
   ]
  },
  {
   "cell_type": "markdown",
   "id": "fa946d63",
   "metadata": {},
   "source": [
    "This time, let's return the metrics from this solution using the `generate_solution_metrics()` method instead."
   ]
  },
  {
   "cell_type": "code",
   "execution_count": 9,
   "id": "dfea033f",
   "metadata": {},
   "outputs": [
    {
     "data": {
      "text/plain": [
       "{'site_indices': array([0, 3, 2]),\n",
       " 'site_names': 'SACH, CRCH, RCHT',\n",
       " 'weighted_average': 15.133891213389122,\n",
       " 'unweighted_average': 20.988888888888887,\n",
       " 'max': 58,\n",
       " 'problem_df':        sector  n_patients  SACH  CRCH  RCHT  min_cost\n",
       " 0   E01018757           3    42    68    63        42\n",
       " 1   E01018758          10    25    51    45        25\n",
       " 2   E01018761          19    33    61    56        33\n",
       " 3   E01018763           2    40    66    60        40\n",
       " 4   E01018768           6    30    56    51        30\n",
       " ..        ...         ...   ...   ...   ...       ...\n",
       " 85  E01019057          51     8    41    30         8\n",
       " 86  E01019064          24    17    27    21        17\n",
       " 87  E01019071          20     9    27    22         9\n",
       " 88  E01033289          29    30    41    36        30\n",
       " 89  E01033291           7    35    53    48        35\n",
       " \n",
       " [90 rows x 6 columns]}"
      ]
     },
     "execution_count": 9,
     "metadata": {},
     "output_type": "execute_result"
    }
   ],
   "source": [
    "metrics_random_solution_1 = facility_location_problem.generate_solution_metrics(random_solution_1)\n",
    "\n",
    "metrics_random_solution_1"
   ]
  },
  {
   "cell_type": "markdown",
   "id": "c135dea9",
   "metadata": {},
   "source": [
    "Run the code below to convert it into a dataframe. is this easier to read?\n",
    "\n",
    "Hint - the code below makes a copy of the dictionary `metrics_random_solution_1`.\n",
    "\n",
    "It then updates `metrics_random_solution_1_copy` so that it doesn't contain the `problem_df`. \n",
    "\n",
    "If we tried to make a dataframe out of the whole thing, we'd run into an error!\n",
    "\n",
    "Try taking some time to understand what the `.join` method is doing. This is a handy bit of code for tidying up the output of your lists when you want to display them nicely."
   ]
  },
  {
   "cell_type": "code",
   "execution_count": 10,
   "id": "8b543513",
   "metadata": {},
   "outputs": [
    {
     "data": {
      "text/html": [
       "<div>\n",
       "<style scoped>\n",
       "    .dataframe tbody tr th:only-of-type {\n",
       "        vertical-align: middle;\n",
       "    }\n",
       "\n",
       "    .dataframe tbody tr th {\n",
       "        vertical-align: top;\n",
       "    }\n",
       "\n",
       "    .dataframe thead th {\n",
       "        text-align: right;\n",
       "    }\n",
       "</style>\n",
       "<table border=\"1\" class=\"dataframe\">\n",
       "  <thead>\n",
       "    <tr style=\"text-align: right;\">\n",
       "      <th></th>\n",
       "      <th>site_indices</th>\n",
       "      <th>site_names</th>\n",
       "      <th>weighted_average</th>\n",
       "      <th>unweighted_average</th>\n",
       "      <th>max</th>\n",
       "    </tr>\n",
       "  </thead>\n",
       "  <tbody>\n",
       "    <tr>\n",
       "      <th>0</th>\n",
       "      <td>0, 2, 3</td>\n",
       "      <td>SACH, CRCH, RCHT</td>\n",
       "      <td>15.133891</td>\n",
       "      <td>20.988889</td>\n",
       "      <td>58</td>\n",
       "    </tr>\n",
       "  </tbody>\n",
       "</table>\n",
       "</div>"
      ],
      "text/plain": [
       "  site_indices        site_names  weighted_average  unweighted_average  max\n",
       "0      0, 2, 3  SACH, CRCH, RCHT         15.133891           20.988889   58"
      ]
     },
     "execution_count": 10,
     "metadata": {},
     "output_type": "execute_result"
    }
   ],
   "source": [
    "metrics_random_solution_1_copy = metrics_random_solution_1.copy()\n",
    "\n",
    "del metrics_random_solution_1_copy[\"problem_df\"]\n",
    "metrics_random_solution_1_copy[\"site_indices\"].sort()\n",
    "metrics_random_solution_1_copy[\"site_indices\"] = \", \".join(str(x) for x in metrics_random_solution_1_copy[\"site_indices\"])\n",
    "\n",
    "pd.DataFrame(metrics_random_solution_1_copy, index=[0])"
   ]
  },
  {
   "cell_type": "markdown",
   "id": "35388a15",
   "metadata": {},
   "source": [
    "### Create all Possible Combinations\n",
    "\n",
    "The `all_combinations` function has been provided below.\n",
    "\n",
    "Can you remember what a list comprehension is? \n",
    "\n",
    "Where is it used in the function below and what is it doing?"
   ]
  },
  {
   "cell_type": "code",
   "execution_count": 11,
   "id": "5882ae83",
   "metadata": {},
   "outputs": [],
   "source": [
    "def all_combinations(n_facilities, p):\n",
    "    '''\n",
    "    n_facilities : int\n",
    "        The number of candidate locations where you could place facilities (clinics).\n",
    "\n",
    "    p : int\n",
    "        The number of clinics to place.\n",
    "\n",
    "    Returns\n",
    "    -------\n",
    "\n",
    "    Returns all p sized combinations of an array containing\n",
    "    indicies 0 to n_facilties - 1\n",
    "    '''\n",
    "    facility = np.arange(n_facilities, dtype=np.uint8)\n",
    "    return [np.array(a) for a in combinations(facility, p)] # here: \n",
    "\n",
    "    '''\n",
    "    it is unpacking the combinations into a list of arrays. Each array is a combination of p facilities\n",
    "    '''"
   ]
  },
  {
   "cell_type": "markdown",
   "id": "64cceab7",
   "metadata": {},
   "source": [
    "Use the function above to print the total number of possible combinations (remember - we're looking for 3 locations from the existing 5 clinics).\n",
    "\n",
    "Note that it's really important that we don't just call our variable `combinations` here!\n",
    "If we do, we'll overwrite the `combinations` method we imported from `itertools` back in the first cell, and things will start behaving strangely (with some very obtuse error messages) down the line."
   ]
  },
  {
   "cell_type": "code",
   "execution_count": 12,
   "id": "298833f6",
   "metadata": {},
   "outputs": [
    {
     "name": "stdout",
     "output_type": "stream",
     "text": [
      "[array([0, 1, 2], dtype=uint8), array([0, 1, 3], dtype=uint8), array([0, 1, 4], dtype=uint8), array([0, 2, 3], dtype=uint8), array([0, 2, 4], dtype=uint8), array([0, 3, 4], dtype=uint8), array([1, 2, 3], dtype=uint8), array([1, 2, 4], dtype=uint8), array([1, 3, 4], dtype=uint8), array([2, 3, 4], dtype=uint8)]\n"
     ]
    }
   ],
   "source": [
    "possible_combinations = all_combinations(5, 3)\n",
    "print(possible_combinations)"
   ]
  },
  {
   "cell_type": "markdown",
   "id": "565095aa",
   "metadata": {},
   "source": [
    "Print the total number of combinations."
   ]
  },
  {
   "cell_type": "code",
   "execution_count": 13,
   "id": "3c6d9629",
   "metadata": {},
   "outputs": [
    {
     "name": "stdout",
     "output_type": "stream",
     "text": [
      "The total number of combinations is 10\n"
     ]
    }
   ],
   "source": [
    "number_of_combinations = possible_combinations.__len__()\n",
    "\n",
    "print(f\"The total number of combinations is {number_of_combinations}\")"
   ]
  },
  {
   "cell_type": "markdown",
   "id": "1a88bad5",
   "metadata": {},
   "source": [
    "Take a look at one of the combinations. \n",
    "\n",
    "What combination of clinics is proposed in the 5th element of the array of combinations?\n",
    "\n",
    "Hint: remember that when we are accessing the elements of an array/list, we start counting up from 0, not 1 (i.e. the first item in the list is number 0) "
   ]
  },
  {
   "cell_type": "code",
   "execution_count": 14,
   "id": "f03d74a3",
   "metadata": {},
   "outputs": [
    {
     "data": {
      "text/plain": [
       "array([0, 2, 4], dtype=uint8)"
      ]
     },
     "execution_count": 14,
     "metadata": {},
     "output_type": "execute_result"
    }
   ],
   "source": [
    "possible_combinations[4]"
   ]
  },
  {
   "cell_type": "markdown",
   "id": "4928ed4a",
   "metadata": {},
   "source": [
    "### Brute-forcing the solution\n",
    "\n",
    "Assess all of the possible combinations.\n",
    "\n",
    "Make sure you add the output of each round of the loop to the list `results`. This has been set up as an empty list. \n"
   ]
  },
  {
   "cell_type": "code",
   "execution_count": 15,
   "id": "087cb1c6",
   "metadata": {},
   "outputs": [
    {
     "data": {
      "text/html": [
       "<div>\n",
       "<style scoped>\n",
       "    .dataframe tbody tr th:only-of-type {\n",
       "        vertical-align: middle;\n",
       "    }\n",
       "\n",
       "    .dataframe tbody tr th {\n",
       "        vertical-align: top;\n",
       "    }\n",
       "\n",
       "    .dataframe thead th {\n",
       "        text-align: right;\n",
       "    }\n",
       "</style>\n",
       "<table border=\"1\" class=\"dataframe\">\n",
       "  <thead>\n",
       "    <tr style=\"text-align: right;\">\n",
       "      <th></th>\n",
       "      <th>site_indices</th>\n",
       "      <th>site_names</th>\n",
       "      <th>weighted_average</th>\n",
       "      <th>unweighted_average</th>\n",
       "      <th>max</th>\n",
       "      <th>problem_df</th>\n",
       "    </tr>\n",
       "  </thead>\n",
       "  <tbody>\n",
       "    <tr>\n",
       "      <th>0</th>\n",
       "      <td>[0, 1, 2]</td>\n",
       "      <td>SACH, BODMIN, RCHT</td>\n",
       "      <td>16.772863</td>\n",
       "      <td>19.888889</td>\n",
       "      <td>41</td>\n",
       "      <td>sector  n_patients  SACH  BODMIN  RCHT ...</td>\n",
       "    </tr>\n",
       "    <tr>\n",
       "      <th>1</th>\n",
       "      <td>[0, 1, 3]</td>\n",
       "      <td>SACH, BODMIN, CRCH</td>\n",
       "      <td>13.849372</td>\n",
       "      <td>17.655556</td>\n",
       "      <td>41</td>\n",
       "      <td>sector  n_patients  SACH  BODMIN  CRCH ...</td>\n",
       "    </tr>\n",
       "    <tr>\n",
       "      <th>2</th>\n",
       "      <td>[0, 1, 4]</td>\n",
       "      <td>SACH, BODMIN, WCH</td>\n",
       "      <td>18.459056</td>\n",
       "      <td>20.388889</td>\n",
       "      <td>41</td>\n",
       "      <td>sector  n_patients  SACH  BODMIN  WCH  ...</td>\n",
       "    </tr>\n",
       "    <tr>\n",
       "      <th>3</th>\n",
       "      <td>[0, 2, 3]</td>\n",
       "      <td>SACH, RCHT, CRCH</td>\n",
       "      <td>15.133891</td>\n",
       "      <td>20.988889</td>\n",
       "      <td>58</td>\n",
       "      <td>sector  n_patients  SACH  RCHT  CRCH  m...</td>\n",
       "    </tr>\n",
       "    <tr>\n",
       "      <th>4</th>\n",
       "      <td>[0, 2, 4]</td>\n",
       "      <td>SACH, RCHT, WCH</td>\n",
       "      <td>15.025105</td>\n",
       "      <td>19.966667</td>\n",
       "      <td>58</td>\n",
       "      <td>sector  n_patients  SACH  RCHT  WCH  mi...</td>\n",
       "    </tr>\n",
       "    <tr>\n",
       "      <th>5</th>\n",
       "      <td>[0, 3, 4]</td>\n",
       "      <td>SACH, CRCH, WCH</td>\n",
       "      <td>13.776449</td>\n",
       "      <td>19.455556</td>\n",
       "      <td>58</td>\n",
       "      <td>sector  n_patients  SACH  CRCH  WCH  mi...</td>\n",
       "    </tr>\n",
       "    <tr>\n",
       "      <th>6</th>\n",
       "      <td>[1, 2, 3]</td>\n",
       "      <td>BODMIN, RCHT, CRCH</td>\n",
       "      <td>14.354453</td>\n",
       "      <td>17.733333</td>\n",
       "      <td>41</td>\n",
       "      <td>sector  n_patients  BODMIN  RCHT  CRCH ...</td>\n",
       "    </tr>\n",
       "    <tr>\n",
       "      <th>7</th>\n",
       "      <td>[1, 2, 4]</td>\n",
       "      <td>BODMIN, RCHT, WCH</td>\n",
       "      <td>14.245666</td>\n",
       "      <td>16.711111</td>\n",
       "      <td>41</td>\n",
       "      <td>sector  n_patients  BODMIN  RCHT  WCH  ...</td>\n",
       "    </tr>\n",
       "    <tr>\n",
       "      <th>8</th>\n",
       "      <td>[1, 3, 4]</td>\n",
       "      <td>BODMIN, CRCH, WCH</td>\n",
       "      <td>13.208607</td>\n",
       "      <td>16.422222</td>\n",
       "      <td>41</td>\n",
       "      <td>sector  n_patients  BODMIN  CRCH  WCH  ...</td>\n",
       "    </tr>\n",
       "    <tr>\n",
       "      <th>9</th>\n",
       "      <td>[2, 3, 4]</td>\n",
       "      <td>RCHT, CRCH, WCH</td>\n",
       "      <td>18.026898</td>\n",
       "      <td>25.366667</td>\n",
       "      <td>71</td>\n",
       "      <td>sector  n_patients  RCHT  CRCH  WCH  mi...</td>\n",
       "    </tr>\n",
       "  </tbody>\n",
       "</table>\n",
       "</div>"
      ],
      "text/plain": [
       "  site_indices          site_names  weighted_average  unweighted_average  max  \\\n",
       "0    [0, 1, 2]  SACH, BODMIN, RCHT         16.772863           19.888889   41   \n",
       "1    [0, 1, 3]  SACH, BODMIN, CRCH         13.849372           17.655556   41   \n",
       "2    [0, 1, 4]   SACH, BODMIN, WCH         18.459056           20.388889   41   \n",
       "3    [0, 2, 3]    SACH, RCHT, CRCH         15.133891           20.988889   58   \n",
       "4    [0, 2, 4]     SACH, RCHT, WCH         15.025105           19.966667   58   \n",
       "5    [0, 3, 4]     SACH, CRCH, WCH         13.776449           19.455556   58   \n",
       "6    [1, 2, 3]  BODMIN, RCHT, CRCH         14.354453           17.733333   41   \n",
       "7    [1, 2, 4]   BODMIN, RCHT, WCH         14.245666           16.711111   41   \n",
       "8    [1, 3, 4]   BODMIN, CRCH, WCH         13.208607           16.422222   41   \n",
       "9    [2, 3, 4]     RCHT, CRCH, WCH         18.026898           25.366667   71   \n",
       "\n",
       "                                          problem_df  \n",
       "0         sector  n_patients  SACH  BODMIN  RCHT ...  \n",
       "1         sector  n_patients  SACH  BODMIN  CRCH ...  \n",
       "2         sector  n_patients  SACH  BODMIN  WCH  ...  \n",
       "3         sector  n_patients  SACH  RCHT  CRCH  m...  \n",
       "4         sector  n_patients  SACH  RCHT  WCH  mi...  \n",
       "5         sector  n_patients  SACH  CRCH  WCH  mi...  \n",
       "6         sector  n_patients  BODMIN  RCHT  CRCH ...  \n",
       "7         sector  n_patients  BODMIN  RCHT  WCH  ...  \n",
       "8         sector  n_patients  BODMIN  CRCH  WCH  ...  \n",
       "9         sector  n_patients  RCHT  CRCH  WCH  mi...  "
      ]
     },
     "execution_count": 15,
     "metadata": {},
     "output_type": "execute_result"
    }
   ],
   "source": [
    "results = []\n",
    "\n",
    "for possible_solution in possible_combinations:\n",
    "    metrics = facility_location_problem.generate_solution_metrics(possible_solution)\n",
    "    results.append(metrics)\n",
    "\n",
    "results_df = pd.DataFrame(results)    \n",
    "\n",
    "results_df"
   ]
  },
  {
   "cell_type": "markdown",
   "id": "97a10074",
   "metadata": {},
   "source": [
    "Convert `results` into a single dataframe, then display it."
   ]
  },
  {
   "cell_type": "code",
   "execution_count": 19,
   "id": "fd53f67a",
   "metadata": {},
   "outputs": [
    {
     "data": {
      "text/html": [
       "<div>\n",
       "<style scoped>\n",
       "    .dataframe tbody tr th:only-of-type {\n",
       "        vertical-align: middle;\n",
       "    }\n",
       "\n",
       "    .dataframe tbody tr th {\n",
       "        vertical-align: top;\n",
       "    }\n",
       "\n",
       "    .dataframe thead th {\n",
       "        text-align: right;\n",
       "    }\n",
       "</style>\n",
       "<table border=\"1\" class=\"dataframe\">\n",
       "  <thead>\n",
       "    <tr style=\"text-align: right;\">\n",
       "      <th></th>\n",
       "      <th>site_indices</th>\n",
       "      <th>site_names</th>\n",
       "      <th>weighted_average</th>\n",
       "      <th>unweighted_average</th>\n",
       "      <th>max</th>\n",
       "      <th>problem_df</th>\n",
       "    </tr>\n",
       "  </thead>\n",
       "  <tbody>\n",
       "    <tr>\n",
       "      <th>8</th>\n",
       "      <td>[1, 3, 4]</td>\n",
       "      <td>BODMIN, CRCH, WCH</td>\n",
       "      <td>13.208607</td>\n",
       "      <td>16.422222</td>\n",
       "      <td>41</td>\n",
       "      <td>sector  n_patients  BODMIN  CRCH  WCH  ...</td>\n",
       "    </tr>\n",
       "    <tr>\n",
       "      <th>5</th>\n",
       "      <td>[0, 3, 4]</td>\n",
       "      <td>SACH, CRCH, WCH</td>\n",
       "      <td>13.776449</td>\n",
       "      <td>19.455556</td>\n",
       "      <td>58</td>\n",
       "      <td>sector  n_patients  SACH  CRCH  WCH  mi...</td>\n",
       "    </tr>\n",
       "    <tr>\n",
       "      <th>1</th>\n",
       "      <td>[0, 1, 3]</td>\n",
       "      <td>SACH, BODMIN, CRCH</td>\n",
       "      <td>13.849372</td>\n",
       "      <td>17.655556</td>\n",
       "      <td>41</td>\n",
       "      <td>sector  n_patients  SACH  BODMIN  CRCH ...</td>\n",
       "    </tr>\n",
       "    <tr>\n",
       "      <th>7</th>\n",
       "      <td>[1, 2, 4]</td>\n",
       "      <td>BODMIN, RCHT, WCH</td>\n",
       "      <td>14.245666</td>\n",
       "      <td>16.711111</td>\n",
       "      <td>41</td>\n",
       "      <td>sector  n_patients  BODMIN  RCHT  WCH  ...</td>\n",
       "    </tr>\n",
       "    <tr>\n",
       "      <th>6</th>\n",
       "      <td>[1, 2, 3]</td>\n",
       "      <td>BODMIN, RCHT, CRCH</td>\n",
       "      <td>14.354453</td>\n",
       "      <td>17.733333</td>\n",
       "      <td>41</td>\n",
       "      <td>sector  n_patients  BODMIN  RCHT  CRCH ...</td>\n",
       "    </tr>\n",
       "  </tbody>\n",
       "</table>\n",
       "</div>"
      ],
      "text/plain": [
       "  site_indices          site_names  weighted_average  unweighted_average  max  \\\n",
       "8    [1, 3, 4]   BODMIN, CRCH, WCH         13.208607           16.422222   41   \n",
       "5    [0, 3, 4]     SACH, CRCH, WCH         13.776449           19.455556   58   \n",
       "1    [0, 1, 3]  SACH, BODMIN, CRCH         13.849372           17.655556   41   \n",
       "7    [1, 2, 4]   BODMIN, RCHT, WCH         14.245666           16.711111   41   \n",
       "6    [1, 2, 3]  BODMIN, RCHT, CRCH         14.354453           17.733333   41   \n",
       "\n",
       "                                          problem_df  \n",
       "8         sector  n_patients  BODMIN  CRCH  WCH  ...  \n",
       "5         sector  n_patients  SACH  CRCH  WCH  mi...  \n",
       "1         sector  n_patients  SACH  BODMIN  CRCH ...  \n",
       "7         sector  n_patients  BODMIN  RCHT  WCH  ...  \n",
       "6         sector  n_patients  BODMIN  RCHT  CRCH ...  "
      ]
     },
     "execution_count": 19,
     "metadata": {},
     "output_type": "execute_result"
    }
   ],
   "source": [
    "results_df = pd.DataFrame(results)    \n",
    "\n"
   ]
  },
  {
   "cell_type": "markdown",
   "id": "03c729a0",
   "metadata": {},
   "source": [
    "Run the code below to print the optimal solution."
   ]
  },
  {
   "cell_type": "code",
   "execution_count": 17,
   "id": "8552e480",
   "metadata": {},
   "outputs": [
    {
     "name": "stdout",
     "output_type": "stream",
     "text": [
      "The optimal combination of sites  is BODMIN, CRCH, WCH\n"
     ]
    }
   ],
   "source": [
    "optimal_solution_wa = (\n",
    "    pd.DataFrame(results_df).sort_values('weighted_average').head(1)['site_names'].values\n",
    ")\n",
    "\n",
    "print(\n",
    "    'The optimal combination of sites',\n",
    "    f' is {\",\".join(optimal_solution_wa)}'\n",
    "    )"
   ]
  },
  {
   "cell_type": "markdown",
   "id": "f5cc227d",
   "metadata": {},
   "source": [
    "## Extension"
   ]
  },
  {
   "cell_type": "markdown",
   "id": "e3682bce",
   "metadata": {},
   "source": [
    "### Graphical Representation of the Results"
   ]
  },
  {
   "cell_type": "markdown",
   "id": "838fb3d1",
   "metadata": {},
   "source": [
    "Generate a bar chart of all possible solution costs.\n",
    "\n",
    "You can choose to use any library you like - the lecture used plotly express, but you could use plotnine, matplotlib, or seaborn if you prefer. \n",
    "\n",
    "Your chart should include the following elements:\n",
    "* All possible clinic combinations represented as bars\n",
    "* Title\n",
    "* x-axis label\n",
    "* y-axis label\n",
    "\n",
    "If you want an extra challenge, try looking into how you could make just the best solution be marked green.\n",
    "You may need to add an extra column to the result_df. "
   ]
  },
  {
   "cell_type": "code",
   "execution_count": 29,
   "id": "ffc0c880",
   "metadata": {
    "scrolled": false
   },
   "outputs": [
    {
     "data": {
      "application/vnd.plotly.v1+json": {
       "config": {
        "plotlyServerURL": "https://plot.ly"
       },
       "data": [
        {
         "alignmentgroup": "True",
         "hovertemplate": "weighted_average=%{x}<br>site_names=%{y}<extra></extra>",
         "legendgroup": "",
         "marker": {
          "color": "red",
          "pattern": {
           "shape": ""
          }
         },
         "name": "",
         "offsetgroup": "",
         "orientation": "h",
         "showlegend": false,
         "textposition": "auto",
         "type": "bar",
         "x": [
          16.772863120143455,
          13.849372384937238,
          18.459055588762702,
          15.133891213389122,
          15.02510460251046,
          13.776449491930663,
          14.35445307830245,
          14.24566646742379,
          18.026897788404064
         ],
         "xaxis": "x",
         "y": [
          "SACH, BODMIN, RCHT",
          "SACH, BODMIN, CRCH",
          "SACH, BODMIN, WCH",
          "SACH, RCHT, CRCH",
          "SACH, RCHT, WCH",
          "SACH, CRCH, WCH",
          "BODMIN, RCHT, CRCH",
          "BODMIN, RCHT, WCH",
          "RCHT, CRCH, WCH"
         ],
         "yaxis": "y"
        },
        {
         "alignmentgroup": "True",
         "hovertemplate": "weighted_average=%{x}<br>site_names=%{y}<extra></extra>",
         "legendgroup": "",
         "marker": {
          "color": "green",
          "pattern": {
           "shape": ""
          }
         },
         "name": "",
         "offsetgroup": "",
         "orientation": "h",
         "showlegend": false,
         "textposition": "auto",
         "type": "bar",
         "x": [
          13.208607292289301
         ],
         "xaxis": "x",
         "y": [
          "BODMIN, CRCH, WCH"
         ],
         "yaxis": "y"
        }
       ],
       "layout": {
        "barmode": "relative",
        "legend": {
         "tracegroupgap": 0
        },
        "template": {
         "data": {
          "bar": [
           {
            "error_x": {
             "color": "#2a3f5f"
            },
            "error_y": {
             "color": "#2a3f5f"
            },
            "marker": {
             "line": {
              "color": "#E5ECF6",
              "width": 0.5
             },
             "pattern": {
              "fillmode": "overlay",
              "size": 10,
              "solidity": 0.2
             }
            },
            "type": "bar"
           }
          ],
          "barpolar": [
           {
            "marker": {
             "line": {
              "color": "#E5ECF6",
              "width": 0.5
             },
             "pattern": {
              "fillmode": "overlay",
              "size": 10,
              "solidity": 0.2
             }
            },
            "type": "barpolar"
           }
          ],
          "carpet": [
           {
            "aaxis": {
             "endlinecolor": "#2a3f5f",
             "gridcolor": "white",
             "linecolor": "white",
             "minorgridcolor": "white",
             "startlinecolor": "#2a3f5f"
            },
            "baxis": {
             "endlinecolor": "#2a3f5f",
             "gridcolor": "white",
             "linecolor": "white",
             "minorgridcolor": "white",
             "startlinecolor": "#2a3f5f"
            },
            "type": "carpet"
           }
          ],
          "choropleth": [
           {
            "colorbar": {
             "outlinewidth": 0,
             "ticks": ""
            },
            "type": "choropleth"
           }
          ],
          "contour": [
           {
            "colorbar": {
             "outlinewidth": 0,
             "ticks": ""
            },
            "colorscale": [
             [
              0,
              "#0d0887"
             ],
             [
              0.1111111111111111,
              "#46039f"
             ],
             [
              0.2222222222222222,
              "#7201a8"
             ],
             [
              0.3333333333333333,
              "#9c179e"
             ],
             [
              0.4444444444444444,
              "#bd3786"
             ],
             [
              0.5555555555555556,
              "#d8576b"
             ],
             [
              0.6666666666666666,
              "#ed7953"
             ],
             [
              0.7777777777777778,
              "#fb9f3a"
             ],
             [
              0.8888888888888888,
              "#fdca26"
             ],
             [
              1,
              "#f0f921"
             ]
            ],
            "type": "contour"
           }
          ],
          "contourcarpet": [
           {
            "colorbar": {
             "outlinewidth": 0,
             "ticks": ""
            },
            "type": "contourcarpet"
           }
          ],
          "heatmap": [
           {
            "colorbar": {
             "outlinewidth": 0,
             "ticks": ""
            },
            "colorscale": [
             [
              0,
              "#0d0887"
             ],
             [
              0.1111111111111111,
              "#46039f"
             ],
             [
              0.2222222222222222,
              "#7201a8"
             ],
             [
              0.3333333333333333,
              "#9c179e"
             ],
             [
              0.4444444444444444,
              "#bd3786"
             ],
             [
              0.5555555555555556,
              "#d8576b"
             ],
             [
              0.6666666666666666,
              "#ed7953"
             ],
             [
              0.7777777777777778,
              "#fb9f3a"
             ],
             [
              0.8888888888888888,
              "#fdca26"
             ],
             [
              1,
              "#f0f921"
             ]
            ],
            "type": "heatmap"
           }
          ],
          "heatmapgl": [
           {
            "colorbar": {
             "outlinewidth": 0,
             "ticks": ""
            },
            "colorscale": [
             [
              0,
              "#0d0887"
             ],
             [
              0.1111111111111111,
              "#46039f"
             ],
             [
              0.2222222222222222,
              "#7201a8"
             ],
             [
              0.3333333333333333,
              "#9c179e"
             ],
             [
              0.4444444444444444,
              "#bd3786"
             ],
             [
              0.5555555555555556,
              "#d8576b"
             ],
             [
              0.6666666666666666,
              "#ed7953"
             ],
             [
              0.7777777777777778,
              "#fb9f3a"
             ],
             [
              0.8888888888888888,
              "#fdca26"
             ],
             [
              1,
              "#f0f921"
             ]
            ],
            "type": "heatmapgl"
           }
          ],
          "histogram": [
           {
            "marker": {
             "pattern": {
              "fillmode": "overlay",
              "size": 10,
              "solidity": 0.2
             }
            },
            "type": "histogram"
           }
          ],
          "histogram2d": [
           {
            "colorbar": {
             "outlinewidth": 0,
             "ticks": ""
            },
            "colorscale": [
             [
              0,
              "#0d0887"
             ],
             [
              0.1111111111111111,
              "#46039f"
             ],
             [
              0.2222222222222222,
              "#7201a8"
             ],
             [
              0.3333333333333333,
              "#9c179e"
             ],
             [
              0.4444444444444444,
              "#bd3786"
             ],
             [
              0.5555555555555556,
              "#d8576b"
             ],
             [
              0.6666666666666666,
              "#ed7953"
             ],
             [
              0.7777777777777778,
              "#fb9f3a"
             ],
             [
              0.8888888888888888,
              "#fdca26"
             ],
             [
              1,
              "#f0f921"
             ]
            ],
            "type": "histogram2d"
           }
          ],
          "histogram2dcontour": [
           {
            "colorbar": {
             "outlinewidth": 0,
             "ticks": ""
            },
            "colorscale": [
             [
              0,
              "#0d0887"
             ],
             [
              0.1111111111111111,
              "#46039f"
             ],
             [
              0.2222222222222222,
              "#7201a8"
             ],
             [
              0.3333333333333333,
              "#9c179e"
             ],
             [
              0.4444444444444444,
              "#bd3786"
             ],
             [
              0.5555555555555556,
              "#d8576b"
             ],
             [
              0.6666666666666666,
              "#ed7953"
             ],
             [
              0.7777777777777778,
              "#fb9f3a"
             ],
             [
              0.8888888888888888,
              "#fdca26"
             ],
             [
              1,
              "#f0f921"
             ]
            ],
            "type": "histogram2dcontour"
           }
          ],
          "mesh3d": [
           {
            "colorbar": {
             "outlinewidth": 0,
             "ticks": ""
            },
            "type": "mesh3d"
           }
          ],
          "parcoords": [
           {
            "line": {
             "colorbar": {
              "outlinewidth": 0,
              "ticks": ""
             }
            },
            "type": "parcoords"
           }
          ],
          "pie": [
           {
            "automargin": true,
            "type": "pie"
           }
          ],
          "scatter": [
           {
            "fillpattern": {
             "fillmode": "overlay",
             "size": 10,
             "solidity": 0.2
            },
            "type": "scatter"
           }
          ],
          "scatter3d": [
           {
            "line": {
             "colorbar": {
              "outlinewidth": 0,
              "ticks": ""
             }
            },
            "marker": {
             "colorbar": {
              "outlinewidth": 0,
              "ticks": ""
             }
            },
            "type": "scatter3d"
           }
          ],
          "scattercarpet": [
           {
            "marker": {
             "colorbar": {
              "outlinewidth": 0,
              "ticks": ""
             }
            },
            "type": "scattercarpet"
           }
          ],
          "scattergeo": [
           {
            "marker": {
             "colorbar": {
              "outlinewidth": 0,
              "ticks": ""
             }
            },
            "type": "scattergeo"
           }
          ],
          "scattergl": [
           {
            "marker": {
             "colorbar": {
              "outlinewidth": 0,
              "ticks": ""
             }
            },
            "type": "scattergl"
           }
          ],
          "scattermapbox": [
           {
            "marker": {
             "colorbar": {
              "outlinewidth": 0,
              "ticks": ""
             }
            },
            "type": "scattermapbox"
           }
          ],
          "scatterpolar": [
           {
            "marker": {
             "colorbar": {
              "outlinewidth": 0,
              "ticks": ""
             }
            },
            "type": "scatterpolar"
           }
          ],
          "scatterpolargl": [
           {
            "marker": {
             "colorbar": {
              "outlinewidth": 0,
              "ticks": ""
             }
            },
            "type": "scatterpolargl"
           }
          ],
          "scatterternary": [
           {
            "marker": {
             "colorbar": {
              "outlinewidth": 0,
              "ticks": ""
             }
            },
            "type": "scatterternary"
           }
          ],
          "surface": [
           {
            "colorbar": {
             "outlinewidth": 0,
             "ticks": ""
            },
            "colorscale": [
             [
              0,
              "#0d0887"
             ],
             [
              0.1111111111111111,
              "#46039f"
             ],
             [
              0.2222222222222222,
              "#7201a8"
             ],
             [
              0.3333333333333333,
              "#9c179e"
             ],
             [
              0.4444444444444444,
              "#bd3786"
             ],
             [
              0.5555555555555556,
              "#d8576b"
             ],
             [
              0.6666666666666666,
              "#ed7953"
             ],
             [
              0.7777777777777778,
              "#fb9f3a"
             ],
             [
              0.8888888888888888,
              "#fdca26"
             ],
             [
              1,
              "#f0f921"
             ]
            ],
            "type": "surface"
           }
          ],
          "table": [
           {
            "cells": {
             "fill": {
              "color": "#EBF0F8"
             },
             "line": {
              "color": "white"
             }
            },
            "header": {
             "fill": {
              "color": "#C8D4E3"
             },
             "line": {
              "color": "white"
             }
            },
            "type": "table"
           }
          ]
         },
         "layout": {
          "annotationdefaults": {
           "arrowcolor": "#2a3f5f",
           "arrowhead": 0,
           "arrowwidth": 1
          },
          "autotypenumbers": "strict",
          "coloraxis": {
           "colorbar": {
            "outlinewidth": 0,
            "ticks": ""
           }
          },
          "colorscale": {
           "diverging": [
            [
             0,
             "#8e0152"
            ],
            [
             0.1,
             "#c51b7d"
            ],
            [
             0.2,
             "#de77ae"
            ],
            [
             0.3,
             "#f1b6da"
            ],
            [
             0.4,
             "#fde0ef"
            ],
            [
             0.5,
             "#f7f7f7"
            ],
            [
             0.6,
             "#e6f5d0"
            ],
            [
             0.7,
             "#b8e186"
            ],
            [
             0.8,
             "#7fbc41"
            ],
            [
             0.9,
             "#4d9221"
            ],
            [
             1,
             "#276419"
            ]
           ],
           "sequential": [
            [
             0,
             "#0d0887"
            ],
            [
             0.1111111111111111,
             "#46039f"
            ],
            [
             0.2222222222222222,
             "#7201a8"
            ],
            [
             0.3333333333333333,
             "#9c179e"
            ],
            [
             0.4444444444444444,
             "#bd3786"
            ],
            [
             0.5555555555555556,
             "#d8576b"
            ],
            [
             0.6666666666666666,
             "#ed7953"
            ],
            [
             0.7777777777777778,
             "#fb9f3a"
            ],
            [
             0.8888888888888888,
             "#fdca26"
            ],
            [
             1,
             "#f0f921"
            ]
           ],
           "sequentialminus": [
            [
             0,
             "#0d0887"
            ],
            [
             0.1111111111111111,
             "#46039f"
            ],
            [
             0.2222222222222222,
             "#7201a8"
            ],
            [
             0.3333333333333333,
             "#9c179e"
            ],
            [
             0.4444444444444444,
             "#bd3786"
            ],
            [
             0.5555555555555556,
             "#d8576b"
            ],
            [
             0.6666666666666666,
             "#ed7953"
            ],
            [
             0.7777777777777778,
             "#fb9f3a"
            ],
            [
             0.8888888888888888,
             "#fdca26"
            ],
            [
             1,
             "#f0f921"
            ]
           ]
          },
          "colorway": [
           "#636efa",
           "#EF553B",
           "#00cc96",
           "#ab63fa",
           "#FFA15A",
           "#19d3f3",
           "#FF6692",
           "#B6E880",
           "#FF97FF",
           "#FECB52"
          ],
          "font": {
           "color": "#2a3f5f"
          },
          "geo": {
           "bgcolor": "white",
           "lakecolor": "white",
           "landcolor": "#E5ECF6",
           "showlakes": true,
           "showland": true,
           "subunitcolor": "white"
          },
          "hoverlabel": {
           "align": "left"
          },
          "hovermode": "closest",
          "mapbox": {
           "style": "light"
          },
          "paper_bgcolor": "white",
          "plot_bgcolor": "#E5ECF6",
          "polar": {
           "angularaxis": {
            "gridcolor": "white",
            "linecolor": "white",
            "ticks": ""
           },
           "bgcolor": "#E5ECF6",
           "radialaxis": {
            "gridcolor": "white",
            "linecolor": "white",
            "ticks": ""
           }
          },
          "scene": {
           "xaxis": {
            "backgroundcolor": "#E5ECF6",
            "gridcolor": "white",
            "gridwidth": 2,
            "linecolor": "white",
            "showbackground": true,
            "ticks": "",
            "zerolinecolor": "white"
           },
           "yaxis": {
            "backgroundcolor": "#E5ECF6",
            "gridcolor": "white",
            "gridwidth": 2,
            "linecolor": "white",
            "showbackground": true,
            "ticks": "",
            "zerolinecolor": "white"
           },
           "zaxis": {
            "backgroundcolor": "#E5ECF6",
            "gridcolor": "white",
            "gridwidth": 2,
            "linecolor": "white",
            "showbackground": true,
            "ticks": "",
            "zerolinecolor": "white"
           }
          },
          "shapedefaults": {
           "line": {
            "color": "#2a3f5f"
           }
          },
          "ternary": {
           "aaxis": {
            "gridcolor": "white",
            "linecolor": "white",
            "ticks": ""
           },
           "baxis": {
            "gridcolor": "white",
            "linecolor": "white",
            "ticks": ""
           },
           "bgcolor": "#E5ECF6",
           "caxis": {
            "gridcolor": "white",
            "linecolor": "white",
            "ticks": ""
           }
          },
          "title": {
           "x": 0.05
          },
          "xaxis": {
           "automargin": true,
           "gridcolor": "white",
           "linecolor": "white",
           "ticks": "",
           "title": {
            "standoff": 15
           },
           "zerolinecolor": "white",
           "zerolinewidth": 2
          },
          "yaxis": {
           "automargin": true,
           "gridcolor": "white",
           "linecolor": "white",
           "ticks": "",
           "title": {
            "standoff": 15
           },
           "zerolinecolor": "white",
           "zerolinewidth": 2
          }
         }
        },
        "title": {
         "text": "Weighted Average Travel Time for all Combinations"
        },
        "xaxis": {
         "anchor": "y",
         "domain": [
          0,
          1
         ],
         "title": {
          "text": "weighted_average"
         }
        },
        "yaxis": {
         "anchor": "x",
         "domain": [
          0,
          1
         ],
         "title": {
          "text": "site_names"
         }
        }
       }
      }
     },
     "metadata": {},
     "output_type": "display_data"
    }
   ],
   "source": [
    "import plotly.express as px\n",
    "\n",
    "results_df['color'] = 'red'  # Default color\n",
    "results_df.sort_values(by='weighted_average', inplace=True, ascending=True)\n",
    "results_df['rank'] = range(1, len(results_df) + 1)\n",
    "results_df.loc[results_df['rank'] == 1, 'color'] = 'green'  # Set color to green for the top rank\n",
    "results_df.sort_index(inplace=True)\n",
    "\n",
    "px.bar(\n",
    "    data_frame=results_df,\n",
    "    y='site_names',\n",
    "    x= 'weighted_average', \n",
    "    title='Weighted Average Travel Time for all Combinations',\n",
    "    color='color',\n",
    "    color_discrete_map=\"identity\"\n",
    ")"
   ]
  },
  {
   "cell_type": "markdown",
   "id": "00a2b8c5",
   "metadata": {},
   "source": [
    "### Visual Display of Travel Times on the Map"
   ]
  },
  {
   "cell_type": "markdown",
   "id": "d787ad8d",
   "metadata": {},
   "source": [
    "Use the files `LSOA_2011_Boundaries_Super_Generalised_Clipped_BSC_EW_V4.geojson` and `cardiac_clinic_sites.csv` to generate a travel time map for the best solution.\n",
    "\n",
    "First, import the `cardiac_clinic_sites_df.csv` and turn it into a geodataframe. "
   ]
  },
  {
   "cell_type": "code",
   "execution_count": 34,
   "id": "957fb397",
   "metadata": {},
   "outputs": [
    {
     "data": {
      "text/html": [
       "<div>\n",
       "<style scoped>\n",
       "    .dataframe tbody tr th:only-of-type {\n",
       "        vertical-align: middle;\n",
       "    }\n",
       "\n",
       "    .dataframe tbody tr th {\n",
       "        vertical-align: top;\n",
       "    }\n",
       "\n",
       "    .dataframe thead th {\n",
       "        text-align: right;\n",
       "    }\n",
       "</style>\n",
       "<table border=\"1\" class=\"dataframe\">\n",
       "  <thead>\n",
       "    <tr style=\"text-align: right;\">\n",
       "      <th></th>\n",
       "      <th>site</th>\n",
       "      <th>latitude</th>\n",
       "      <th>longitude</th>\n",
       "      <th>geometry</th>\n",
       "    </tr>\n",
       "  </thead>\n",
       "  <tbody>\n",
       "    <tr>\n",
       "      <th>0</th>\n",
       "      <td>SACH</td>\n",
       "      <td>50.327292</td>\n",
       "      <td>-4.772986</td>\n",
       "      <td>POINT (-4.77299 50.32729)</td>\n",
       "    </tr>\n",
       "    <tr>\n",
       "      <th>1</th>\n",
       "      <td>BODMIN</td>\n",
       "      <td>50.467420</td>\n",
       "      <td>-4.741224</td>\n",
       "      <td>POINT (-4.74122 50.46742)</td>\n",
       "    </tr>\n",
       "    <tr>\n",
       "      <th>2</th>\n",
       "      <td>RCHT</td>\n",
       "      <td>50.266402</td>\n",
       "      <td>-5.092207</td>\n",
       "      <td>POINT (-5.09221 50.26640)</td>\n",
       "    </tr>\n",
       "    <tr>\n",
       "      <th>3</th>\n",
       "      <td>CRCH</td>\n",
       "      <td>50.229144</td>\n",
       "      <td>-5.245264</td>\n",
       "      <td>POINT (-5.24526 50.22914)</td>\n",
       "    </tr>\n",
       "    <tr>\n",
       "      <th>4</th>\n",
       "      <td>WCH</td>\n",
       "      <td>50.121858</td>\n",
       "      <td>-5.542732</td>\n",
       "      <td>POINT (-5.54273 50.12186)</td>\n",
       "    </tr>\n",
       "  </tbody>\n",
       "</table>\n",
       "</div>"
      ],
      "text/plain": [
       "     site   latitude  longitude                   geometry\n",
       "0    SACH  50.327292  -4.772986  POINT (-4.77299 50.32729)\n",
       "1  BODMIN  50.467420  -4.741224  POINT (-4.74122 50.46742)\n",
       "2    RCHT  50.266402  -5.092207  POINT (-5.09221 50.26640)\n",
       "3    CRCH  50.229144  -5.245264  POINT (-5.24526 50.22914)\n",
       "4     WCH  50.121858  -5.542732  POINT (-5.54273 50.12186)"
      ]
     },
     "execution_count": 34,
     "metadata": {},
     "output_type": "execute_result"
    }
   ],
   "source": [
    "# Import the dataset\n",
    "cardiac_clinic_sites_df = pd.read_csv('../datasets/exercise_2/cardiac_clinic_sites.csv')\n",
    "\n",
    "# Turn it into a geodataframe\n",
    "\n",
    "geometry = [Point(xy) for xy in zip(cardiac_clinic_sites_df['longitude'], cardiac_clinic_sites_df['latitude'])]\n",
    "cardiac_clinic_sites_gdf = gpd.GeoDataFrame(cardiac_clinic_sites_df, crs='EPSG:4326', geometry=geometry)\n",
    "\n",
    "'''\n",
    "An alternate way to do it - more concise but maybe less obvious\n",
    "Create the GeoDataFrame directly from the DataFrame\n",
    "gdf = gpd.GeoDataFrame(\n",
    "    df, \n",
    "    geometry=gpd.points_from_xy(df.longitude, df.latitude),\n",
    "    crs=\"EPSG:4326\"\n",
    ")\n",
    "'''\n",
    "\n",
    "# Display the resulting dataframe\n",
    "## YOUR CODE HERE\n",
    "\n",
    "cardiac_clinic_sites_gdf.head()\n"
   ]
  },
  {
   "cell_type": "markdown",
   "id": "ee9558f0",
   "metadata": {},
   "source": [
    "Next, import the LSOA boundaries from `LSOA_2011_Boundaries_Super_Generalised_Clipped_BSC_EW_V4.geojson`."
   ]
  },
  {
   "cell_type": "code",
   "execution_count": 40,
   "id": "7e02e35c",
   "metadata": {},
   "outputs": [
    {
     "data": {
      "text/html": [
       "<div>\n",
       "<style scoped>\n",
       "    .dataframe tbody tr th:only-of-type {\n",
       "        vertical-align: middle;\n",
       "    }\n",
       "\n",
       "    .dataframe tbody tr th {\n",
       "        vertical-align: top;\n",
       "    }\n",
       "\n",
       "    .dataframe thead th {\n",
       "        text-align: right;\n",
       "    }\n",
       "</style>\n",
       "<table border=\"1\" class=\"dataframe\">\n",
       "  <thead>\n",
       "    <tr style=\"text-align: right;\">\n",
       "      <th></th>\n",
       "      <th>FID</th>\n",
       "      <th>LSOA11CD</th>\n",
       "      <th>LSOA11NM</th>\n",
       "      <th>LSOA11NMW</th>\n",
       "      <th>BNG_E</th>\n",
       "      <th>BNG_N</th>\n",
       "      <th>LONG</th>\n",
       "      <th>LAT</th>\n",
       "      <th>GlobalID</th>\n",
       "      <th>geometry</th>\n",
       "    </tr>\n",
       "  </thead>\n",
       "  <tbody>\n",
       "    <tr>\n",
       "      <th>0</th>\n",
       "      <td>1</td>\n",
       "      <td>E01000001</td>\n",
       "      <td>City of London 001A</td>\n",
       "      <td>City of London 001A</td>\n",
       "      <td>532123</td>\n",
       "      <td>181632</td>\n",
       "      <td>-0.097140</td>\n",
       "      <td>51.51816</td>\n",
       "      <td>a758442e-7679-45d0-95a8-ed4c968ecdaa</td>\n",
       "      <td>POLYGON ((532282.629 181906.496, 532248.250 18...</td>\n",
       "    </tr>\n",
       "    <tr>\n",
       "      <th>1</th>\n",
       "      <td>2</td>\n",
       "      <td>E01000002</td>\n",
       "      <td>City of London 001B</td>\n",
       "      <td>City of London 001B</td>\n",
       "      <td>532480</td>\n",
       "      <td>181715</td>\n",
       "      <td>-0.091970</td>\n",
       "      <td>51.51882</td>\n",
       "      <td>861dbb53-dfaf-4f57-be96-4527e2ec511f</td>\n",
       "      <td>POLYGON ((532746.814 181786.892, 532248.250 18...</td>\n",
       "    </tr>\n",
       "    <tr>\n",
       "      <th>2</th>\n",
       "      <td>3</td>\n",
       "      <td>E01000003</td>\n",
       "      <td>City of London 001C</td>\n",
       "      <td>City of London 001C</td>\n",
       "      <td>532239</td>\n",
       "      <td>182033</td>\n",
       "      <td>-0.095320</td>\n",
       "      <td>51.52174</td>\n",
       "      <td>9f765b55-2061-484a-862b-fa0325991616</td>\n",
       "      <td>POLYGON ((532293.068 182068.422, 532419.592 18...</td>\n",
       "    </tr>\n",
       "    <tr>\n",
       "      <th>3</th>\n",
       "      <td>4</td>\n",
       "      <td>E01000005</td>\n",
       "      <td>City of London 001E</td>\n",
       "      <td>City of London 001E</td>\n",
       "      <td>533581</td>\n",
       "      <td>181283</td>\n",
       "      <td>-0.076270</td>\n",
       "      <td>51.51468</td>\n",
       "      <td>a55c4c31-ef1c-42fc-bfa9-07c8f2025928</td>\n",
       "      <td>POLYGON ((533604.245 181418.129, 533743.689 18...</td>\n",
       "    </tr>\n",
       "    <tr>\n",
       "      <th>4</th>\n",
       "      <td>5</td>\n",
       "      <td>E01000006</td>\n",
       "      <td>Barking and Dagenham 016A</td>\n",
       "      <td>Barking and Dagenham 016A</td>\n",
       "      <td>544994</td>\n",
       "      <td>184274</td>\n",
       "      <td>0.089317</td>\n",
       "      <td>51.53875</td>\n",
       "      <td>9cdabaa8-d9bd-4a94-bb3b-98a933ceedad</td>\n",
       "      <td>POLYGON ((545271.918 184183.948, 545296.314 18...</td>\n",
       "    </tr>\n",
       "  </tbody>\n",
       "</table>\n",
       "</div>"
      ],
      "text/plain": [
       "   FID   LSOA11CD                   LSOA11NM                  LSOA11NMW  \\\n",
       "0    1  E01000001        City of London 001A        City of London 001A   \n",
       "1    2  E01000002        City of London 001B        City of London 001B   \n",
       "2    3  E01000003        City of London 001C        City of London 001C   \n",
       "3    4  E01000005        City of London 001E        City of London 001E   \n",
       "4    5  E01000006  Barking and Dagenham 016A  Barking and Dagenham 016A   \n",
       "\n",
       "    BNG_E   BNG_N      LONG       LAT                              GlobalID  \\\n",
       "0  532123  181632 -0.097140  51.51816  a758442e-7679-45d0-95a8-ed4c968ecdaa   \n",
       "1  532480  181715 -0.091970  51.51882  861dbb53-dfaf-4f57-be96-4527e2ec511f   \n",
       "2  532239  182033 -0.095320  51.52174  9f765b55-2061-484a-862b-fa0325991616   \n",
       "3  533581  181283 -0.076270  51.51468  a55c4c31-ef1c-42fc-bfa9-07c8f2025928   \n",
       "4  544994  184274  0.089317  51.53875  9cdabaa8-d9bd-4a94-bb3b-98a933ceedad   \n",
       "\n",
       "                                            geometry  \n",
       "0  POLYGON ((532282.629 181906.496, 532248.250 18...  \n",
       "1  POLYGON ((532746.814 181786.892, 532248.250 18...  \n",
       "2  POLYGON ((532293.068 182068.422, 532419.592 18...  \n",
       "3  POLYGON ((533604.245 181418.129, 533743.689 18...  \n",
       "4  POLYGON ((545271.918 184183.948, 545296.314 18...  "
      ]
     },
     "execution_count": 40,
     "metadata": {},
     "output_type": "execute_result"
    }
   ],
   "source": [
    "# Import the dataset\n",
    "lsoa_boundaries = gpd.read_file('../datasets/exercise_2/LSOA_2011_Boundaries_Super_Generalised_Clipped_BSC_EW_V4.geojson')\n",
    "\n",
    "\n",
    "# Display the first five rows\n",
    "## YOUR CODE HERE\n",
    "lsoa_boundaries.head()\n"
   ]
  },
  {
   "cell_type": "markdown",
   "id": "934f8c6e",
   "metadata": {},
   "source": [
    "Now you need to get the best result out of our overall dataframe of results. \n",
    "\n",
    "The line below will do this - see if you can understand how it's working!"
   ]
  },
  {
   "cell_type": "code",
   "execution_count": 41,
   "id": "9ee09233",
   "metadata": {},
   "outputs": [
    {
     "data": {
      "text/html": [
       "<div>\n",
       "<style scoped>\n",
       "    .dataframe tbody tr th:only-of-type {\n",
       "        vertical-align: middle;\n",
       "    }\n",
       "\n",
       "    .dataframe tbody tr th {\n",
       "        vertical-align: top;\n",
       "    }\n",
       "\n",
       "    .dataframe thead th {\n",
       "        text-align: right;\n",
       "    }\n",
       "</style>\n",
       "<table border=\"1\" class=\"dataframe\">\n",
       "  <thead>\n",
       "    <tr style=\"text-align: right;\">\n",
       "      <th></th>\n",
       "      <th>sector</th>\n",
       "      <th>n_patients</th>\n",
       "      <th>BODMIN</th>\n",
       "      <th>CRCH</th>\n",
       "      <th>WCH</th>\n",
       "      <th>min_cost</th>\n",
       "    </tr>\n",
       "  </thead>\n",
       "  <tbody>\n",
       "    <tr>\n",
       "      <th>0</th>\n",
       "      <td>E01018757</td>\n",
       "      <td>3</td>\n",
       "      <td>34</td>\n",
       "      <td>68</td>\n",
       "      <td>89</td>\n",
       "      <td>34</td>\n",
       "    </tr>\n",
       "    <tr>\n",
       "      <th>1</th>\n",
       "      <td>E01018758</td>\n",
       "      <td>10</td>\n",
       "      <td>16</td>\n",
       "      <td>51</td>\n",
       "      <td>72</td>\n",
       "      <td>16</td>\n",
       "    </tr>\n",
       "    <tr>\n",
       "      <th>2</th>\n",
       "      <td>E01018761</td>\n",
       "      <td>19</td>\n",
       "      <td>26</td>\n",
       "      <td>61</td>\n",
       "      <td>82</td>\n",
       "      <td>26</td>\n",
       "    </tr>\n",
       "    <tr>\n",
       "      <th>3</th>\n",
       "      <td>E01018763</td>\n",
       "      <td>2</td>\n",
       "      <td>31</td>\n",
       "      <td>66</td>\n",
       "      <td>87</td>\n",
       "      <td>31</td>\n",
       "    </tr>\n",
       "    <tr>\n",
       "      <th>4</th>\n",
       "      <td>E01018768</td>\n",
       "      <td>6</td>\n",
       "      <td>22</td>\n",
       "      <td>56</td>\n",
       "      <td>77</td>\n",
       "      <td>22</td>\n",
       "    </tr>\n",
       "    <tr>\n",
       "      <th>...</th>\n",
       "      <td>...</td>\n",
       "      <td>...</td>\n",
       "      <td>...</td>\n",
       "      <td>...</td>\n",
       "      <td>...</td>\n",
       "      <td>...</td>\n",
       "    </tr>\n",
       "    <tr>\n",
       "      <th>85</th>\n",
       "      <td>E01019057</td>\n",
       "      <td>51</td>\n",
       "      <td>16</td>\n",
       "      <td>41</td>\n",
       "      <td>62</td>\n",
       "      <td>16</td>\n",
       "    </tr>\n",
       "    <tr>\n",
       "      <th>86</th>\n",
       "      <td>E01019064</td>\n",
       "      <td>24</td>\n",
       "      <td>16</td>\n",
       "      <td>27</td>\n",
       "      <td>48</td>\n",
       "      <td>16</td>\n",
       "    </tr>\n",
       "    <tr>\n",
       "      <th>87</th>\n",
       "      <td>E01019071</td>\n",
       "      <td>20</td>\n",
       "      <td>23</td>\n",
       "      <td>27</td>\n",
       "      <td>48</td>\n",
       "      <td>23</td>\n",
       "    </tr>\n",
       "    <tr>\n",
       "      <th>88</th>\n",
       "      <td>E01033289</td>\n",
       "      <td>29</td>\n",
       "      <td>21</td>\n",
       "      <td>41</td>\n",
       "      <td>62</td>\n",
       "      <td>21</td>\n",
       "    </tr>\n",
       "    <tr>\n",
       "      <th>89</th>\n",
       "      <td>E01033291</td>\n",
       "      <td>7</td>\n",
       "      <td>18</td>\n",
       "      <td>53</td>\n",
       "      <td>74</td>\n",
       "      <td>18</td>\n",
       "    </tr>\n",
       "  </tbody>\n",
       "</table>\n",
       "<p>90 rows × 6 columns</p>\n",
       "</div>"
      ],
      "text/plain": [
       "       sector  n_patients  BODMIN  CRCH  WCH  min_cost\n",
       "0   E01018757           3      34    68   89        34\n",
       "1   E01018758          10      16    51   72        16\n",
       "2   E01018761          19      26    61   82        26\n",
       "3   E01018763           2      31    66   87        31\n",
       "4   E01018768           6      22    56   77        22\n",
       "..        ...         ...     ...   ...  ...       ...\n",
       "85  E01019057          51      16    41   62        16\n",
       "86  E01019064          24      16    27   48        16\n",
       "87  E01019071          20      23    27   48        23\n",
       "88  E01033289          29      21    41   62        21\n",
       "89  E01033291           7      18    53   74        18\n",
       "\n",
       "[90 rows x 6 columns]"
      ]
     },
     "execution_count": 41,
     "metadata": {},
     "output_type": "execute_result"
    }
   ],
   "source": [
    "best_df = results_df.sort_values(\"weighted_average\").head(1)[\"problem_df\"].values[0]\n",
    "best_df"
   ]
  },
  {
   "cell_type": "markdown",
   "id": "c5646e9f",
   "metadata": {},
   "source": [
    "Now let's join `best_df` to our `lsoa_boundaries` geodataframe. \n",
    "\n",
    "Remember - the object on the left side of the merge (the first one you pass in) will determine the *type* of the resulting object, and we want it to be a geodataframe. \n",
    "\n",
    "There are some areas in our original demand dataframe that had no demand in our time period.\n",
    "\n",
    "One way you could deal with this is by doing a 'left' join (so all of the rows in the lsoa geodataframe are included).\n",
    "\n",
    "You could then filter down to just rows where the LSOA name (`LSOA11NMW`) is `Cornwall`."
   ]
  },
  {
   "cell_type": "code",
   "execution_count": 48,
   "id": "f7745d21",
   "metadata": {},
   "outputs": [
    {
     "data": {
      "text/html": [
       "<div>\n",
       "<style scoped>\n",
       "    .dataframe tbody tr th:only-of-type {\n",
       "        vertical-align: middle;\n",
       "    }\n",
       "\n",
       "    .dataframe tbody tr th {\n",
       "        vertical-align: top;\n",
       "    }\n",
       "\n",
       "    .dataframe thead th {\n",
       "        text-align: right;\n",
       "    }\n",
       "</style>\n",
       "<table border=\"1\" class=\"dataframe\">\n",
       "  <thead>\n",
       "    <tr style=\"text-align: right;\">\n",
       "      <th></th>\n",
       "      <th>FID</th>\n",
       "      <th>LSOA11CD</th>\n",
       "      <th>LSOA11NM</th>\n",
       "      <th>LSOA11NMW</th>\n",
       "      <th>BNG_E</th>\n",
       "      <th>BNG_N</th>\n",
       "      <th>LONG</th>\n",
       "      <th>LAT</th>\n",
       "      <th>GlobalID</th>\n",
       "      <th>geometry</th>\n",
       "      <th>sector</th>\n",
       "      <th>n_patients</th>\n",
       "      <th>BODMIN</th>\n",
       "      <th>CRCH</th>\n",
       "      <th>WCH</th>\n",
       "      <th>min_cost</th>\n",
       "    </tr>\n",
       "  </thead>\n",
       "  <tbody>\n",
       "    <tr>\n",
       "      <th>18213</th>\n",
       "      <td>18214</td>\n",
       "      <td>E01018750</td>\n",
       "      <td>Cornwall 013A</td>\n",
       "      <td>Cornwall 013A</td>\n",
       "      <td>236095</td>\n",
       "      <td>69145</td>\n",
       "      <td>-4.31248</td>\n",
       "      <td>50.49910</td>\n",
       "      <td>2c4831c1-b027-4135-9a28-450e150d02cc</td>\n",
       "      <td>POLYGON ((236180.473 69643.476, 236970.145 696...</td>\n",
       "      <td>NaN</td>\n",
       "      <td>NaN</td>\n",
       "      <td>NaN</td>\n",
       "      <td>NaN</td>\n",
       "      <td>NaN</td>\n",
       "      <td>NaN</td>\n",
       "    </tr>\n",
       "    <tr>\n",
       "      <th>18214</th>\n",
       "      <td>18215</td>\n",
       "      <td>E01018751</td>\n",
       "      <td>Cornwall 013B</td>\n",
       "      <td>Cornwall 013B</td>\n",
       "      <td>236173</td>\n",
       "      <td>68217</td>\n",
       "      <td>-4.31098</td>\n",
       "      <td>50.49078</td>\n",
       "      <td>c30c9bdf-6431-4ba3-9194-c95d58acbf63</td>\n",
       "      <td>POLYGON ((237889.500 70731.601, 238547.799 695...</td>\n",
       "      <td>NaN</td>\n",
       "      <td>NaN</td>\n",
       "      <td>NaN</td>\n",
       "      <td>NaN</td>\n",
       "      <td>NaN</td>\n",
       "      <td>NaN</td>\n",
       "    </tr>\n",
       "    <tr>\n",
       "      <th>18215</th>\n",
       "      <td>18216</td>\n",
       "      <td>E01018752</td>\n",
       "      <td>Cornwall 013C</td>\n",
       "      <td>Cornwall 013C</td>\n",
       "      <td>236022</td>\n",
       "      <td>70887</td>\n",
       "      <td>-4.31428</td>\n",
       "      <td>50.51473</td>\n",
       "      <td>00347196-f277-4ca7-b79b-5a9c7be7ae0b</td>\n",
       "      <td>POLYGON ((236772.086 70896.576, 236663.225 704...</td>\n",
       "      <td>NaN</td>\n",
       "      <td>NaN</td>\n",
       "      <td>NaN</td>\n",
       "      <td>NaN</td>\n",
       "      <td>NaN</td>\n",
       "      <td>NaN</td>\n",
       "    </tr>\n",
       "    <tr>\n",
       "      <th>18216</th>\n",
       "      <td>18217</td>\n",
       "      <td>E01018753</td>\n",
       "      <td>Cornwall 010A</td>\n",
       "      <td>Cornwall 010A</td>\n",
       "      <td>240105</td>\n",
       "      <td>71485</td>\n",
       "      <td>-4.25699</td>\n",
       "      <td>50.52123</td>\n",
       "      <td>1402d09f-ade7-4daf-8b47-3d969561b002</td>\n",
       "      <td>POLYGON ((242267.178 72374.542, 241885.001 722...</td>\n",
       "      <td>NaN</td>\n",
       "      <td>NaN</td>\n",
       "      <td>NaN</td>\n",
       "      <td>NaN</td>\n",
       "      <td>NaN</td>\n",
       "      <td>NaN</td>\n",
       "    </tr>\n",
       "    <tr>\n",
       "      <th>18217</th>\n",
       "      <td>18218</td>\n",
       "      <td>E01018754</td>\n",
       "      <td>Cornwall 010B</td>\n",
       "      <td>Cornwall 010B</td>\n",
       "      <td>242524</td>\n",
       "      <td>71608</td>\n",
       "      <td>-4.22294</td>\n",
       "      <td>50.52300</td>\n",
       "      <td>115c51b7-e7b7-47c4-9272-4a66db827be3</td>\n",
       "      <td>POLYGON ((243316.243 72208.330, 242820.001 716...</td>\n",
       "      <td>NaN</td>\n",
       "      <td>NaN</td>\n",
       "      <td>NaN</td>\n",
       "      <td>NaN</td>\n",
       "      <td>NaN</td>\n",
       "      <td>NaN</td>\n",
       "    </tr>\n",
       "  </tbody>\n",
       "</table>\n",
       "</div>"
      ],
      "text/plain": [
       "         FID   LSOA11CD       LSOA11NM      LSOA11NMW   BNG_E  BNG_N     LONG  \\\n",
       "18213  18214  E01018750  Cornwall 013A  Cornwall 013A  236095  69145 -4.31248   \n",
       "18214  18215  E01018751  Cornwall 013B  Cornwall 013B  236173  68217 -4.31098   \n",
       "18215  18216  E01018752  Cornwall 013C  Cornwall 013C  236022  70887 -4.31428   \n",
       "18216  18217  E01018753  Cornwall 010A  Cornwall 010A  240105  71485 -4.25699   \n",
       "18217  18218  E01018754  Cornwall 010B  Cornwall 010B  242524  71608 -4.22294   \n",
       "\n",
       "            LAT                              GlobalID  \\\n",
       "18213  50.49910  2c4831c1-b027-4135-9a28-450e150d02cc   \n",
       "18214  50.49078  c30c9bdf-6431-4ba3-9194-c95d58acbf63   \n",
       "18215  50.51473  00347196-f277-4ca7-b79b-5a9c7be7ae0b   \n",
       "18216  50.52123  1402d09f-ade7-4daf-8b47-3d969561b002   \n",
       "18217  50.52300  115c51b7-e7b7-47c4-9272-4a66db827be3   \n",
       "\n",
       "                                                geometry sector  n_patients  \\\n",
       "18213  POLYGON ((236180.473 69643.476, 236970.145 696...    NaN         NaN   \n",
       "18214  POLYGON ((237889.500 70731.601, 238547.799 695...    NaN         NaN   \n",
       "18215  POLYGON ((236772.086 70896.576, 236663.225 704...    NaN         NaN   \n",
       "18216  POLYGON ((242267.178 72374.542, 241885.001 722...    NaN         NaN   \n",
       "18217  POLYGON ((243316.243 72208.330, 242820.001 716...    NaN         NaN   \n",
       "\n",
       "       BODMIN  CRCH  WCH  min_cost  \n",
       "18213     NaN   NaN  NaN       NaN  \n",
       "18214     NaN   NaN  NaN       NaN  \n",
       "18215     NaN   NaN  NaN       NaN  \n",
       "18216     NaN   NaN  NaN       NaN  \n",
       "18217     NaN   NaN  NaN       NaN  "
      ]
     },
     "execution_count": 48,
     "metadata": {},
     "output_type": "execute_result"
    }
   ],
   "source": [
    "# Merge the datasets\n",
    "best_result_gdf = lsoa_boundaries.merge(best_df, \n",
    "                                        left_on = 'LSOA11CD', \n",
    "                                        right_on = 'sector', \n",
    "                                        how='left'\n",
    "                                        ) \n",
    "# Filter down to just Cornwall and overwrite the variable best_result_gdf\n",
    "best_result_gdf = best_result_gdf[best_result_gdf['LSOA11NMW'].str.contains('Cornwall', \n",
    "                                                                            case=False, \n",
    "                                                                            na=False)]\n",
    "# Display the first five rows\n",
    "best_result_gdf.head()"
   ]
  },
  {
   "cell_type": "markdown",
   "id": "c4f65b37",
   "metadata": {},
   "source": [
    "Create a static (i.e. not interactive) map of the results. \n",
    "\n",
    "You will want to plot the travel times for each LSOA in the best solution as a choropleth. \n",
    "\n",
    "You will then want to plot the relevant clinic sites for this solution (i.e. the three clinics that are identified as the best option) as points on the map.\n",
    "\n",
    "Label these points with the names of the clinics (e.g. RCHT).\n",
    "\n",
    "Include a \n",
    "- basemap\n",
    "- legend\n",
    "- title\n",
    "\n",
    "**Hint:** To improve the map output, we can pass the line\n",
    "\n",
    "`missing_kwds= dict(color = \"lightgrey\")`\n",
    "\n",
    "when plotting so that results with no value show an outline and color rather than being missing entirely. "
   ]
  },
  {
   "cell_type": "code",
   "execution_count": null,
   "id": "0761629f",
   "metadata": {},
   "outputs": [],
   "source": [
    "# Plot a choropleth showing the travel time per LSOA for the best solution identified\n",
    "# Make sure you include a legend\n",
    "# Use the edgecolor argument with an appropriate colour to make the LSOA boundaries clear\n",
    "ax = best_result_gdf.plot(\n",
    "    column=## YOUR CODE HERE,\n",
    "    edgecolor=## YOUR CODE HERE,\n",
    "    figsize=(15,10),\n",
    "    missing_kwds= dict(color = \"lightgrey\"),\n",
    "    cmap=\"Reds\",\n",
    "    ## YOUR CODE HERE\n",
    "    )\n",
    "\n",
    "# Pull out the relevant clinic sites from the cardiac_clinic_sites df\n",
    "cardiac_clinic_sites_gdf_filtered = ## YOUR CODE HERE\n",
    "\n",
    "# Convert this to EPSG 27700 using the line below so it's using the same CRS as our main dataset\n",
    "cardiac_clinic_sites_gdf_filtered = cardiac_clinic_sites_gdf_filtered.to_crs(\"EPSG:27700\")\n",
    "\n",
    "# Plot these clinics as points\n",
    "# Remember to identify the axis you want to plot this on\n",
    "# Pass in additional arguments to change the marker size and colour so they are easy to see\n",
    "cardiac_clinic_sites_gdf_filtered.plot(\n",
    "        ax=## YOUR CODE HERE,\n",
    "        ## YOUR CODE HERE\n",
    "    )\n",
    "\n",
    "# Using a for loop, add labels for these clinics\n",
    "## YOUR CODE HERE\n",
    "\n",
    "# Add a basemap\n",
    "## YOUR CODE HERE\n",
    "\n",
    "# Turn off the axis tickmarks\n",
    "## YOUR CODE HERE\n",
    "\n",
    "# Add a title\n",
    "## YOUR CODE HERE"
   ]
  },
  {
   "cell_type": "markdown",
   "id": "dae8c200",
   "metadata": {},
   "source": [
    "Now try using the subplots feature of matplotlib to create a plot for every possible combination of clinics. \n",
    "\n",
    "Consider the order you might want the plots in.\n",
    "\n",
    "What additional information is it useful to include in the subplot titles?\n",
    "\n",
    "First, check the number of results we have so you can work out how many subplots to create."
   ]
  },
  {
   "cell_type": "code",
   "execution_count": null,
   "id": "ef9d46e9",
   "metadata": {},
   "outputs": [],
   "source": [
    "len(results_df)"
   ]
  },
  {
   "cell_type": "markdown",
   "id": "c74bee9b",
   "metadata": {},
   "source": [
    "Now make the subplots.\n",
    "\n",
    "You can reuse a lot of the code you wrote for the section above! \n",
    "\n",
    "**Hint:** You may want to omit the basemap - particularly while first building and testing your code - as pulling multiple basemaps takes a lot of extra time, and may even result in your access to the basemap server being temporarily blocked if you make too many requests in a short space of time."
   ]
  },
  {
   "cell_type": "code",
   "execution_count": null,
   "id": "d1115257",
   "metadata": {},
   "outputs": [],
   "source": [
    "# Create the subplots\n",
    "fig, axs = plt.subplots(\n",
    "    ## YOUR CODE HERE,\n",
    "    ## YOUR CODE HERE,\n",
    "    figsize=(20,10)\n",
    "    )\n",
    "\n",
    "# Loop through the subplots, plotting one solution on each\n",
    "for i, ax in enumerate(fig.axes):\n",
    "\n",
    "    # Get the relevant row for this solution out of results_df\n",
    "    # Hint - you may want the iloc method for this\n",
    "    # If you're stuck, investigate what the variable `i` returns throughout the loop\n",
    "    # Also think about how you could order the solutions from best to worst in your plots\n",
    "    solution = ## YOUR CODE HERE\n",
    "\n",
    "    # Get the 'problem_df' out of the solution object so you can access the dataframe containing\n",
    "    # the per-LSOA travel times\n",
    "    solution_df = solution[\"problem_df\"].values[0]\n",
    "\n",
    "    # Create the dataframe you need by joining `lsoa_boundaries` with `solution_df`\n",
    "    result_gdf = pd.merge(\n",
    "        lsoa_boundaries,\n",
    "        solution_df,\n",
    "        how=## YOUR CODE HERE,\n",
    "        left_on=## YOUR CODE HERE,\n",
    "        right_on=## YOUR CODE HERE\n",
    "        )\n",
    "\n",
    "    # Filter down to just LSOA's containing 'Cornwall' in the `LSOA11NMW` column\n",
    "    result_gdf =## YOUR CODE HERE\n",
    "\n",
    "    # Now add in your plotting code\n",
    "    # Remember - you'll need to pull back the correct combination of clinics to plot each time!\n",
    "    ## YOUR CODE HERE"
   ]
  },
  {
   "cell_type": "markdown",
   "id": "b8f140f4",
   "metadata": {},
   "source": [
    "## Challenge: Bonus Activities"
   ]
  },
  {
   "cell_type": "markdown",
   "id": "386f5b66",
   "metadata": {},
   "source": [
    "### 1. Calculate the best solution across the weighted average travel times, unweighted average travel times, and the max travel time. \n",
    "\n",
    "How might you rank the outputs?\n",
    "\n",
    "How might you present the results?"
   ]
  },
  {
   "cell_type": "code",
   "execution_count": null,
   "id": "377f2efa",
   "metadata": {},
   "outputs": [],
   "source": [
    "## YOUR CODE HERE"
   ]
  },
  {
   "cell_type": "markdown",
   "id": "7261bf00",
   "metadata": {},
   "source": [
    "### 2. What's the impact of hospitals across the border?"
   ]
  },
  {
   "cell_type": "markdown",
   "id": "79d51bdc",
   "metadata": {},
   "source": [
    "Let's imagine the Derriford hospital in Plymouth - just across the border - can also provide cardiac clinic services.\n",
    "\n",
    "Use your routingpy skills from the previous session to grab an additional column of travel data.\n",
    "\n",
    "Note: this travel data in this exercise is quite old! You may want to instead get new travel data for all of the clinic locations.\n",
    "\n",
    "Alternatively, for the purpose of this exercise, you could just look up the additional column and add this additional data to your existing travel time dataset. \n",
    "\n",
    "Redo the analysis above and compare the outputs. Does adding in Derriford significantly change which clinics we would recommend to keep?"
   ]
  },
  {
   "cell_type": "code",
   "execution_count": null,
   "id": "f0394596",
   "metadata": {},
   "outputs": [],
   "source": [
    "import routingpy as rp\n",
    "\n",
    "## YOUR CODE HERE"
   ]
  },
  {
   "cell_type": "markdown",
   "id": "2befea94",
   "metadata": {},
   "source": [
    "### 3. What if one option must always be included?"
   ]
  },
  {
   "cell_type": "markdown",
   "id": "7cce3348",
   "metadata": {},
   "source": [
    "To take this even further, switch to keeping 4 clinic open - but one of them will *always* be Derriford as we don't have any control over the decisions around that clinic (as it's not in our commisioning area). \n",
    "\n",
    "How could you create these combinations? \n",
    "\n",
    "Rerun your analysis."
   ]
  },
  {
   "cell_type": "code",
   "execution_count": null,
   "id": "bcee0354",
   "metadata": {},
   "outputs": [],
   "source": [
    "## YOUR CODE HERE"
   ]
  },
  {
   "cell_type": "markdown",
   "id": "d4bb63f1",
   "metadata": {},
   "source": [
    "### 4. How might you account for LSOAs without any demand?"
   ]
  },
  {
   "cell_type": "markdown",
   "id": "358b5bb6",
   "metadata": {},
   "source": [
    "You may have noticed that some LSOAs appear to have no demand in the time period shown. \n",
    "\n",
    "Think about how this might affect the results. \n",
    "\n",
    "How might you create an additional demand dataframe that ensures every LSOA in Cornwall is included? \n",
    "\n",
    "A simple option would involve making sure you've got every LSOA in Cornwall as a demand centre.\n",
    "\n",
    "Create two sets of plots containing this dataset\n",
    "- all possible subplots with three Cornish clinics + Derriford\n",
    "- all possible subplots with just the three Cornish clinics + Derriford not included.\n",
    "\n",
    "Note: for this exercise we are just expecting you to use a very simple method to ensure there's data for all LSOAs. But what additional information might you need to make a more detailed estimate about the demand?\n",
    "You may need to look for additional datasets - e.g. population counts, age/gender data, IMD, details about cardiac risk factors, diagnosis data (in a real scenario), stakeholder insight."
   ]
  },
  {
   "cell_type": "code",
   "execution_count": null,
   "id": "a245648c",
   "metadata": {},
   "outputs": [],
   "source": [
    "## YOUR CODE HERE"
   ]
  }
 ],
 "metadata": {
  "kernelspec": {
   "display_name": "Python 3 (ipykernel)",
   "language": "python",
   "name": "python3"
  },
  "language_info": {
   "codemirror_mode": {
    "name": "ipython",
    "version": 3
   },
   "file_extension": ".py",
   "mimetype": "text/x-python",
   "name": "python",
   "nbconvert_exporter": "python",
   "pygments_lexer": "ipython3",
   "version": "3.1.undefined"
  }
 },
 "nbformat": 4,
 "nbformat_minor": 5
}
