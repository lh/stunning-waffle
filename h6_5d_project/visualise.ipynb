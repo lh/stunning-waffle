{
 "cells": [
  {
   "cell_type": "code",
   "execution_count": null,
   "metadata": {},
   "outputs": [],
   "source": [
    "%pip install plotly"
   ]
  },
  {
   "cell_type": "code",
   "execution_count": null,
   "metadata": {},
   "outputs": [],
   "source": [
    "# Environment Setup (may need to run above)\n",
    "# Data\n",
    "import pandas as pd\n",
    "# Plotting\n",
    "import plotly.offline as py\n",
    "import plotly.graph_objs as go\n",
    "from plotly.subplots import make_subplots\n",
    "py.init_notebook_mode()"
   ]
  },
  {
   "cell_type": "code",
   "execution_count": null,
   "metadata": {},
   "outputs": [],
   "source": [
    "# Import data\n",
    "# Needs updating once predictions are generated\n",
    "df = pd.read_csv('../data/ParlVote_concat.csv') # replace with predictions dataset\n",
    "elections_df = pd.read_csv('datasets/UK_Elections.csv')\n",
    "\n",
    "# Fix date in the predicted data \n",
    "df['Date'] = df['debate_id'].str.extract(r'(\\d{4}-\\d{2}-\\d{2})')\n",
    "df['Date'] = pd.to_datetime(df['Date'])\n",
    "df['Sentiment'] = df['vote'].map({0: 'Negative', 1: 'Positive'})\n",
    "\n",
    "# Preprocess the main dataset\n",
    "df['Date'] = pd.to_datetime(df['Date'])\n",
    "df['YearMonth'] = df['Date'].dt.to_period('M')\n",
    "\n",
    "# Group by YearMonth and Sentiment, count occurrences\n",
    "sentiment_counts = df.groupby(['YearMonth', 'Sentiment']).size().unstack(fill_value=0)\n",
    "\n",
    "# Add Percentages\n",
    "sentiment_counts['Total'] = sentiment_counts['Negative'] + sentiment_counts['Positive']\n",
    "sentiment_counts['Negative %'] = (sentiment_counts['Negative'] / sentiment_counts['Total']) * 100\n",
    "sentiment_counts['Positive %'] = (sentiment_counts['Positive'] / sentiment_counts['Total']) * 100\n",
    "\n",
    "# Preprocess the elections dataset\n",
    "elections_df['Date'] = pd.to_datetime(elections_df['Date'], format='%d/%m/%Y')\n",
    "elections_df = elections_df[elections_df['Date'] >= '1997-05-01']\n",
    "elections_df = elections_df[elections_df['Date'] <= '2019-10-30']"
   ]
  },
  {
   "cell_type": "code",
   "execution_count": null,
   "metadata": {},
   "outputs": [],
   "source": [
    "# Create figures\n",
    "fig = make_subplots(\n",
    "    rows=1, cols=2,\n",
    "    column_widths=[0.8, 0.2],\n",
    "    specs=[[{\"type\": \"scatter\"}, {\"type\": \"pie\"}]],\n",
    "    subplot_titles=(\n",
    "        \"Sentiment Over Time\",\n",
    "        \"Sentiment Breakdown (All Time)\"\n",
    "        )\n",
    ")\n",
    "\n",
    "# Line Chart\n",
    "# Sentiment\n",
    "for sentiment in ['Positive %', 'Negative %']:\n",
    "    fig.add_trace(\n",
    "        go.Scatter(x=sentiment_counts.index.to_timestamp(), y=sentiment_counts[sentiment], \n",
    "                   name=sentiment.capitalize(), mode='lines'),\n",
    "        row=1, col=1\n",
    "    )\n",
    "# Election Dates\n",
    "for _, election in elections_df.iterrows():\n",
    "    fig.add_vline(x=election['Date'], line_dash=\"dash\", line_color=\"gray\", row=1, col=1)\n",
    "    fig.add_annotation(\n",
    "        x=election['Date'], y=10, text=election['Party_forming_government'],\n",
    "        showarrow=False, textangle=-90, yshift=0, xshift = -10,\n",
    "        xref='x', yref='y',  # Explicitly tie to x and y axes\n",
    "        row=1, col=1\n",
    "    )\n",
    "\n",
    "# Pie Chart\n",
    "total_pos = sentiment_counts['Positive'].sum()\n",
    "total_neg = sentiment_counts['Negative'].sum()\n",
    "fig.add_trace(\n",
    "    go.Pie(labels=['Positive', 'Negative'], values=[total_pos, total_neg], \n",
    "           name=\"Sentiment Breakdown (All Time)\", hole=0.5),\n",
    "    row=1, col=2\n",
    ")\n",
    "\n",
    "# Update Layout\n",
    "fig.update_layout(\n",
    "    title_text= \"Zilog Z80\",\n",
    "    template=\"plotly_dark\",\n",
    "    margin=dict(r=20, t=50, b=50, l=20),\n",
    "    showlegend=False,\n",
    "    xaxis_rangeslider_visible=True\n",
    ")\n",
    "\n",
    "fig.show()"
   ]
  }
 ],
 "metadata": {
  "language_info": {
   "name": "python"
  }
 },
 "nbformat": 4,
 "nbformat_minor": 2
}
