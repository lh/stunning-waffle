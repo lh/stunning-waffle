{
 "cells": [
  {
   "cell_type": "markdown",
   "metadata": {},
   "source": [
    "# HSMA 6 - Session 4E - Boosted Trees Exercise 2 - Regression Trees"
   ]
  },
  {
   "cell_type": "markdown",
   "metadata": {},
   "source": [
    "## Core"
   ]
  },
  {
   "cell_type": "markdown",
   "metadata": {},
   "source": [
    "We're going to work with a dataset to try to predict patient length of stay. "
   ]
  },
  {
   "cell_type": "code",
   "execution_count": null,
   "metadata": {},
   "outputs": [],
   "source": [
    "import pandas as pd\n",
    "import numpy as np\n",
    "\n",
    "# import preprocessing functions\n",
    "from sklearn.model_selection import train_test_split\n",
    "\n",
    "# Import machine learning model of interest\n",
    "from sklearn.tree import DecisionTreeClassifier, plot_tree, DecisionTreeRegressor\n",
    "from sklearn.ensemble import RandomForestClassifier, RandomForestRegressor\n",
    "from xgboost.sklearn import XGBClassifier, XGBRegressor\n",
    "from sklearn.ensemble import AdaBoostClassifier, AdaBoostRegressor\n",
    "from catboost import CatBoostClassifier, CatBoostRegressor\n",
    "from lightgbm import LGBMClassifier, LGBMRegressor\n",
    "from sklearn.ensemble import HistGradientBoostingClassifier, HistGradientBoostingRegressor\n",
    "from sklearn.metrics import mean_absolute_error, mean_absolute_percentage_error, \\\n",
    "                            r2_score, root_mean_squared_error\n",
    "# Import package to investigate our loaded dataframe\n",
    "from ydata_profiling import ProfileReport\n",
    "\n",
    "# Import functions for evaluating model\n",
    "from sklearn.metrics import recall_score, precision_score, f1_score, classification_report, \\\n",
    "                            confusion_matrix, ConfusionMatrixDisplay, auc, roc_curve\n",
    "from sklearn.metrics import auc, roc_curve, RocCurveDisplay, f1_score, precision_score, \\\n",
    "                            recall_score, confusion_matrix, ConfusionMatrixDisplay, \\\n",
    "                            classification_report\n",
    "from sklearn.inspection import permutation_importance\n",
    "\n",
    "# Imports relating to logistic regression\n",
    "from sklearn.linear_model import LogisticRegression\n",
    "from sklearn.preprocessing import StandardScaler\n",
    "\n",
    "# Imports relating to plotting\n",
    "import matplotlib.pyplot as plt\n",
    "%matplotlib inline\n",
    "import seaborn as sns"
   ]
  },
  {
   "cell_type": "markdown",
   "metadata": {},
   "source": [
    "Open the data dictionary in the los_dataset folder and take a look at what data is available."
   ]
  },
  {
   "cell_type": "markdown",
   "metadata": {},
   "source": [
    "Next, load in the dataframe containing the LOS data."
   ]
  },
  {
   "cell_type": "code",
   "execution_count": null,
   "metadata": {},
   "outputs": [],
   "source": [
    "los_df = pd.read_csv(\"../datasets/los_dataset/LengthOfStay.csv\", index_col=\"eid\")"
   ]
  },
  {
   "cell_type": "markdown",
   "metadata": {},
   "source": [
    "View the dataframe."
   ]
  },
  {
   "cell_type": "code",
   "execution_count": null,
   "metadata": {},
   "outputs": [],
   "source": [
    "los_df.head()"
   ]
  },
  {
   "cell_type": "markdown",
   "metadata": {},
   "source": [
    "Consider what columns to remove. \n",
    "\n",
    "HINT: Is there a column in the dataset that doesn't really make much sense to predict from? \n",
    "If you're not sure, use the full dataset for now and come back to this later.\n",
    "\n",
    "NOTE: For now, we're going to assume that all of the included measures will be available to us at the point we need to make a prediction - they're not things that will be calculated later in the patient's stay."
   ]
  },
  {
   "cell_type": "code",
   "execution_count": null,
   "metadata": {},
   "outputs": [],
   "source": [
    "data = los_df.copy()\n",
    "data['date'] = pd.to_datetime(data['vdate'])\n",
    "data['month'] = data['date'].dt.month\n",
    "data['month']\n",
    "data.drop('vdate', axis=1, inplace=True)\n",
    "data.drop('date', axis=1, inplace=True)"
   ]
  },
  {
   "cell_type": "markdown",
   "metadata": {},
   "source": [
    "Convert categories with only two options into a boolean value (e.g. for a gender column in which gender has only been provided as M or F, you could encode M as 0 and F as 1)."
   ]
  },
  {
   "cell_type": "code",
   "execution_count": null,
   "metadata": {},
   "outputs": [],
   "source": [
    "data['is_male'] = data['gender'].apply(lambda x: 1 if x == 'M' else 0)\n",
    "data.drop('gender', axis=1, inplace=True)\n"
   ]
  },
  {
   "cell_type": "markdown",
   "metadata": {},
   "source": [
    "Convert columns with multiple options per category into multiple columns using one-hot encoding. "
   ]
  },
  {
   "cell_type": "code",
   "execution_count": null,
   "metadata": {},
   "outputs": [],
   "source": [
    "def do_one_hot(data, column):\n",
    "    one_hot = pd.get_dummies(data[column], prefix=column)\n",
    "    data = data.drop(column, axis=1)\n",
    "    data = pd.concat([data, one_hot], axis=1)\n",
    "    return data\n",
    "\n",
    "columns = ['rcount', 'facid', 'month']\n",
    "\n",
    "for column in columns:\n",
    "    data = do_one_hot(data, column)\n",
    "data.head()"
   ]
  },
  {
   "cell_type": "markdown",
   "metadata": {},
   "source": [
    "Train a decision tree model to predict length of stay based on the variables in this dataset. "
   ]
  },
  {
   "cell_type": "code",
   "execution_count": null,
   "metadata": {},
   "outputs": [],
   "source": [
    "X = data.drop('lengthofstay', axis=1)\n",
    "y = data['lengthofstay'] \n",
    "X_train, X_test, y_train, y_test = train_test_split(X, y, test_size = 0.2)\n",
    "\n",
    "def train_and_display(model, X_train, y_train, X_test, y_test):\n",
    "    model.fit(X_train, y_train)\n",
    "    y_pred = model.predict(X_test)\n",
    "    print(classification_report(y_test, y_pred))\n",
    "    cm = confusion_matrix(y_test, y_pred, normalize='true')\n",
    "    disp = ConfusionMatrixDisplay(confusion_matrix=cm)\n",
    "    disp.plot()\n",
    "    plt.show()\n",
    "    return f1_score(y_test, y_pred, average='weighted')\n",
    "\n"
   ]
  },
  {
   "cell_type": "markdown",
   "metadata": {},
   "source": [
    "Assess the performance of this model."
   ]
  },
  {
   "cell_type": "code",
   "execution_count": null,
   "metadata": {},
   "outputs": [],
   "source": [
    "\n",
    "\n",
    "def regressor_fit(model, X_train, y_train, X_test, y_test):\n",
    "    model.fit(X_train, y_train)\n",
    "    y_pred = model.predict(X_test)\n",
    "    plot_actual_vs_predicted(\n",
    "    y_test, \n",
    "    y_pred\n",
    "    )\n",
    "\n",
    "    print(f\"Mean absolute error: {mean_absolute_error(y_test, y_pred):.2f}\")\n",
    "\n",
    "    print(f\"Mean absolute percentage error: {mean_absolute_percentage_error(y_test, y_pred):.2%}\" )\n",
    "\n",
    "    print(f\"Root Mean squared error: {root_mean_squared_error(y_test, y_pred):.2f}\")\n",
    "\n",
    "    print(f\"Coefficient of determination: {r2_score(y_test, y_pred):.2f}\") \n",
    "\n",
    "\n",
    "model = DecisionTreeRegressor()\n",
    "regressor_fit(model, X_train, y_train, X_test, y_test)\n",
    "\n",
    "model = XGBRegressor()\n",
    "regressor_fit(model, X_train, y_train, X_test, y_test)"
   ]
  },
  {
   "cell_type": "markdown",
   "metadata": {},
   "source": [
    "Train a boosting model to predict length of stay based on the variables in this dataset."
   ]
  },
  {
   "cell_type": "code",
   "execution_count": null,
   "metadata": {},
   "outputs": [],
   "source": [
    "model = XGBRegressor()\n",
    "model.fit(X_train, y_train)\n",
    "\n",
    "y_pred = model.predict(X_test)\n",
    "\n",
    "def plot_actual_vs_predicted(actual, predicted):\n",
    "    fig, ax = plt.subplots(figsize=(6, 6))\n",
    "\n",
    "    ax.scatter(actual, predicted, color=\"black\")\n",
    "    ax.axline((1, 1), slope=1)\n",
    "    plt.xlabel('True Values')\n",
    "    plt.ylabel('Predicted Values')\n",
    "    plt.title('True vs Predicted Values')\n",
    "    plt.show()\n",
    "\n",
    "\n",
    "plot_actual_vs_predicted(\n",
    "y_test, \n",
    "y_pred\n",
    ")\n",
    "\n",
    "y_test_XGB = y_test\n",
    "y_pred_XGB = y_pred\n",
    "\n",
    "model = DecisionTreeRegressor()\n",
    "model.fit(X_train, y_train)\n",
    "\n",
    "y_pred_tree = model.predict(X_test)\n",
    "y_test_tree = y_test\n"
   ]
  },
  {
   "cell_type": "code",
   "execution_count": null,
   "metadata": {},
   "outputs": [],
   "source": [
    "import numpy as np\n",
    "import matplotlib.pyplot as plt\n",
    "\n",
    "def plot_actual_vs_predicted(actual, predicted, jitter_amount=0.3):\n",
    "\n",
    "    actual_jittered = actual + np.random.normal(0, jitter_amount, size=actual.shape)\n",
    "\n",
    "    fig, ax = plt.subplots(figsize=(6, 6))\n",
    "    ax.scatter(actual_jittered, predicted, color=\"blue\", alpha=0.3)\n",
    "    ax.axline((1, 1), slope=1)\n",
    "    plt.xlabel('True Values')\n",
    "    plt.ylabel('Predicted Values')\n",
    "    plt.title('True vs Predicted Values (with Jitter)')\n",
    "    plt.show()\n",
    "\n",
    "plot_actual_vs_predicted(y_test, y_pred)"
   ]
  },
  {
   "cell_type": "markdown",
   "metadata": {},
   "source": [
    "Assess the performance of this model and compare it with your decision tree model. "
   ]
  },
  {
   "cell_type": "code",
   "execution_count": null,
   "metadata": {},
   "outputs": [],
   "source": [
    "\n",
    "fig, (ax1, ax2) = plt.subplots(1, 2, figsize=(14, 5))\n",
    "ax1.scatter(y_test_XGB, y_pred_XGB, color=\"blue\")\n",
    "ax1.axline((1, 1), slope=1)\n",
    "plt.xlabel('True Values')\n",
    "plt.ylabel('Predicted Values')\n",
    "plt.title('True vs Predicted Values')\n",
    "\n",
    "ax2.scatter(y_test_tree, y_pred_tree, color=\"red\")\n",
    "ax2.axline((1, 1), slope=1)\n",
    "plt.xlabel('True Values')\n",
    "plt.ylabel('Predicted Values')\n",
    "plt.title('True vs Predicted Values')\n",
    "plt.show()\n"
   ]
  },
  {
   "cell_type": "markdown",
   "metadata": {},
   "source": [
    "## Extension"
   ]
  },
  {
   "cell_type": "markdown",
   "metadata": {},
   "source": [
    "Continue to refine your model. \n",
    "\n",
    "You could\n",
    "- tune hyperparameters\n",
    "- try additional model types (e.g. different boosting trees, linear regression)\n",
    "- try dropping some features\n",
    "- calculate additional metrics\n",
    "- add some visualisations of the features in the dataset\n",
    "- store the results from your different model iterations and display this as a table of metrics\n",
    "- turn this table of metrics into a graph\n",
    "- try using k-fold cross validation "
   ]
  },
  {
   "cell_type": "code",
   "execution_count": null,
   "metadata": {},
   "outputs": [],
   "source": [
    "# YOUR CODE HERE"
   ]
  },
  {
   "cell_type": "markdown",
   "metadata": {},
   "source": [
    "## Challenge"
   ]
  },
  {
   "cell_type": "markdown",
   "metadata": {},
   "source": [
    "Explore additional aspects of regression modelling using Google, sklearn and other library documentation, Stack Overflow, AI tools, or other avenues. \n",
    "\n",
    "Some suggestions to get you started:\n",
    "- Look up the assumptions of *linear* regression. Would our dataset violate any of these assumptions?\n",
    "- What about multiple linear regression? \n",
    "- Investigate the performance of your model on different subsets of the data. Are the errors lower for male and female patients? How about across the different facilities? "
   ]
  },
  {
   "cell_type": "code",
   "execution_count": null,
   "metadata": {},
   "outputs": [],
   "source": [
    "# YOUR CODE HERE"
   ]
  }
 ],
 "metadata": {
  "kernelspec": {
   "display_name": "ml",
   "language": "python",
   "name": "python3"
  },
  "language_info": {
   "codemirror_mode": {
    "name": "ipython",
    "version": 3
   },
   "file_extension": ".py",
   "mimetype": "text/x-python",
   "name": "python",
   "nbconvert_exporter": "python",
   "pygments_lexer": "ipython3",
   "version": "3.11.4"
  }
 },
 "nbformat": 4,
 "nbformat_minor": 2
}
