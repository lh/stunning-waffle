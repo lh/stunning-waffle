{
 "cells": [
  {
   "cell_type": "markdown",
   "metadata": {},
   "source": [
    "# Comparing gini index, information gain and entropy"
   ]
  },
  {
   "cell_type": "code",
   "execution_count": 2,
   "metadata": {},
   "outputs": [
    {
     "data": {
      "text/html": [
       "<div>\n",
       "<style scoped>\n",
       "    .dataframe tbody tr th:only-of-type {\n",
       "        vertical-align: middle;\n",
       "    }\n",
       "\n",
       "    .dataframe tbody tr th {\n",
       "        vertical-align: top;\n",
       "    }\n",
       "\n",
       "    .dataframe thead th {\n",
       "        text-align: right;\n",
       "    }\n",
       "</style>\n",
       "<table border=\"1\" class=\"dataframe\">\n",
       "  <thead>\n",
       "    <tr style=\"text-align: right;\">\n",
       "      <th></th>\n",
       "      <th>Song</th>\n",
       "      <th>Release Year</th>\n",
       "      <th>Genre</th>\n",
       "      <th>Does Sammi Like it?</th>\n",
       "    </tr>\n",
       "  </thead>\n",
       "  <tbody>\n",
       "    <tr>\n",
       "      <th>0</th>\n",
       "      <td>Sultans of Swing</td>\n",
       "      <td>1978</td>\n",
       "      <td>Rock</td>\n",
       "      <td>Yes</td>\n",
       "    </tr>\n",
       "    <tr>\n",
       "      <th>1</th>\n",
       "      <td>Genie in a bottle</td>\n",
       "      <td>2004</td>\n",
       "      <td>Pop</td>\n",
       "      <td>No</td>\n",
       "    </tr>\n",
       "    <tr>\n",
       "      <th>2</th>\n",
       "      <td>The Room Where It Happens</td>\n",
       "      <td>2015</td>\n",
       "      <td>Musical</td>\n",
       "      <td>Yes</td>\n",
       "    </tr>\n",
       "    <tr>\n",
       "      <th>3</th>\n",
       "      <td>Boys of Summer</td>\n",
       "      <td>1984</td>\n",
       "      <td>Rock</td>\n",
       "      <td>Yes</td>\n",
       "    </tr>\n",
       "    <tr>\n",
       "      <th>4</th>\n",
       "      <td>I wish I had duck feet</td>\n",
       "      <td>1994</td>\n",
       "      <td>House</td>\n",
       "      <td>No</td>\n",
       "    </tr>\n",
       "    <tr>\n",
       "      <th>5</th>\n",
       "      <td>Gecko (overdrive)</td>\n",
       "      <td>2014</td>\n",
       "      <td>House</td>\n",
       "      <td>Yes</td>\n",
       "    </tr>\n",
       "    <tr>\n",
       "      <th>6</th>\n",
       "      <td>Unknown Caller</td>\n",
       "      <td>2009</td>\n",
       "      <td>Rock</td>\n",
       "      <td>No</td>\n",
       "    </tr>\n",
       "    <tr>\n",
       "      <th>7</th>\n",
       "      <td>Time Warp</td>\n",
       "      <td>1975</td>\n",
       "      <td>Musical</td>\n",
       "      <td>Yes</td>\n",
       "    </tr>\n",
       "    <tr>\n",
       "      <th>8</th>\n",
       "      <td>Defying Gravity</td>\n",
       "      <td>2004</td>\n",
       "      <td>Musical</td>\n",
       "      <td>Yes</td>\n",
       "    </tr>\n",
       "    <tr>\n",
       "      <th>9</th>\n",
       "      <td>Stickwitu</td>\n",
       "      <td>2005</td>\n",
       "      <td>Pop</td>\n",
       "      <td>No</td>\n",
       "    </tr>\n",
       "    <tr>\n",
       "      <th>10</th>\n",
       "      <td>Never Ever</td>\n",
       "      <td>1997</td>\n",
       "      <td>Pop</td>\n",
       "      <td>No</td>\n",
       "    </tr>\n",
       "  </tbody>\n",
       "</table>\n",
       "</div>"
      ],
      "text/plain": [
       "                         Song  Release Year    Genre Does Sammi Like it?\n",
       "0            Sultans of Swing          1978     Rock                 Yes\n",
       "1           Genie in a bottle          2004      Pop                  No\n",
       "2   The Room Where It Happens          2015  Musical                 Yes\n",
       "3              Boys of Summer          1984     Rock                 Yes\n",
       "4      I wish I had duck feet          1994    House                  No\n",
       "5           Gecko (overdrive)          2014    House                 Yes\n",
       "6              Unknown Caller          2009     Rock                  No\n",
       "7                   Time Warp          1975  Musical                 Yes\n",
       "8             Defying Gravity          2004  Musical                 Yes\n",
       "9                   Stickwitu          2005      Pop                  No\n",
       "10                 Never Ever          1997      Pop                  No"
      ]
     },
     "execution_count": null,
     "metadata": {},
     "output_type": "execute_result"
    }
   ],
   "source": [
    "import numpy as np\n",
    "import pandas as pd\n",
    "# Import machine learning methods\n",
    "from sklearn.tree import DecisionTreeClassifier, plot_tree\n",
    "from sklearn.model_selection import train_test_split\n",
    "#from sklearn.preprocessing import OneHotEncoder\n",
    "data = pd.read_csv('sammi_music.csv')\n",
    "data\n"
   ]
  },
  {
   "cell_type": "code",
   "execution_count": null,
   "metadata": {},
   "outputs": [],
   "source": [
    "one_hot = pd.get_dummies(data['Genre'])\n",
    "# Drop the column as it is now encoded\n",
    "data_processed = data.drop('Genre',axis = 1)\n",
    "# Join the encoded df\n",
    "data_processed = data_processed.join(one_hot)\n",
    "\n",
    "data_processed = data_processed.drop('Song',axis = 1)\n"
   ]
  },
  {
   "cell_type": "code",
   "execution_count": null,
   "metadata": {},
   "outputs": [],
   "source": [
    "one_hot"
   ]
  },
  {
   "cell_type": "code",
   "execution_count": null,
   "metadata": {},
   "outputs": [],
   "source": [
    "X = data_processed.drop('Does Sammi Like it?',axis=1)\n",
    "y = data_processed['Does Sammi Like it?']"
   ]
  },
  {
   "cell_type": "code",
   "execution_count": null,
   "metadata": {},
   "outputs": [],
   "source": [
    "X"
   ]
  },
  {
   "cell_type": "markdown",
   "metadata": {},
   "source": [
    "## Gini"
   ]
  },
  {
   "cell_type": "markdown",
   "metadata": {},
   "source": [
    "Gini is the default."
   ]
  },
  {
   "cell_type": "code",
   "execution_count": null,
   "metadata": {},
   "outputs": [],
   "source": [
    "model = DecisionTreeClassifier() # Create a Decision Tree Model\n",
    "model = model.fit(X,y) # Fit the model using our training data\n",
    "# Predict training and test set labels\n",
    "y_pred_train = model.predict(X)\n",
    "y_pred_test = model.predict(X)\n",
    "accuracy_train = np.mean(y_pred_train == y)\n",
    "accuracy_test = np.mean(y_pred_test == y)\n",
    "\n",
    "print (f'Accuracy of predicting training data = {accuracy_train:3f}')\n",
    "print (f'Accuracy of predicting test data = {accuracy_test:3f}')\n",
    "fig = plot_tree(model)"
   ]
  },
  {
   "cell_type": "markdown",
   "metadata": {},
   "source": [
    "# Entropy"
   ]
  },
  {
   "cell_type": "code",
   "execution_count": null,
   "metadata": {},
   "outputs": [],
   "source": [
    "model = DecisionTreeClassifier(criterion=\"entropy\") # Create a Decision Tree Model\n",
    "model = model.fit(X,y) # Fit the model using our training data\n",
    "# Predict training and test set labels\n",
    "y_pred_train = model.predict(X)\n",
    "y_pred_test = model.predict(X)\n",
    "accuracy_train = np.mean(y_pred_train == y)\n",
    "accuracy_test = np.mean(y_pred_test == y)\n",
    "\n",
    "print (f'Accuracy of predicting training data = {accuracy_train:3f}')\n",
    "print (f'Accuracy of predicting test data = {accuracy_test:3f}')\n",
    "fig = plot_tree(model)"
   ]
  },
  {
   "cell_type": "markdown",
   "metadata": {},
   "source": []
  }
 ],
 "metadata": {
  "kernelspec": {
   "display_name": ".venv",
   "language": "python",
   "name": "python3"
  },
  "language_info": {
   "codemirror_mode": {
    "name": "ipython",
    "version": 3
   },
   "file_extension": ".py",
   "mimetype": "text/x-python",
   "name": "python",
   "nbconvert_exporter": "python",
   "pygments_lexer": "ipython3",
   "version": "3.12.2"
  }
 },
 "nbformat": 4,
 "nbformat_minor": 2
}
