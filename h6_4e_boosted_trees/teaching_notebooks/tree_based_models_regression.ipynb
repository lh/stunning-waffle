{
 "cells": [
  {
   "cell_type": "code",
   "execution_count": null,
   "metadata": {},
   "outputs": [],
   "source": [
    "# Original Code source: Jaques Grobler: https://scikit-learn.org/stable/auto_examples/linear_model/plot_ols.html\n",
    "# License: BSD 3 clause\n",
    "# Modified by SR\n",
    "\n",
    "import matplotlib.pyplot as plt\n",
    "import numpy as np\n",
    "import pandas as pd\n",
    "\n",
    "from sklearn import datasets\n",
    "from sklearn.metrics import mean_absolute_error, mean_absolute_percentage_error, \\\n",
    "                            r2_score, root_mean_squared_error\n",
    "\n",
    "\n",
    "from sklearn.ensemble import RandomForestRegressor\n",
    "from sklearn.tree import DecisionTreeRegressor\n",
    "from sklearn.linear_model import LinearRegression\n",
    "\n",
    "from sklearn.preprocessing import StandardScaler\n",
    "from sklearn.model_selection import train_test_split\n",
    "\n",
    "from xgboost import XGBRegressor\n",
    "from lightgbm import LGBMRegressor\n",
    "from catboost import CatBoostRegressor\n",
    "from sklearn.ensemble import HistGradientBoostingRegressor"
   ]
  },
  {
   "cell_type": "markdown",
   "metadata": {},
   "source": [
    "## The dataset"
   ]
  },
  {
   "cell_type": "markdown",
   "metadata": {},
   "source": [
    "https://scikit-learn.org/stable/datasets/toy_dataset.html#diabetes-dataset\n",
    "\n",
    "Ten baseline variables, age, sex, body mass index, average blood pressure, and six blood serum measurements were obtained for each of n = 442 diabetes patients, as well as the response of interest, a quantitative measure of disease progression one year after baseline."
   ]
  },
  {
   "cell_type": "code",
   "execution_count": null,
   "metadata": {},
   "outputs": [],
   "source": [
    "# Load the diabetes dataset\n",
    "diabetes_X, diabetes_y = datasets.load_diabetes(return_X_y=True, as_frame=True, scaled=False)\n",
    "\n",
    "diabetes_X.head()"
   ]
  },
  {
   "cell_type": "code",
   "execution_count": null,
   "metadata": {},
   "outputs": [],
   "source": [
    "diabetes_y.head()"
   ]
  },
  {
   "cell_type": "code",
   "execution_count": null,
   "metadata": {},
   "outputs": [],
   "source": [
    "# Split the data into training/testing sets\n",
    "diabetes_X_train, diabetes_X_test, diabetes_y_train, diabetes_y_test = train_test_split(\n",
    "    diabetes_X, diabetes_y,\n",
    "    test_size = 0.25,\n",
    "    random_state=42\n",
    "    )"
   ]
  },
  {
   "cell_type": "code",
   "execution_count": null,
   "metadata": {},
   "outputs": [],
   "source": [
    "diabetes_X_train"
   ]
  },
  {
   "cell_type": "code",
   "execution_count": null,
   "metadata": {},
   "outputs": [],
   "source": [
    "diabetes_y_train"
   ]
  },
  {
   "cell_type": "code",
   "execution_count": null,
   "metadata": {},
   "outputs": [],
   "source": [
    "# Explore distribution of values being predicted\n",
    "diabetes_y_train.hist()"
   ]
  },
  {
   "cell_type": "code",
   "execution_count": null,
   "metadata": {},
   "outputs": [],
   "source": [
    "pd.DataFrame(diabetes_y_train).plot(kind=\"box\")"
   ]
  },
  {
   "cell_type": "markdown",
   "metadata": {},
   "source": [
    "## Storing results\n",
    "\n",
    "Create a list to store results in."
   ]
  },
  {
   "cell_type": "code",
   "execution_count": null,
   "metadata": {},
   "outputs": [],
   "source": [
    "results_list = []"
   ]
  },
  {
   "cell_type": "markdown",
   "metadata": {},
   "source": [
    "## Linear Regression"
   ]
  },
  {
   "cell_type": "code",
   "execution_count": null,
   "metadata": {},
   "outputs": [],
   "source": [
    "def standardise_data(X_train, X_test):\n",
    "\n",
    "    # Initialise a new scaling object for normalising input data\n",
    "    sc = StandardScaler()\n",
    "\n",
    "    # Apply the scaler to the training and test sets\n",
    "    train_std=sc.fit_transform(X_train)\n",
    "    test_std=sc.fit_transform(X_test)\n",
    "\n",
    "    return train_std, test_std\n",
    "\n",
    "diabetes_X_train_standardised, diabetes_X_test_standardised = standardise_data(\n",
    "    diabetes_X_train,\n",
    "    diabetes_X_test\n",
    "    )"
   ]
  },
  {
   "cell_type": "code",
   "execution_count": null,
   "metadata": {},
   "outputs": [],
   "source": [
    "# Use only first feature\n",
    "single_feat_train = diabetes_X_train_standardised[:, np.newaxis, 2]\n",
    "single_feat_test = diabetes_X_test_standardised[:, np.newaxis, 2]\n",
    "\n",
    "# Create linear regression object\n",
    "regr = LinearRegression()\n",
    "\n",
    "# Train the model using the training sets\n",
    "regr.fit(single_feat_train, diabetes_y_train)\n",
    "\n",
    "# Make predictions using the testing set\n",
    "diabetes_y_pred = regr.predict(single_feat_test)\n",
    "\n",
    "print(f\"Mean absolute error: {mean_absolute_error(diabetes_y_test, diabetes_y_pred):.2f}\")\n",
    "\n",
    "print(f\"Mean absolute percentage error: {mean_absolute_percentage_error(diabetes_y_test, diabetes_y_pred):.2%}\" )\n",
    "\n",
    "print(\"Root Mean squared error: %.2f\" % root_mean_squared_error(diabetes_y_test, diabetes_y_pred))\n",
    "# The coefficient of determination: 1 is perfect prediction\n",
    "print(\"Coefficient of determination: %.2f\" % r2_score(diabetes_y_test, diabetes_y_pred))\n",
    "\n",
    "results_list.append(\n",
    "    {'model': 'Linear Regression',\n",
    "     'RMSE': root_mean_squared_error(diabetes_y_test, diabetes_y_pred),\n",
    "     'MAPE': mean_absolute_percentage_error(diabetes_y_test, diabetes_y_pred)}\n",
    ")\n",
    "\n",
    "# Plot outputs\n",
    "def plot_actual_vs_predicted(actual, predicted):\n",
    "    fig, ax = plt.subplots(figsize=(6, 6))\n",
    "\n",
    "    ax.scatter(actual, predicted, color=\"black\")\n",
    "    ax.axline((1, 1), slope=1)\n",
    "    plt.xlabel('True Values')\n",
    "    plt.ylabel('Predicted Values')\n",
    "    plt.title('True vs Predicted Values')\n",
    "    plt.show()\n",
    "\n",
    "def plot_residuals(actual, predicted):\n",
    "    residuals = actual - predicted\n",
    "\n",
    "    plt.figure(figsize=(10, 5))\n",
    "    plt.hist(residuals, bins=20)\n",
    "    plt.axvline(x = 0, color = 'r')\n",
    "    plt.xlabel('Residual')\n",
    "    plt.ylabel('Frequency')\n",
    "    plt.title('Distribution of Residuals')\n",
    "    plt.show()\n",
    "\n",
    "plot_actual_vs_predicted(diabetes_y_test, diabetes_y_pred)"
   ]
  },
  {
   "cell_type": "code",
   "execution_count": null,
   "metadata": {},
   "outputs": [],
   "source": [
    "plot_residuals(diabetes_y_test, diabetes_y_pred)"
   ]
  },
  {
   "cell_type": "markdown",
   "metadata": {},
   "source": [
    "## Multiple Linear Regression"
   ]
  },
  {
   "cell_type": "code",
   "execution_count": null,
   "metadata": {},
   "outputs": [],
   "source": [
    "# Create linear regression object\n",
    "regr = LinearRegression()\n",
    "\n",
    "# Train the model using the training sets\n",
    "regr.fit(diabetes_X_train_standardised, diabetes_y_train)\n",
    "\n",
    "# Make predictions using the testing set\n",
    "diabetes_y_pred = regr.predict(diabetes_X_test_standardised)\n",
    "\n",
    "print(f\"Mean absolute error: {mean_absolute_error(diabetes_y_test, diabetes_y_pred):.2f}\")\n",
    "\n",
    "print(f\"Mean absolute percentage error: {mean_absolute_percentage_error(diabetes_y_test, diabetes_y_pred):.2%}\" )\n",
    "\n",
    "print(\"Root Mean squared error: %.2f\" % root_mean_squared_error(diabetes_y_test, diabetes_y_pred))\n",
    "# The coefficient of determination: 1 is perfect prediction\n",
    "print(\"Coefficient of determination: %.2f\" % r2_score(diabetes_y_test, diabetes_y_pred))\n",
    "\n",
    "results_list.append(\n",
    "    {'model': 'Multiple Linear Regression',\n",
    "     'RMSE': root_mean_squared_error(diabetes_y_test, diabetes_y_pred),\n",
    "     'MAPE': mean_absolute_percentage_error(diabetes_y_test, diabetes_y_pred)}\n",
    ")\n",
    "\n",
    "plot_actual_vs_predicted(diabetes_y_test, diabetes_y_pred)"
   ]
  },
  {
   "cell_type": "code",
   "execution_count": null,
   "metadata": {},
   "outputs": [],
   "source": [
    "plot_residuals(diabetes_y_test, diabetes_y_pred)"
   ]
  },
  {
   "cell_type": "markdown",
   "metadata": {},
   "source": [
    "## Decision Tree"
   ]
  },
  {
   "cell_type": "code",
   "execution_count": null,
   "metadata": {},
   "outputs": [],
   "source": [
    "regr_dt = DecisionTreeRegressor(random_state=42)\n",
    "\n",
    "# Train the model using the training sets\n",
    "regr_dt.fit(diabetes_X_train, diabetes_y_train)\n",
    "\n",
    "# Make predictions using the testing set\n",
    "diabetes_y_pred = regr_dt.predict(diabetes_X_test)\n",
    "\n",
    "print(f\"Mean absolute error: {mean_absolute_error(diabetes_y_test, diabetes_y_pred):.2f}\")\n",
    "\n",
    "\n",
    "print(f\"Mean absolute percentage error: {mean_absolute_percentage_error(diabetes_y_test, diabetes_y_pred):.2%}\" )\n",
    "\n",
    "print(\"Root Mean squared error: %.2f\" % root_mean_squared_error(diabetes_y_test, diabetes_y_pred))\n",
    "# The coefficient of determination: 1 is perfect prediction\n",
    "print(\"Coefficient of determination: %.2f\" % r2_score(diabetes_y_test, diabetes_y_pred))\n",
    "\n",
    "results_list.append(\n",
    "    {'model': 'Decision Tree',\n",
    "     'RMSE': root_mean_squared_error(diabetes_y_test, diabetes_y_pred),\n",
    "     'MAPE': mean_absolute_percentage_error(diabetes_y_test, diabetes_y_pred)}\n",
    ")\n",
    "\n",
    "plot_actual_vs_predicted(diabetes_y_test, diabetes_y_pred)"
   ]
  },
  {
   "cell_type": "code",
   "execution_count": null,
   "metadata": {},
   "outputs": [],
   "source": [
    "plot_residuals(diabetes_y_test, diabetes_y_pred)"
   ]
  },
  {
   "cell_type": "markdown",
   "metadata": {},
   "source": [
    "## Random Forest"
   ]
  },
  {
   "cell_type": "code",
   "execution_count": null,
   "metadata": {},
   "outputs": [],
   "source": [
    "regr_rf = RandomForestRegressor(random_state=42)\n",
    "\n",
    "# Train the model using the training sets\n",
    "regr_rf.fit(diabetes_X_train, diabetes_y_train)\n",
    "\n",
    "# Make predictions using the testing set\n",
    "diabetes_y_pred = regr_rf.predict(diabetes_X_test)\n",
    "\n",
    "print(f\"Mean absolute error: {mean_absolute_error(diabetes_y_test, diabetes_y_pred):.2f}\")\n",
    "\n",
    "\n",
    "print(f\"Mean absolute percentage error: {mean_absolute_percentage_error(diabetes_y_test, diabetes_y_pred):.2%}\" )\n",
    "\n",
    "print(\"Root Mean squared error: %.2f\" % root_mean_squared_error(diabetes_y_test, diabetes_y_pred))\n",
    "# The coefficient of determination: 1 is perfect prediction\n",
    "print(\"Coefficient of determination: %.2f\" % r2_score(diabetes_y_test, diabetes_y_pred))\n",
    "\n",
    "results_list.append(\n",
    "    {'model': 'Random Forest',\n",
    "     'RMSE': root_mean_squared_error(diabetes_y_test, diabetes_y_pred),\n",
    "     'MAPE': mean_absolute_percentage_error(diabetes_y_test, diabetes_y_pred)}\n",
    ")\n",
    "\n",
    "plot_actual_vs_predicted(diabetes_y_test, diabetes_y_pred)"
   ]
  },
  {
   "cell_type": "code",
   "execution_count": null,
   "metadata": {},
   "outputs": [],
   "source": [
    "plot_residuals(diabetes_y_test, diabetes_y_pred)"
   ]
  },
  {
   "cell_type": "markdown",
   "metadata": {},
   "source": [
    "## XGBoost"
   ]
  },
  {
   "cell_type": "code",
   "execution_count": null,
   "metadata": {},
   "outputs": [],
   "source": [
    "regr_xg = XGBRegressor(random_state=42)\n",
    "\n",
    "# Train the model using the training sets\n",
    "regr_xg.fit(diabetes_X_train, diabetes_y_train)\n",
    "\n",
    "# Make predictions using the testing set\n",
    "diabetes_y_pred = regr_xg.predict(diabetes_X_test)\n",
    "\n",
    "print(f\"Mean absolute error: {mean_absolute_error(diabetes_y_test, diabetes_y_pred):.2f}\")\n",
    "\n",
    "\n",
    "print(f\"Mean absolute percentage error: {mean_absolute_percentage_error(diabetes_y_test, diabetes_y_pred):.2%}\" )\n",
    "\n",
    "print(\"Root Mean squared error: %.2f\" % root_mean_squared_error(diabetes_y_test, diabetes_y_pred))\n",
    "# The coefficient of determination: 1 is perfect prediction\n",
    "print(\"Coefficient of determination: %.2f\" % r2_score(diabetes_y_test, diabetes_y_pred))\n",
    "\n",
    "results_list.append(\n",
    "    {'model': 'XGBoost',\n",
    "     'RMSE': root_mean_squared_error(diabetes_y_test, diabetes_y_pred),\n",
    "     'MAPE': mean_absolute_percentage_error(diabetes_y_test, diabetes_y_pred)}\n",
    ")\n",
    "\n",
    "plot_actual_vs_predicted(diabetes_y_test, diabetes_y_pred)"
   ]
  },
  {
   "cell_type": "code",
   "execution_count": null,
   "metadata": {},
   "outputs": [],
   "source": [
    "plot_residuals(diabetes_y_test, diabetes_y_pred)"
   ]
  },
  {
   "cell_type": "markdown",
   "metadata": {},
   "source": [
    "## Light GBM"
   ]
  },
  {
   "cell_type": "code",
   "execution_count": null,
   "metadata": {},
   "outputs": [],
   "source": [
    "regr_lgbm = LGBMRegressor(random_state=42)\n",
    "\n",
    "# Train the model using the training sets\n",
    "regr_lgbm.fit(diabetes_X_train, diabetes_y_train)\n",
    "\n",
    "# Make predictions using the testing set\n",
    "diabetes_y_pred = regr_lgbm.predict(diabetes_X_test)\n",
    "\n",
    "print(f\"Mean absolute error: {mean_absolute_error(diabetes_y_test, diabetes_y_pred):.2f}\")\n",
    "\n",
    "\n",
    "print(f\"Mean absolute percentage error: {mean_absolute_percentage_error(diabetes_y_test, diabetes_y_pred):.2%}\" )\n",
    "\n",
    "print(\"Root Mean squared error: %.2f\" % root_mean_squared_error(diabetes_y_test, diabetes_y_pred))\n",
    "# The coefficient of determination: 1 is perfect prediction\n",
    "print(\"Coefficient of determination: %.2f\" % r2_score(diabetes_y_test, diabetes_y_pred))\n",
    "\n",
    "results_list.append(\n",
    "    {'model': 'Light GBM',\n",
    "     'RMSE': root_mean_squared_error(diabetes_y_test, diabetes_y_pred),\n",
    "     'MAPE': mean_absolute_percentage_error(diabetes_y_test, diabetes_y_pred)}\n",
    ")\n",
    "\n",
    "plot_actual_vs_predicted(diabetes_y_test, diabetes_y_pred)"
   ]
  },
  {
   "cell_type": "code",
   "execution_count": null,
   "metadata": {},
   "outputs": [],
   "source": [
    "plot_residuals(diabetes_y_test, diabetes_y_pred)"
   ]
  },
  {
   "cell_type": "markdown",
   "metadata": {},
   "source": [
    "## Catboost"
   ]
  },
  {
   "cell_type": "code",
   "execution_count": null,
   "metadata": {},
   "outputs": [],
   "source": [
    "regr_catboost = CatBoostRegressor(random_state=42)\n",
    "\n",
    "# Train the model using the training sets\n",
    "regr_catboost.fit(diabetes_X_train, diabetes_y_train)\n",
    "\n",
    "# Make predictions using the testing set\n",
    "diabetes_y_pred = regr_catboost.predict(diabetes_X_test)\n",
    "\n",
    "print(f\"Mean absolute error: {mean_absolute_error(diabetes_y_test, diabetes_y_pred):.2f}\")\n",
    "\n",
    "\n",
    "print(f\"Mean absolute percentage error: {mean_absolute_percentage_error(diabetes_y_test, diabetes_y_pred):.2%}\" )\n",
    "\n",
    "print(\"Root Mean squared error: %.2f\" % root_mean_squared_error(diabetes_y_test, diabetes_y_pred))\n",
    "# The coefficient of determination: 1 is perfect prediction\n",
    "print(\"Coefficient of determination: %.2f\" % r2_score(diabetes_y_test, diabetes_y_pred))\n",
    "\n",
    "results_list.append(\n",
    "    {'model': 'CatBoost',\n",
    "     'RMSE': root_mean_squared_error(diabetes_y_test, diabetes_y_pred),\n",
    "     'MAPE': mean_absolute_percentage_error(diabetes_y_test, diabetes_y_pred)}\n",
    ")\n",
    "\n",
    "plot_actual_vs_predicted(diabetes_y_test, diabetes_y_pred)"
   ]
  },
  {
   "cell_type": "code",
   "execution_count": null,
   "metadata": {},
   "outputs": [],
   "source": [
    "plot_residuals(diabetes_y_test, diabetes_y_pred)"
   ]
  },
  {
   "cell_type": "markdown",
   "metadata": {},
   "source": [
    "# Compare Results"
   ]
  },
  {
   "cell_type": "code",
   "execution_count": null,
   "metadata": {},
   "outputs": [],
   "source": [
    "results_df = pd.DataFrame(results_list)"
   ]
  },
  {
   "cell_type": "code",
   "execution_count": null,
   "metadata": {},
   "outputs": [],
   "source": [
    "results_df.sort_values('MAPE')"
   ]
  },
  {
   "cell_type": "markdown",
   "metadata": {},
   "source": [
    "Let's remind ourselves - what's the scale of the output feature?"
   ]
  },
  {
   "cell_type": "code",
   "execution_count": null,
   "metadata": {},
   "outputs": [],
   "source": [
    "diabetes_y_test.hist()"
   ]
  },
  {
   "cell_type": "code",
   "execution_count": null,
   "metadata": {},
   "outputs": [],
   "source": [
    "diabetes_y_train.hist()"
   ]
  },
  {
   "cell_type": "markdown",
   "metadata": {},
   "source": [
    "## Plotting Residuals\n",
    "\n",
    "Plotting the residuals (errors) can help us to understand whether the model is consistently over or under estimating."
   ]
  },
  {
   "cell_type": "code",
   "execution_count": null,
   "metadata": {},
   "outputs": [],
   "source": []
  }
 ],
 "metadata": {
  "kernelspec": {
   "display_name": "ml",
   "language": "python",
   "name": "python3"
  },
  "language_info": {
   "codemirror_mode": {
    "name": "ipython",
    "version": 3
   },
   "file_extension": ".py",
   "mimetype": "text/x-python",
   "name": "python",
   "nbconvert_exporter": "python",
   "pygments_lexer": "ipython3",
   "version": "3.11.4"
  }
 },
 "nbformat": 4,
 "nbformat_minor": 2
}
