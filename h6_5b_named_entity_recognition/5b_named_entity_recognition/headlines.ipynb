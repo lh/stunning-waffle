{
 "cells": [
  {
   "cell_type": "code",
   "execution_count": null,
   "metadata": {},
   "outputs": [],
   "source": [
    "# import spacy and the downloaded en_core_web_sm pre-trained model\n",
    "import spacy\n",
    "import en_core_web_sm\n",
    "import spacy.displacy\n",
    "import csv\n",
    "import random\n",
    "import en_core_web_lg\n",
    "\n",
    "random.seed(42)  "
   ]
  },
  {
   "cell_type": "markdown",
   "metadata": {},
   "source": [
    "I am downloading the large model.. but it is taking a while so I will do the small for now!"
   ]
  },
  {
   "cell_type": "code",
   "execution_count": null,
   "metadata": {},
   "outputs": [],
   "source": [
    "# Load the pre-trained model as a language model into a variable called nlp\n",
    "c"
   ]
  },
  {
   "cell_type": "code",
   "execution_count": null,
   "metadata": {},
   "outputs": [],
   "source": [
    "\n",
    "\n",
    "# Load the pre-trained model as a language model into a variable called nlp\n",
    "nlp = en_core_web_lg.load()"
   ]
  },
  {
   "cell_type": "code",
   "execution_count": null,
   "metadata": {},
   "outputs": [],
   "source": [
    "\n",
    "# List to store the contents of the second column\n",
    "second_column_data = []\n",
    "\n",
    "# Read the CSV file\n",
    "with open(\"abcnews-date-text.csv\", encoding='utf8') as f:\n",
    "    csv_reader = csv.reader(f)\n",
    "    \n",
    "    # Optionally skip the header row if it exists\n",
    "    # next(csv_reader)  # Uncomment this line if there's a header row\n",
    "    \n",
    "    # Iterate through each row in the CSV\n",
    "    for row in csv_reader:\n",
    "        # Check if the row has at least 2 columns\n",
    "        if len(row) >= 2:\n",
    "            # Append the second column (index 1) to our list\n",
    "            second_column_data.append(row[1])\n",
    "\n",
    "\n",
    "# Shuffle the data\n",
    "# andom.shuffle(second_column_data)\n",
    "\n",
    "# Select the first 100 entries after shuffling\n",
    "selected_data = second_column_data[:100]\n",
    "\n",
    "# Combine all the text from the second column into a single string\n",
    "raw_text = \" \".join(selected_data)\n",
    "# Apply the pre-trained model to the raw text string to extract named entities for each model\n",
    "\n",
    "nlp = en_core_web_sm.load()\n",
    "\n",
    "doc = nlp(raw_text)\n",
    "\n",
    "# Process and print the named entities\n",
    "print(\"Named Entities Small:\")\n",
    "for ent in doc.ents:\n",
    "    print(f\"{ent.text} ({ent.label_})\")\n",
    "\n",
    "# Optionally, you can also process each entry separately\n",
    "print(\"\\nProcessing each entry separately:\")\n",
    "for i, entry in enumerate(second_column_data[:100]):  # Process first 5 entries as an example\n",
    "    doc = nlp(entry)\n",
    "    print(f\"\\nEntry {i+1}:\")\n",
    "    for ent in doc.ents:\n",
    "        print(f\"{ent.text} ({ent.label_})\")\n",
    "    spacy.displacy.render(doc, style=\"ent\")    \n",
    "\n",
    "\n",
    "\n",
    "nlp = en_core_web_lg.load()\n",
    "\n",
    "doc = nlp(raw_text)\n",
    "\n",
    "# Process and print the named entities\n",
    "print(\"Named Entities Large:\")\n",
    "for ent in doc.ents:\n",
    "    print(f\"{ent.text} ({ent.label_})\")\n",
    "\n",
    "# Optionally, you can also process each entry separately\n",
    "print(\"\\nProcessing each entry separately:\")\n",
    "for i, entry in enumerate(second_column_data[:100]):  # Process first 5 entries as an example\n",
    "    doc = nlp(entry)\n",
    "    print(f\"\\nEntry {i+1}:\")\n",
    "    for ent in doc.ents:\n",
    "        print(f\"{ent.text} ({ent.label_})\")\n",
    "    spacy.displacy.render(doc, style=\"ent\")    \n",
    "\n",
    "\n",
    "\n",
    "\n"
   ]
  }
 ],
 "metadata": {
  "kernelspec": {
   "display_name": "nlp_ner",
   "language": "python",
   "name": "python3"
  },
  "language_info": {
   "codemirror_mode": {
    "name": "ipython",
    "version": 3
   },
   "file_extension": ".py",
   "mimetype": "text/x-python",
   "name": "python",
   "nbconvert_exporter": "python",
   "pygments_lexer": "ipython3",
   "version": "3.11.4"
  }
 },
 "nbformat": 4,
 "nbformat_minor": 2
}
